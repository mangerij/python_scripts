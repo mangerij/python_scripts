{
 "metadata": {
  "name": "horners-scratch"
 }, 
 "nbformat": 2, 
 "worksheets": [
  {
   "cells": [
    {
     "cell_type": "markdown", 
     "source": [
      "first do this brute force:"
     ]
    }, 
    {
     "cell_type": "code", 
     "collapsed": true, 
     "input": [
      "a = np.zeros(10);", 
      "fij = {}; fijk = {}; fijkl = {}; fijklm = {}; fijklmn = {}; fijklmno = {}; fijklmnop = {}; fijklmnopq = {}; fijklmnopqr = {}; fijklmnopqrs = {};", 
      "#construct the f[xi,xj] = (f[xj[j]] - f[xi[i]])/(xj[j] - xj[i])", 
      "", 
      "fij[0,1] = (f[1] - f[0])/(xj[1] - xj[0]);", 
      "fij[1,2] = (f[2] - f[1])/(xj[2] - xj[1]);", 
      "fij[2,3] = (f[3] - f[2])/(xj[3] - xj[2]);", 
      "fij[3,4] = (f[4] - f[3])/(xj[4] - xj[3]);", 
      "fij[4,5] = (f[5] - f[4])/(xj[5] - xj[4]);", 
      "fij[5,6] = (f[6] - f[5])/(xj[6] - xj[5]);", 
      "fij[6,7] = (f[7] - f[6])/(xj[7] - xj[6]);", 
      "fij[7,8] = (f[8] - f[7])/(xj[8] - xj[7]);", 
      "fij[8,9] = (f[9] - f[8])/(xj[9] - xj[8]);", 
      "fij[9,10] = (f[10] - f[9])/(xj[10] - xj[9]);", 
      "", 
      "", 
      "fijk[0,1,2] = (fij[1,2] - fij[0,1])/(xj[2] - xj[0])", 
      "fijk[1,2,3] = (fij[2,3] - fij[1,2])/(xj[3] - xj[1])", 
      "fijk[2,3,4] = (fij[3,4] - fij[2,3])/(xj[4] - xj[2])", 
      "fijk[3,4,5] = (fij[4,5] - fij[3,4])/(xj[5] - xj[3])", 
      "fijk[4,5,6] = (fij[5,6] - fij[4,5])/(xj[6] - xj[4])", 
      "fijk[5,6,7] = (fij[6,7] - fij[5,6])/(xj[7] - xj[5])", 
      "fijk[6,7,8] = (fij[7,8] - fij[6,7])/(xj[8] - xj[6])", 
      "fijk[7,8,9] = (fij[8,9] - fij[7,8])/(xj[9] - xj[7])", 
      "fijk[8,9,10] = (fij[9,10] - fij[8,9])/(xj[10] - xj[8])", 
      "", 
      "", 
      "", 
      "fijkl[0,1,2,3] = (fijk[1,2,3] - fijk[0,1,2])/(xj[3] - xj[0])", 
      "fijkl[1,2,3,4] = (fijk[2,3,4] - fijk[1,2,3])/(xj[4] - xj[1])", 
      "fijkl[2,3,4,5] = (fijk[3,4,5] - fijk[2,3,4])/(xj[5] - xj[2])", 
      "fijkl[3,4,5,6] = (fijk[4,5,6] - fijk[3,4,5])/(xj[6] - xj[3])", 
      "fijkl[4,5,6,7] = (fijk[5,6,7] - fijk[4,5,6])/(xj[7] - xj[4])", 
      "fijkl[5,6,7,8] = (fijk[6,7,8] - fijk[5,6,7])/(xj[8] - xj[5])", 
      "fijkl[6,7,8,9] = (fijk[7,8,9] - fijk[6,7,8])/(xj[9] - xj[6])", 
      "fijkl[7,8,9,10] = (fijk[8,9,10] - fijk[7,8,9])/(xj[10] - xj[7])", 
      "", 
      "", 
      "fijklm[0,1,2,3,4] = (fijkl[1,2,3,4] - fijkl[0,1,2,3])/(xj[4] - xj[0])", 
      "fijklm[1,2,3,4,5] = (fijkl[2,3,4,5] - fijkl[1,2,3,4])/(xj[5] - xj[1])", 
      "fijklm[2,3,4,5,6] = (fijkl[3,4,5,6] - fijkl[2,3,4,5])/(xj[6] - xj[2])", 
      "fijklm[3,4,5,6,7] = (fijkl[4,5,6,7] - fijkl[3,4,5,6])/(xj[7] - xj[3])", 
      "fijklm[4,5,6,7,8] = (fijkl[5,6,7,8] - fijkl[4,5,6,7])/(xj[8] - xj[4])", 
      "fijklm[5,6,7,8,9] = (fijkl[6,7,8,9] - fijkl[5,6,7,8])/(xj[9] - xj[5])", 
      "fijklm[6,7,8,9,10] = (fijkl[7,8,9,10] - fijkl[6,7,8,9])/(xj[10] - xj[6])", 
      "", 
      "", 
      "fijklmn[0,1,2,3,4,5] = (fijklm[1,2,3,4,5] - fijklm[0,1,2,3,4])/(xj[5] - xj[0])", 
      "fijklmn[1,2,3,4,5,6] = (fijklm[2,3,4,5,6] - fijklm[1,2,3,4,5])/(xj[6] - xj[1])", 
      "fijklmn[2,3,4,5,6,7] = (fijklm[3,4,5,6,7] - fijklm[2,3,4,5,6])/(xj[7] - xj[2])", 
      "fijklmn[3,4,5,6,7,8] = (fijklm[4,5,6,7,8] - fijklm[3,4,5,6,7])/(xj[8] - xj[3])", 
      "fijklmn[4,5,6,7,8,9] = (fijklm[5,6,7,8,9] - fijklm[4,5,6,7,8])/(xj[9] - xj[4])", 
      "fijklmn[5,6,7,8,9,10] = (fijklm[6,7,8,9,10] - fijklm[5,6,7,8,9])/(xj[10] - xj[5])", 
      "", 
      "", 
      "fijklmno[0,1,2,3,4,5,6] = (fijklmn[1,2,3,4,5,6] - fijklmn[0,1,2,3,4,5])/(xj[6] - xj[0])", 
      "fijklmno[1,2,3,4,5,6,7] = (fijklmn[2,3,4,5,6,7] - fijklmn[1,2,3,4,5,6])/(xj[7] - xj[1])", 
      "fijklmno[2,3,4,5,6,7,8] = (fijklmn[3,4,5,6,7,8] - fijklmn[2,3,4,5,6,7])/(xj[8] - xj[2])", 
      "fijklmno[3,4,5,6,7,8,9] = (fijklmn[4,5,6,7,8,9] - fijklmn[3,4,5,6,7,8])/(xj[9] - xj[3])", 
      "fijklmno[4,5,6,7,8,9,10] = (fijklmn[5,6,7,8,9,10] - fijklmn[4,5,6,7,8,9])/(xj[10] - xj[4])", 
      "", 
      "", 
      "fijklmnop[0,1,2,3,4,5,6,7] = (fijklmno[1,2,3,4,5,6,7] - fijklmno[0,1,2,3,4,5,6])/(xj[7] - xj[0])", 
      "fijklmnop[1,2,3,4,5,6,7,8] = (fijklmno[2,3,4,5,6,7,8] - fijklmno[1,2,3,4,5,6,7])/(xj[8] - xj[1])", 
      "fijklmnop[2,3,4,5,6,7,8,9] = (fijklmno[3,4,5,6,7,8,9] - fijklmno[2,3,4,5,6,7,8])/(xj[9] - xj[2])", 
      "fijklmnop[3,4,5,6,7,8,9,10] = (fijklmno[4,5,6,7,8,9,10] - fijklmno[3,4,5,6,7,8,9])/(xj[10] - xj[3])", 
      "", 
      "fijklmnopq[0,1,2,3,4,5,6,7,8] = (fijklmnop[1,2,3,4,5,6,7,8] - fijklmnop[0,1,2,3,4,5,6,7])/(xj[8] - xj[0])", 
      "fijklmnopq[1,2,3,4,5,6,7,8,9] = (fijklmnop[2,3,4,5,6,7,8,9] - fijklmnop[1,2,3,4,5,6,7,8])/(xj[9] - xj[1])", 
      "fijklmnopq[2,3,4,5,6,7,8,9,10] = (fijklmnop[3,4,5,6,7,8,9,10] - fijklmnop[2,3,4,5,6,7,8,9])/(xj[10] - xj[2])", 
      "", 
      "", 
      "fijklmnopqr[0,1,2,3,4,5,6,7,8,9] = (fijklmnopq[1,2,3,4,5,6,7,8,9] - fijklmnopq[0,1,2,3,4,5,6,7,8])/(xj[9] - xj[0])", 
      "fijklmnopqr[1,2,3,4,5,6,7,8,9,10] = (fijklmnopq[2,3,4,5,6,7,8,9,10] - fijklmnopq[1,2,3,4,5,6,7,8,9])/(xj[10] - xj[1])", 
      "", 
      "fijklmnopqrs[0,1,2,3,4,5,6,7,8,9,10] = (fijklmnopqr[1,2,3,4,5,6,7,8,9,10] - fijklmnopqr[0,1,2,3,4,5,6,7,8,9])/(xj[10] - xj[0])"
     ], 
     "language": "python", 
     "outputs": []
    }, 
    {
     "cell_type": "code", 
     "collapsed": true, 
     "input": [
      "def p(z):", 
      "    p = fijklmnopqrs[0,1,2,3,4,5,6,7,8,9,10] * (z - xj[0]) * (z - xj[1]) * (z - xj[2]) * (z - xj[3]) * (z - xj[4]) * (z - xj[5]) * (z - xj[6]) * (z - xj[7]) * (z - xj[8]) * (z - xj[9]) + fijklmnopqr[0,1,2,3,4,5,6,7,8,9] * (z - xj[0]) * (z - xj[1]) * (z - xj[2]) * (z - xj[3]) * (z - xj[4]) * (z - xj[5]) * (z - xj[6]) * (z - xj[7]) * (z - xj[8]) + fijklmnopq[0,1,2,3,4,5,6,7,8] * (z - xj[0]) * (z - xj[1]) * (z - xj[2]) * (z - xj[3]) * (z - xj[4]) * (z - xj[5]) * (z - xj[6]) * (z - xj[7]) + fijklmnop[0,1,2,3,4,5,6,7] * (z - xj[0]) * (z - xj[1]) * (z - xj[2]) * (z - xj[3]) * (z - xj[4]) * (z - xj[5]) * (z - xj[6]) + fijklmno[0,1,2,3,4,5,6] * (z - xj[0]) * (z - xj[1]) * (z - xj[2]) * (z - xj[3]) * (z - xj[4]) * (z - xj[5]) + fijklmn[0,1,2,3,4,5] * (z - xj[0]) * (z - xj[1]) * (z - xj[2]) * (z - xj[3]) * (z - xj[4]) + fijklm[0,1,2,3,4] * (z - xj[0]) * (z - xj[1]) * (z - xj[2]) * (z - xj[3]) + fijkl[0,1,2,3] * (z - xj[0]) * (z - xj[1]) * (z - xj[2]) + fijk[0,1,2] * (z - xj[0]) * (z - xj[1]) + fij[0,1] * (z - xj[0]) + f[0]", 
      "    return p"
     ], 
     "language": "python", 
     "outputs": []
    }, 
    {
     "cell_type": "markdown", 
     "source": [
      "rewrite for some A"
     ]
    }, 
    {
     "cell_type": "code", 
     "collapsed": true, 
     "input": [
      "A = {}; a = np.zeros(11);", 
      "for i in range(0,10):", 
      "    A[i,i+1] = (f[i+1]-f[i])/(xj[i+1]-xj[i])", 
      "", 
      "for i in range(0,9):", 
      "    A[i,i+1,i+2] = (A[i+1,i+2]-A[i,i+1])/(xj[i+2]-xj[i])", 
      "", 
      "for i in range(0,8):", 
      "    A[i,i+1,i+2,i+3] = (A[i+1,i+2,i+3]-A[i,i+1,i+2])/(xj[i+3]-xj[i])", 
      "", 
      "for i in range(0,7):", 
      "    A[i,i+1,i+2,i+3,i+4] = (A[i+1,i+2,i+3,i+4]-A[i,i+1,i+2,i+3])/(xj[i+4]-xj[i])", 
      "", 
      "for i in range(0,6):", 
      "    A[i,i+1,i+2,i+3,i+4,i+5] = (A[i+1,i+2,i+3,i+4,i+5]-A[i,i+1,i+2,i+3,i+4])/(xj[i+5]-xj[i])", 
      "", 
      "for i in range(0,5):", 
      "    A[i,i+1,i+2,i+3,i+4,i+5,i+6] = (A[i+1,i+2,i+3,i+4,i+5,i+6]-A[i,i+1,i+2,i+3,i+4,i+5])/(xj[i+6]-xj[i])", 
      "", 
      "for i in range(0,4):", 
      "    A[i,i+1,i+2,i+3,i+4,i+5,i+6,i+7] = (A[i+1,i+2,i+3,i+4,i+5,i+6,i+7]-A[i,i+1,i+2,i+3,i+4,i+5,i+6])/(xj[i+7]-xj[i])", 
      "", 
      "for i in range(0,3):", 
      "    A[i,i+1,i+2,i+3,i+4,i+5,i+6,i+7,i+8] = (A[i+1,i+2,i+3,i+4,i+5,i+6,i+7,i+8]-A[i,i+1,i+2,i+3,i+4,i+5,i+6,i+7])/(xj[i+8]-xj[i])", 
      "", 
      "for i in range(0,2):", 
      "    A[i,i+1,i+2,i+3,i+4,i+5,i+6,i+7,i+8,i+9] = (A[i+1,i+2,i+3,i+4,i+5,i+6,i+7,i+8,i+9]-A[i,i+1,i+2,i+3,i+4,i+5,i+6,i+7,i+8])/(xj[i+9]-xj[i])", 
      "", 
      "for i in range(0,1):", 
      "    A[i,i+1,i+2,i+3,i+4,i+5,i+6,i+7,i+8,i+9,i+10] = (A[i+1,i+2,i+3,i+4,i+5,i+6,i+7,i+8,i+9,i+10]-A[i,i+1,i+2,i+3,i+4,i+5,i+6,i+7,i+8,i+9])/(xj[i+10]-xj[i])"
     ], 
     "language": "python", 
     "outputs": []
    }, 
    {
     "cell_type": "code", 
     "collapsed": true, 
     "input": [
      "def p(z):", 
      "    p = A[0,1,2,3,4,5,6,7,8,9,10] * (z - xj[0]) * (z - xj[1]) * (z - xj[2]) * (z - xj[3]) * (z - xj[4]) * (z - xj[5]) * (z - xj[6]) * (z - xj[7]) * (z - xj[8]) * (z - xj[9]) + A[0,1,2,3,4,5,6,7,8,9] * (z - xj[0]) * (z - xj[1]) * (z - xj[2]) * (z - xj[3]) * (z - xj[4]) * (z - xj[5]) * (z - xj[6]) * (z - xj[7]) * (z - xj[8]) + A[0,1,2,3,4,5,6,7,8] * (z - xj[0]) * (z - xj[1]) * (z - xj[2]) * (z - xj[3]) * (z - xj[4]) * (z - xj[5]) * (z - xj[6]) * (z - xj[7]) + A[0,1,2,3,4,5,6,7] * (z - xj[0]) * (z - xj[1]) * (z - xj[2]) * (z - xj[3]) * (z - xj[4]) * (z - xj[5]) * (z - xj[6]) + A[0,1,2,3,4,5,6] * (z - xj[0]) * (z - xj[1]) * (z - xj[2]) * (z - xj[3]) * (z - xj[4]) * (z - xj[5]) + A[0,1,2,3,4,5] * (z - xj[0]) * (z - xj[1]) * (z - xj[2]) * (z - xj[3]) * (z - xj[4]) + A[0,1,2,3,4] * (z - xj[0]) * (z - xj[1]) * (z - xj[2]) * (z - xj[3]) + A[0,1,2,3] * (z - xj[0]) * (z - xj[1]) * (z - xj[2]) + A[0,1,2] * (z - xj[0]) * (z - xj[1]) + A[0,1] * (z - xj[0]) + f[0]", 
      "    return p"
     ], 
     "language": "python", 
     "outputs": []
    }, 
    {
     "cell_type": "markdown", 
     "source": [
      "Map 0123... $\\to$ 0"
     ]
    }, 
    {
     "cell_type": "code", 
     "collapsed": true, 
     "input": [
      "A = {}; a = np.zeros(11);", 
      "for i in range(0,10):", 
      "    A[i] = (f[i+1]-f[i])/(xj[i+1]-xj[i])", 
      "    a[1] = A[0]", 
      "for i in range(0,9):", 
      "    A[i] = (A[i+1]-A[i])/(xj[i+2]-xj[i])", 
      "    a[2] = A[0]", 
      "for i in range(0,8):", 
      "    A[i] = (A[i+1]-A[i])/(xj[i+3]-xj[i])", 
      "    a[3] = A[0]", 
      "for i in range(0,7):", 
      "    A[i] = (A[i+1]-A[i])/(xj[i+4]-xj[i])", 
      "    a[4] = A[0]", 
      "for i in range(0,6):", 
      "    A[i] = (A[i+1]-A[i])/(xj[i+5]-xj[i])", 
      "    a[5] = A[0]", 
      "for i in range(0,5):", 
      "    A[i] = (A[i+1]-A[i])/(xj[i+6]-xj[i])", 
      "    a[6] = A[0]", 
      "for i in range(0,4):", 
      "    A[i] = (A[i+1]-A[i])/(xj[i+7]-xj[i])", 
      "    a[7] = A[0]", 
      "for i in range(0,3):", 
      "    A[i] = (A[i+1]-A[i])/(xj[i+8]-xj[i])", 
      "    a[8] = A[0]", 
      "for i in range(0,2):", 
      "    A[i] = (A[i+1]-A[i])/(xj[i+9]-xj[i])", 
      "    a[9] = A[0]", 
      "for i in range(0,1):", 
      "    A[i] = (A[i+1]-A[i])/(xj[i+10]-xj[i])", 
      "    a[10] = A[0]"
     ], 
     "language": "python", 
     "outputs": []
    }, 
    {
     "cell_type": "markdown", 
     "source": [
      "Loop it"
     ]
    }, 
    {
     "cell_type": "code", 
     "collapsed": true, 
     "input": [
      "A = {}; a = np.zeros(11);", 
      "for i in range(0,10):", 
      "    A[i] = (f[i+1]-f[i])/(xj[i+1]-xj[i])", 
      "    a[1] = A[0]", 
      "  ", 
      "for n in range(2,11):", 
      "    for i in range(0,11-n):", 
      "        A[i] = (A[i+1]-A[i])/(xj[i+n]-xj[i])", 
      "        a[n] = A[0]"
     ], 
     "language": "python", 
     "outputs": []
    }, 
    {
     "cell_type": "code", 
     "collapsed": true, 
     "input": [], 
     "language": "python", 
     "outputs": []
    }, 
    {
     "cell_type": "code", 
     "collapsed": true, 
     "input": [], 
     "language": "python", 
     "outputs": []
    }, 
    {
     "cell_type": "code", 
     "collapsed": true, 
     "input": [], 
     "language": "python", 
     "outputs": []
    }, 
    {
     "cell_type": "code", 
     "collapsed": true, 
     "input": [], 
     "language": "python", 
     "outputs": []
    }, 
    {
     "cell_type": "code", 
     "collapsed": true, 
     "input": [], 
     "language": "python", 
     "outputs": []
    }, 
    {
     "cell_type": "code", 
     "collapsed": true, 
     "input": [], 
     "language": "python", 
     "outputs": []
    }, 
    {
     "cell_type": "code", 
     "collapsed": true, 
     "input": [], 
     "language": "python", 
     "outputs": []
    }, 
    {
     "cell_type": "code", 
     "collapsed": true, 
     "input": [], 
     "language": "python", 
     "outputs": []
    }, 
    {
     "cell_type": "code", 
     "collapsed": true, 
     "input": [], 
     "language": "python", 
     "outputs": []
    }, 
    {
     "cell_type": "code", 
     "collapsed": true, 
     "input": [], 
     "language": "python", 
     "outputs": []
    }, 
    {
     "cell_type": "code", 
     "collapsed": true, 
     "input": [], 
     "language": "python", 
     "outputs": []
    }, 
    {
     "cell_type": "code", 
     "collapsed": true, 
     "input": [], 
     "language": "python", 
     "outputs": []
    }
   ]
  }
 ]
}