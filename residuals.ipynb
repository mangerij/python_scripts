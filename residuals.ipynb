{
 "metadata": {
  "name": "residuals"
 }, 
 "nbformat": 2, 
 "worksheets": [
  {
   "cells": [
    {
     "cell_type": "code", 
     "collapsed": true, 
     "input": [
      "import subprocess", 
      "import os", 
      "", 
      "subprocess.call(\"grep 'Linear |R| = ' /home/john/projects/ferret/output.txt | tee /home/john/projects/ferret/DS_outputfile_linear.txt\",shell=True)", 
      "", 
      "#Linear:", 
      "os.chdir('/home/john/projects/ferret/')", 
      "infile = open('/home/john/projects/ferret/DS_outputfile_linear.txt')", 
      "outfile = open('/home/john/projects/ferret/newoutputfile_linear.csv', 'w')", 
      "# Note that we are using -'+repr(t)+'.i' in order to for loop the path name. This is used again in the next line.", 
      "replacements = {'Linear |R| = ':','}", 
      "for line in infile:", 
      "    for src, target in replacements.iteritems():", 
      "        line = line.replace(src, target)", 
      "    outfile.write(line)", 
      "infile.close()", 
      "outfile.close()"
     ], 
     "language": "python", 
     "outputs": [], 
     "prompt_number": 1
    }, 
    {
     "cell_type": "code", 
     "collapsed": false, 
     "input": [
      "import numpy as np", 
      "import matplotlib.pyplot as plt", 
      "import pylab", 
      "from matplotlib import rc", 
      "import itertools", 
      "data_linear = np.genfromtxt('/home/john/projects/ferret/newoutputfile_linear.csv',delimiter=',', dtype = float)", 
      "y_linear = [row[1] for row in data_linear] ", 
      "", 
      "", 
      "#could map ~100000 to ~250 in order to find when linear, nonlinear, and time steps are used.", 
      "plt.plot(y_linear[0:10000],'b.')", 
      "plt.xlabel('iter',fontsize=20)", 
      "plt.ylabel('|R|',fontsize=20)", 
      "plt.yscale('log')", 
      "plt.title('|R| vs linear ksp iteration',fontsize=20)", 
      "", 
      "plt.savefig(\"/home/john/resids_linear_short.eps\")", 
      "", 
      "#os.chdir('/home/john/projects/ParaView-bin/bin/')", 
      "#subprocess.call('pvpython /home/john/projects/ferret/framescripts.py',shell=True)", 
      "", 
      "#can also scan the final volume after the elastic problem has been solved"
     ], 
     "language": "python", 
     "outputs": [], 
     "prompt_number": 4
    }, 
    {
     "cell_type": "code", 
     "collapsed": true, 
     "input": [], 
     "language": "python", 
     "outputs": []
    }
   ]
  }
 ]
}