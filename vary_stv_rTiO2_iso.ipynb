{
 "metadata": {
  "name": "vary_stv_rTiO2_iso"
 }, 
 "nbformat": 2, 
 "worksheets": [
  {
   "cells": [
    {
     "cell_type": "code", 
     "collapsed": true, 
     "input": [
      "# note that we ran CUBIT vary stv ratios to generate 121 exodus files", 
      "", 
      "#vary surface-to-volume ratio and plot stress fields (look for differences)", 
      "", 
      "import os", 
      "import subprocess", 
      "import numpy as np", 
      "", 
      "os.chdir('/home/john/projects/ferret/')", 
      "number_of_mesh_files = 121", 
      "", 
      "for t in range(0,number_of_mesh_files):", 
      "    infile = open('/home/john/projects/ferret/vary_stv_rTiO2_iso.i')", 
      "    outfile = open('/home/john/projects/ferret/newvary_stv_rTiO2_iso-'+repr(t)+'.i', 'w')", 
      "    replacements = {'file = core_shell_exodus.e':'file = core_shell_exodus-'+repr(t)+'.e','file_base = out_0_ZnO_rTiO2_xstl000_core_iso_shell_P0':'file_base = out_'+repr(t)+'_ZnO_rTiO2_xstl000_core_iso_shell_P0'}", 
      "    for line in infile:", 
      "        for src, target in replacements.iteritems():", 
      "            line = line.replace(src, target)", 
      "        outfile.write(line)", 
      "    infile.close()", 
      "    outfile.close()"
     ], 
     "language": "python", 
     "outputs": [], 
     "prompt_number": 2
    }, 
    {
     "cell_type": "code", 
     "collapsed": true, 
     "input": [
      "import os", 
      "import subprocess", 
      "import numpy as np", 
      "os.chdir('/home/john/projects/ferret/')", 
      "for k in range(0,4):    ", 
      "    subprocess.call('mpiexec -n 8 ./ferret-opt -i newvary_stv_rTiO2_iso-'+ repr(k)+'.i',shell=True)", 
      "#note that mpiexec -n 8 intializes 8 processors for computing. Outputs show up in terminal."
     ], 
     "language": "python", 
     "outputs": [], 
     "prompt_number": 1
    }, 
    {
     "cell_type": "code", 
     "collapsed": true, 
     "input": [
      "import os", 
      "import subprocess", 
      "", 
      "os.chdir('/home/john/projects/ParaView-bin/bin/')", 
      "subprocess.call('pvpython /home/john/projects/calculations/core_shell/final_plots/vary_stv_rTiO2_iso/scripts-and-out-files/MeshData.py',shell=True)", 
      "os.chdir('/home/john/projects/calculations/core_shell/final_plots/vary_stv_rTiO2_iso/')", 
      "for k in range(0,121):", 
      "    for t in range(1,8):", 
      "        subprocess.call('rm MeshData-'+repr(k)+'-'+repr(t)+'.csv',shell=True)"
     ], 
     "language": "python", 
     "outputs": [], 
     "prompt_number": 1
    }, 
    {
     "cell_type": "code", 
     "collapsed": true, 
     "input": [], 
     "language": "python", 
     "outputs": [], 
     "prompt_number": 2
    }, 
    {
     "cell_type": "code", 
     "collapsed": false, 
     "input": [
      "", 
      "#SAVE normalizedVEC as .CSV for animation:", 
      "import numpy as np", 
      "", 
      "EgBinEdges = np.linspace(3.0185,3.02,122) #need to see the full range of the \"motion\", bin vector must be constant", 
      "volBinEdges=np.linspace(0,1,122)", 
      "", 
      "for k in range(0,121):    ", 
      "    data_SigmaVolume = np.genfromtxt('/home/john/projects/calculations/core_shell/final_plots/vary_stv_rTiO2_iso/MeshData-'+str(k)+'-0.csv',delimiter=',', dtype = float)", 
      "    Eg = [row[8] for row in data_SigmaVolume]", 
      "    vol = [row[13] for row in data_SigmaVolume] ", 
      "    ", 
      "    Hbg, xEdges, yEdges = np.histogram2d(Eg[1:len(Eg)],vol[1:len(vol)], bins = (EgBinEdges, volBinEdges))", 
      "    Hbg = np.rot90(Hbg)", 
      "    Hbg = np.flipud(Hbg)", 
      "", 
      "    yedgesbg_up = yEdges[0:len(yEdges)-1]+(yEdges[1:len(yEdges)]-yEdges[0:len(yEdges)-1])/2 ", 
      "    vEgj = np.einsum('ij,i',Hbg,yedgesbg_up)", 
      "    VEgj = vEgj/sum(vEgj)*100", 
      "    x_bg = xEdges[0:len(xEdges)-1]+(xEdges[1:len(xEdges)]-xEdges[0:len(xEdges)-1])/2", 
      "    ", 
      "    np.savetxt(\"/home/john/projects/calculations/core_shell/final_plots/vary_stv_rTiO2_iso/data_for_animation-\"+str(k)+\".csv\",[x_bg,VEgj],delimiter=\",\")    ", 
      " "
     ], 
     "language": "python", 
     "outputs": [
      {
       "ename": "KeyboardInterrupt", 
       "evalue": "", 
       "output_type": "pyerr", 
       "traceback": [
        "\u001b[0;31m---------------------------------------------------------------------------\u001b[0m\n\u001b[0;31mKeyboardInterrupt\u001b[0m                         Traceback (most recent call last)", 
        "\u001b[0;32m/home/john/<ipython-input-19-e4855507147e>\u001b[0m in \u001b[0;36m<module>\u001b[0;34m()\u001b[0m\n\u001b[1;32m      7\u001b[0m \u001b[0;34m\u001b[0m\u001b[0m\n\u001b[1;32m      8\u001b[0m \u001b[0;32mfor\u001b[0m \u001b[0mk\u001b[0m \u001b[0;32min\u001b[0m \u001b[0mrange\u001b[0m\u001b[0;34m(\u001b[0m\u001b[0;36m0\u001b[0m\u001b[0;34m,\u001b[0m\u001b[0;36m121\u001b[0m\u001b[0;34m)\u001b[0m\u001b[0;34m:\u001b[0m\u001b[0;34m\u001b[0m\u001b[0m\n\u001b[0;32m----> 9\u001b[0;31m     \u001b[0mdata_SigmaVolume\u001b[0m \u001b[0;34m=\u001b[0m \u001b[0mnp\u001b[0m\u001b[0;34m.\u001b[0m\u001b[0mgenfromtxt\u001b[0m\u001b[0;34m(\u001b[0m\u001b[0;34m'/home/john/projects/calculations/core_shell/final_plots/vary_stv_rTiO2_iso/MeshData-'\u001b[0m\u001b[0;34m+\u001b[0m\u001b[0mstr\u001b[0m\u001b[0;34m(\u001b[0m\u001b[0mk\u001b[0m\u001b[0;34m)\u001b[0m\u001b[0;34m+\u001b[0m\u001b[0;34m'-0.csv'\u001b[0m\u001b[0;34m,\u001b[0m\u001b[0mdelimiter\u001b[0m\u001b[0;34m=\u001b[0m\u001b[0;34m','\u001b[0m\u001b[0;34m,\u001b[0m \u001b[0mdtype\u001b[0m \u001b[0;34m=\u001b[0m \u001b[0mfloat\u001b[0m\u001b[0;34m)\u001b[0m\u001b[0;34m\u001b[0m\u001b[0m\n\u001b[0m\u001b[1;32m     10\u001b[0m     \u001b[0mEg\u001b[0m \u001b[0;34m=\u001b[0m \u001b[0;34m[\u001b[0m\u001b[0mrow\u001b[0m\u001b[0;34m[\u001b[0m\u001b[0;36m8\u001b[0m\u001b[0;34m]\u001b[0m \u001b[0;32mfor\u001b[0m \u001b[0mrow\u001b[0m \u001b[0;32min\u001b[0m \u001b[0mdata_SigmaVolume\u001b[0m\u001b[0;34m]\u001b[0m\u001b[0;34m\u001b[0m\u001b[0m\n\u001b[1;32m     11\u001b[0m     \u001b[0mvol\u001b[0m \u001b[0;34m=\u001b[0m \u001b[0;34m[\u001b[0m\u001b[0mrow\u001b[0m\u001b[0;34m[\u001b[0m\u001b[0;36m13\u001b[0m\u001b[0;34m]\u001b[0m \u001b[0;32mfor\u001b[0m \u001b[0mrow\u001b[0m \u001b[0;32min\u001b[0m \u001b[0mdata_SigmaVolume\u001b[0m\u001b[0;34m]\u001b[0m\u001b[0;34m\u001b[0m\u001b[0m\n", 
        "\u001b[0;32m/usr/lib/python2.7/dist-packages/numpy/lib/npyio.pyc\u001b[0m in \u001b[0;36mgenfromtxt\u001b[0;34m(fname, dtype, comments, delimiter, skiprows, skip_header, skip_footer, converters, missing, missing_values, filling_values, usecols, names, excludelist, deletechars, replace_space, autostrip, case_sensitive, defaultfmt, unpack, usemask, loose, invalid_raise)\u001b[0m\n\u001b[1;32m   1666\u001b[0m                         \u001b[0mdtype\u001b[0m \u001b[0;34m=\u001b[0m \u001b[0mnp\u001b[0m\u001b[0;34m.\u001b[0m\u001b[0mdtype\u001b[0m\u001b[0;34m(\u001b[0m\u001b[0mttype\u001b[0m\u001b[0;34m)\u001b[0m\u001b[0;34m\u001b[0m\u001b[0m\n\u001b[1;32m   1667\u001b[0m             \u001b[0;31m#\u001b[0m\n\u001b[0;34m\u001b[0m\u001b[0m\n\u001b[0;32m-> 1668\u001b[0;31m             \u001b[0moutput\u001b[0m \u001b[0;34m=\u001b[0m \u001b[0mnp\u001b[0m\u001b[0;34m.\u001b[0m\u001b[0marray\u001b[0m\u001b[0;34m(\u001b[0m\u001b[0mdata\u001b[0m\u001b[0;34m,\u001b[0m \u001b[0mdtype\u001b[0m\u001b[0;34m)\u001b[0m\u001b[0;34m\u001b[0m\u001b[0m\n\u001b[0m\u001b[1;32m   1669\u001b[0m             \u001b[0;32mif\u001b[0m \u001b[0musemask\u001b[0m\u001b[0;34m:\u001b[0m\u001b[0;34m\u001b[0m\u001b[0m\n\u001b[1;32m   1670\u001b[0m                 \u001b[0;32mif\u001b[0m \u001b[0mdtype\u001b[0m\u001b[0;34m.\u001b[0m\u001b[0mnames\u001b[0m\u001b[0;34m:\u001b[0m\u001b[0;34m\u001b[0m\u001b[0m\n", 
        "\u001b[0;31mKeyboardInterrupt\u001b[0m: "
       ]
      }
     ], 
     "prompt_number": 19
    }, 
    {
     "cell_type": "code", 
     "collapsed": true, 
     "input": [
      "import numpy as np", 
      "from mpl_toolkits.mplot3d import Axes3D", 
      "import matplotlib.pyplot as plt", 
      "from matplotlib import rc", 
      "import itertools", 
      "from matplotlib import cm", 
      "", 
      "rad2_vec = np.around(np.linspace(4,25,121),decimals=2);", 
      "rad1_vec = np.around(np.linspace(2.4,15,121),decimals=2)", 
      "", 
      "diam_vec = np.zeros((121,1))", 
      "stv_vec = np.zeros((121,1))", 
      "EgBinEdges = np.linspace(3.0185,3.02,121) #need to fix this", 
      "VEgj_vec = np.zeros((121,121))", 
      "", 
      "", 
      "#stv = 3/r:", 
      "#original stv differs from new stv due to relaxation of the surface", 
      "", 
      "for j in range(0,121):", 
      "    stv_vec[j] = np.around((3 / rad2_vec[j] ),decimals=3)", 
      "    diam_vec[j] = 2*rad2_vec[j]", 
      "", 
      "    ", 
      "for k in range(0,121):", 
      "    data_vec = np.genfromtxt(\"/home/john/projects/calculations/core_shell/final_plots/vary_stv_rTiO2_iso/data_for_animation-\"+str(k)+\".csv\",delimiter=',',dtype = float)", 
      "    VEgj_vec[k,:] = data_vec[1,:]", 
      "", 
      "    ", 
      "fig = plt.figure()", 
      "#ax = fig.add_subplot(111, projection='3d')", 
      "", 
      "x = EgBinEdges", 
      "y = diam_vec", 
      "", 
      "plt.pcolormesh(x,y,VEgj_vec)", 
      "", 
      "plt.xlabel('$\\delta E_g\\,\\, [\\mathrm{eV}]$',fontsize=20)", 
      "plt.ylabel('$D\\,\\, [\\mathrm{nm}]$',fontsize=20)", 
      "", 
      "#%xdel cbar1", 
      "cbar1 = plt.colorbar()", 
      "cbar1.ax.set_ylabel('$\\mathrm{Shell}\\,\\, \\mathrm{volume}\\,\\, [\\%]$',fontsize=20)", 
      "tick_vals = np.linspace(3.0185,3.02,8)", 
      "tick_labels = [tick_vals[i] for i in range(len(tick_vals))]", 
      "tick_labels[0] = ''", 
      "tick_labels[1] = '-0.0013'", 
      "tick_labels[2] = ''", 
      "tick_labels[3] = '-0.0009'", 
      "tick_labels[4] = ''", 
      "tick_labels[5] = '-0.0004'", 
      "tick_labels[6] = ''", 
      "tick_labels[7] = '0'", 
      "plt.xticks(tick_vals, tick_labels)", 
      "tick_vals = np.linspace(0,50,6)", 
      "tick_labels = [tick_vals[i] for i in range(len(tick_vals))]", 
      "tick_labels[0] = ''", 
      "tick_labels[1] = '10'", 
      "tick_labels[2] = '20'", 
      "tick_labels[3] = '30'", 
      "tick_labels[4] = '40'", 
      "tick_labels[5] = '50'", 
      "plt.yticks(tick_vals, tick_labels)", 
      "plt.tick_params(axis='both', which='major', labelsize=18)", 
      "plt.axis([x.min(),x.max(),y.min(),y.max()])", 
      "#plt.title('$E_g$ dependence on D for ZnO shell')", 
      "plt.savefig(\"/home/john/projects/Eg_D_rTiO2_iso.eps\",format='eps',dpi=600)", 
      "#to think about this, each slice along x is a particle of a certain size y and the first starts with only like 10 bins and eventually is 80+ bins wide", 
      "plt.show()"
     ], 
     "language": "python", 
     "outputs": [], 
     "prompt_number": 5
    }, 
    {
     "cell_type": "code", 
     "collapsed": false, 
     "input": [
      "3.02 - np.linspace(3.0185,3.02,8)"
     ], 
     "language": "python", 
     "outputs": [
      {
       "output_type": "pyout", 
       "prompt_number": 2, 
       "text": [
        "array([ 0.0015    ,  0.00128571,  0.00107143,  0.00085714,  0.00064286,", 
        "        0.00042857,  0.00021429,  0.        ])"
       ]
      }
     ], 
     "prompt_number": 2
    }, 
    {
     "cell_type": "code", 
     "collapsed": true, 
     "input": [], 
     "language": "python", 
     "outputs": []
    }
   ]
  }
 ]
}