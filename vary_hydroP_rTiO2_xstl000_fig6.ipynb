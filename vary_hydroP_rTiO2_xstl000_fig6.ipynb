{
 "metadata": {
  "name": "vary_hydroP_rTiO2_xstl000_fig6"
 }, 
 "nbformat": 2, 
 "worksheets": [
  {
   "cells": [
    {
     "cell_type": "code", 
     "collapsed": false, 
     "input": [
      "import os", 
      "import subprocess", 
      "import numpy as np", 
      "", 
      "os.chdir('/home/john/projects/ferret/')", 
      "", 
      "pressure_vec = np.linspace(-1.0e-08,1.0e-08,121)  ", 
      "", 
      "for t in range(0,121):", 
      "    # Define the base file we will be iteratively modifiying #", 
      "    infile = open('/home/john/projects/ferret/vary_hydroP_rTiO2_xstl000.i')", 
      "    # Open the out file we will be writing at each step in the iteration #", 
      "    outfile = open('/home/john/projects/ferret/newvary_hydroP_rTiO2_xstl000-'+repr(t)+'.i', 'w')", 
      "    # Note that we are using -'+repr(t)+'.i' in order to for loop the path name. This is used again in the next line.", 
      "    replacements = {'pressure = def':'pressure = %s' % pressure_vec[t],'file_base = out_0_ZnO_rTiO2_xstl000_core_xstl000_shell_P-def':'file_base = out_0_ZnO_rTiO2_xstl000_core_xstl000_shell_P-'+repr(t)}", 
      "    for line in infile:", 
      "        for src, target in replacements.iteritems():", 
      "            line = line.replace(src, target)", 
      "        outfile.write(line)", 
      "    infile.close()", 
      "    outfile.close()"
     ], 
     "language": "python", 
     "outputs": [
      {
       "ename": "IOError", 
       "evalue": "[Errno 2] No such file or directory: '/home/john/projects/ferret/vary_hydroP_rTiO2_xstl000.i'", 
       "output_type": "pyerr", 
       "traceback": [
        "\u001b[0;31m---------------------------------------------------------------------------\u001b[0m\n\u001b[0;31mIOError\u001b[0m                                   Traceback (most recent call last)", 
        "\u001b[0;32m/home/john/projects/ferret/<ipython-input-1-4b786b212390>\u001b[0m in \u001b[0;36m<module>\u001b[0;34m()\u001b[0m\n\u001b[1;32m      9\u001b[0m \u001b[0;32mfor\u001b[0m \u001b[0mt\u001b[0m \u001b[0;32min\u001b[0m \u001b[0mrange\u001b[0m\u001b[0;34m(\u001b[0m\u001b[0;36m0\u001b[0m\u001b[0;34m,\u001b[0m\u001b[0;36m121\u001b[0m\u001b[0;34m)\u001b[0m\u001b[0;34m:\u001b[0m\u001b[0;34m\u001b[0m\u001b[0m\n\u001b[1;32m     10\u001b[0m     \u001b[0;31m# Define the base file we will be iteratively modifiying #\u001b[0m\n\u001b[0;34m\u001b[0m\u001b[0m\n\u001b[0;32m---> 11\u001b[0;31m     \u001b[0minfile\u001b[0m \u001b[0;34m=\u001b[0m \u001b[0mopen\u001b[0m\u001b[0;34m(\u001b[0m\u001b[0;34m'/home/john/projects/ferret/vary_hydroP_rTiO2_xstl000.i'\u001b[0m\u001b[0;34m)\u001b[0m\u001b[0;34m\u001b[0m\u001b[0m\n\u001b[0m\u001b[1;32m     12\u001b[0m     \u001b[0;31m# Open the out file we will be writing at each step in the iteration #\u001b[0m\n\u001b[0;34m\u001b[0m\u001b[0m\n\u001b[1;32m     13\u001b[0m     \u001b[0moutfile\u001b[0m \u001b[0;34m=\u001b[0m \u001b[0mopen\u001b[0m\u001b[0;34m(\u001b[0m\u001b[0;34m'/home/john/projects/ferret/newvary_hydroP_rTiO2_xstl000-'\u001b[0m\u001b[0;34m+\u001b[0m\u001b[0mrepr\u001b[0m\u001b[0;34m(\u001b[0m\u001b[0mt\u001b[0m\u001b[0;34m)\u001b[0m\u001b[0;34m+\u001b[0m\u001b[0;34m'.i'\u001b[0m\u001b[0;34m,\u001b[0m \u001b[0;34m'w'\u001b[0m\u001b[0;34m)\u001b[0m\u001b[0;34m\u001b[0m\u001b[0m\n", 
        "\u001b[0;31mIOError\u001b[0m: [Errno 2] No such file or directory: '/home/john/projects/ferret/vary_hydroP_rTiO2_xstl000.i'"
       ]
      }
     ], 
     "prompt_number": 1
    }, 
    {
     "cell_type": "code", 
     "collapsed": true, 
     "input": [
      "import os", 
      "import subprocess", 
      "", 
      "os.chdir('/home/john/projects/ParaView-bin/bin/')", 
      "subprocess.call('pvpython /home/john/projects/calculations/core_shell/final_plots/vary_hydroP_rTiO2_xstl000/scripts-and-out-files/MeshData.py',shell=True)", 
      "os.chdir('/home/john/projects/calculations/core_shell/final_plots/vary_hydroP_rTiO2_xstl000/')", 
      "for k in range(0,121):", 
      "    for t in range(1,8):", 
      "        subprocess.call('rm MeshData-'+repr(k)+'-'+repr(t)+'.csv',shell=True)"
     ], 
     "language": "python", 
     "outputs": [], 
     "prompt_number": 1
    }, 
    {
     "cell_type": "code", 
     "collapsed": false, 
     "input": [
      "import numpy as np", 
      "import os", 
      "import subprocess", 
      "", 
      "EgBinEdges = np.linspace(2.95,3.1,300)", 
      "volBinEdges=np.linspace(0,1,len(EgBinEdges))", 
      "", 
      "for k in range(0,121):    ", 
      "    data_SigmaVolume = np.genfromtxt('/media/My Passport/Linux/projects/calculations/core_shell/final_plots/vary_hydroP_rTiO2_xstl000/MeshData-'+str(k)+'-0.csv',delimiter=',', dtype = float)", 
      "    Eg = [row[8] for row in data_SigmaVolume]", 
      "    vol = [row[13] for row in data_SigmaVolume] ", 
      "    ", 
      "    Hbg, xEdges, yEdges = np.histogram2d(Eg[1:len(Eg)],vol[1:len(vol)], bins = (EgBinEdges, volBinEdges))", 
      "    Hbg = np.rot90(Hbg)", 
      "    Hbg = np.flipud(Hbg)", 
      "    ", 
      "    yedgesbg_up = yEdges[0:len(yEdges)-1]+(yEdges[1:len(yEdges)]-yEdges[0:len(yEdges)-1])/2 ", 
      "    vEgj = np.einsum('ij,i',Hbg,yedgesbg_up)", 
      "    VEgj = vEgj/sum(vEgj)*100", 
      "    x_bg = xEdges[0:len(xEdges)-1]+(xEdges[1:len(xEdges)]-xEdges[0:len(xEdges)-1])/2", 
      "    ", 
      "    np.savetxt(\"/media/My Passport/Linux/projects/calculations/core_shell/final_plots/vary_hydroP_rTiO2_xstl000/data_for_animation-\"+str(k)+\".csv\",[x_bg,VEgj],delimiter=\",\") ", 
      "    ", 
      "subprocess.call('espeak \"Your script is done loading the data for rutile\"',shell=True)"
     ], 
     "language": "python", 
     "outputs": [
      {
       "output_type": "pyout", 
       "prompt_number": 1, 
       "text": [
        "0"
       ]
      }
     ], 
     "prompt_number": 1
    }, 
    {
     "cell_type": "code", 
     "collapsed": true, 
     "input": [
      "import numpy as np", 
      "import matplotlib.pyplot as plt", 
      "from matplotlib import rc", 
      "#-----------------------------rTiO2--------------------------", 
      "pressure_vec = np.linspace(-1.0e-08,1.0e-08,121) ", 
      "meanEg_xstl =  np.linspace(0,1,121);", 
      "stdEg_xstl = np.linspace(0,1,121);", 
      "meanEg_iso =  np.linspace(0,1,121);", 
      "stdEg_iso = np.linspace(0,1,121);", 
      "", 
      "", 
      "for k in range(0,121):    ", 
      "    data_SigmaVolume_xstl000 = np.genfromtxt('/media/My Passport/Linux/projects/calculations/core_shell/final_plots/vary_hydroP_rTiO2_xstl000/MeshData-'+str(k)+'-0.csv',delimiter=',', dtype = float)", 
      "    data_SigmaVolume_iso = np.genfromtxt('/media/My Passport/Linux/projects/calculations/core_shell/final_plots/vary_hydroP_rTiO2_iso/MeshData-'+str(k)+'-0.csv',delimiter=',', dtype = float)", 
      "    Eg_xstl = [row[8] for row in data_SigmaVolume_xstl000]", 
      "    meanEg_xstl[k] = np.average(Eg_xstl[1:len(Eg_xstl)])", 
      "    stdEg_xstl[k] = np.std(Eg_xstl[1:len(Eg_xstl)])", 
      "    Eg_iso = [row[8] for row in data_SigmaVolume_xstl000]", 
      "    meanEg_iso[k] = np.average(Eg_iso[1:len(Eg_iso)])", 
      "    stdEg_iso[k] = np.std(Eg_iso[1:len(Eg_iso)])"
     ], 
     "language": "python", 
     "outputs": [], 
     "prompt_number": 13
    }, 
    {
     "cell_type": "code", 
     "collapsed": true, 
     "input": [
      "xval1=(meanEg_xstl[61:120:8]-3.02)", 
      "yerr1 = stdEg_xstl[61:120:8]", 
      "xval2 = (meanEg_iso[63:120:8]-3.02)", 
      "yerr2= stdEg_iso[63:120:8]"
     ], 
     "language": "python", 
     "outputs": [], 
     "prompt_number": 14
    }, 
    {
     "cell_type": "code", 
     "collapsed": true, 
     "input": [
      "plt.errorbar(pressure_vec[60:120:10]*np.power(10,9),(meanEg_xstl[60:120:10]-3.02)*np.power(10,3),yerr=stdEg_xstl[60:120:10]*np.power(10,3),fmt='o')", 
      "plt.errorbar(pressure_vec[62:120:10]*np.power(10,9),(meanEg_iso[62:120:10]-3.02)*np.power(10,3),yerr=stdEg_iso[62:120:10]*np.power(10,3),fmt='o')", 
      "plt.xlim([-0.5,10])", 
      "plt.ylabel('$\\delta E\\,\\,10^{-3} [\\mathrm{eV}]$',fontsize=20)", 
      "tick_vals = np.linspace(-18,0,7)", 
      "tick_labels = [tick_vals[i] for i in range(len(tick_vals))]", 
      "tick_labels[6] = '0'", 
      "tick_labels[5] = '-3'", 
      "tick_labels[4] = '-6'", 
      "tick_labels[3] = '-9'", 
      "tick_labels[2] = '-12'", 
      "tick_labels[1] = '-15'", 
      "tick_labels[0] = '-18'", 
      "plt.yticks(tick_vals, tick_labels)", 
      "plt.xlabel('$p\\,\\, [\\mathrm{GPa}]$',fontsize=20)", 
      "tick_vals = np.linspace(0,10,11)", 
      "tick_labels = [tick_vals[i] for i in range(len(tick_vals))]", 
      "tick_labels[0] = '0'", 
      "tick_labels[1] = ''", 
      "tick_labels[2] = '2'", 
      "tick_labels[3] = ''", 
      "tick_labels[4] = '4'", 
      "tick_labels[5] = ''", 
      "tick_labels[6] = '6'", 
      "tick_labels[7] = ''", 
      "tick_labels[8] = '8'", 
      "tick_labels[9] = ''", 
      "tick_labels[10] = '10'", 
      "plt.xticks(tick_vals, tick_labels)", 
      "plt.tick_params(axis='both', which='major', labelsize=18)", 
      "plt.savefig(\"/home/john/projects/hydroP_rTiO2.svg\",format='svg',dpi=600)", 
      "plt.show()"
     ], 
     "language": "python", 
     "outputs": [], 
     "prompt_number": 9
    }, 
    {
     "cell_type": "code", 
     "collapsed": true, 
     "input": [
      "import numpy as np", 
      "import matplotlib.pyplot as plt", 
      "from matplotlib import rc", 
      "#-----------------------------ZnO--------------------------", 
      "pressure_vec = np.linspace(-1.0e-08,1.0e-08,121) ", 
      "meanEg_xstl =  np.linspace(0,1,121);", 
      "stdEg_xstl = np.linspace(0,1,121);", 
      "meanEg_iso =  np.linspace(0,1,121);", 
      "stdEg_iso = np.linspace(0,1,121);", 
      "", 
      "", 
      "for k in range(0,121):    ", 
      "    data_SigmaVolume_xstl000 = np.genfromtxt('/media/My Passport/Linux/projects/calculations/core_shell/final_plots/vary_hydroP_ZnO_xstl000/MeshData-'+str(k)+'-0.csv',delimiter=',', dtype = float)", 
      "    data_SigmaVolume_iso = np.genfromtxt('/media/My Passport/Linux/projects/calculations/core_shell/final_plots/vary_hydroP_ZnO_iso/MeshData-'+str(k)+'-0.csv',delimiter=',', dtype = float)", 
      "    Eg_xstl = [row[8] for row in data_SigmaVolume_xstl000]", 
      "    meanEg_xstl[k] = np.average(Eg_xstl[1:len(Eg_xstl)])", 
      "    stdEg_xstl[k] = np.std(Eg_xstl[1:len(Eg_xstl)])", 
      "    Eg_iso = [row[8] for row in data_SigmaVolume_xstl000]", 
      "    meanEg_iso[k] = np.average(Eg_iso[1:len(Eg_iso)])", 
      "    stdEg_iso[k] = np.std(Eg_iso[1:len(Eg_iso)])"
     ], 
     "language": "python", 
     "outputs": [], 
     "prompt_number": 15
    }, 
    {
     "cell_type": "code", 
     "collapsed": true, 
     "input": [
      "plt.errorbar(pressure_vec[60:120:8]*np.power(10,9),(meanEg_xstl[60:120:8]-3.02),yerr=stdEg_xstl[60:120:8],fmt='o')", 
      "plt.errorbar(pressure_vec[62:120:8]*np.power(10,9),(meanEg_iso[62:120:8]-3.02),yerr=stdEg_iso[62:120:8],fmt='o')", 
      "plt.xlim([-0.5,10])", 
      "plt.ylabel('$\\delta E\\,\\,[\\mathrm{eV}]$',fontsize=20)", 
      "plt.xlabel('$p\\,\\, [\\mathrm{GPa}]$',fontsize=20)", 
      "tick_vals = np.linspace(0,10,11)", 
      "tick_labels = [tick_vals[i] for i in range(len(tick_vals))]", 
      "tick_labels[0] = '0'", 
      "tick_labels[1] = ''", 
      "tick_labels[2] = '2'", 
      "tick_labels[3] = ''", 
      "tick_labels[4] = '4'", 
      "tick_labels[5] = ''", 
      "tick_labels[6] = '6'", 
      "tick_labels[7] = ''", 
      "tick_labels[8] = '8'", 
      "tick_labels[9] = ''", 
      "tick_labels[10] = '10'", 
      "plt.xticks(tick_vals, tick_labels)", 
      "plt.tick_params(axis='both', which='major', labelsize=18)", 
      "plt.savefig(\"/home/john/projects/hydroP_ZnO.svg\",format='svg',dpi=600)", 
      "plt.show()"
     ], 
     "language": "python", 
     "outputs": [], 
     "prompt_number": 11
    }, 
    {
     "cell_type": "code", 
     "collapsed": true, 
     "input": [
      "a = np.linspace(0,18,4)"
     ], 
     "language": "python", 
     "outputs": [], 
     "prompt_number": 59
    }, 
    {
     "cell_type": "code", 
     "collapsed": false, 
     "input": [
      "a"
     ], 
     "language": "python", 
     "outputs": [
      {
       "output_type": "pyout", 
       "prompt_number": 60, 
       "text": [
        "array([  0.,   6.,  12.,  18.])"
       ]
      }
     ], 
     "prompt_number": 60
    }, 
    {
     "cell_type": "code", 
     "collapsed": false, 
     "input": [
      "np.linspace(-18,0,7)"
     ], 
     "language": "python", 
     "outputs": [
      {
       "output_type": "pyout", 
       "prompt_number": 71, 
       "text": [
        "array([-18., -15., -12.,  -9.,  -6.,  -3.,   0.])"
       ]
      }
     ], 
     "prompt_number": 71
    }, 
    {
     "cell_type": "code", 
     "collapsed": false, 
     "input": [
      "import subprocess #we lose the axes here with this conversion method.. strange.", 
      "subprocess.call('inkscape --export-eps=/home/john/projects/hydroP_rTiO2.eps /home/john/projects/hydroP_rTiO2.svg',shell=True)", 
      "subprocess.call('inkscape --export-eps=/home/john/projects/hydroP_ZnO.eps /home/john/projects/hydroP_ZnO.svg',shell=True)"
     ], 
     "language": "python", 
     "outputs": [
      {
       "output_type": "pyout", 
       "prompt_number": 82, 
       "text": [
        "0"
       ]
      }
     ], 
     "prompt_number": 82
    }, 
    {
     "cell_type": "code", 
     "collapsed": true, 
     "input": [
      "import matplotlib.pyplot as plt", 
      "fig = plt.figure()", 
      "ax1 = fig.add_subplot(2,1,1)", 
      "", 
      "ax1.errorbar(pressure_vec[61:120:8]*np.power(10,9),(meanEg_xstl[61:120:8]-3.2),yerr= stdEg_xstl[61:120:8],fmt='o',label='[000]')", 
      "ax1.errorbar(pressure_vec[63:120:8]*np.power(10,9),(meanEg_iso[63:120:8]-3.2),yerr=stdEg_iso[63:120:8],fmt='D',label='Isotropic')", 
      "#ax1.ylabel('$\\delta E\\,\\,10^{-3} [\\mathrm{eV}]$',fontsize=20)", 
      "", 
      "#ax1.yticks(tick_vals, tick_labels)", 
      "#ax1.xlabel('$p\\,\\, [\\mathrm{GPa}]$',fontsize=20)", 
      "tick_vals = np.linspace(0,10,11)", 
      "tick_labels = [tick_vals[i] for i in range(len(tick_vals))]", 
      "tick_labels[0] = '0'", 
      "tick_labels[1] = ''", 
      "tick_labels[2] = '2'", 
      "tick_labels[3] = ''", 
      "tick_labels[4] = '4'", 
      "tick_labels[5] = ''", 
      "tick_labels[6] = '6'", 
      "tick_labels[7] = ''", 
      "tick_labels[8] = '8'", 
      "tick_labels[9] = ''", 
      "tick_labels[10] = '10'", 
      "plt.legend(labelspacing = 1.0,loc=4,prop={'size':16})", 
      "#ax1.xticks(tick_vals, tick_labels)", 
      "#ax1.tick_params(axis='both', which='major', labelsize=18)", 
      "", 
      "ax2 = fig.add_subplot(2,1,2, sharex=ax1)", 
      "ax2.errorbar(pressure_vec[61:120:8]*np.power(10,9),xval1*np.power(10,3),yerr=yerr1*np.power(10,3),fmt='o')", 
      "ax2.errorbar(pressure_vec[63:120:8]*np.power(10,9),xval2*np.power(10,3),yerr=yerr2*np.power(10,3),fmt='D')", 
      "tick_vals = np.linspace(-18,0,7)", 
      "tick_labels = [tick_vals[i] for i in range(len(tick_vals))]", 
      "tick_labels[6] = '0'", 
      "tick_labels[5] = '-3'", 
      "tick_labels[4] = '-6'", 
      "tick_labels[3] = '-9'", 
      "tick_labels[2] = '-12'", 
      "tick_labels[1] = '-15'", 
      "tick_labels[0] = '-18'", 
      "#ax2.ylabel('$\\delta E\\,\\,[\\mathrm{eV}]$',fontsize=20)", 
      "#ax2.xlabel('$p\\,\\, [\\mathrm{GPa}]$',fontsize=20)", 
      "tick_vals = np.linspace(0,10,11)", 
      "tick_labels = [tick_vals[i] for i in range(len(tick_vals))]", 
      "tick_labels[0] = '0'", 
      "tick_labels[1] = ''", 
      "tick_labels[2] = '2'", 
      "tick_labels[3] = ''", 
      "tick_labels[4] = '4'", 
      "tick_labels[5] = ''", 
      "tick_labels[6] = '6'", 
      "tick_labels[7] = ''", 
      "tick_labels[8] = '8'", 
      "tick_labels[9] = ''", 
      "tick_labels[10] = '10'", 
      "#ax2.xticks(tick_vals, tick_labels)", 
      "#ax2.tick_params(axis='both', which='major', labelsize=18)", 
      "plt.xlim([-.5,9])", 
      "ax1.set_ylim([-0.5,2.0])", 
      "ax2.set_ylim([-20,1.0])", 
      "ax2.set_ylabel('$\\delta E\\,\\,10^{-3}\\,\\,[\\mathrm{eV}]$',fontsize=20)", 
      "ax1.set_ylabel('$\\delta E\\,\\,\\,[\\mathrm{eV}]$',fontsize=20)", 
      "ax2.set_xlabel('$p \\,\\,\\,[\\mathrm{GPa}]$',fontsize=20)", 
      "plt.setp(ax1.get_xticklabels(), visible=False)", 
      "plt.savefig(\"/home/john/projects/hydroP_ZnO_and_rTiO2.svg\",format='svg',dpi=600,bbox_inches='tight')", 
      "plt.show()"
     ], 
     "language": "python", 
     "outputs": [], 
     "prompt_number": 27
    }, 
    {
     "cell_type": "code", 
     "collapsed": false, 
     "input": [
      "import subprocess #we lose the axes here with this conversion method.. strange.", 
      "subprocess.call('inkscape --export-eps=/home/john/projects/hydroP_ZnO_and_rTiO2.eps /home/john/projects/hydroP_ZnO_and_rTiO2.svg',shell=True)"
     ], 
     "language": "python", 
     "outputs": [
      {
       "output_type": "pyout", 
       "prompt_number": 24, 
       "text": [
        "0"
       ]
      }
     ], 
     "prompt_number": 24
    }, 
    {
     "cell_type": "code", 
     "collapsed": true, 
     "input": [], 
     "language": "python", 
     "outputs": [], 
     "prompt_number": 4
    }, 
    {
     "cell_type": "code", 
     "collapsed": true, 
     "input": [
      "from mpl_toolkits.mplot3d import axes3d", 
      "import matplotlib.pyplot as plt", 
      "import numpy as np", 
      "", 
      "fig = plt.figure()", 
      "ax = fig.add_subplot(111, projection='3d')", 
      "X, Y, Z = axes3d.get_test_data(0.05)", 
      "ax.plot_wireframe(X, Y, Z, rstride=10, cstride=10)", 
      "", 
      "plt.show()"
     ], 
     "language": "python", 
     "outputs": [], 
     "prompt_number": 29
    }, 
    {
     "cell_type": "code", 
     "collapsed": true, 
     "input": [], 
     "language": "python", 
     "outputs": []
    }
   ]
  }
 ]
}