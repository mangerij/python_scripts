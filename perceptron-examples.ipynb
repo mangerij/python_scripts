{
 "metadata": {
  "name": "perceptron-examples"
 }, 
 "nbformat": 2, 
 "worksheets": [
  {
   "cells": [
    {
     "cell_type": "markdown", 
     "source": [
      "A simple perceptron is a computing unit with a threshold that outputs 1 or 0 depending on the inputs $x_i$ and weights $w_i$.", 
      "", 
      "$P = 1$ if $\\sum_{i = 1}^n w_i x_i \\geq \\theta$", 
      "", 
      "$P = 0$ otherwise."
     ]
    }, 
    {
     "cell_type": "code", 
     "collapsed": false, 
     "input": [
      "import numpy as np", 
      "th = 2.0; n = 30;", 
      "dat = np.random.uniform(-2, 2, size = n)", 
      "wdat = np.random.uniform(-2, 2, size = n)", 
      "sum = 0.0", 
      "for i in range(1,n):", 
      "    sum += wdat[i]*dat[i]", 
      "print sum", 
      "", 
      "if sum >= th:", 
      "    P = 1", 
      "else:", 
      "    P = 0", 
      "print P"
     ], 
     "language": "python", 
     "outputs": [
      {
       "output_type": "stream", 
       "stream": "stdout", 
       "text": [
        "11.863266799", 
        "1"
       ]
      }
     ], 
     "prompt_number": 45
    }, 
    {
     "cell_type": "markdown", 
     "source": [
      "Given the weights, we can draw an input space seperated by our perceptron"
     ]
    }, 
    {
     "cell_type": "code", 
     "collapsed": true, 
     "input": [], 
     "language": "python", 
     "outputs": [], 
     "prompt_number": 42
    }, 
    {
     "cell_type": "code", 
     "collapsed": true, 
     "input": [], 
     "language": "python", 
     "outputs": [], 
     "prompt_number": 42
    }, 
    {
     "cell_type": "code", 
     "collapsed": true, 
     "input": [], 
     "language": "python", 
     "outputs": [], 
     "prompt_number": 42
    }, 
    {
     "cell_type": "code", 
     "collapsed": true, 
     "input": [], 
     "language": "python", 
     "outputs": [], 
     "prompt_number": 42
    }, 
    {
     "cell_type": "code", 
     "collapsed": true, 
     "input": [], 
     "language": "python", 
     "outputs": [], 
     "prompt_number": 42
    }, 
    {
     "cell_type": "markdown", 
     "source": [
      "Use some machine-learning to understand how random the random data is?"
     ]
    }, 
    {
     "cell_type": "code", 
     "collapsed": true, 
     "input": [], 
     "language": "python", 
     "outputs": []
    }
   ]
  }
 ]
}