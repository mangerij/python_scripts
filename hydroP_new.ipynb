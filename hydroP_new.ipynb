{
 "metadata": {
  "name": "hydroP_new"
 }, 
 "nbformat": 2, 
 "worksheets": [
  {
   "cells": [
    {
     "cell_type": "code", 
     "collapsed": true, 
     "input": [
      "import os", 
      "import subprocess", 
      "import numpy as np", 
      "", 
      "os.chdir('/home/john/projects/ferret/')", 
      "", 
      "pressure_vec = np.linspace(-1.0e-08,1.0e-08,121)  ", 
      "", 
      "for t in range(0,121):", 
      "    # Define the base file we will be iteratively modifiying #", 
      "    infile = open('/home/john/projects/ferret/Zn_ZnO_xstl000_core_xstl000_shell_P_def.i')", 
      "    # Open the out file we will be writing at each step in the iteration #", 
      "    outfile = open('/home/john/projects/ferret/newZn_ZnO_xstl000_core_xstl000_shell_P-'+repr(t)+'.i', 'w')", 
      "    # Note that we are using -'+repr(t)+'.i' in order to for loop the path name. This is used again in the next line.", 
      "    replacements = {'pressure = def':'pressure = %s' % pressure_vec[t],'file_base = out_Zn_ZnO_xstl000_core_xstl000_shell_P_def':'file_base = out_Zn_ZnO_xstl000_core_xstl000_shell_P-'+repr(t)}", 
      "    for line in infile:", 
      "        for src, target in replacements.iteritems():", 
      "            line = line.replace(src, target)", 
      "        outfile.write(line)", 
      "    infile.close()", 
      "    outfile.close()"
     ], 
     "language": "python", 
     "outputs": [], 
     "prompt_number": 2
    }, 
    {
     "cell_type": "code", 
     "collapsed": true, 
     "input": [
      "import os", 
      "import subprocess", 
      "import numpy as np", 
      "", 
      "os.chdir('/home/john/projects/ferret/')", 
      "", 
      "pressure_vec = np.linspace(-1.0e-08,1.0e-08,121)  ", 
      "", 
      "for t in range(0,121):", 
      "    # Define the base file we will be iteratively modifiying #", 
      "    infile = open('/home/john/projects/ferret/ZnO_rTiO2_xstl000_core_xstl000_shell_P_def.i')", 
      "    # Open the out file we will be writing at each step in the iteration #", 
      "    outfile = open('/home/john/projects/ferret/newZnO_rTiO2_xstl000_core_xstl000_shell_P-'+repr(t)+'.i', 'w')", 
      "    # Note that we are using -'+repr(t)+'.i' in order to for loop the path name. This is used again in the next line.", 
      "    replacements = {'pressure = def':'pressure = %s' % pressure_vec[t],'file_base = out_ZnO_rTiO2_xstl000_core_xstl000_shell_P_def':'file_base = out_ZnO_rTiO2_xstl000_core_xstl000_shell_P-'+repr(t)}", 
      "    for line in infile:", 
      "        for src, target in replacements.iteritems():", 
      "            line = line.replace(src, target)", 
      "        outfile.write(line)", 
      "    infile.close()", 
      "    outfile.close()"
     ], 
     "language": "python", 
     "outputs": []
    }
   ]
  }
 ]
}