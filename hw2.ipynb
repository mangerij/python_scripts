{
 "metadata": {
  "name": "hw2"
 }, 
 "nbformat": 2, 
 "worksheets": [
  {
   "cells": [
    {
     "cell_type": "markdown", 
     "source": [
      "Load in initial data and numpy"
     ]
    }, 
    {
     "cell_type": "code", 
     "collapsed": true, 
     "input": [
      "import numpy as np", 
      "xj = np.zeros(11); f = np.zeros(11); N = 10;", 
      "for j in range(0,N+1):", 
      "    xj[j] = j * (2.0/N) - 1", 
      "    f[j] = 1/(1 + 25.0 * xj[j] ** 2)"
     ], 
     "language": "python", 
     "outputs": [], 
     "prompt_number": 1
    }, 
    {
     "cell_type": "markdown", 
     "source": [
      "Implement Newton's divided difference scheme on the above initial data. We seek a polynomial of degree $N$, with $p(x) = a_0 + a_1 x + a_2 x^2 + ... + a_n x^n$ with $a_n  = f[x_0, x_1,..., x_n]$"
     ]
    }, 
    {
     "cell_type": "code", 
     "collapsed": true, 
     "input": [
      "A = {}; a = np.zeros(11);", 
      "for i in range(0,10):", 
      "    A[i] = (f[i+1]-f[i])/(xj[i+1]-xj[i])", 
      "    a[1] = A[0]", 
      "  ", 
      "for n in range(2,11):", 
      "    for i in range(0,11-n):", 
      "        A[i] = (A[i+1]-A[i])/(xj[i+n]-xj[i])", 
      "        a[n] = A[0]"
     ], 
     "language": "python", 
     "outputs": [], 
     "prompt_number": 2
    }, 
    {
     "cell_type": "code", 
     "collapsed": true, 
     "input": [
      "def p(z):", 
      "    p = a[10] * (z - xj[0]) * (z - xj[1]) * (z - xj[2]) * (z - xj[3]) * (z - xj[4]) * (z - xj[5]) * (z - xj[6]) * (z - xj[7]) * (z - xj[8]) * (z - xj[9]) + a[9] * (z - xj[0]) * (z - xj[1]) * (z - xj[2]) * (z - xj[3]) * (z - xj[4]) * (z - xj[5]) * (z - xj[6]) * (z - xj[7]) * (z - xj[8]) + a[8] * (z - xj[0]) * (z - xj[1]) * (z - xj[2]) * (z - xj[3]) * (z - xj[4]) * (z - xj[5]) * (z - xj[6]) * (z - xj[7]) + a[7] * (z - xj[0]) * (z - xj[1]) * (z - xj[2]) * (z - xj[3]) * (z - xj[4]) * (z - xj[5]) * (z - xj[6]) + a[6] * (z - xj[0]) * (z - xj[1]) * (z - xj[2]) * (z - xj[3]) * (z - xj[4]) * (z - xj[5]) + a[5] * (z - xj[0]) * (z - xj[1]) * (z - xj[2]) * (z - xj[3]) * (z - xj[4]) + a[4] * (z - xj[0]) * (z - xj[1]) * (z - xj[2]) * (z - xj[3]) + a[3] * (z - xj[0]) * (z - xj[1]) * (z - xj[2]) + a[2] * (z - xj[0]) * (z - xj[1]) + a[1] * (z - xj[0]) + f[0]", 
      "    return p"
     ], 
     "language": "python", 
     "outputs": [], 
     "prompt_number": 3
    }, 
    {
     "cell_type": "code", 
     "collapsed": true, 
     "input": [
      "xvec = np.linspace(-1,1,101); pvec = np.zeros(len(xvec)); fplot = np.zeros(101);", 
      "for k in range(0,len(xvec)):", 
      "    pvec[k] = p(xvec[k])", 
      "for k in range(0,101):", 
      "    fplot[k] = 1/(1 + 25.0 * xvec[k] ** 2)"
     ], 
     "language": "python", 
     "outputs": [], 
     "prompt_number": 4
    }, 
    {
     "cell_type": "code", 
     "collapsed": true, 
     "input": [
      "import matplotlib.pyplot as plt", 
      "", 
      "plt.plot(xvec,pvec,'r--'); plt.plot(xj,f,'bo');", 
      "plt.ylabel('p(x)', fontsize = 37); plt.xlabel('x', fontsize = 37);", 
      "plt.tick_params(axis='both', which='major', labelsize=30)", 
      "plt.tick_params(axis='both', which='minor', labelsize=30)", 
      "plt.show()"
     ], 
     "language": "python", 
     "outputs": [], 
     "prompt_number": 5
    }, 
    {
     "cell_type": "markdown", 
     "source": [
      "and error:"
     ]
    }, 
    {
     "cell_type": "code", 
     "collapsed": true, 
     "input": [
      "import matplotlib.pyplot as plt", 
      "", 
      "plt.plot(xvec,np.abs(pvec - fplot),'r--')", 
      "plt.ylabel('|p(x) - f(x)|', fontsize = 37); plt.xlabel('x', fontsize = 37);", 
      "plt.tick_params(axis='both', which='major', labelsize=30)", 
      "plt.tick_params(axis='both', which='minor', labelsize=30)", 
      "plt.show()"
     ], 
     "language": "python", 
     "outputs": [], 
     "prompt_number": 6
    }, 
    {
     "cell_type": "code", 
     "collapsed": true, 
     "input": [
      "d = np.zeros(11);h = np.zeros(11);y = np.zeros(11);A = np.zeros((11,11));L = np.zeros(11);mu = np.zeros(11);", 
      "", 
      "for j in range(0,10):", 
      "    h[j+1] = xj[j+1] - xj[j]", 
      "    y[j] = f[j]", 
      "    L[j] = h[j+1]/(h[j]+h[j+1])", 
      "    mu[j] = 1 - L[j]", 
      "    ", 
      "for j in range(1,10):", 
      "    d[j] = 6/(h[j]+h[j+1])*((y[j+1] - y[j])/h[j+1]-(y[j]-y[j-1])/h[j])", 
      "#need case c.)    ", 
      "d[0] = (6/h[1])*((f[1]-f[0])/h[1] - 0.0739645); d[10] = (6/h[10])*(-0.0739645 - (f[10]-f[9])/h[10]);", 
      "    ", 
      "for j in range(0,11):", 
      "    for k in range(0,11):", 
      "        if j == k:", 
      "            A[j,k] = 2", 
      "for j in range(0,10):", 
      "    for k in range(0,10):", 
      "        if j != k:", 
      "            A[j+1,j] = mu[j]", 
      "            A[j,j+1] = L[j]", 
      "A[10,9] = 1.0; A[1,0] = 0.5;"
     ], 
     "language": "python", 
     "outputs": [], 
     "prompt_number": 21
    }, 
    {
     "cell_type": "code", 
     "collapsed": false, 
     "input": [
      "M = np.linalg.solve(A,d)", 
      "M"
     ], 
     "language": "python", 
     "outputs": [
      {
       "output_type": "pyout", 
       "prompt_number": 23, 
       "text": [
        "array([  0.24558   ,   0.34420364,   1.49977739,   2.4802162 ,", 
        "        18.57935782, -46.79764746,  18.61123202,   2.35271939,", 
        "         1.97789044,  -1.44075174,   1.13805769])"
       ]
      }
     ], 
     "prompt_number": 23
    }, 
    {
     "cell_type": "code", 
     "collapsed": true, 
     "input": [
      "def sj(z):", 
      "    s = np.zeros(11);", 
      "    for j in range(0,10):", 
      "        s[j] = M[j]*((xj[j+1] - z) ** 3)/(6*h[j+1]) + M[j+1] * ((z - xj[j]) ** 3)/(6*h[j+1]) + ((f[j+1] - f[j])/h[j+1] - (h[j+1]/6)*(M[j+1] - M[j])) * (z - xj[j]) + (f[j] - M[j] * (h[j+1] ** 2)/6)", 
      "    return s"
     ], 
     "language": "python", 
     "outputs": [], 
     "prompt_number": 16
    }, 
    {
     "cell_type": "code", 
     "collapsed": true, 
     "input": [
      "L = 101;", 
      "sf = np.zeros(L);", 
      "for j in range(0,L):", 
      "    if j < (L-1)/N:", 
      "        sf[j] = sj(xvec[j])[0]", 
      "    for k in range(1,11):", 
      "        if (k*(L-1))/N <= j <= ((k+1)*(L-1))/(N):", 
      "            sf[j] = sj(xvec[j])[k]"
     ], 
     "language": "python", 
     "outputs": [], 
     "prompt_number": 28
    }, 
    {
     "cell_type": "code", 
     "collapsed": true, 
     "input": [
      "import matplotlib.pyplot as plt", 
      "", 
      "plt.plot(xvec,sf,'r--')", 
      "plt.plot(xj,f,'bo')", 
      "plt.ylabel('p(x)', fontsize = 37)", 
      "plt.xlabel('x', fontsize = 37)", 
      "plt.tick_params(axis='both', which='major', labelsize=30)", 
      "plt.tick_params(axis='both', which='minor', labelsize=30)", 
      "plt.show()"
     ], 
     "language": "python", 
     "outputs": [], 
     "prompt_number": 29
    }, 
    {
     "cell_type": "code", 
     "collapsed": true, 
     "input": [
      "import matplotlib.pyplot as plt", 
      "", 
      "plt.plot(xvec,np.abs(sf - fplot),'r--')", 
      "plt.ylabel('|f(x) - p(x)|', fontsize = 37)", 
      "plt.xlabel('x', fontsize = 37)", 
      "plt.tick_params(axis='both', which='major', labelsize=30)", 
      "plt.tick_params(axis='both', which='minor', labelsize=30)", 
      "plt.show()"
     ], 
     "language": "python", 
     "outputs": [], 
     "prompt_number": 30
    }, 
    {
     "cell_type": "code", 
     "collapsed": false, 
     "input": [
      "d"
     ], 
     "language": "python", 
     "outputs": [
      {
       "output_type": "pyout", 
       "prompt_number": 13, 
       "text": [
        "array([  0.83536364,   1.56108597,   4.41176471,  15.        ,", 
        "        15.        , -75.        ,  15.        ,  15.        ,", 
        "         4.41176471,  -1.32352941,   5.27323364])"
       ]
      }
     ], 
     "prompt_number": 13
    }, 
    {
     "cell_type": "code", 
     "collapsed": false, 
     "input": [
      "A"
     ], 
     "language": "python", 
     "outputs": [
      {
       "output_type": "pyout", 
       "prompt_number": 24, 
       "text": [
        "array([[ 2. ,  1. ,  0. ,  0. ,  0. ,  0. ,  0. ,  0. ,  0. ,  0. ,  0. ],", 
        "       [ 0.5,  2. ,  0.5,  0. ,  0. ,  0. ,  0. ,  0. ,  0. ,  0. ,  0. ],", 
        "       [ 0. ,  0.5,  2. ,  0.5,  0. ,  0. ,  0. ,  0. ,  0. ,  0. ,  0. ],", 
        "       [ 0. ,  0. ,  0.5,  2. ,  0.5,  0. ,  0. ,  0. ,  0. ,  0. ,  0. ],", 
        "       [ 0. ,  0. ,  0. ,  0.5,  2. ,  0.5,  0. ,  0. ,  0. ,  0. ,  0. ],", 
        "       [ 0. ,  0. ,  0. ,  0. ,  0.5,  2. ,  0.5,  0. ,  0. ,  0. ,  0. ],", 
        "       [ 0. ,  0. ,  0. ,  0. ,  0. ,  0.5,  2. ,  0.5,  0. ,  0. ,  0. ],", 
        "       [ 0. ,  0. ,  0. ,  0. ,  0. ,  0. ,  0.5,  2. ,  0.5,  0. ,  0. ],", 
        "       [ 0. ,  0. ,  0. ,  0. ,  0. ,  0. ,  0. ,  0.5,  2. ,  0.5,  0. ],", 
        "       [ 0. ,  0. ,  0. ,  0. ,  0. ,  0. ,  0. ,  0. ,  0.5,  2. ,  0.5],", 
        "       [ 0. ,  0. ,  0. ,  0. ,  0. ,  0. ,  0. ,  0. ,  0. ,  1. ,  2. ]])"
       ]
      }
     ], 
     "prompt_number": 24
    }, 
    {
     "cell_type": "code", 
     "collapsed": false, 
     "input": [
      "a"
     ], 
     "language": "python", 
     "outputs": [
      {
       "output_type": "pyout", 
       "prompt_number": 3, 
       "text": [
        "array([  0.00000000e+00,   1.01809955e-01,   2.60180995e-01,", 
        "         7.91855204e-01,   2.68665158e+00,  -6.36312217e+00,", 
        "        -1.76753394e+01,   8.48416290e+01,  -1.67915724e+02,", 
        "         2.20941742e+02,  -2.20941742e+02])"
       ]
      }
     ], 
     "prompt_number": 3
    }, 
    {
     "cell_type": "code", 
     "collapsed": true, 
     "input": [], 
     "language": "python", 
     "outputs": []
    }
   ]
  }
 ]
}