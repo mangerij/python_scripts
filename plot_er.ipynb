{
 "metadata": {
  "name": "plot_er"
 }, 
 "nbformat": 2, 
 "worksheets": [
  {
   "cells": [
    {
     "cell_type": "code", 
     "collapsed": false, 
     "input": [
      "import numpy as np", 
      "import matplotlib.pyplot as plt", 
      "import pylab", 
      "from matplotlib import rc", 
      "import itertools", 
      "", 
      "data_3 = np.genfromtxt('/home/john/projects/ferret/er31.csv',delimiter=',', dtype = float,skiprows=1)", 
      "polar_z_3 = [row[6] for row in data_3] ", 
      "", 
      "data_4 = np.genfromtxt('/home/john/projects/ferret/er41.csv',delimiter=',', dtype = float,skiprows=1)", 
      "polar_z_4 = [row[6] for row in data_4]", 
      "", 
      "data_5 = np.genfromtxt('/home/john/projects/ferret/er51.csv',delimiter=',', dtype = float,skiprows=1)", 
      "polar_z_5 = [row[6] for row in data_5] ", 
      "", 
      "data_12 = np.genfromtxt('/home/john/projects/ferret/er121.csv',delimiter=',', dtype = float,skiprows=1)", 
      "polar_z_12 = [row[6] for row in data_12] ", 
      "", 
      "data_30 = np.genfromtxt('/home/john/projects/ferret/er301.csv',delimiter=',', dtype = float,skiprows=1)", 
      "polar_z_30 = [row[6] for row in data_30] ", 
      "", 
      "data_60 = np.genfromtxt('/home/john/projects/ferret/er601.csv',delimiter=',', dtype = float,skiprows=1)", 
      "polar_z_60 = [row[6] for row in data_60] ", 
      "", 
      "data_150 = np.genfromtxt('/home/john/projects/ferret/er1501.csv',delimiter=',', dtype = float,skiprows=1)", 
      "polar_z_150 = [row[6] for row in data_150] ", 
      "", 
      "mean_polar_z_3 = np.mean(polar_z_3)", 
      "mean_polar_z_4 = np.mean(polar_z_4)", 
      "mean_polar_z_5 = np.mean(polar_z_5)", 
      "mean_polar_z_12 = np.mean(polar_z_12)", 
      "mean_polar_z_30 = np.mean(polar_z_30)", 
      "mean_polar_z_60 = np.mean(polar_z_60)", 
      "mean_polar_z_150 = np.mean(polar_z_150)", 
      "", 
      "a = [mean_polar_z_3,mean_polar_z_4,mean_polar_z_5,mean_polar_z_12,mean_polar_z_30,mean_polar_z_60,mean_polar_z_150]", 
      "a_pr = [1.2,1.5,1.71,2.35,2.72,2.85,2.94] #these values are weird... but is it possible they are a consequence of the size as well?"
     ], 
     "language": "python", 
     "outputs": [], 
     "prompt_number": 15
    }, 
    {
     "cell_type": "code", 
     "collapsed": false, 
     "input": [
      "a"
     ], 
     "language": "python", 
     "outputs": [
      {
       "output_type": "pyout", 
       "prompt_number": 25, 
       "text": [
        "[109477.93215559155,", 
        " 145945.97390599683,", 
        " 182312.77455429488,", 
        " 417214.53792544588,", 
        " 775324.73581847781,", 
        " 1008832.376337115,", 
        " 1199883.1620745542]"
       ]
      }
     ], 
     "prompt_number": 25
    }, 
    {
     "cell_type": "code", 
     "collapsed": false, 
     "input": [], 
     "language": "python", 
     "outputs": [
      {
       "output_type": "pyout", 
       "prompt_number": 19, 
       "text": [
        "0"
       ]
      }
     ], 
     "prompt_number": 19
    }, 
    {
     "cell_type": "code", 
     "collapsed": true, 
     "input": [], 
     "language": "python", 
     "outputs": []
    }
   ]
  }
 ]
}