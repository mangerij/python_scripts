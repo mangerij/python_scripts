{
 "cells": [
  {
   "cell_type": "code",
   "execution_count": 117,
   "metadata": {
    "collapsed": false
   },
   "outputs": [
    {
     "data": {
      "text/plain": [
       "0"
      ]
     },
     "execution_count": 117,
     "metadata": {},
     "output_type": "execute_result"
    }
   ],
   "source": [
    "import os\n",
    "import subprocess\n",
    "\n",
    "os.chdir('/home/john/projects/ParaView-bin/bin/')\n",
    "subprocess.call('pvpython /home/john/projects/scripts/MeshData-Micro.py',shell=True)"
   ]
  },
  {
   "cell_type": "code",
   "execution_count": 118,
   "metadata": {
    "collapsed": true
   },
   "outputs": [],
   "source": [
    "for k in range(2,6):\n",
    "    fout=open(\"/home/john/projects/calculations/core_shell/Microstructures/MeshData-\"+str(k)+\"outCOMP.csv\",\"a\")\n",
    "    for line in open(\"/home/john/projects/calculations/core_shell/Microstructures/MeshData-\"+str(k)+\"0.csv\"):\n",
    "        fout.write(line)\n",
    "    for num in range(1,12): #spherical has 11 csv\n",
    "        f = open(\"/home/john/projects/calculations/core_shell/Microstructures/MeshData-\"+str(k)+str(num)+\".csv\")\n",
    "        f.next() # skip the header\n",
    "        for line in f:\n",
    "            fout.write(line)\n",
    "        f.close() # not really needed\n",
    "    fout.close()\n",
    "for k in range(6,10):\n",
    "    fout=open(\"/home/john/projects/calculations/core_shell/Microstructures/MeshData-\"+str(k)+\"outCOMP.csv\",\"a\")\n",
    "    for line in open(\"/home/john/projects/calculations/core_shell/Microstructures/MeshData-\"+str(k)+\"0.csv\"):\n",
    "        fout.write(line)\n",
    "    for num in range(1,15): #faceted has 14 csvs\n",
    "        f = open(\"/home/john/projects/calculations/core_shell/Microstructures/MeshData-\"+str(k)+str(num)+\".csv\")\n",
    "        f.next() # skip the header\n",
    "        for line in f:\n",
    "            fout.write(line)\n",
    "        f.close() # not really needed\n",
    "    fout.close()"
   ]
  },
  {
   "cell_type": "code",
   "execution_count": null,
   "metadata": {
    "collapsed": true
   },
   "outputs": [],
   "source": []
  },
  {
   "cell_type": "code",
   "execution_count": 3,
   "metadata": {
    "collapsed": true
   },
   "outputs": [],
   "source": [
    "#numpy genfromtxt crashes when loading large files, have to use an iterative loading scheme\n",
    "\n",
    "import numpy as np\n",
    "\n",
    "def iter_loadtxt(filename, delimiter=',', skiprows=1, dtype=float):\n",
    "    def iter_func():\n",
    "        with open(filename, 'r') as infile:\n",
    "            for _ in range(skiprows):\n",
    "                next(infile)\n",
    "            for line in infile:\n",
    "                line = line.rstrip().split(delimiter)\n",
    "                for item in line:\n",
    "                    yield dtype(item)\n",
    "        iter_loadtxt.rowlength = len(line)\n",
    "\n",
    "    data = np.fromiter(iter_func(), dtype=dtype)\n",
    "    data = data.reshape((-1, iter_loadtxt.rowlength))\n",
    "    return data"
   ]
  },
  {
   "cell_type": "code",
   "execution_count": 4,
   "metadata": {
    "collapsed": true
   },
   "outputs": [],
   "source": [
    "#This code will compare band gap splittings for varying microstructures of the Zn-ZnO core-shell system and plot them on the same graph.\n",
    "\n",
    "import numpy as np\n",
    "import matplotlib.pyplot as plt\n",
    "import pylab\n",
    "from matplotlib import rc\n",
    "\n",
    "#generate_text_file()\n",
    "#data = iter_loadtxt('large_text_file.csv')\n",
    "#data_EgVolume1 = iter_loadtxt('/home/john/projects/calculations/core_shell/Microstructures/MeshData-1outCOMP.csv',delimiter=',',skiprows=1,dtype=float)\n",
    "data_EgVolume2= iter_loadtxt('/home/john/projects/calculations/core_shell/Microstructures/MeshData-2outCOMP.csv',delimiter=',',skiprows=1,dtype=float)\n",
    "data_EgVolume3 = iter_loadtxt('/home/john/projects/calculations/core_shell/Microstructures/MeshData-3outCOMP.csv',delimiter=',',skiprows=1,dtype=float)\n",
    "data_EgVolume4 = iter_loadtxt('/home/john/projects/calculations/core_shell/Microstructures/MeshData-4outCOMP.csv',delimiter=',',skiprows=1,dtype=float)\n",
    "data_EgVolume5 = iter_loadtxt('/home/john/projects/calculations/core_shell/Microstructures/MeshData-5outCOMP.csv',delimiter=',',skiprows=1,dtype=float)\n",
    "data_EgVolume6 = iter_loadtxt('/home/john/projects/calculations/core_shell/Microstructures/MeshData-6outCOMP.csv',delimiter=',',skiprows=1,dtype=float)\n",
    "data_EgVolume7 = iter_loadtxt('/home/john/projects/calculations/core_shell/Microstructures/MeshData-7outCOMP.csv',delimiter=',',skiprows=1,dtype=float)\n",
    "data_EgVolume8 = iter_loadtxt('/home/john/projects/calculations/core_shell/Microstructures/MeshData-8outCOMP.csv',delimiter=',',skiprows=1,dtype=float)\n",
    "data_EgVolume9 = iter_loadtxt('/home/john/projects/calculations/core_shell/Microstructures/MeshData-9outCOMP.csv',delimiter=',',skiprows=1,dtype=float)\n",
    "\n",
    "\n",
    "#Note that the element number is much larger for grainy models so we will have to concenatate the .csv volume output from ParaView\n",
    "\n",
    "#############################################################################################################\n",
    "# 1,2,3,4,5,6,7,8:= xstl-iso, rad_grain,rand_grain,xstl-xstl, Fxstl-iso,Frad_grain,Frand_grain,Fxstl-Fxstyl #\n",
    "# Also have the isotropically averaged shell for both models. (9/10?)                                       #\n",
    "#############################################################################################################\n",
    "\n",
    "#vol1 = [row[20] for row in data_SigmaVolume1] \n",
    "vol2 = [row[12] for row in data_EgVolume2] \n",
    "vol3 = [row[12] for row in data_EgVolume3] \n",
    "vol4 = [row[12] for row in data_EgVolume4] \n",
    "vol5 = [row[12] for row in data_EgVolume5] \n",
    "vol6 = [row[12] for row in data_EgVolume6] \n",
    "vol7 = [row[12] for row in data_EgVolume7] \n",
    "vol8 = [row[12] for row in data_EgVolume8]\n",
    "vol9 = [row[12] for row in data_EgVolume9]\n",
    "#Eg1 = [row[8] for row in data_EgVolume1]\n",
    "Eg2 = [row[8] for row in data_EgVolume2]\n",
    "Eg3 = [row[8] for row in data_EgVolume3]\n",
    "Eg4 = [row[8] for row in data_EgVolume4]\n",
    "Eg5 = [row[8] for row in data_EgVolume5]\n",
    "Eg6 = [row[8] for row in data_EgVolume6]\n",
    "Eg7 = [row[8] for row in data_EgVolume7]\n",
    "Eg8 = [row[8] for row in data_EgVolume8]\n",
    "Eg9 = [row[8] for row in data_EgVolume9]\n",
    "\n",
    "\n",
    "nbins = 300\n",
    "\n",
    "# stresses\n",
    "#sxx1 = [row[0] for row in data_SigmaVolume1] \n",
    "#syy1 = [row[1] for row in data_SigmaVolume1]\n",
    "#szz1 = [row[2] for row in data_SigmaVolume1]\n",
    "\n",
    "#Hxx1, xedgesxx1, yedgesxx1 = np.histogram2d(sxx1[1:len(sxx1)],vol1[1:len(vol1)],bins=nbins)\n",
    "#Hyy1, xedgesyy1, yedgesyy1 = np.histogram2d(syy1[1:len(szz1)],vol1[1:len(vol1)],bins=nbins)\n",
    "#Hzz1, xedgeszz1, yedgeszz1 = np.histogram2d(szz1[1:len(szz1)],vol1[1:len(vol1)],bins=nbins)\n",
    "\n",
    "#Hbg1, xedgesbg1, yedgesbg1 = np.histogram2d(Eg1[1:len(Eg1)],vol1[1:len(vol1)],bins=nbins)\n",
    "Hbg2, xedgesbg2, yedgesbg2 = np.histogram2d(Eg2[1:len(Eg2)],vol2[1:len(vol2)],bins=nbins)\n",
    "Hbg3, xedgesbg3, yedgesbg3 = np.histogram2d(Eg3[1:len(Eg3)],vol3[1:len(vol3)],bins=nbins)\n",
    "Hbg4, xedgesbg4, yedgesbg4 = np.histogram2d(Eg4[1:len(Eg4)],vol4[1:len(vol4)],bins=nbins)\n",
    "Hbg5, xedgesbg5, yedgesbg5 = np.histogram2d(Eg5[1:len(Eg5)],vol5[1:len(vol5)],bins=nbins)\n",
    "Hbg6, xedgesbg6, yedgesbg6 = np.histogram2d(Eg6[1:len(Eg6)],vol6[1:len(vol6)],bins=nbins)\n",
    "Hbg7, xedgesbg7, yedgesbg7 = np.histogram2d(Eg7[1:len(Eg7)],vol7[1:len(vol7)],bins=nbins)\n",
    "Hbg8, xedgesbg8, yedgesbg8 = np.histogram2d(Eg8[1:len(Eg8)],vol8[1:len(vol8)],bins=nbins)\n",
    "Hbg9, xedgesbg9, yedgesbg9 = np.histogram2d(Eg9[1:len(Eg9)],vol9[1:len(vol9)],bins=nbins)\n",
    "\n",
    "#Hbg1 = np.rot90(Hbg1)\n",
    "#Hbg1 = np.flipud(Hbg1)\n",
    "Hbg2 = np.rot90(Hbg2)\n",
    "Hbg2 = np.flipud(Hbg2)\n",
    "Hbg3 = np.rot90(Hbg3)\n",
    "Hbg3 = np.flipud(Hbg3)\n",
    "Hbg4 = np.rot90(Hbg4)\n",
    "Hbg4 = np.flipud(Hbg4)\n",
    "Hbg5 = np.rot90(Hbg5)\n",
    "Hbg5 = np.flipud(Hbg5)\n",
    "Hbg6 = np.rot90(Hbg6)\n",
    "Hbg6 = np.flipud(Hbg6)\n",
    "Hbg7 = np.rot90(Hbg7)\n",
    "Hbg7 = np.flipud(Hbg7)\n",
    "Hbg8 = np.rot90(Hbg8)\n",
    "Hbg8 = np.flipud(Hbg8)\n",
    "Hbg9 = np.rot90(Hbg9)\n",
    "Hbg9 = np.flipud(Hbg9)\n",
    "\n",
    "\n",
    "#yedgesbg_up1 = yedgesbg1[0:len(yedgesbg1)-1]+(yedgesbg1[1:len(yedgesbg1)]-yedgesbg1[0:len(yedgesbg1)-1])/2\n",
    "yedgesbg_up2 = yedgesbg2[0:len(yedgesbg2)-1]+(yedgesbg2[1:len(yedgesbg2)]-yedgesbg2[0:len(yedgesbg2)-1])/2\n",
    "yedgesbg_up3 = yedgesbg3[0:len(yedgesbg3)-1]+(yedgesbg3[1:len(yedgesbg3)]-yedgesbg3[0:len(yedgesbg3)-1])/2\n",
    "yedgesbg_up4 = yedgesbg4[0:len(yedgesbg4)-1]+(yedgesbg4[1:len(yedgesbg4)]-yedgesbg4[0:len(yedgesbg4)-1])/2\n",
    "yedgesbg_up5 = yedgesbg5[0:len(yedgesbg5)-1]+(yedgesbg5[1:len(yedgesbg5)]-yedgesbg5[0:len(yedgesbg5)-1])/2\n",
    "yedgesbg_up6 = yedgesbg6[0:len(yedgesbg6)-1]+(yedgesbg6[1:len(yedgesbg6)]-yedgesbg6[0:len(yedgesbg6)-1])/2\n",
    "yedgesbg_up7 = yedgesbg7[0:len(yedgesbg7)-1]+(yedgesbg7[1:len(yedgesbg7)]-yedgesbg7[0:len(yedgesbg7)-1])/2\n",
    "yedgesbg_up8 = yedgesbg8[0:len(yedgesbg8)-1]+(yedgesbg8[1:len(yedgesbg8)]-yedgesbg8[0:len(yedgesbg8)-1])/2\n",
    "yedgesbg_up9 = yedgesbg9[0:len(yedgesbg9)-1]+(yedgesbg9[1:len(yedgesbg9)]-yedgesbg9[0:len(yedgesbg9)-1])/2\n",
    "\n",
    "#here we are summing V[j]=Table[Hbg[k,j]v[k],{k,all}]\n",
    "#vbg1j = np.einsum('ij,i',Hbg1,yedgesbg_up1)\n",
    "vbg2j = np.einsum('ij,i',Hbg2,yedgesbg_up2)\n",
    "vbg3j = np.einsum('ij,i',Hbg3,yedgesbg_up3)\n",
    "vbg4j = np.einsum('ij,i',Hbg4,yedgesbg_up4)\n",
    "vbg5j = np.einsum('ij,i',Hbg5,yedgesbg_up5)\n",
    "vbg6j = np.einsum('ij,i',Hbg6,yedgesbg_up6)\n",
    "vbg7j = np.einsum('ij,i',Hbg7,yedgesbg_up7)\n",
    "vbg8j = np.einsum('ij,i',Hbg8,yedgesbg_up8)\n",
    "vbg9j = np.einsum('ij,i',Hbg9,yedgesbg_up9)\n",
    "\n",
    "#Vbg1j = vbg1j/sum(vbg1j)*100\n",
    "Vbg2j = vbg2j/sum(vbg2j)*100\n",
    "Vbg3j = vbg3j/sum(vbg3j)*100\n",
    "Vbg4j = vbg4j/sum(vbg4j)*100\n",
    "Vbg5j = vbg5j/sum(vbg5j)*100\n",
    "Vbg6j = vbg6j/sum(vbg6j)*100\n",
    "Vbg7j = vbg7j/sum(vbg7j)*100\n",
    "Vbg8j = vbg8j/sum(vbg8j)*100\n",
    "Vbg9j = vbg9j/sum(vbg9j)*100\n",
    "\n",
    "#x_bg1 = xedgesbg1[0:len(xedgesbg1)-1]+(xedgesbg1[1:len(xedgesbg1)]-xedgesbg1[0:len(xedgesbg1)-1])/2\n",
    "x_bg2 = xedgesbg2[0:len(xedgesbg2)-1]+(xedgesbg2[1:len(xedgesbg2)]-xedgesbg2[0:len(xedgesbg2)-1])/2\n",
    "x_bg3 = xedgesbg3[0:len(xedgesbg3)-1]+(xedgesbg3[1:len(xedgesbg3)]-xedgesbg3[0:len(xedgesbg3)-1])/2\n",
    "x_bg4 = xedgesbg4[0:len(xedgesbg4)-1]+(xedgesbg4[1:len(xedgesbg4)]-xedgesbg4[0:len(xedgesbg4)-1])/2\n",
    "x_bg5 = xedgesbg5[0:len(xedgesbg5)-1]+(xedgesbg5[1:len(xedgesbg5)]-xedgesbg5[0:len(xedgesbg5)-1])/2\n",
    "x_bg6 = xedgesbg6[0:len(xedgesbg6)-1]+(xedgesbg6[1:len(xedgesbg6)]-xedgesbg6[0:len(xedgesbg6)-1])/2\n",
    "x_bg7 = xedgesbg7[0:len(xedgesbg7)-1]+(xedgesbg7[1:len(xedgesbg7)]-xedgesbg7[0:len(xedgesbg7)-1])/2\n",
    "x_bg8 = xedgesbg8[0:len(xedgesbg8)-1]+(xedgesbg8[1:len(xedgesbg8)]-xedgesbg8[0:len(xedgesbg8)-1])/2\n",
    "x_bg9 = xedgesbg9[0:len(xedgesbg9)-1]+(xedgesbg9[1:len(xedgesbg9)]-xedgesbg9[0:len(xedgesbg9)-1])/2"
   ]
  },
  {
   "cell_type": "code",
   "execution_count": 5,
   "metadata": {
    "collapsed": true
   },
   "outputs": [],
   "source": [
    "#plt.plot(x_bg2,Vbg2j,'r',linewidth=1.8, label = 'xstl000')\n",
    "#plt.plot(x_bg3,Vbg3j,'b',linewidth=1.8, label = 'xstl111')\n",
    "#plt.plot(x_bg4,Vbg4j,'r',linewidth=1.8, label = 'grain_rad')\n",
    "#plt.plot(x_bg5,Vbg5j,'b',linewidth=1.8, label = 'grain_rand')\n",
    "plt.plot(x_bg6,Vbg6j,'r',linewidth=1.8, label = 'xstl000')\n",
    "plt.plot(x_bg7,Vbg7j,'g',linewidth=1.8, label = 'xstl111')\n",
    "plt.plot(x_bg8,Vbg8j,'b',linewidth=1.8, label = 'grain_rad')\n",
    "plt.plot(x_bg9,Vbg9j,'k.',linewidth=1.8, label = 'grain_rand')\n",
    "plt.legend(labelspacing = 0.6,loc=1)\n",
    "plt.xlim([3.10,3.20])\n",
    "plt.xlabel('$E_g$ [$\\mathrm{eV}$]')\n",
    "plt.ylabel('Shell volume fraction [$\\%$]')\n",
    "plt.title('Faceted 15 nm diameter core 5 nm shell thickness')\n",
    "plt.savefig(\"/home/john/projects/calculations/bandgap_comp1.pdf\")\n",
    "plt.show()"
   ]
  },
  {
   "cell_type": "code",
   "execution_count": 6,
   "metadata": {
    "collapsed": true
   },
   "outputs": [],
   "source": [
    "plt.subplot(1, 2, 1)\n",
    "plt.plot(x_bg2,Vbg2j,'r',linewidth=1.8, label = 'xstl000')\n",
    "plt.plot(x_bg3,Vbg3j,'b',linewidth=1.8, label = 'xstl111')\n",
    "plt.plot(x_bg4,Vbg4j,'g',linewidth=1.8, label = 'grain_rad')\n",
    "plt.plot(x_bg5,Vbg5j,'k.',linewidth=1.8, label = 'grain_rand')\n",
    "plt.legend(labelspacing = 0.6,loc=1)\n",
    "plt.xlim([3.12,3.18])\n",
    "plt.xlabel('$E_g$ [$\\mathrm{eV}$]',fontsize= 16)\n",
    "plt.ylabel('Shell volume fraction [$\\%$]',fontsize= 16)\n",
    "plt.title('spherical 15 nm diameter core 5 nm shell thickness')\n",
    "plt.subplot(1, 2, 2)\n",
    "plt.plot(x_bg6,Vbg6j,'r',linewidth=1.8, label = 'xstl000')\n",
    "plt.plot(x_bg7,Vbg7j,'g',linewidth=1.8, label = 'xstl111')\n",
    "plt.plot(x_bg8,Vbg8j,'b',linewidth=1.8, label = 'grain_rad')\n",
    "plt.plot(x_bg9,Vbg9j,'k.',linewidth=1.8, label = 'grain_rand')\n",
    "plt.legend(labelspacing = 0.6,loc=1)\n",
    "plt.xlim([3.12,3.18])\n",
    "plt.xlabel('$E_g$ [$\\mathrm{eV}$]',fontsize= 16)\n",
    "plt.ylabel('Shell volume fraction [$\\%$]',fontsize= 16)\n",
    "plt.title('faceted core')\n",
    "\n",
    "plt.savefig(\"/home/john/projects/calculations/bandgap_comp2.pdf\")\n",
    "plt.show()"
   ]
  },
  {
   "cell_type": "code",
   "execution_count": null,
   "metadata": {
    "collapsed": true
   },
   "outputs": [],
   "source": []
  }
 ],
 "metadata": {
  "kernelspec": {
   "display_name": "Python 2",
   "language": "python",
   "name": "python2"
  },
  "language_info": {
   "codemirror_mode": {
    "name": "ipython",
    "version": 2
   },
   "file_extension": ".py",
   "mimetype": "text/x-python",
   "name": "python",
   "nbconvert_exporter": "python",
   "pygments_lexer": "ipython2",
   "version": "2.7.11"
  }
 },
 "nbformat": 4,
 "nbformat_minor": 0
}
