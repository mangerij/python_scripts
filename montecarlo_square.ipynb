{
 "metadata": {
  "name": "montecarlo_square"
 }, 
 "nbformat": 2, 
 "worksheets": [
  {
   "cells": [
    {
     "cell_type": "code", 
     "collapsed": true, 
     "input": [
      "import numpy as np", 
      "import matplotlib.pyplot as plt", 
      "import pylab", 
      "from matplotlib import rc", 
      "import time", 
      "end = 3000", 
      "x = {}", 
      "y = {}", 
      "a = np.zeros(end+1)", 
      "", 
      "t0 = time.time()", 
      "for TotalParticles in range(1,end,1):", 
      "    p = np.zeros((TotalParticles,2))", 
      "    for k in range(0,TotalParticles):", 
      "        x[k] = np.random.uniform(0,1)", 
      "        y[k] = np.random.uniform(0,1)", 
      "    ", 
      "    for j in range(0,TotalParticles):", 
      "        if np.power(x[j],2)+np.power(y[j],2) <= 1:", 
      "            p[j] = [x[j],y[j]]", 
      "            Ny = TotalParticles -len(np.where(p[:,1]==0)[0])", 
      "            a[TotalParticles] = 4.*Ny/TotalParticles", 
      "t1 = time.time()", 
      "", 
      "np.average(a)", 
      "", 
      "total = t1-t0", 
      "", 
      "", 
      "plt.plot(a,'b.')", 
      "plt.xlabel('N',fontsize=16)", 
      "plt.ylabel('$\\pi$',fontsize=16)", 
      "plt.show()"
     ], 
     "language": "python", 
     "outputs": [], 
     "prompt_number": "*"
    }, 
    {
     "cell_type": "code", 
     "collapsed": true, 
     "input": [], 
     "language": "python", 
     "outputs": []
    }
   ]
  }
 ]
}