{
 "metadata": {
  "name": "vary_stv_ZnO_iso"
 }, 
 "nbformat": 2, 
 "worksheets": [
  {
   "cells": [
    {
     "cell_type": "markdown", 
     "source": [
      "First generate the mesh files. Here we use the ipython script vary stv mesh cubit input"
     ]
    }, 
    {
     "cell_type": "code", 
     "collapsed": true, 
     "input": [
      "# note that we ran CUBIT vary stv ratios to generate 121 exodus files", 
      "", 
      "#vary surface-to-volume ratio and plot stress fields (look for differences)", 
      "####oct 14 stopped at 27", 
      "import os", 
      "import subprocess", 
      "import numpy as np", 
      "", 
      "os.chdir('/home/john/projects/ferret/')", 
      "number_of_mesh_files = 121", 
      "# here we are testing our nodeset 1 node 1 definition in our new core_shell recipe", 
      "", 
      "for t in range(27,number_of_mesh_files):", 
      "    # Define the base file we will be iteratively modifiying #", 
      "    infile = open('/home/john/projects/ferret/vary_stv_ZnO_iso.i')", 
      "    # Open the out file we will be writing at each step in the iteration #", 
      "    outfile = open('/home/john/projects/ferret/newvary_stv-'+repr(t)+'.i', 'w')", 
      "    #", 
      "    # Note that we are using -'+repr(t)+'.i' in order to for loop the path name. This is used again in the next line.", 
      "    #", 
      "    # Probably will want to uncomment our uniform refine for our first few iterations", 
      "    # this code will most likely go like such", 
      "    #if t < 5", 
      "    #    replacements2 = {'#uniform_refine = 1':'uniform_refine = 1'}", 
      "    #    for src, target in replacements2.iteritems() ", 
      "", 
      "    replacements = {'file = core_shell_exodus.e':'file = core_shell_exodus-'+repr(t)+'.e','file_base = out_hydroBC-Surf_core_iso_shell-bg':'file_base = out_hydroBC-Surf_core_iso_shell-bg-'+repr(t)}", 
      "    for line in infile:", 
      "        for src, target in replacements.iteritems():", 
      "            line = line.replace(src, target)", 
      "        outfile.write(line)", 
      "    infile.close()", 
      "    outfile.close()"
     ], 
     "language": "python", 
     "outputs": []
    }, 
    {
     "cell_type": "code", 
     "collapsed": true, 
     "input": [
      "import os", 
      "import subprocess", 
      "import numpy as np", 
      "os.chdir('/home/john/projects/ferret/')", 
      "for k in range(90,121):    ", 
      "    subprocess.call('mpiexec -n 8 ./ferret-opt -i newvary_stv-'+ repr(k)+'.i',shell=True)", 
      "#note that mpiexec -n 8 intializes 8 processors for computing. Outputs show up in terminal."
     ], 
     "language": "python", 
     "outputs": []
    }, 
    {
     "cell_type": "code", 
     "collapsed": true, 
     "input": [
      "import os", 
      "import subprocess", 
      "", 
      "os.chdir('/home/john/projects/ParaView-bin/bin/')", 
      "subprocess.call('pvpython /home/john/projects/calculations/core_shell/final_plots/vary_stv_ZnO_iso/scripts-and-out-files/MeshData.py',shell=True)", 
      "os.chdir('/home/john/projects/calculations/core_shell/final_plots/vary_stv_ZnO_iso/')", 
      "for k in range(0,121):", 
      "    for t in range(1,8):", 
      "        subprocess.call('rm MeshData-'+repr(k)+'-'+repr(t)+'.csv',shell=True)"
     ], 
     "language": "python", 
     "outputs": [], 
     "prompt_number": 1
    }, 
    {
     "cell_type": "code", 
     "collapsed": true, 
     "input": [
      "#SAVE normalizedVEC as .CSV for animation:", 
      "import numpy as np", 
      "import os", 
      "import subprocess", 
      "", 
      "EgBinEdges = np.linspace(3.03,3.18,122)", 
      "", 
      "volBinEdges=np.linspace(0,1,len(EgBinEdges))", 
      "", 
      "for k in range(0,121):    ", 
      "    data_SigmaVolume = np.genfromtxt('/home/john/projects/calculations/core_shell/final_plots/vary_stv_ZnO_iso/MeshData-'+str(k)+'-0.csv',delimiter=',', dtype = float)", 
      "    Eg = [row[9] for row in data_SigmaVolume]", 
      "    vol = [row[13] for row in data_SigmaVolume] ", 
      "    ", 
      "    Hbg, xEdges, yEdges = np.histogram2d(Eg[1:len(Eg)],vol[1:len(vol)], bins = (EgBinEdges, volBinEdges))", 
      "    Hbg = np.rot90(Hbg)", 
      "    Hbg = np.flipud(Hbg)", 
      "    ", 
      "    yedgesbg_up = yEdges[0:len(yEdges)-1]+(yEdges[1:len(yEdges)]-yEdges[0:len(yEdges)-1])/2 ", 
      "    vEgj = np.einsum('ij,i',Hbg,yedgesbg_up)", 
      "    VEgj = vEgj/sum(vEgj)*100", 
      "    x_bg = xEdges[0:len(xEdges)-1]+(xEdges[1:len(xEdges)]-xEdges[0:len(xEdges)-1])/2", 
      "    ", 
      "    np.savetxt(\"/home/john/projects/calculations/core_shell/final_plots/vary_stv_ZnO_iso/data_for_animation_test-\"+str(k)+\".csv\",[x_bg,VEgj],delimiter=\",\") "
     ], 
     "language": "python", 
     "outputs": [], 
     "prompt_number": 34
    }, 
    {
     "cell_type": "code", 
     "collapsed": true, 
     "input": [
      "import numpy as np", 
      "from mpl_toolkits.mplot3d import Axes3D", 
      "import matplotlib.pyplot as plt", 
      "from matplotlib import rc", 
      "import itertools", 
      "from matplotlib import cm", 
      "", 
      "rad2_vec = np.around(np.linspace(4,25,121),decimals=2);", 
      "rad1_vec = np.around(np.linspace(2.4,15,121),decimals=2)", 
      "", 
      "diam_vec = np.zeros((121,1))", 
      "stv_vec = np.zeros((121,1))", 
      "EgBinEdges = np.linspace(3.03,3.18,121) #need to fix this", 
      "VEgj_vec = np.zeros((121,121))", 
      "", 
      "#Technically we don't have data for 399 of the rad2_vec, but we can extrapolate it with this method.. I think.", 
      "", 
      "#stv = 3/r:", 
      "#original stv differs from new stv due to relaxation of the surface", 
      "", 
      "for j in range(0,121):", 
      "    stv_vec[j] = np.around((3 / rad2_vec[j] ),decimals=3)", 
      "    diam_vec[j] = 2*rad2_vec[j]", 
      "", 
      "    ", 
      "for k in range(0,121):", 
      "    data_vec = np.genfromtxt(\"/home/john/projects/calculations/core_shell/final_plots/vary_stv_ZnO_iso/data_for_animation_test-\"+str(k)+\".csv\",delimiter=',',dtype = float)", 
      "    VEgj_vec[k,:] = data_vec[1,:]", 
      "", 
      "    ", 
      "fig = plt.figure()", 
      "#ax = fig.add_subplot(111, projection='3d')", 
      "", 
      "x = EgBinEdges", 
      "y = diam_vec", 
      "", 
      "plt.pcolormesh(x,y,VEgj_vec)", 
      "", 
      "plt.xlabel('$\\delta E_g\\,\\, [\\mathrm{eV}]$',fontsize=20)", 
      "plt.ylabel('$D\\,\\, [\\mathrm{nm}]$',fontsize=20)", 
      "", 
      "#%xdel cbar1", 
      "cbar1 = plt.colorbar()", 
      "cbar1.ax.set_ylabel('$\\mathrm{Shell}\\,\\, \\mathrm{volume}\\,\\, [\\%]$',fontsize=20)", 
      "tick_vals = np.linspace(3.03,3.18,4)", 
      "tick_labels = [tick_vals[i] for i in range(len(tick_vals))]", 
      "tick_labels[0] = '-0.17'", 
      "tick_labels[1] = '-0.12'", 
      "tick_labels[2] = '-0.07'", 
      "tick_labels[3] = '-0.02'", 
      "plt.xticks(tick_vals, tick_labels)", 
      "tick_vals = np.linspace(0,50,6)", 
      "tick_labels = [tick_vals[i] for i in range(len(tick_vals))]", 
      "tick_labels[0] = ''", 
      "tick_labels[1] = '10'", 
      "tick_labels[2] = '20'", 
      "tick_labels[3] = '30'", 
      "tick_labels[4] = '40'", 
      "tick_labels[5] = '50'", 
      "plt.yticks(tick_vals, tick_labels)", 
      "plt.tick_params(axis='both', which='major', labelsize=18)", 
      "plt.axis([x.min(),x.max(),y.min(),y.max()])", 
      "#plt.title('$E_g$ dependence on D for ZnO shell')", 
      "plt.savefig(\"/home/john/projects/Eg_D_ZnO_iso.eps\",format='eps',dpi=600)", 
      "", 
      "plt.show()"
     ], 
     "language": "python", 
     "outputs": [], 
     "prompt_number": 7
    }, 
    {
     "cell_type": "code", 
     "collapsed": false, 
     "input": [
      "np.linspace(3.03,3.18,4)"
     ], 
     "language": "python", 
     "outputs": [
      {
       "output_type": "pyout", 
       "prompt_number": 2, 
       "text": [
        "array([ 3.03,  3.08,  3.13,  3.18])"
       ]
      }
     ], 
     "prompt_number": 2
    }, 
    {
     "cell_type": "code", 
     "collapsed": true, 
     "input": [], 
     "language": "python", 
     "outputs": [], 
     "prompt_number": 1
    }, 
    {
     "cell_type": "code", 
     "collapsed": true, 
     "input": [], 
     "language": "python", 
     "outputs": []
    }
   ]
  }
 ]
}