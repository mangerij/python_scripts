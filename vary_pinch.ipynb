{
 "metadata": {
  "name": "vary_pinch"
 }, 
 "nbformat": 2, 
 "worksheets": [
  {
   "cells": [
    {
     "cell_type": "code", 
     "collapsed": true, 
     "input": [
      "import os", 
      "import subprocess", 
      "import numpy as np", 
      "", 
      "os.chdir('/home/john/projects/ferret/')", 
      "pinch_top_vec = np.linspace(-0.0005,-0.05,121)  ", 
      "pinch_bot_vec = np.linspace(0.0005,0.05,121)  ", 
      "", 
      "for t in range(0,121):", 
      "    # Define the base file we will be iteratively modifiying #", 
      "    infile = open('/home/john/projects/ferret/vary_pinch.i')", 
      "    # Open the out file we will be writing at each step in the iteration #", 
      "    outfile = open('/home/john/projects/ferret/newvary_pinch-'+repr(t)+'.i', 'w')", 
      "    # Note that we are using -'+repr(t)+'.i' in order to for loop the path name. This is used again in the next line.", 
      "    replacements = {'value = default_disp_top':'value = %s' % pinch_top_vec[t],'value = default_disp_bot':'value = %s' % pinch_bot_vec[t],'file_base = out_hydroBC-Surf_core_iso_shell-bg':'file_base = out_hydroBC-Surf_core_iso_shell-bg-'+repr(t)}", 
      "    for line in infile:", 
      "        for src, target in replacements.iteritems():", 
      "            line = line.replace(src, target)", 
      "        outfile.write(line)", 
      "    infile.close()", 
      "    outfile.close()"
     ], 
     "language": "python", 
     "outputs": [], 
     "prompt_number": 4
    }, 
    {
     "cell_type": "code", 
     "collapsed": true, 
     "input": [
      "for t in range(0,121):", 
      "    subprocess.call('mpiexec -n 8 ./ferret-opt -i newvary_pinch-'+ repr(t)+'.i',shell=True)", 
      "    #note that mpiexec -n 8 intializes 8 processors for computing. Outputs show up in terminal."
     ], 
     "language": "python", 
     "outputs": [], 
     "prompt_number": 5
    }, 
    {
     "cell_type": "code", 
     "collapsed": true, 
     "input": [
      "import os", 
      "import subprocess", 
      "", 
      "os.chdir('/home/john/projects/ParaView-bin/bin/')", 
      "subprocess.call('pvpython /home/john/projects/scripts/CELLSMeshData.py',shell=True)", 
      "os.chdir('/home/john/projects/ferret/')", 
      "for k in range(0,121):", 
      "    for t in range(1,8):", 
      "        subprocess.call('rm MeshData-'+repr(k)+'-'+repr(t)+'.csv',shell=True)", 
      "", 
      "# Need to gather MeshData(including Volumes of the elements in order to normalize properly)", 
      "# Have to remove excess files since ParaView is going to output more than one .csv but these ones are empty."
     ], 
     "language": "python", 
     "outputs": [], 
     "prompt_number": 6
    }, 
    {
     "cell_type": "code", 
     "collapsed": false, 
     "input": [
      "#SAVE normalizedVEC as .CSV for animation:", 
      "import numpy as np", 
      "for k in range(0,121):    ", 
      "    data_SigmaVolume = np.genfromtxt('/home/john/projects/calculations/core_shell/vary_pinch/MeshData-'+str(k)+'-0.csv',delimiter=',', dtype = float)", 
      "    Eg = [row[8] for row in data_SigmaVolume]", 
      "    vol = [row[14] for row in data_SigmaVolume] ", 
      "    ", 
      "    nbins = 400", 
      "", 
      "        # stresses", 
      "    sxx = [row[0] for row in data_SigmaVolume] #generate vectors of data  can forloop this for all columns of data", 
      "    syy = [row[1] for row in data_SigmaVolume]", 
      "    szz = [row[2] for row in data_SigmaVolume]", 
      "    # strains", 
      "    exx = [row[3] for row in data_SigmaVolume]", 
      "    eyy = [row[4] for row in data_SigmaVolume]", 
      "    ezz = [row[5] for row in data_SigmaVolume]", 
      "    # volume", 
      "    Hxx, xedgesxx, yedgesxx = np.histogram2d(sxx[1:len(sxx)],vol[1:len(vol)],bins=nbins)", 
      "    Hyy, xedgesyy, yedgesyy = np.histogram2d(syy[1:len(szz)],vol[1:len(vol)],bins=nbins)", 
      "    Hzz, xedgeszz, yedgeszz = np.histogram2d(szz[1:len(szz)],vol[1:len(vol)],bins=nbins)", 
      "    Hbg, xedgesbg, yedgesbg = np.histogram2d(Eg[1:len(Eg)],vol[1:len(vol)],bins=nbins)", 
      "", 
      "    Hxx = np.rot90(Hxx)", 
      "    Hxx = np.flipud(Hxx)", 
      "    Hyy = np.rot90(Hyy)", 
      "    Hyy = np.flipud(Hyy)", 
      "    Hzz = np.rot90(Hzz)", 
      "    Hzz = np.flipud(Hzz)", 
      "    Hbg = np.rot90(Hbg)", 
      "    Hbg = np.flipud(Hbg)", 
      "", 
      "    yedgesxx_up = yedgesxx[0:len(yedgesxx)-1]+(yedgesxx[1:len(yedgesxx)]-yedgesxx[0:len(yedgesxx)-1])/2", 
      "    yedgesyy_up = yedgesyy[0:len(yedgesyy)-1]+(yedgesyy[1:len(yedgesyy)]-yedgesyy[0:len(yedgesyy)-1])/2", 
      "    yedgeszz_up = yedgeszz[0:len(yedgeszz)-1]+(yedgeszz[1:len(yedgeszz)]-yedgeszz[0:len(yedgeszz)-1])/2", 
      "    yedgesbg_up = yedgesbg[0:len(yedgesbg)-1]+(yedgesbg[1:len(yedgesbg)]-yedgesbg[0:len(yedgesbg)-1])/2", 
      "    ", 
      "#here we are summing V[j]=Table[Hxx[k,j]v[k],{k,all}]", 
      "    vxxj = np.einsum('ij,i',Hxx,yedgesxx_up)", 
      "    vyyj = np.einsum('ij,i',Hyy,yedgesyy_up)", 
      "    vzzj = np.einsum('ij,i',Hzz,yedgeszz_up)", 
      "    vEgj = np.einsum('ij,i',Hbg,yedgesbg_up)", 
      "#note we have to assume the value is in between the bin edges", 
      "", 
      "    Vxxj = vxxj/sum(vxxj)*100", 
      "    Vyyj = vyyj/sum(vyyj)*100", 
      "    Vzzj = vzzj/sum(vzzj)*100", 
      "    VEgj = vEgj/sum(vEgj)*100", 
      "", 
      "    x_xx = xedgesxx[0:len(xedgesxx)-1]+(xedgesxx[1:len(xedgesxx)]-xedgesxx[0:len(xedgesxx)-1])/2", 
      "    x_yy = xedgesyy[0:len(xedgesyy)-1]+(xedgesyy[1:len(xedgesyy)]-xedgesyy[0:len(xedgesyy)-1])/2", 
      "    x_zz = xedgeszz[0:len(xedgeszz)-1]+(xedgeszz[1:len(xedgeszz)]-xedgeszz[0:len(xedgeszz)-1])/2", 
      "    x_bg = xedgesbg[0:len(xedgesbg)-1]+(xedgesbg[1:len(xedgesbg)]-xedgesbg[0:len(xedgesbg)-1])/2", 
      "    ", 
      "    np.savetxt(\"/home/john/projects/calculations/core_shell/vary_pinch/data_for_animation-\"+str(k)+\".csv\",[x_bg,x_xx,x_yy,x_zz,VEgj,Vxxj,Vyyj,Vzzj],delimiter=\",\")    "
     ], 
     "language": "python", 
     "outputs": [], 
     "prompt_number": 8
    }, 
    {
     "cell_type": "code", 
     "collapsed": false, 
     "input": [
      "sum(vEgj)", 
      "#this seems that the volume is approximately the same for a pinch, but it needs to change with k"
     ], 
     "language": "python", 
     "outputs": [
      {
       "output_type": "pyout", 
       "prompt_number": 4, 
       "text": [
        "6262.5414479600004"
       ]
      }
     ], 
     "prompt_number": 4
    }, 
    {
     "cell_type": "code", 
     "collapsed": false, 
     "input": [
      "sum(VEgj),sum(Vxxj),sum(Vyyj),sum(Vzzj)"
     ], 
     "language": "python", 
     "outputs": [
      {
       "output_type": "pyout", 
       "prompt_number": 9, 
       "text": [
        "(99.999999999999972,", 
        " 99.999999999999986,", 
        " 99.999999999999972,", 
        " 99.999999999999986)"
       ]
      }
     ], 
     "prompt_number": 9
    }, 
    {
     "cell_type": "code", 
     "collapsed": false, 
     "input": [
      "    x_bg = (xedgesbg[1:len(xedgesbg)]-xedgesbg[0:len(xedgesbg)-1])/2"
     ], 
     "language": "python", 
     "outputs": [
      {
       "ename": "IndentationError", 
       "evalue": "unexpected indent (<ipython-input-5-f6db4cd2bca6>, line 1)", 
       "output_type": "pyerr", 
       "traceback": [
        "\u001b[0;31mIndentationError\u001b[0m\u001b[0;31m:\u001b[0m unexpected indent\n"
       ]
      }
     ], 
     "prompt_number": 5
    }, 
    {
     "cell_type": "code", 
     "collapsed": true, 
     "input": [], 
     "language": "python", 
     "outputs": []
    }
   ]
  }
 ]
}