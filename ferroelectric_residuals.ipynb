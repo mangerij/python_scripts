{
 "metadata": {
  "name": "ferroelectric_residuals"
 }, 
 "nbformat": 2, 
 "worksheets": [
  {
   "cells": [
    {
     "cell_type": "code", 
     "collapsed": false, 
     "input": [
      "import os", 
      "import subprocess", 
      "import numpy as np", 
      "", 
      "subprocess.call('script /home/john/dielectricSphere/dielectric_residuals.out',shell=True)", 
      "os.chdir('/home/john/projects/ferret')", 
      "subprocess.call(\"mpiexec -n 16 ./ferret-opt -i dielectric_sphere_test_E.i\",shell=True)", 
      "subprocess.call(\"exit\",shell=True)", 
      "os.chdir('/home/john/dielectricSphere/')", 
      "subprocess.call(\"grep 'Linear |R| = ' /home/john/dielectricSphere/ferroelectric_residuals.out | tee /home/john/dielectricSphere/FE_outputfile.txt\",shell=True)"
     ], 
     "language": "python", 
     "outputs": [
      {
       "output_type": "pyout", 
       "prompt_number": 2, 
       "text": [
        "0"
       ]
      }
     ], 
     "prompt_number": 2
    }, 
    {
     "cell_type": "code", 
     "collapsed": false, 
     "input": [
      "import subprocess", 
      "import os", 
      "", 
      "os.chdir('/home/john/projects/ferret/')", 
      "with open('output.txt', 'w') as out:", 
      "    subprocess.call('mpiexec -n 8 ./ferret-opt -i dielectric_sphere_test_E.i', stdout=out,shell=True)", 
      "", 
      "subprocess.call(\"grep 'Linear |R| = ' /home/john/projects/ferret/output.txt | tee /home/john/projects/ferret/DS_outputfile_linear.txt\",shell=True)"
     ], 
     "language": "python", 
     "outputs": [
      {
       "ename": "KeyboardInterrupt", 
       "evalue": "", 
       "output_type": "pyerr", 
       "traceback": [
        "\u001b[0;31m---------------------------------------------------------------------------\u001b[0m\n\u001b[0;31mKeyboardInterrupt\u001b[0m                         Traceback (most recent call last)", 
        "\u001b[0;32m/home/john/projects/ferret/<ipython-input-2-b32d3fbc2022>\u001b[0m in \u001b[0;36m<module>\u001b[0;34m()\u001b[0m\n\u001b[1;32m      4\u001b[0m \u001b[0mos\u001b[0m\u001b[0;34m.\u001b[0m\u001b[0mchdir\u001b[0m\u001b[0;34m(\u001b[0m\u001b[0;34m'/home/john/projects/ferret/'\u001b[0m\u001b[0;34m)\u001b[0m\u001b[0;34m\u001b[0m\u001b[0m\n\u001b[1;32m      5\u001b[0m \u001b[0;32mwith\u001b[0m \u001b[0mopen\u001b[0m\u001b[0;34m(\u001b[0m\u001b[0;34m'output.txt'\u001b[0m\u001b[0;34m,\u001b[0m \u001b[0;34m'w'\u001b[0m\u001b[0;34m)\u001b[0m \u001b[0;32mas\u001b[0m \u001b[0mout\u001b[0m\u001b[0;34m:\u001b[0m\u001b[0;34m\u001b[0m\u001b[0m\n\u001b[0;32m----> 6\u001b[0;31m     \u001b[0msubprocess\u001b[0m\u001b[0;34m.\u001b[0m\u001b[0mcall\u001b[0m\u001b[0;34m(\u001b[0m\u001b[0;34m'mpiexec -n 8 ./ferret-opt -i dielectric_sphere_test_E.i'\u001b[0m\u001b[0;34m,\u001b[0m \u001b[0mstdout\u001b[0m\u001b[0;34m=\u001b[0m\u001b[0mout\u001b[0m\u001b[0;34m,\u001b[0m\u001b[0mshell\u001b[0m\u001b[0;34m=\u001b[0m\u001b[0mTrue\u001b[0m\u001b[0;34m)\u001b[0m\u001b[0;34m\u001b[0m\u001b[0m\n\u001b[0m\u001b[1;32m      7\u001b[0m \u001b[0;34m\u001b[0m\u001b[0m\n\u001b[1;32m      8\u001b[0m \u001b[0msubprocess\u001b[0m\u001b[0;34m.\u001b[0m\u001b[0mcall\u001b[0m\u001b[0;34m(\u001b[0m\u001b[0;34m\"grep 'Linear |R| = ' /home/john/projects/ferret/output.txt | tee /home/john/projects/ferret/DS_outputfile_linear.txt\"\u001b[0m\u001b[0;34m,\u001b[0m\u001b[0mshell\u001b[0m\u001b[0;34m=\u001b[0m\u001b[0mTrue\u001b[0m\u001b[0;34m)\u001b[0m\u001b[0;34m\u001b[0m\u001b[0m\n", 
        "\u001b[0;32m/usr/lib/python2.7/subprocess.pyc\u001b[0m in \u001b[0;36mcall\u001b[0;34m(*popenargs, **kwargs)\u001b[0m\n\u001b[1;32m    491\u001b[0m     \u001b[0mretcode\u001b[0m \u001b[0;34m=\u001b[0m \u001b[0mcall\u001b[0m\u001b[0;34m(\u001b[0m\u001b[0;34m[\u001b[0m\u001b[0;34m\"ls\"\u001b[0m\u001b[0;34m,\u001b[0m \u001b[0;34m\"-l\"\u001b[0m\u001b[0;34m]\u001b[0m\u001b[0;34m)\u001b[0m\u001b[0;34m\u001b[0m\u001b[0m\n\u001b[1;32m    492\u001b[0m     \"\"\"\n\u001b[0;32m--> 493\u001b[0;31m     \u001b[0;32mreturn\u001b[0m \u001b[0mPopen\u001b[0m\u001b[0;34m(\u001b[0m\u001b[0;34m*\u001b[0m\u001b[0mpopenargs\u001b[0m\u001b[0;34m,\u001b[0m \u001b[0;34m**\u001b[0m\u001b[0mkwargs\u001b[0m\u001b[0;34m)\u001b[0m\u001b[0;34m.\u001b[0m\u001b[0mwait\u001b[0m\u001b[0;34m(\u001b[0m\u001b[0;34m)\u001b[0m\u001b[0;34m\u001b[0m\u001b[0m\n\u001b[0m\u001b[1;32m    494\u001b[0m \u001b[0;34m\u001b[0m\u001b[0m\n\u001b[1;32m    495\u001b[0m \u001b[0;34m\u001b[0m\u001b[0m\n", 
        "\u001b[0;32m/usr/lib/python2.7/subprocess.pyc\u001b[0m in \u001b[0;36mwait\u001b[0;34m(self)\u001b[0m\n\u001b[1;32m   1289\u001b[0m             \u001b[0;32mif\u001b[0m \u001b[0mself\u001b[0m\u001b[0;34m.\u001b[0m\u001b[0mreturncode\u001b[0m \u001b[0;32mis\u001b[0m \u001b[0mNone\u001b[0m\u001b[0;34m:\u001b[0m\u001b[0;34m\u001b[0m\u001b[0m\n\u001b[1;32m   1290\u001b[0m                 \u001b[0;32mtry\u001b[0m\u001b[0;34m:\u001b[0m\u001b[0;34m\u001b[0m\u001b[0m\n\u001b[0;32m-> 1291\u001b[0;31m                     \u001b[0mpid\u001b[0m\u001b[0;34m,\u001b[0m \u001b[0msts\u001b[0m \u001b[0;34m=\u001b[0m \u001b[0m_eintr_retry_call\u001b[0m\u001b[0;34m(\u001b[0m\u001b[0mos\u001b[0m\u001b[0;34m.\u001b[0m\u001b[0mwaitpid\u001b[0m\u001b[0;34m,\u001b[0m \u001b[0mself\u001b[0m\u001b[0;34m.\u001b[0m\u001b[0mpid\u001b[0m\u001b[0;34m,\u001b[0m \u001b[0;36m0\u001b[0m\u001b[0;34m)\u001b[0m\u001b[0;34m\u001b[0m\u001b[0m\n\u001b[0m\u001b[1;32m   1292\u001b[0m                 \u001b[0;32mexcept\u001b[0m \u001b[0mOSError\u001b[0m \u001b[0;32mas\u001b[0m \u001b[0me\u001b[0m\u001b[0;34m:\u001b[0m\u001b[0;34m\u001b[0m\u001b[0m\n\u001b[1;32m   1293\u001b[0m                     \u001b[0;32mif\u001b[0m \u001b[0me\u001b[0m\u001b[0;34m.\u001b[0m\u001b[0merrno\u001b[0m \u001b[0;34m!=\u001b[0m \u001b[0merrno\u001b[0m\u001b[0;34m.\u001b[0m\u001b[0mECHILD\u001b[0m\u001b[0;34m:\u001b[0m\u001b[0;34m\u001b[0m\u001b[0m\n", 
        "\u001b[0;32m/usr/lib/python2.7/subprocess.pyc\u001b[0m in \u001b[0;36m_eintr_retry_call\u001b[0;34m(func, *args)\u001b[0m\n\u001b[1;32m    476\u001b[0m     \u001b[0;32mwhile\u001b[0m \u001b[0mTrue\u001b[0m\u001b[0;34m:\u001b[0m\u001b[0;34m\u001b[0m\u001b[0m\n\u001b[1;32m    477\u001b[0m         \u001b[0;32mtry\u001b[0m\u001b[0;34m:\u001b[0m\u001b[0;34m\u001b[0m\u001b[0m\n\u001b[0;32m--> 478\u001b[0;31m             \u001b[0;32mreturn\u001b[0m \u001b[0mfunc\u001b[0m\u001b[0;34m(\u001b[0m\u001b[0;34m*\u001b[0m\u001b[0margs\u001b[0m\u001b[0;34m)\u001b[0m\u001b[0;34m\u001b[0m\u001b[0m\n\u001b[0m\u001b[1;32m    479\u001b[0m         \u001b[0;32mexcept\u001b[0m \u001b[0;34m(\u001b[0m\u001b[0mOSError\u001b[0m\u001b[0;34m,\u001b[0m \u001b[0mIOError\u001b[0m\u001b[0;34m)\u001b[0m \u001b[0;32mas\u001b[0m \u001b[0me\u001b[0m\u001b[0;34m:\u001b[0m\u001b[0;34m\u001b[0m\u001b[0m\n\u001b[1;32m    480\u001b[0m             \u001b[0;32mif\u001b[0m \u001b[0me\u001b[0m\u001b[0;34m.\u001b[0m\u001b[0merrno\u001b[0m \u001b[0;34m==\u001b[0m \u001b[0merrno\u001b[0m\u001b[0;34m.\u001b[0m\u001b[0mEINTR\u001b[0m\u001b[0;34m:\u001b[0m\u001b[0;34m\u001b[0m\u001b[0m\n", 
        "\u001b[0;31mKeyboardInterrupt\u001b[0m: "
       ]
      }
     ], 
     "prompt_number": 2
    }, 
    {
     "cell_type": "code", 
     "collapsed": true, 
     "input": [
      "import numpy as np", 
      "import matplotlib.pyplot as plt", 
      "import pylab", 
      "from matplotlib import rc", 
      "import itertools", 
      "#sed the 0 Nonlinear to get the residual after each timestep", 
      "os.chdir('/home/john/projects/ferret/')", 
      "with open('output.txt', 'w') as out:", 
      "    subprocess.call('mpiexec -n 8 ./ferret-opt -i dielectric_sphere_test_E.i', stdout=out,shell=True)", 
      "", 
      "subprocess.call(\"grep 'Linear |R| = ' /home/john/projects/ferret/output.txt | tee /home/john/projects/ferret/DS_outputfile_linear.txt\",shell=True)", 
      "subprocess.call(\"grep 'Nonlinear |R| = ' /home/john/projects/ferret/output.txt | tee /home/john/projects/ferret/DS_outputfile_nonlinear.txt\",shell=True)", 
      "#Linear:", 
      "os.chdir('/home/john/projects/ferret/')", 
      "infile = open('/home/john/projects/ferret/DS_outputfile_linear.txt')", 
      "outfile = open('/home/john/projects/ferret/newoutputfile_linear.csv', 'w')", 
      "# Note that we are using -'+repr(t)+'.i' in order to for loop the path name. This is used again in the next line.", 
      "replacements = {'Linear |R| = ':','}", 
      "for line in infile:", 
      "    for src, target in replacements.iteritems():", 
      "        line = line.replace(src, target)", 
      "    outfile.write(line)", 
      "infile.close()", 
      "outfile.close()", 
      "", 
      "", 
      "#Nonlinear", 
      "os.chdir('/home/john/projects/ferret/')", 
      "infile = open('/home/john/projects/ferret/DS_outputfile_nonlinear.txt')", 
      "outfile = open('/home/john/projects/ferret/newoutputfile_nonlinear.csv', 'w')", 
      "# Note that we are using -'+repr(t)+'.i' in order to for loop the path name. This is used again in the next line.", 
      "replacements = {'Nonlinear |R| = ':','}", 
      "for line in infile:", 
      "    for src, target in replacements.iteritems():", 
      "        line = line.replace(src, target)", 
      "    outfile.write(line)", 
      "infile.close()", 
      "outfile.close()", 
      "", 
      "#      %s  % vec[t] doesn't really work but we can just save as a csv and call the second column.", 
      "# everytime it jumps it is a time-step?", 
      "", 
      "data_linear = np.genfromtxt('/home/john/projects/ferret/newoutputfile_linear.csv',delimiter=',', dtype = float)", 
      "y_linear = [row[1] for row in data_linear] ", 
      "", 
      "data_nonlinear = np.genfromtxt('/home/john/projects/ferret/newoutputfile_nonlinear.csv',delimiter=',', dtype = float)", 
      "y_nonlinear = [row[1] for row in data_nonlinear] ", 
      "", 
      "#could map ~100000 to ~250 in order to find when linear, nonlinear, and time steps are used.", 
      "plt.plot(y_linear[0:10000],'b.')", 
      "plt.xlabel('iter',fontsize=20)", 
      "plt.ylabel('|R|',fontsize=20)", 
      "plt.yscale('log')", 
      "plt.title('|R| vs linear ksp iteration',fontsize=20)", 
      "", 
      "plt.savefig(\"/home/john/resids_linear_short.eps\")", 
      "", 
      "plt.plot(y_nonlinear[0:250],'b.')", 
      "plt.xlabel('iter',fontsize=20)", 
      "plt.ylabel('|R|',fontsize=20)", 
      "plt.yscale('log')", 
      "plt.title('|R| vs nonlinear gmres iteration',fontsize=20)", 
      "", 
      "plt.savefig(\"/home/john/resids_nonlinear_short.eps\")", 
      "", 
      "os.chdir('/home/john/projects/ParaView-bin/bin/')", 
      "subprocess.call('pvpython /home/john/projects/ferret/framescripts.py',shell=True)", 
      "", 
      "#can also scan the final volume after the elastic problem has been solved"
     ], 
     "language": "python", 
     "outputs": [], 
     "prompt_number": 30
    }, 
    {
     "cell_type": "code", 
     "collapsed": true, 
     "input": [], 
     "language": "python", 
     "outputs": []
    }, 
    {
     "cell_type": "code", 
     "collapsed": true, 
     "input": [], 
     "language": "python", 
     "outputs": []
    }
   ]
  }
 ]
}