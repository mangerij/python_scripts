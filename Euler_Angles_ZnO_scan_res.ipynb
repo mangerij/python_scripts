{
 "cells": [
  {
   "cell_type": "code",
   "execution_count": 42,
   "metadata": {
    "collapsed": false
   },
   "outputs": [
    {
     "name": "stdout",
     "output_type": "stream",
     "text": [
      "[[  5.57915800e-19   5.67830700e-19   5.82103400e-19 ...,   5.98221000e-19\n",
      "    5.96841300e-19   5.59446900e-19]\n",
      " [  5.59710200e-19   5.67298000e-19   5.83827300e-19 ...,   5.99219300e-19\n",
      "    5.97880300e-19   5.59000800e-19]\n",
      " [  5.58880700e-19   5.67094800e-19   5.77993600e-19 ...,   6.00304200e-19\n",
      "    5.96754300e-19   5.59851000e-19]\n",
      " ..., \n",
      " [  5.58282000e-19   5.39992800e-19   5.99621100e-19 ...,   5.81648500e-19\n",
      "    5.66981400e-19   5.57936100e-19]\n",
      " [  5.58596500e-19   5.97884800e-19   5.96279800e-19 ...,   5.88635600e-19\n",
      "    5.66020200e-19   5.57336000e-19]\n",
      " [  5.58496500e-19   5.97563600e-19   5.98333200e-19 ...,   5.81080200e-19\n",
      "    5.67154900e-19   5.57717500e-19]]"
     ]
    }
   ],
   "source": [
    "import os\n",
    "import subprocess\n",
    "import numpy as np\n",
    "\n",
    "os.chdir('/media/My Passport/Linux/projects/calculations/core_shell/final_plots/vary_Euler_ZnO/scripts-and-out-files/')\n",
    "subprocess.call(\"grep '2 Nonlinear |R| = ' 717167.out | tee /media/My\\ Passport/Linux/projects/calculations/core_shell/final_plots/vary_Euler_ZnO/scripts-and-out-files/outputfile1.txt\",shell=True)\n",
    "\n",
    "infile = open('/media/My Passport/Linux/projects/calculations/core_shell/final_plots/vary_Euler_ZnO/scripts-and-out-files/outputfile1.txt')\n",
    "outfile = open('/media/My Passport/Linux/projects/calculations/core_shell/final_plots/vary_Euler_ZnO/scripts-and-out-files/newoutputfile1.txt', 'w')\n",
    "# Note that we are using -'+repr(t)+'.i' in order to for loop the path name. This is used again in the next line.\n",
    "replacements = {' 2 Nonlinear |R| = \u001b[32m':'','\u001b[39m':','}\n",
    "for line in infile:\n",
    "    for src, target in replacements.iteritems():\n",
    "        line = line.replace(src, target)\n",
    "    outfile.write(line)\n",
    "infile.close()\n",
    "outfile.close()\n",
    "\n",
    "os.chdir('/media/My Passport/Linux/projects/calculations/core_shell/final_plots/vary_Euler_ZnO/scripts-and-out-files/')\n",
    "subprocess.call(\"grep 'Option left: name:-i ' 717167.out | tee /media/My\\ Passport/Linux/projects/calculations/core_shell/final_plots/vary_Euler_ZnO/scripts-and-out-files/outputfile2.txt\",shell=True)\n",
    "\n",
    "infile = open('/media/My Passport/Linux/projects/calculations/core_shell/final_plots/vary_Euler_ZnO/scripts-and-out-files/outputfile2.txt')\n",
    "outfile = open('/media/My Passport/Linux/projects/calculations/core_shell/final_plots/vary_Euler_ZnO/scripts-and-out-files/newoutputfile2.txt', 'w')\n",
    "# Note that we are using -'+repr(t)+'.i' in order to for loop the path name. This is used again in the next line.\n",
    "replacements = {'Option left: name:-i value: newZn_ZnO_eulerMismatch_xstl_shell-':'','.i':',','-':','}\n",
    "for line in infile:\n",
    "    for src, target in replacements.iteritems():\n",
    "        line = line.replace(src, target)\n",
    "    outfile.write(line)\n",
    "infile.close()\n",
    "outfile.close()\n",
    "\n",
    "#use Libre office to connect the outputfile1 and outputfile2 \n",
    "\n",
    "data_res = np.genfromtxt('/media/My Passport/Linux/projects/calculations/core_shell/final_plots/vary_Euler_ZnO/scripts-and-out-files/data_res.csv',delimiter=';', dtype = float)\n",
    "#indices are k 1,2 data_res[1,k]\n",
    "# and res are j data_res[j,0] for j 0,1600\n",
    "\n",
    "\n",
    "euler_2_vec = np.linspace(0,180,40); euler_3_vec = np.linspace(0,180,40);\n",
    "\n",
    "#x = euler_2_vec\n",
    "#y = euler_3_vec\n",
    "\n",
    "mat = np.zeros((40,40))\n",
    "\n",
    "#for k in range(0,40):\n",
    "#    for j in range(0,40):\n",
    "#        mat[k,j] = data_res[k*j+1,0]\n",
    "\n",
    "for k in range(0,40):\n",
    "    for j in range(0,40):\n",
    "        mat[k,j] = data_res[(k*40)+j,0]\n",
    "\n",
    "print mat"
   ]
  },
  {
   "cell_type": "code",
   "execution_count": 43,
   "metadata": {
    "collapsed": true
   },
   "outputs": [],
   "source": [
    "from mpl_toolkits.mplot3d import Axes3D\n",
    "import matplotlib.pyplot as plt\n",
    "from matplotlib import rc\n",
    "\n",
    "\n",
    "fig = plt.figure()\n",
    "ax = fig.add_subplot(111, projection='3d')\n",
    "x = euler_2_vec\n",
    "y = euler_3_vec\n",
    "X, Y = np.meshgrid(x, y)\n",
    "zs = mat\n",
    "Z = zs.reshape(X.shape)\n",
    "\n",
    "\n",
    "\n",
    "ax.plot_surface(X, Y, Z, rstride=1, cstride=1,alpha = 0.4,color='b')\n",
    "\n",
    "ax.set_xlabel('$\\phi_2$',fontsize=20)\n",
    "ax.set_ylabel('$\\Phi_3$',fontsize=20)\n",
    "ax.set_zlabel('$|R|$',fontsize=20)\n",
    "\n",
    "plt.xlim([0,180])\n",
    "tick_vals = np.linspace(0,180,3)\n",
    "tick_labels = [tick_vals[i] for i in range(len(tick_vals))]\n",
    "tick_labels[0] = '0'\n",
    "tick_labels[1] = '$\\pi/2$'\n",
    "tick_labels[2] = '$\\pi$'\n",
    "plt.xticks(tick_vals, tick_labels)\n",
    "plt.ylim([0,180])\n",
    "tick_vals = np.linspace(0,180,3)\n",
    "tick_labels = [tick_vals[i] for i in range(len(tick_vals))]\n",
    "tick_labels[0] = '0'\n",
    "tick_labels[1] = '$\\pi/2$'\n",
    "tick_labels[2] = '$\\pi$'\n",
    "plt.yticks(tick_vals, tick_labels)\n",
    "plt.savefig(\"/home/john/projects/resid_Euler.pdf\")\n",
    "plt.show()"
   ]
  },
  {
   "cell_type": "code",
   "execution_count": 44,
   "metadata": {
    "collapsed": false
   },
   "outputs": [],
   "source": [
    "plt.pcolormesh(euler_2_vec,euler_3_vec,mat)\n",
    "plt.ylabel('$\\phi_3$',fontsize=16)\n",
    "plt.xlabel('$\\Phi_2$',fontsize= 16)\n",
    "#%xdel cbar1\n",
    "cbar1 = plt.colorbar()\n",
    "cbar1.ax.set_ylabel('$|R|$')\n",
    "plt.xlim([0,180])\n",
    "tick_vals = np.linspace(0,180,3)\n",
    "tick_labels = [tick_vals[i] for i in range(len(tick_vals))]\n",
    "tick_labels[0] = '0'\n",
    "tick_labels[1] = '$\\pi/2$'\n",
    "tick_labels[2] = '$\\pi$'\n",
    "plt.xticks(tick_vals, tick_labels)\n",
    "plt.ylim([0,180])\n",
    "tick_vals = np.linspace(0,180,3)\n",
    "tick_labels = [tick_vals[i] for i in range(len(tick_vals))]\n",
    "tick_labels[0] = '0'\n",
    "tick_labels[1] = '$\\pi/2$'\n",
    "tick_labels[2] = '$\\pi$'\n",
    "plt.yticks(tick_vals, tick_labels)\n",
    "plt.title('Residuals')\n",
    "plt.savefig(\"/home/john/projects/resid_euler_.pdf\")\n",
    "plt.show()"
   ]
  },
  {
   "cell_type": "code",
   "execution_count": 45,
   "metadata": {
    "collapsed": false
   },
   "outputs": [
    {
     "data": {
      "text/plain": [
       "5.5771749999999996e-19"
      ]
     },
     "execution_count": 45,
     "metadata": {},
     "output_type": "execute_result"
    }
   ],
   "source": [
    "mat[39,39]"
   ]
  },
  {
   "cell_type": "code",
   "execution_count": 26,
   "metadata": {
    "collapsed": true
   },
   "outputs": [],
   "source": []
  },
  {
   "cell_type": "code",
   "execution_count": 26,
   "metadata": {
    "collapsed": true
   },
   "outputs": [],
   "source": []
  },
  {
   "cell_type": "code",
   "execution_count": 26,
   "metadata": {
    "collapsed": true
   },
   "outputs": [],
   "source": []
  },
  {
   "cell_type": "code",
   "execution_count": 26,
   "metadata": {
    "collapsed": true
   },
   "outputs": [],
   "source": []
  },
  {
   "cell_type": "code",
   "execution_count": 26,
   "metadata": {
    "collapsed": true
   },
   "outputs": [],
   "source": []
  },
  {
   "cell_type": "code",
   "execution_count": 26,
   "metadata": {
    "collapsed": true
   },
   "outputs": [],
   "source": []
  },
  {
   "cell_type": "code",
   "execution_count": 26,
   "metadata": {
    "collapsed": true
   },
   "outputs": [],
   "source": []
  },
  {
   "cell_type": "code",
   "execution_count": 26,
   "metadata": {
    "collapsed": true
   },
   "outputs": [],
   "source": []
  },
  {
   "cell_type": "code",
   "execution_count": 26,
   "metadata": {
    "collapsed": true
   },
   "outputs": [],
   "source": []
  },
  {
   "cell_type": "code",
   "execution_count": null,
   "metadata": {
    "collapsed": true
   },
   "outputs": [],
   "source": []
  }
 ],
 "metadata": {
  "kernelspec": {
   "display_name": "Python 2",
   "language": "python",
   "name": "python2"
  },
  "language_info": {
   "codemirror_mode": {
    "name": "ipython",
    "version": 2
   },
   "file_extension": ".py",
   "mimetype": "text/x-python",
   "name": "python",
   "nbconvert_exporter": "python",
   "pygments_lexer": "ipython2",
   "version": "2.7.11"
  }
 },
 "nbformat": 4,
 "nbformat_minor": 0
}
