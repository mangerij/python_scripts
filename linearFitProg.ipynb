{
 "metadata": {
  "name": "linearFitProg"
 }, 
 "nbformat": 2, 
 "worksheets": [
  {
   "cells": [
    {
     "cell_type": "markdown", 
     "source": [
      "We seek to find a linear fit function that minimizes the $\\chi^2$ function defined by", 
      "", 
      "$$\\chi^2 = \\sum\\limits_{k=1}^N \\left(\\frac{y_\\mathrm{fit}(x_k) - y_k}{\\Delta y_k}\\right)^2$$", 
      "", 
      "for a set of data $\\{x_k, y_k\\}$where", 
      "", 
      "\\begin{eqnarray}\\nonumber", 
      "y_\\mathrm{fit}(x_k) = m x_k + b.", 
      "\\end{eqnarray}", 
      "", 
      "Note that to find the minimum $\\chi^2$, we can just take a derivative w.r.t $m$ and $b$ and this will be our minima ($m$, $b$) for the $\\chi^2$ distribution. Therefore", 
      "", 
      "$$\\frac{\\partial \\chi^2}{\\partial m} = \\frac{\\partial}{\\partial m} \\left[ \\sum\\limits_{k=1}^N \\left( \\frac{(m x_k + b) - y_k}{\\Delta y_k}\\right)^2\\right] = 2 \\sum\\limits_{k=1}^N \\frac{x_k \\left(y_k - (m x_k + b) \\right)}{\\Delta y_k^2} = 0$$", 
      "$$\\frac{\\partial \\chi^2}{\\partial b} = \\frac{\\partial}{\\partial b} \\left[ \\sum\\limits_{k=1}^N \\left( \\frac{(m x_k + b) - y_k}{\\Delta y_k}\\right)^2\\right] = 2 \\sum\\limits_{k=1}^N \\frac{y_k - (m x_k + b)}{\\Delta y_k^2} = 0$$", 
      "", 
      "This constitutes a linear system to solve for unknowns $m$ and $b$. Let's define a quantity", 
      "", 
      "$$S_{pq} = \\sum\\limits_{k=1}^N \\frac{x_k^p y_k^q}{\\Delta y_k^2}$$", 
      "", 
      "which implies", 
      "", 
      "$$m = \\frac{S_{00} S_{11} - S_{10} S_{01}}{S_{20} S_{00} - S_{10}^2}$$", 
      "and", 
      "$$b = \\frac{S_{20} S_{01} - S_{10} S_{11} }{S_{20} S_{00} - S_{10}^2}$$", 
      "", 
      "More details are in the notes. First let's read in the data:"
     ]
    }, 
    {
     "cell_type": "code", 
     "collapsed": false, 
     "input": [
      "import numpy as np", 
      "", 
      "ydata = np.array([1,2,1.3,3.75,2.25])", 
      "xdata = np.array([1,2,3,4,5])", 
      "deltaydata = np.array([0.04,0.04,0.03,0.025,0.1])"
     ], 
     "language": "python", 
     "outputs": [], 
     "prompt_number": 51
    }, 
    {
     "cell_type": "code", 
     "collapsed": false, 
     "input": [
      "S11 = 0; S00 = 0; S20 = 0; S10 = 0; S01 = 0;", 
      "for k in range(0,len(ydata)):", 
      "    S01 += ydata[k]/deltaydata[k]", 
      "    S10 += xdata[k]/deltaydata[k]", 
      "    S20 += xdata[k]*xdata[k]/deltaydata[k]", 
      "    S11 += xdata[k]*ydata[k]/deltaydata[k]", 
      "    S00 += 1/deltaydata[k]"
     ], 
     "language": "python", 
     "outputs": [], 
     "prompt_number": 52
    }, 
    {
     "cell_type": "code", 
     "collapsed": false, 
     "input": [
      "m = (S00*S11 - S10*S01)/(S20*S00 - np.power(S10,2)); b = (S20*S01-S10*S11)/(S20*S00 - np.power(S10,2));"
     ], 
     "language": "python", 
     "outputs": [], 
     "prompt_number": 53
    }, 
    {
     "cell_type": "markdown", 
     "source": [
      "It should be noted however, that the $m$ and $b$ computed here, are just estimates for the best fit values, we also have uncertainties. These can be computed with", 
      "", 
      "$$\\Delta m = \\sqrt{\\frac{S_{00}}{S_{20} S_{00} - S_{10}^2}}$$", 
      "and", 
      "$$\\Delta b = \\sqrt{\\frac{S_{20}}{S_{20} S_{00} - S_{10}^2}}$$", 
      "", 
      "To prove the relations for $\\Delta m$, and $\\Delta b$, see the notes from A. Puckett."
     ]
    }, 
    {
     "cell_type": "code", 
     "collapsed": true, 
     "input": [
      "deltam = np.power(S00/(S20*S00 - S10*S10),0.5)", 
      "deltab = np.power(S20/(S20*S00-S10*S10),0.5)"
     ], 
     "language": "python", 
     "outputs": [], 
     "prompt_number": 75
    }, 
    {
     "cell_type": "code", 
     "collapsed": true, 
     "input": [], 
     "language": "python", 
     "outputs": [], 
     "prompt_number": 58
    }, 
    {
     "cell_type": "code", 
     "collapsed": false, 
     "input": [
      "import matplotlib.pyplot as plt", 
      "", 
      "plt.errorbar(xdata,ydata,xerr= 0,yerr=deltaydata,color='b',marker = '.',linestyle='None')", 
      "plt.plot(xdata,m*xdata + b,'r--')", 
      "plt.plot(xdata,(m+deltam)*xdata + b,'r-.')", 
      "plt.plot(xdata,(m-deltam)*xdata + b,'r-.')", 
      "plt.xlim([min(xdata)-0.25,max(xdata)+0.25])", 
      "plt.show()"
     ], 
     "language": "python", 
     "outputs": [], 
     "prompt_number": 99
    }, 
    {
     "cell_type": "code", 
     "collapsed": true, 
     "input": [], 
     "language": "python", 
     "outputs": []
    }
   ]
  }
 ]
}