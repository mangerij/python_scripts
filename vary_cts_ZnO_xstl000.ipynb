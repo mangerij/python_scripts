{
 "metadata": {
  "name": "vary_cts_ZnO_xstl000"
 }, 
 "nbformat": 2, 
 "worksheets": [
  {
   "cells": [
    {
     "cell_type": "code", 
     "collapsed": true, 
     "input": [
      "import os", 
      "import subprocess", 
      "import numpy as np", 
      "", 
      "os.chdir('/home/john/projects/ferret/')", 
      "number_of_mesh_files = 121", 
      "# here we are testing our nodeset 1 node 1 definition in our new core_shell recipe", 
      "", 
      "for t in range(0,number_of_mesh_files):", 
      "    # Define the base file we will be iteratively modifiying #", 
      "    infile = open('/home/john/projects/ferret/vary_cts_ZnO_xstl000.i')", 
      "    # Open the out file we will be writing at each step in the iteration #", 
      "    outfile = open('/home/john/projects/ferret/newvary_cts_ZnO_xstl000-'+repr(t)+'.i', 'w')", 
      "    #", 
      "    # Note that we are using -'+repr(t)+'.i' in order to for loop the path name. This is used again in the next line.", 
      "    #", 
      "    # Probably will want to uncomment our uniform refine for our first few iterations", 
      "    # this code will most likely go like such", 
      "    #if t < 5", 
      "    #    replacements2 = {'#uniform_refine = 1':'uniform_refine = 1'}", 
      "    #    for src, target in replacements2.iteritems() ", 
      "", 
      "    replacements = {'file = core_shell_exodus.e':'file = core_shell_exodus_cts-'+repr(t)+'.e','file_base = out_cts-0_Zn_ZnO_xstl000_core_xstl000_shell_P0':'file_base = out_cts-'+repr(t)+'_Zn_ZnO_xstl000_core_xstl000_shell_P0'}", 
      "    for line in infile:", 
      "        for src, target in replacements.iteritems():", 
      "            line = line.replace(src, target)", 
      "        outfile.write(line)", 
      "    infile.close()", 
      "    outfile.close()"
     ], 
     "language": "python", 
     "outputs": [], 
     "prompt_number": 3
    }, 
    {
     "cell_type": "code", 
     "collapsed": true, 
     "input": [
      "import os", 
      "import subprocess", 
      "", 
      "os.chdir('/home/john/projects/ParaView-bin/bin/')", 
      "subprocess.call('pvpython /home/john/projects/calculations/core_shell/final_plots/vary_cts_ZnO_xstl000/scripts-and-out-files/MeshData.py',shell=True)", 
      "os.chdir('/home/john/projects/calculations/core_shell/final_plots/vary_cts_ZnO_xstl000/')", 
      "for k in range(0,121):", 
      "    for t in range(1,8):", 
      "        subprocess.call('rm MeshData-'+repr(k)+'-'+repr(t)+'.csv',shell=True)"
     ], 
     "language": "python", 
     "outputs": [], 
     "prompt_number": 3
    }, 
    {
     "cell_type": "code", 
     "collapsed": false, 
     "input": [
      "import numpy as np", 
      "import os", 
      "import subprocess", 
      "", 
      "EgBinEdges = np.linspace(3.125,3.16,122)", 
      "volBinEdges=np.linspace(0,1,len(EgBinEdges))", 
      "", 
      "for k in range(0,121):    ", 
      "    data_SigmaVolume = np.genfromtxt('/media/My Passport/Linux/projects/calculations/core_shell/final_plots/vary_cts_ZnO_xstl000/MeshData-'+str(k)+'-0.csv',delimiter=',', dtype = float)", 
      "    Eg = [row[8] for row in data_SigmaVolume]", 
      "    vol = [row[12] for row in data_SigmaVolume] ", 
      "    ", 
      "    Hbg, xEdges, yEdges = np.histogram2d(Eg[1:len(Eg)],vol[1:len(vol)], bins = (EgBinEdges, volBinEdges))", 
      "    Hbg = np.rot90(Hbg)", 
      "    Hbg = np.flipud(Hbg)", 
      "    ", 
      "    yedgesbg_up = yEdges[0:len(yEdges)-1]+(yEdges[1:len(yEdges)]-yEdges[0:len(yEdges)-1])/2 ", 
      "    vEgj = np.einsum('ij,i',Hbg,yedgesbg_up)", 
      "    VEgj = vEgj/sum(vEgj)*100", 
      "    x_bg = xEdges[0:len(xEdges)-1]+(xEdges[1:len(xEdges)]-xEdges[0:len(xEdges)-1])/2", 
      "    ", 
      "    np.savetxt(\"/media/My Passport/Linux/projects/calculations/core_shell/final_plots/vary_cts_ZnO_xstl000/data_for_animation-\"+str(k)+\".csv\",[x_bg,VEgj],delimiter=\",\") ", 
      "    ", 
      "subprocess.call('espeak \"Complete\"',shell=True)"
     ], 
     "language": "python", 
     "outputs": [
      {
       "output_type": "pyout", 
       "prompt_number": 1, 
       "text": [
        "0"
       ]
      }
     ], 
     "prompt_number": 1
    }, 
    {
     "cell_type": "code", 
     "collapsed": true, 
     "input": [
      "import numpy as np", 
      "from mpl_toolkits.mplot3d import Axes3D", 
      "import matplotlib.pyplot as plt", 
      "from matplotlib import rc", 
      "import itertools", 
      "from matplotlib import cm", 
      "", 
      "rad2_vec = 12.5", 
      "rad1_vec = np.linspace(2.5,11,121);", 
      "", 
      "", 
      "diam_vec = np.zeros((121,1))", 
      "cts_vec = np.zeros((121,1))", 
      "EgBinEdges = np.linspace(3.125,3.16,121) #need to fix this", 
      "VEgj_vec = np.zeros((121,121))", 
      "", 
      "#Technically we don't have data for 399 of the rad2_vec, but we can extrapolate it with this method.. I think.", 
      "", 
      "#stv = 3/r:", 
      "#original stv differs from new stv due to relaxation of the surface", 
      "", 
      "for j in range(0,121):", 
      "    cts_vec[j] = rad1_vec[j]/(rad2_vec - rad1_vec[j])", 
      "", 
      "    ", 
      "for k in range(0,121):", 
      "    data_vec = np.genfromtxt(\"/media/My Passport/Linux/projects/calculations/core_shell/final_plots/vary_cts_ZnO_xstl000/data_for_animation-\"+str(k)+\".csv\",delimiter=',',dtype = float)", 
      "    VEgj_vec[k,:] = data_vec[1,:]", 
      "", 
      "    ", 
      "fig = plt.figure()", 
      "#ax = fig.add_subplot(111, projection='3d')", 
      "", 
      "x = EgBinEdges", 
      "y = rad1_vec", 
      "", 
      "plt.pcolormesh(x,y,VEgj_vec)", 
      "", 
      "plt.xlabel('$\\delta E\\,\\,10^{-2} [\\mathrm{eV}]$',fontsize=20)", 
      "plt.ylabel('$\\mathrm{Core}\\,\\,r \\,\\,[\\mathrm{nm}]$',fontsize=20)", 
      "", 
      "#%xdel cbar1", 
      "cbar1 = plt.colorbar()", 
      "#cbar1.ax.set_ylabel('$\\mathrm{Shell}\\,\\, \\mathrm{volume}\\,\\, [\\%]$',fontsize=20)", 
      "tick_vals = np.linspace(3.125,3.16,8)", 
      "tick_labels = [tick_vals[i] for i in range(len(tick_vals))]", 
      "tick_labels[0] = ''", 
      "tick_labels[1] = '-7'", 
      "tick_labels[2] = ''", 
      "tick_labels[3] = '-6'", 
      "tick_labels[4] = ''", 
      "tick_labels[5] = '-5'", 
      "tick_labels[6] = ''", 
      "tick_labels[7] = '-4'", 
      "plt.xticks(tick_vals, tick_labels)", 
      "plt.tick_params(axis='both', which='major', labelsize=18)", 
      "plt.axis([x.min(),x.max(),y.min(),y.max()])", 
      "#plt.title('$E_g$ dependence on D for ZnO shell')", 
      "plt.savefig(\"/home/john/projects/Eg_cts_ZnO_xstl000.svg\",format='svg',dpi=600)", 
      "", 
      "plt.show()"
     ], 
     "language": "python", 
     "outputs": [], 
     "prompt_number": 2
    }, 
    {
     "cell_type": "code", 
     "collapsed": false, 
     "input": [
      "import numpy as np", 
      "np.linspace(3.125,3.16,8)"
     ], 
     "language": "python", 
     "outputs": [
      {
       "output_type": "pyout", 
       "prompt_number": 16, 
       "text": [
        "array([ 3.125,  3.13 ,  3.135,  3.14 ,  3.145,  3.15 ,  3.155,  3.16 ])"
       ]
      }
     ], 
     "prompt_number": 16
    }, 
    {
     "cell_type": "code", 
     "collapsed": true, 
     "input": [], 
     "language": "python", 
     "outputs": []
    }
   ]
  }
 ]
}