{
 "metadata": {
  "name": "sphere_problem_vac"
 }, 
 "nbformat": 2, 
 "worksheets": [
  {
   "cells": [
    {
     "cell_type": "code", 
     "collapsed": true, 
     "input": [
      "import numpy as np"
     ], 
     "language": "python", 
     "outputs": [], 
     "prompt_number": 6
    }, 
    {
     "cell_type": "code", 
     "collapsed": false, 
     "input": [
      "er = 4", 
      "E0 = -1", 
      "r = np.linspace(-125,125,251)", 
      "rset = np.linspace(-125,125,252)", 
      "", 
      "a = 20", 
      "theta = 0"
     ], 
     "language": "python", 
     "outputs": [], 
     "prompt_number": 121
    }, 
    {
     "cell_type": "code", 
     "collapsed": false, 
     "input": [
      "phi_in  = -3/(1/er+2)*E0*r*np.cos(theta)", 
      "phi_out = -E0*r*np.cos(theta) + np.divide((1/er-1),(1/er+2))*E0*np.power(a,3)*np.power(r,-2)*np.cos(theta)"
     ], 
     "language": "python", 
     "outputs": [], 
     "prompt_number": 122
    }, 
    {
     "cell_type": "code", 
     "collapsed": false, 
     "input": [
      "import numpy as np", 
      "import matplotlib.pyplot as plt", 
      "import pylab", 
      "from matplotlib import rc", 
      "import itertools", 
      "data_linear = np.genfromtxt('/home/john/projects/ferret/vac_sph/dataforplot_er4.csv',delimiter=',', dtype = float)", 
      "", 
      "y_linearin = [row[0] for row in data_linear]  #potential_in", 
      "y_linearout = [row[1] for row in data_linear]  #potential_out", 
      "", 
      "#use resolution in PlotOverLine in ParaView to modulate how many points there are here."
     ], 
     "language": "python", 
     "outputs": [], 
     "prompt_number": 123
    }, 
    {
     "cell_type": "code", 
     "collapsed": false, 
     "input": [
      "import numpy as np", 
      "import matplotlib.pyplot as plt", 
      "from matplotlib import rc", 
      "", 
      "plt.plot(r[125:125+a],phi_in[125:125+a],'b',linewidth=3.5,label = '$\\Phi_{\\mathrm{int}}^a$')", 
      "plt.plot(r[125+a:len(r)],phi_out[125+a:len(r)],'r',linewidth=3.5,label='$\\Phi_{\\mathrm{ext}}^a$')", 
      "plt.plot(rset[126:126+a],y_linearin[126:126+a],'b--',linewidth=3.5,label='$\\Phi_{\\mathrm{int}}^n$')", 
      "plt.plot(rset[126+a:len(rset)],y_linearin[126+a:len(rset)],'r--',linewidth=3.5,label='$\\Phi_{\\mathrm{ext}}^n$')", 
      "plt.xlabel(r'$r,\\, \\theta = 0$',fontsize =20)", 
      "plt.ylabel('$\\Phi$',fontsize =20)", 
      "plt.title('Steady solve $\\epsilon_r = 4$')", 
      "plt.legend(labelspacing = 1.0,loc=4,prop={'size':16})", 
      "", 
      "#plt.annotate('$P^n \\sim 0.85, P^a = 2.1$',xytext=(3, 80),xy = (3,80),fontsize=20)", 
      "#plt.annotate('$P^a = 3 \\frac{\\epsilon_r - 1}{\\epsilon_r + 2} E_0$',xytext=(3, 80),xy = (3,120),fontsize=20)", 
      "", 
      "", 
      "#er =4 => P~1.5, er = 3 => P~2.3, er = 2 => P~3, er = 5 => P~1.25, er = 8 => P~0.85", 
      "#P needs to scale like 3(er-1)/(er+2)E0 (er=4 => P=1.5, er=3 => P= 1.2, er=2 => P = 0.75, er = 5 => 1.71, er = 8 => 2.1", 
      "plt.savefig(\"/home/john/projects/ferret/vac_sph/comparisonfor_sphere_er4_test.eps\",format='eps',dpi=1200,bbox_inches='tight')", 
      "plt.show()"
     ], 
     "language": "python", 
     "outputs": [], 
     "prompt_number": 124
    }, 
    {
     "cell_type": "code", 
     "collapsed": true, 
     "input": [
      "from mpl_toolkits.mplot3d import axes3d", 
      "import matplotlib.pyplot as plt", 
      "import numpy as np", 
      "", 
      "fig = plt.figure()", 
      "ax = fig.add_subplot(111, projection='3d')", 
      "X, Y, Z = axes3d.get_test_data(0.05)", 
      "ax.plot_wireframe(X, Y, Z, rstride=10, cstride=10)", 
      "", 
      "plt.show()"
     ], 
     "language": "python", 
     "outputs": [], 
     "prompt_number": 66
    }, 
    {
     "cell_type": "code", 
     "collapsed": false, 
     "input": [
      "erset = np.array([2.0,4.0,6.0,8.0,15.0,25.0,35.0]);", 
      "ervec = np.linspace(2,35,100);", 
      "P = [-0.7604,-1.542,-1.942,-2.1844,-2.588,-2.804,-2.9035];", 
      "Pth = - 3.0*np.divide((ervec-1.0),(ervec+2.0))"
     ], 
     "language": "python", 
     "outputs": [], 
     "prompt_number": 65
    }, 
    {
     "cell_type": "code", 
     "collapsed": false, 
     "input": [
      "", 
      "", 
      "plt.plot(erset,P,'b.',linewidth=6.5,label = '$P^n$')", 
      "plt.xlim([0,50])", 
      "plt.plot(ervec,Pth,'r--',linewidth=2.5,label = '$P^a$')", 
      "plt.legend(labelspacing = 1.0,loc=4,prop={'size':22})", 
      "plt.xlabel(r'$\\epsilon_r$',fontsize =20)", 
      "plt.ylabel(r'$P$',fontsize =20)", 
      "", 
      "plt.savefig(\"/home/john/projects/ferret/die_sph/clausiusMosetti.eps\",format='eps',dpi=1200,bbox_inches='tight')", 
      "plt.show()"
     ], 
     "language": "python", 
     "outputs": [], 
     "prompt_number": 81
    }, 
    {
     "cell_type": "code", 
     "collapsed": true, 
     "input": [], 
     "language": "python", 
     "outputs": []
    }
   ]
  }
 ]
}