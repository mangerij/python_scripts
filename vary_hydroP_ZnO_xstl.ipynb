{
 "metadata": {
  "name": "vary_hydroP_ZnO_xstl"
 }, 
 "nbformat": 2, 
 "worksheets": [
  {
   "cells": [
    {
     "cell_type": "code", 
     "collapsed": true, 
     "input": [
      "import os", 
      "import subprocess", 
      "import numpy as np", 
      "", 
      "os.chdir('/home/john/projects/ferret/')", 
      "", 
      "pressure_vec = np.linspace(-1.0e-08,1.0e-08,121)  ", 
      "", 
      "for t in range(0,121):", 
      "    # Define the base file we will be iteratively modifiying #", 
      "    infile = open('/home/john/projects/ferret/vary_hydroP_ZnO_xstl000.i')", 
      "    # Open the out file we will be writing at each step in the iteration #", 
      "    outfile = open('/home/john/projects/ferret/newvary_hydroP_ZnO_xstl000-'+repr(t)+'.i', 'w')", 
      "    # Note that we are using -'+repr(t)+'.i' in order to for loop the path name. This is used again in the next line.", 
      "    replacements = {'pressure = def':'pressure = %s' % pressure_vec[t],'file_base = out_0_Zn_ZnO_xstl000_core_xstl000_shell_P-def':'file_base = out_0_Zn_ZnO_xstl000_core_xstl000_shell_P-'+repr(t)}", 
      "    for line in infile:", 
      "        for src, target in replacements.iteritems():", 
      "            line = line.replace(src, target)", 
      "        outfile.write(line)", 
      "    infile.close()", 
      "    outfile.close()"
     ], 
     "language": "python", 
     "outputs": [], 
     "prompt_number": 1
    }, 
    {
     "cell_type": "code", 
     "collapsed": true, 
     "input": [
      "import os", 
      "import subprocess", 
      "", 
      "os.chdir('/home/john/projects/ParaView-bin/bin/')", 
      "subprocess.call('pvpython /home/john/projects/calculations/core_shell/final_plots/vary_hydroP_ZnO_xstl000/scripts-and-out-files/MeshData.py',shell=True)", 
      "os.chdir('/home/john/projects/calculations/core_shell/final_plots/vary_hydroP_ZnO_xstl000/')", 
      "for k in range(0,121):", 
      "    for t in range(1,8):", 
      "        subprocess.call('rm MeshData-'+repr(k)+'-'+repr(t)+'.csv',shell=True)"
     ], 
     "language": "python", 
     "outputs": [], 
     "prompt_number": 1
    }, 
    {
     "cell_type": "code", 
     "collapsed": false, 
     "input": [
      "import numpy as np", 
      "import os", 
      "import subprocess", 
      "", 
      "EgBinEdges = np.linspace(0.0,6.0,200)", 
      "volBinEdges=np.linspace(0,0.5,len(EgBinEdges))", 
      "", 
      "for k in range(0,121):    ", 
      "    data_SigmaVolume = np.genfromtxt('/home/john/projects/calculations/core_shell/final_plots/vary_hydroP_ZnO_xstl000/MeshData-'+str(k)+'-0.csv',delimiter=',', dtype = float)", 
      "    Eg = [row[8] for row in data_SigmaVolume]", 
      "    vol = [row[12] for row in data_SigmaVolume] ", 
      "    ", 
      "    Hbg, xEdges, yEdges = np.histogram2d(Eg[1:len(Eg)],vol[1:len(vol)], bins = (EgBinEdges, volBinEdges))", 
      "    Hbg = np.rot90(Hbg)", 
      "    Hbg = np.flipud(Hbg)", 
      "    ", 
      "    yedgesbg_up = yEdges[0:len(yEdges)-1]+(yEdges[1:len(yEdges)]-yEdges[0:len(yEdges)-1])/2 ", 
      "    vEgj = np.einsum('ij,i',Hbg,yedgesbg_up)", 
      "    VEgj = vEgj/sum(vEgj)*100", 
      "    x_bg = xEdges[0:len(xEdges)-1]+(xEdges[1:len(xEdges)]-xEdges[0:len(xEdges)-1])/2", 
      "    ", 
      "    np.savetxt(\"/home/john/projects/calculations/core_shell/final_plots/vary_hydroP_ZnO_xstl000/data_for_animation-\"+str(k)+\".csv\",[x_bg,VEgj],delimiter=\",\") ", 
      "    ", 
      "subprocess.call('espeak \"Your script is done loading the data for Zinc Oxide\"',shell=True)"
     ], 
     "language": "python", 
     "outputs": [
      {
       "output_type": "pyout", 
       "prompt_number": 4, 
       "text": [
        "0"
       ]
      }
     ], 
     "prompt_number": 4
    }, 
    {
     "cell_type": "code", 
     "collapsed": true, 
     "input": [], 
     "language": "python", 
     "outputs": []
    }, 
    {
     "cell_type": "code", 
     "collapsed": true, 
     "input": [], 
     "language": "python", 
     "outputs": []
    }, 
    {
     "cell_type": "code", 
     "collapsed": true, 
     "input": [], 
     "language": "python", 
     "outputs": []
    }, 
    {
     "cell_type": "code", 
     "collapsed": true, 
     "input": [], 
     "language": "python", 
     "outputs": []
    }
   ]
  }
 ]
}