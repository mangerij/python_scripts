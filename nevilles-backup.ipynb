{
 "metadata": {
  "name": "nevilles-backup"
 }, 
 "nbformat": 2, 
 "worksheets": [
  {
   "cells": [
    {
     "cell_type": "code", 
     "collapsed": true, 
     "input": [
      "def Nevilles(x, f, z):", 
      "    P = {}; Q = {}; R = {}; S = {}; T = {}; U = {}; V = {}; X = {}; Y = {};", 
      "    for k in range(0,len(x)-1):", 
      "        P[[k, k+1], z] = ((z - x[k])* f[k+1] - (z - x[k+1])*f[k])/(x[k+1] - x[k])", 
      "    ", 
      "    for k in range(0,len(x)-2):", 
      "        Q[k, k+1, k+2, z] = ((z - x[k])*P[k + 1, k + 2, z] - (z - x[k+2]) * P[k, k + 1, z])/(x[k+2] - x[k])", 
      "    ", 
      "    for k in range(0,len(x)-3):", 
      "        R[k, k+1, k+2, k+3, z] = ((z - x[k])*Q[k + 1, k + 2, k + 3, z] - (z - x[k+3]) * Q[k, k + 1, k + 2, z])/(x[k+3] - x[k])", 
      "    ", 
      "    for k in range(0,len(x)-4):", 
      "        S[k, k+1, k+2, k+3, k+4, z] = ((z - x[k])*R[k + 1, k + 2, k + 3, k + 4, z] - (z - x[k+4]) * R[k, k + 1, k + 2, k + 3, z])/(x[k+4] - x[k])", 
      "    ", 
      "    for k in range(0,len(x)-5):", 
      "        T[k, k+1, k+2, k+3, k+4, k+5, z] = ((z - x[k])*S[k + 1, k + 2, k + 3, k + 4, k + 5, z] - (z - x[k+5]) * S[k, k + 1, k + 2, k + 3, k+4, z])/(x[k+5] - x[k])", 
      "    ", 
      "    for k in range(0,len(x)-6):", 
      "        U[k, k+1, k+2, k+3, k+4, k+5, k+6, z] = ((z - x[k])*T[k + 1, k + 2, k + 3, k + 4, k + 5, k + 6, z] - (z - x[k+6]) * T[k, k + 1, k + 2, k + 3, k+4, k+5, z])/(x[k+6] - x[k])", 
      "", 
      "    for k in range(0,len(x)-7):", 
      "        V[k, k+1, k+2, k+3, k+4, k+5, k+6, k+7, z] = ((z - x[k])*U[k + 1, k + 2, k + 3, k + 4, k + 5, k + 6, k+7, z] - (z - x[k+7]) * U[k, k + 1, k + 2, k + 3, k+4, k+5, k+6, z])/(x[k+7] - x[k])", 
      "", 
      "    for k in range(0,len(x)-8):", 
      "        X[k, k+1, k+2, k+3, k+4, k+5, k+6, k+7, k+8, z] = ((z - x[k])*V[k + 1, k + 2, k + 3, k + 4, k + 5, k + 6, k+7, k+8, z] - (z - x[k+8]) * V[k, k + 1, k + 2, k + 3, k+4, k+5, k+6, k+7, z])/(x[k+8] - x[k])", 
      "", 
      "    for k in range(0,len(x)-9):", 
      "        Y[k, k+1, k+2, k+3, k+4, k+5, k+6, k+7, k+8, k+9, z] = ((z - x[k])*X[k + 1, k + 2, k + 3, k + 4, k + 5, k + 6, k+7, k+8, k+9, z] - (z - x[k+9]) * X[k, k + 1, k + 2, k + 3, k+4, k+5, k+6, k+7, k+8, z])/(x[k+9] - x[k])", 
      "", 
      "    return Y[0, 1, 2, 3, 4, 5, 6, 7, 8, 9, z]"
     ], 
     "language": "python", 
     "outputs": [], 
     "prompt_number": 1
    }, 
    {
     "cell_type": "code", 
     "collapsed": true, 
     "input": [
      "def Nevilles(x, f, z):", 
      "    P = {}; Q = {}; R = {}; S = {}; T = {}; U = {}; V = {}; X = {}; Y = {};", 
      "    A = {};", 
      "    for k in range(0,len(x)-1):", 
      "        P[k, z] = ((z - x[k]) * f[k + 1] - (z - x[k + 1]) * f[k])/(x[k+1] - x[k])", 
      "    ", 
      "    for k in range(0,len(x)-2):", 
      "        Q[k, z] = ((z - x[k]) * P[k + 1, z] - (z - x[k + 2]) * P[k, z])/(x[k + 2] - x[k])", 
      "    ", 
      "    for k in range(0,len(x)-3):", 
      "        R[k, z] = ((z - x[k]) * Q[k + 1, z] - (z - x[k + 3]) * Q[k, z])/(x[k + 3] - x[k])", 
      "    ", 
      "    for k in range(0,len(x)-4):", 
      "        S[k, z] = ((z - x[k]) * R[k + 1, z] - (z - x[k + 4]) * R[k, z])/(x[k + 4] - x[k])", 
      "    ", 
      "    for k in range(0,len(x)-5):", 
      "        T[k, z] = ((z - x[k]) * S[k + 1, z] - (z - x[k + 5]) * S[k, z])/(x[k + 5] - x[k])", 
      "    ", 
      "    for k in range(0,len(x)-6):", 
      "        U[k, z] = ((z - x[k]) * T[k + 1, z] - (z - x[k + 6]) * T[k, z])/(x[k + 6] - x[k])", 
      "", 
      "    for k in range(0,len(x)-7):", 
      "        V[k, z] = ((z - x[k]) * U[k + 1, z] - (z - x[k + 7]) * U[k, z])/(x[k + 7] - x[k])", 
      "", 
      "    for k in range(0,len(x)-8):", 
      "        X[k, z] = ((z - x[k]) * V[k + 1, z] - (z - x[k + 8]) * V[k, z])/(x[k + 8] - x[k])", 
      "", 
      "    for k in range(0,len(x)-9):", 
      "        Y[k, z] = ((z - x[k]) * X[k + 1, z] - (z - x[k + 9]) * X[k, z])/(x[k + 9] - x[k])", 
      "", 
      "    return Y[0, z]"
     ], 
     "language": "python", 
     "outputs": []
    }
   ]
  }
 ]
}