{
 "cells": [
  {
   "cell_type": "code",
   "execution_count": 6,
   "metadata": {
    "collapsed": false
   },
   "outputs": [
    {
     "data": {
      "text/plain": [
       "0"
      ]
     },
     "execution_count": 6,
     "metadata": {},
     "output_type": "execute_result"
    }
   ],
   "source": [
    "#Load stresses and plot them along with two ParaView outputmesh contour stress field maps.\n",
    "\n",
    "import os\n",
    "import subprocess\n",
    "\n",
    "os.chdir('/home/john/projects/ParaView-bin/bin/')\n",
    "subprocess.call('pvpython /media/My\\ Passport/Linux/projects/calculations/core_shell/final_plots/monoxstl_microstructures_final/microstructureZnO.py',shell=True)\n",
    "subprocess.call('pvpython /media/My\\ Passport/Linux/projects/calculations/core_shell/final_plots/monoxstl_microstructures_final/microstructurerTiO2.py',shell=True)"
   ]
  },
  {
   "cell_type": "code",
   "execution_count": 9,
   "metadata": {
    "collapsed": true
   },
   "outputs": [],
   "source": [
    "fout=open(\"/media/My Passport/Linux/projects/calculations/core_shell/final_plots/monoxstl_microstructures_final/fsetout_Zn_ZnO_xstl000_core_xstl000_shell_P0COMP.csv\",\"a\")\n",
    "for num in range(0,12): #xstl000 has 12 csv\n",
    "    f = open(\"/media/My Passport/Linux/projects/calculations/core_shell/final_plots/monoxstl_microstructures_final/fsetout_Zn_ZnO_xstl000_core_xstl000_shell_P0-\"+str(num)+\".csv\")\n",
    "    f.next() # skip the header\n",
    "    for line in f:\n",
    "        fout.write(line)\n",
    "    f.close()\n",
    "fout.close()\n",
    "\n",
    "fout=open(\"/media/My Passport/Linux/projects/calculations/core_shell/final_plots/monoxstl_microstructures_final/fsetout_ZnO_rTiO2_xstl000_core_xstl000_shell_P0COMP.csv\",\"a\")\n",
    "for num in range(0,12): #xstl000 has 12 csv\n",
    "    f = open(\"/media/My Passport/Linux/projects/calculations/core_shell/final_plots/monoxstl_microstructures_final/fsetout_ZnO_rTiO2_xstl000_core_xstl000_shell_P0-\"+str(num)+\".csv\")\n",
    "    f.next() # skip the header\n",
    "    for line in f:\n",
    "        fout.write(line)\n",
    "    f.close()\n",
    "fout.close()"
   ]
  },
  {
   "cell_type": "code",
   "execution_count": 1,
   "metadata": {
    "collapsed": true
   },
   "outputs": [],
   "source": [
    "#numpy genfromtxt crashes when loading large files, have to use an iterative loading scheme\n",
    "\n",
    "import numpy as np\n",
    "\n",
    "def iter_loadtxt(filename, delimiter=',', skiprows=1, dtype=float):\n",
    "    def iter_func():\n",
    "        with open(filename, 'r') as infile:\n",
    "            for _ in range(skiprows):\n",
    "                next(infile)\n",
    "            for line in infile:\n",
    "                line = line.rstrip().split(delimiter)\n",
    "                for item in line:\n",
    "                    yield dtype(item)\n",
    "        iter_loadtxt.rowlength = len(line)\n",
    "\n",
    "    data = np.fromiter(iter_func(), dtype=dtype)\n",
    "    data = data.reshape((-1, iter_loadtxt.rowlength))\n",
    "    return data"
   ]
  },
  {
   "cell_type": "code",
   "execution_count": 2,
   "metadata": {
    "collapsed": true
   },
   "outputs": [],
   "source": [
    "import matplotlib.pyplot as plt\n",
    "import pylab\n",
    "from matplotlib import rc\n",
    "ZnZnO_xstl000_core_xstl000_data_EgVolume = iter_loadtxt('/media/My Passport/Linux/projects/calculations/core_shell/final_plots/monoxstl_microstructures_final/fsetout_Zn_ZnO_xstl000_core_xstl000_shell_P0COMP.csv',delimiter=',',skiprows=1,dtype=float)\n",
    "ZnOrTiO2_xstl000_core_xstl000_data_EgVolume = iter_loadtxt('/media/My Passport/Linux/projects/calculations/core_shell/final_plots/monoxstl_microstructures_final/fsetout_ZnO_rTiO2_xstl000_core_xstl000_shell_P0COMP.csv',delimiter=',',skiprows=1,dtype=float)"
   ]
  },
  {
   "cell_type": "code",
   "execution_count": 3,
   "metadata": {
    "collapsed": true
   },
   "outputs": [],
   "source": [
    "#------Load Variables from the csv------#\n",
    "\n",
    "vol1 = [row[12] for row in ZnZnO_xstl000_core_xstl000_data_EgVolume]\n",
    "Sxx1 = [row[0] for row in ZnZnO_xstl000_core_xstl000_data_EgVolume]\n",
    "Syy1 = [row[1] for row in ZnZnO_xstl000_core_xstl000_data_EgVolume]\n",
    "Szz1 = [row[2] for row in ZnZnO_xstl000_core_xstl000_data_EgVolume]\n",
    "\n",
    "vol2 = [row[12] for row in ZnOrTiO2_xstl000_core_xstl000_data_EgVolume] \n",
    "Sxx2 = [row[0] for row in ZnOrTiO2_xstl000_core_xstl000_data_EgVolume]\n",
    "Syy2 = [row[1] for row in ZnOrTiO2_xstl000_core_xstl000_data_EgVolume]\n",
    "Szz2 = [row[2] for row in ZnOrTiO2_xstl000_core_xstl000_data_EgVolume]\n",
    "\n",
    "\n",
    "nbins = 120\n",
    "#comment on nbins, if nbins > ideal, then we get \"dips\" in the spectrum\n",
    "#                  if nbins < ideal, then we get \"peaks\" in the spectrum\n",
    "#   ideal = ideal(Precision) in microstructures.py file\n",
    "\n",
    "HSxx1, xedgesSxx1, yedgesSxx1 = np.histogram2d(Sxx1[1:len(Sxx1)],vol1[1:len(vol1)],bins=nbins)\n",
    "HSyy1, xedgesSyy1, yedgesSyy1 = np.histogram2d(Syy1[1:len(Syy1)],vol1[1:len(vol1)],bins=nbins)\n",
    "HSzz1, xedgesSzz1, yedgesSzz1 = np.histogram2d(Szz1[1:len(Szz1)],vol1[1:len(vol1)],bins=nbins)\n",
    "\n",
    "HSxx2, xedgesSxx2, yedgesSxx2 = np.histogram2d(Sxx2[1:len(Sxx2)],vol2[1:len(vol2)],bins=nbins)\n",
    "HSyy2, xedgesSyy2, yedgesSyy2 = np.histogram2d(Syy2[1:len(Syy2)],vol2[1:len(vol2)],bins=nbins)\n",
    "HSzz2, xedgesSzz2, yedgesSzz2 = np.histogram2d(Szz2[1:len(Szz2)],vol2[1:len(vol2)],bins=nbins)\n",
    "\n",
    "\n",
    "HSxx1 = np.rot90(HSxx1); HSyy1 = np.rot90(HSyy1); HSzz1 = np.rot90(HSzz1);\n",
    "HSxx1 = np.flipud(HSxx1); HSyy1 = np.flipud(HSyy1); HSzz1 = np.flipud(HSzz1);\n",
    "\n",
    "HSxx2 = np.rot90(HSxx2); HSyy2 = np.rot90(HSyy2); HSzz2 = np.rot90(HSzz2);\n",
    "HSxx2 = np.flipud(HSxx2); HSyy2 = np.flipud(HSyy2); HSzz2 = np.flipud(HSzz2);\n",
    "\n",
    "\n",
    "yedgesSxx1_up = yedgesSxx1[0:len(yedgesSxx1)-1]+(yedgesSxx1[1:len(yedgesSxx1)]-yedgesSxx1[0:len(yedgesSxx1)-1])/2\n",
    "yedgesSyy1_up = yedgesSyy1[0:len(yedgesSyy1)-1]+(yedgesSyy1[1:len(yedgesSyy1)]-yedgesSyy1[0:len(yedgesSyy1)-1])/2\n",
    "yedgesSzz1_up = yedgesSzz1[0:len(yedgesSzz1)-1]+(yedgesSzz1[1:len(yedgesSzz1)]-yedgesSzz1[0:len(yedgesSzz1)-1])/2\n",
    "\n",
    "yedgesSxx2_up = yedgesSxx2[0:len(yedgesSxx2)-1]+(yedgesSxx2[1:len(yedgesSxx2)]-yedgesSxx2[0:len(yedgesSxx2)-1])/2\n",
    "yedgesSyy2_up = yedgesSyy2[0:len(yedgesSyy2)-1]+(yedgesSyy2[1:len(yedgesSyy2)]-yedgesSyy2[0:len(yedgesSyy2)-1])/2\n",
    "yedgesSzz2_up = yedgesSzz2[0:len(yedgesSzz2)-1]+(yedgesSzz2[1:len(yedgesSzz2)]-yedgesSzz2[0:len(yedgesSzz2)-1])/2\n",
    "\n",
    "vSxx1j = np.einsum('ij,i',HSxx1,yedgesSxx1_up)\n",
    "vSyy1j = np.einsum('ij,i',HSyy1,yedgesSyy1_up)\n",
    "vSzz1j = np.einsum('ij,i',HSzz1,yedgesSzz1_up)\n",
    "\n",
    "vSxx2j = np.einsum('ij,i',HSxx2,yedgesSxx2_up)\n",
    "vSyy2j = np.einsum('ij,i',HSyy2,yedgesSyy2_up)\n",
    "vSzz2j = np.einsum('ij,i',HSzz2,yedgesSzz2_up)\n",
    "\n",
    "VSxx1j = vSxx1j/sum(vSxx1j)*100\n",
    "VSyy1j = vSyy1j/sum(vSyy1j)*100\n",
    "VSzz1j = vSzz1j/sum(vSzz1j)*100\n",
    "\n",
    "VSxx2j = vSxx2j/sum(vSxx2j)*100\n",
    "VSyy2j = vSyy2j/sum(vSyy2j)*100\n",
    "VSzz2j = vSzz2j/sum(vSzz2j)*100\n",
    "\n",
    "\n",
    "x_Sxx1 = xedgesSxx1[0:len(xedgesSxx1)-1]+(xedgesSxx1[1:len(xedgesSxx1)]-xedgesSxx1[0:len(xedgesSxx1)-1])/2\n",
    "x_Syy1 = xedgesSyy1[0:len(xedgesSyy1)-1]+(xedgesSyy1[1:len(xedgesSyy1)]-xedgesSyy1[0:len(xedgesSyy1)-1])/2\n",
    "x_Szz1 = xedgesSzz1[0:len(xedgesSzz1)-1]+(xedgesSzz1[1:len(xedgesSzz1)]-xedgesSzz1[0:len(xedgesSzz1)-1])/2\n",
    "\n",
    "x_Sxx2 = xedgesSxx2[0:len(xedgesSxx2)-1]+(xedgesSxx2[1:len(xedgesSxx2)]-xedgesSxx2[0:len(xedgesSxx2)-1])/2\n",
    "x_Syy2 = xedgesSyy2[0:len(xedgesSyy2)-1]+(xedgesSyy2[1:len(xedgesSyy2)]-xedgesSyy2[0:len(xedgesSyy2)-1])/2\n",
    "x_Szz2 = xedgesSzz2[0:len(xedgesSzz2)-1]+(xedgesSzz2[1:len(xedgesSzz2)]-xedgesSzz2[0:len(xedgesSzz2)-1])/2"
   ]
  },
  {
   "cell_type": "code",
   "execution_count": 8,
   "metadata": {
    "collapsed": true
   },
   "outputs": [],
   "source": [
    "import numpy as np\n",
    "import matplotlib.pyplot as plt\n",
    "from matplotlib import rc\n",
    "\n",
    "\n",
    "plt.plot(x_Sxx1*np.power(10,9),VSxx1j,'g',linewidth=3.5, label = '$\\sigma_{1}$')\n",
    "plt.plot(x_Syy1*np.power(10,9),VSyy1j,'r',linewidth=3.5, label = '$\\sigma_{2}$')\n",
    "plt.plot(x_Szz1*np.power(10,9),VSzz1j,'b',linewidth=3.5, label = '$\\sigma_{3}$') \n",
    "#plt.legend(labelspacing = 1.0,loc=1,prop={'size':20})\n",
    "\n",
    "#Custom PlotLabels for differing fontsize in same xlabel\n",
    "plt.rc('text',usetex=True)\n",
    "plt.text(.23,-1,'$\\sigma_{j}$',fontsize=30)\n",
    "plt.text(.26,-1,'[$\\mathrm{GPa}$]',fontsize = 20)\n",
    "\n",
    "###both of these plots are 25 nm total diameter, 15 nm core diameter\n",
    "#plt.xlabel('$\\sigma_{jj}\\,\\,\\,\\,\\,\\,\\,$ [$\\,\\,10^{10} \\mathrm{N}/\\mathrm{nm}^2$]',fontsize = 30)\n",
    "plt.tick_params(axis='both', which='major', labelsize=20)\n",
    "plt.xlim([.12,.42])\n",
    "tick_vals = np.linspace(0.2,0.4,3)\n",
    "tick_labels = [tick_vals[i] for i in range(len(tick_vals))]\n",
    "tick_labels[0] = '0.2'\n",
    "tick_labels[1] = '0.3'\n",
    "tick_labels[2] = '0.4'\n",
    "plt.xticks(tick_vals, tick_labels)\n",
    "plt.ylabel('Shell volume fraction [$\\%$]',fontsize =20)\n",
    "plt.savefig(\"/home/john/projects/calculations/core_shell/Zn_ZnO_stress_hist_3.svg\",format='svg',dpi=600)\n",
    "plt.show()"
   ]
  },
  {
   "cell_type": "code",
   "execution_count": 10,
   "metadata": {
    "collapsed": true
   },
   "outputs": [],
   "source": [
    "import numpy as np\n",
    "from mpl_toolkits.mplot3d import Axes3D\n",
    "import matplotlib.pyplot as plt\n",
    "from matplotlib import rc\n",
    "\n",
    "frame1 =plt.gca()\n",
    "###both of these plots are 25 nm total diameter, 15 nm core diameter\n",
    "plt.plot(x_Sxx2*np.power(10,9),VSxx2j,'g',linewidth=3.5, label = '$\\sigma_{1}$')\n",
    "plt.plot(x_Syy2*np.power(10,9),VSyy2j,'r',linewidth=3.5, label = '$\\sigma_{2}$')\n",
    "plt.plot(x_Szz2*np.power(10,9),VSzz2j,'b',linewidth=3.5, label = '$\\sigma_{3}$') \n",
    "plt.legend(labelspacing = 1.0,loc=1,prop={'size':28})\n",
    "\n",
    "#Custom PlotLabels for differing fontsize in same label\n",
    "plt.rc('text',usetex=True)\n",
    "plt.text(-.36,-1,'$\\sigma_{j}$',fontsize=30)\n",
    "plt.text(-.33,-1,'[$\\mathrm{GPa}$]',fontsize = 20)\n",
    "\n",
    "#plt.xlabel({'$\\sigma_{jj}\\,\\,\\,\\,\\,\\,\\,$',fontsize=30},{ [$\\,\\,10^{10} \\mathrm{N}/\\mathrm{nm}^2$]',fontsize = 30})\n",
    "plt.tick_params(axis='both', which='major', labelsize=20)\n",
    "tick_vals = np.linspace(-0.4,-0.2,3)\n",
    "tick_labels = [tick_vals[i] for i in range(len(tick_vals))]\n",
    "tick_labels[0] = '-0.4'\n",
    "tick_labels[1] = '-0.3'\n",
    "tick_labels[2] = '-0.2'\n",
    "plt.xticks(tick_vals, tick_labels)\n",
    "frame1.axes.get_yaxis().set_visible(False)  #hiding the y-axis because it is redundant for the 4-panel plt\n",
    "#tick_vals = np.linspace(0,5,6)\n",
    "#tick_labels = [tick_vals[i] for i in range(len(tick_vals))]\n",
    "#tick_labels[0] = '0'\n",
    "#tick_labels[1] = '1'\n",
    "#tick_labels[2] = '2'\n",
    "#tick_labels[3] = '3'                   #turn off the y-axis here because it is redundant for the 4-panel plt\n",
    "#tick_labels[4] = '4'\n",
    "#tick_labels[5] = '5'\n",
    "#plt.yticks(tick_vals, tick_labels)\n",
    "#plt.ylabel('Shell volume fraction [$\\%$]',fontsize =20)\n",
    "plt.savefig(\"/home/john/projects/calculations/core_shell/ZnO_rTiO2_stress_hist_3.svg\",format='svg',dpi=600)\n",
    "plt.show()"
   ]
  },
  {
   "cell_type": "code",
   "execution_count": 12,
   "metadata": {
    "collapsed": false
   },
   "outputs": [
    {
     "data": {
      "text/plain": [
       "0"
      ]
     },
     "execution_count": 12,
     "metadata": {},
     "output_type": "execute_result"
    }
   ],
   "source": [
    "#run a bash script here with the following\n",
    "# subprocess.call(' inkscape --export-png=/home/john/newfile.png /home/john/file.svg')\n",
    "#this will vectorize the file.\n",
    "# Thanks to http://neuroscience.telenczuk.pl/?p=331 [Baros Telenczuk]\n",
    "\n",
    "import subprocess\n",
    "subprocess.call('inkscape --export-png=/home/john/projects/calculations/core_shell/ZnO_rTiO2_stress_hist.png /home/john/projects/calculations/core_shell/ZnO_rTiO2_stress_hist_3.svg',shell=True)\n",
    "subprocess.call('inkscape --export-png=/home/john/projects/calculations/core_shell/Zn_ZnO_stress_hist.png /home/john/projects/calculations/core_shell/Zn_ZnO_stress_hist_3.svg',shell=True)\n",
    "#note paraview plots are from exact same camera angle!\n",
    "#subprocess.call('inkscape --export-png=/home/john/projects/calculations/core_shell/Zn_ZnO_xstl000_StressFieldContour3.png /home/john/projects/calculations/core_shell/Zn_ZnO_xstl000_StressFieldContour3.svg',shell=True)\n",
    "#subprocess.call('inkscape --export-png=/home/john/projects/calculations/core_shell/ZnO_rTiO2_xstl000_StressFieldContour3.png /home/john/projects/calculations/core_shell/ZnO_rTiO2_xstl000_StressFieldContour3.svg',shell=True)"
   ]
  },
  {
   "cell_type": "code",
   "execution_count": 19,
   "metadata": {
    "collapsed": true
   },
   "outputs": [],
   "source": [
    "import matplotlib.pyplot as plt\n",
    "import matplotlib.image as mpimg\n",
    "import numpy as np\n",
    "import matplotlib.pyplot as plt\n",
    "from matplotlib.offsetbox import TextArea, DrawingArea, OffsetImage, AnnotationBbox\n",
    "from matplotlib.cbook import get_sample_data\n",
    "\n",
    "fig, ax = plt.subplots(2,2)\n",
    "\n",
    "img1 =mpimg.imread('/home/john/projects/calculations/core_shell/Zn_ZnO_xstl000_StressFieldContour3.png')\n",
    "img2 =mpimg.imread('/home/john/projects/calculations/core_shell/ZnO_rTiO2_xstl000_StressFieldContour3.png')\n",
    "img3 =mpimg.imread('/home/john/projects/calculations/core_shell/Zn_ZnO_stress_hist.png')\n",
    "img4 =mpimg.imread('/home/john/projects/calculations/core_shell/ZnO_rTiO2_stress_hist.png')\n",
    "\n",
    "imgplot = ax[0,0].imshow(img1,zorder=100)\n",
    "ax[0,0].set_axis_off()\n",
    "ax[0,0].axes.get_yaxis().set_visible(False)\n",
    "\n",
    "ax[0,0].text(100,100,'$\\,\\mathrm{A \\,}\\,\\,$',fontsize=15,bbox=dict(facecolor='none', edgecolor='k'),zorder=110)\n",
    "from matplotlib._png import read_png\n",
    "fn = get_sample_data(\"/home/john/scale.png\", asfileobj=False)\n",
    "arr_lena = read_png(fn)\n",
    "imagebox = OffsetImage(arr_lena, zoom=0.275)\n",
    "xy = [0.3, 0.55]\n",
    "ab = AnnotationBbox(imagebox,xy,xybox=(183, -180),xycoords='data',boxcoords=\"offset points\",pad=-0.1)\n",
    "ax[0,0].add_artist(ab)\n",
    "ax[0,0].text(943,1067,'$\\,25\\,\\mathrm{nm}\\,$',fontsize=13,bbox=dict(facecolor='none', edgecolor='w'),zorder=100)\n",
    "\n",
    "imgplot = ax[0,1].imshow(img2,zorder=100) #origin = 'lower' flag in imshow() flips the image\n",
    "ax[0,1].text(100,100,'$\\,\\mathrm{B \\,}\\,\\,$',fontsize=15,bbox=dict(facecolor='none', edgecolor='k'),zorder=110)\n",
    "#ax[0,1].axes.get_yaxis().set_visible(False)\n",
    "ax[0,1].set_axis_off()\n",
    "##\n",
    "from matplotlib._png import read_png\n",
    "fn = get_sample_data(\"/home/john/scale.png\", asfileobj=False)\n",
    "arr_lena = read_png(fn)\n",
    "imagebox = OffsetImage(arr_lena, zoom=0.275)\n",
    "ab = AnnotationBbox(imagebox,xy,xybox=(183, -180),xycoords='data',boxcoords=\"offset points\",pad=-0.1)\n",
    "ax[0,1].add_artist(ab)\n",
    "ax[0,1].text(943,1067,'$\\,25\\,\\mathrm{nm}\\,$',fontsize=13,bbox=dict(facecolor='none', edgecolor='w'),zorder=100)\n",
    "\n",
    "imgplot = ax[1,0].imshow(img3,origin='upper')\n",
    "ax[1,0].set_axis_off()\n",
    "ax[1,0].text(40,20,'$\\,\\mathrm{C \\,}\\,\\,$',fontsize=15,bbox=dict(facecolor='none', edgecolor='k'))\n",
    "imgplot = ax[1,1].imshow(img4,origin='upper') \n",
    "ax[1,1].set_axis_off()\n",
    "ax[1,1].text(40,20,'$\\,\\mathrm{D \\,}\\,\\,$',fontsize=15,bbox=dict(facecolor='none', edgecolor='k'))\n",
    "\n",
    "plt.gca().set_axis_off()\n",
    "plt.subplots_adjust(top = 1, bottom = 0, right = 1, left = 0, \n",
    "            hspace = 0, wspace = 0)\n",
    "plt.margins(0,0)\n",
    "plt.tight_layout\n",
    "#fig.set_size_inches(18.5,10.5)\n",
    "plt.savefig('/home/john/projects/calculations/core_shell/4panel_monocrystalline_ZnO_rTiO2.eps',format='eps',dpi=500,bbox_inches = None)\n",
    "plt.show()"
   ]
  },
  {
   "cell_type": "code",
   "execution_count": 57,
   "metadata": {
    "collapsed": false
   },
   "outputs": [
    {
     "data": {
      "text/plain": [
       "0"
      ]
     },
     "execution_count": 57,
     "metadata": {},
     "output_type": "execute_result"
    }
   ],
   "source": [
    "#create the geometric figures\n",
    "import subprocess\n",
    "subprocess.call('inkscape --export-png=/home/john/projects/calculations/core_shell/facetedcoremesh.png /home/john/projects/calculations/core_shell/facetedcoremesh.svg',shell=True)\n",
    "subprocess.call('inkscape --export-png=/home/john/projects/calculations/core_shell/sphcoremesh.png /home/john/projects/calculations/core_shell/sphcoremesh.svg',shell=True)"
   ]
  },
  {
   "cell_type": "code",
   "execution_count": 58,
   "metadata": {
    "collapsed": true
   },
   "outputs": [],
   "source": [
    "import matplotlib.pyplot as plt\n",
    "import matplotlib.image as mpimg\n",
    "import numpy as np\n",
    "\n",
    "fig = plt.figure()\n",
    "\n",
    "ax1 = fig.add_subplot(121)\n",
    "ax2 = fig.add_subplot(122)\n",
    "    \n",
    "img1 =mpimg.imread('/home/john/projects/calculations/core_shell/facetedcoremesh.png')\n",
    "img2 =mpimg.imread('/home/john/projects/calculations/core_shell/sphcoremesh.png')\n",
    "\n",
    "imgplot = ax1.imshow(img2)\n",
    "ax1.set_axis_off()\n",
    "#ax1.text(100,100,'$\\,\\mathrm{A}\\,$',fontsize=15,bbox=dict(facecolor='none', edgecolor='k'))\n",
    "imgplot = ax2.imshow(img1) #origin = 'lower' flag in imshow() flips the image\n",
    "ax2.set_axis_off()\n",
    "#ax2.text(100,100,'$\\,\\mathrm{B}\\,$',fontsize=15,bbox=dict(facecolor='none', edgecolor='k'))\n",
    "\n",
    "plt.gca().set_axis_off()\n",
    "plt.subplots_adjust(top = 1, bottom = 0, right = 1, left = 0, \n",
    "            hspace = 0, wspace = 0)\n",
    "plt.margins(0,0)\n",
    "plt.tight_layout\n",
    "plt.savefig('/home/john/projects/calculations/core_shell/geoms-scale.eps',format='eps',dpi=600, rasterized=True,bbox_inches = 'tight')\n",
    "plt.show()"
   ]
  },
  {
   "cell_type": "code",
   "execution_count": 30,
   "metadata": {
    "collapsed": true
   },
   "outputs": [],
   "source": []
  },
  {
   "cell_type": "code",
   "execution_count": 31,
   "metadata": {
    "collapsed": true
   },
   "outputs": [],
   "source": []
  },
  {
   "cell_type": "code",
   "execution_count": 31,
   "metadata": {
    "collapsed": true
   },
   "outputs": [],
   "source": []
  },
  {
   "cell_type": "code",
   "execution_count": 31,
   "metadata": {
    "collapsed": true
   },
   "outputs": [],
   "source": []
  },
  {
   "cell_type": "code",
   "execution_count": 1,
   "metadata": {
    "collapsed": false
   },
   "outputs": [
    {
     "data": {
      "text/plain": [
       "0"
      ]
     },
     "execution_count": 1,
     "metadata": {},
     "output_type": "execute_result"
    }
   ],
   "source": [
    "import subprocess\n",
    "subprocess.call('inkscape --export-png=/home/john/projects/calculations/core_shell/Zn_ZnO_rand_StressFieldContour1.png /home/john/projects/calculations/core_shell/Zn_ZnO_rand_StressFieldContour1.svg',shell=True)\n",
    "subprocess.call('inkscape --export-png=/home/john/projects/calculations/core_shell/ZnO_rTiO2_rand_StressFieldContour1.png /home/john/projects/calculations/core_shell/ZnO_rTiO2_rand_StressFieldContour1.svg',shell=True)"
   ]
  },
  {
   "cell_type": "code",
   "execution_count": 31,
   "metadata": {
    "collapsed": true
   },
   "outputs": [],
   "source": []
  },
  {
   "cell_type": "code",
   "execution_count": 19,
   "metadata": {
    "collapsed": true
   },
   "outputs": [],
   "source": []
  },
  {
   "cell_type": "code",
   "execution_count": 21,
   "metadata": {
    "collapsed": true
   },
   "outputs": [],
   "source": []
  },
  {
   "cell_type": "markdown",
   "metadata": {},
   "source": [
    "Plot core distribution as well as shell distributions"
   ]
  },
  {
   "cell_type": "code",
   "execution_count": 24,
   "metadata": {
    "collapsed": false
   },
   "outputs": [
    {
     "data": {
      "text/plain": [
       "0"
      ]
     },
     "execution_count": 24,
     "metadata": {},
     "output_type": "execute_result"
    }
   ],
   "source": [
    "import subprocess\n",
    "\n",
    "subprocess.call('pvpython /media/My\\ Passport/Linux/projects/calculations/core_shell/final_plots/all_microstructures_final/microstructurerTiO2_core.py',shell=True)"
   ]
  },
  {
   "cell_type": "code",
   "execution_count": 26,
   "metadata": {
    "collapsed": true
   },
   "outputs": [],
   "source": [
    "fout=open(\"/media/My Passport/Linux/projects/calculations/core_shell/final_plots/all_microstructures_final/fsetout_ZnO_rTiO2_xstl000_shell_COMP.csv\",\"a\")\n",
    "\n",
    "for num in range(0,12): #xstl000 has 12 csv\n",
    "    f = open(\"/media/My Passport/Linux/projects/calculations/core_shell/final_plots/all_microstructures_final/fsetout_ZnO_rTiO2_xstl000_shell-\"+str(num)+\".csv\")\n",
    "    f.next() # skip the header\n",
    "    for line in f:\n",
    "        fout.write(line)\n",
    "    f.close()\n",
    "fout.close()"
   ]
  },
  {
   "cell_type": "code",
   "execution_count": 1,
   "metadata": {
    "collapsed": false
   },
   "outputs": [
    {
     "ename": "NameError",
     "evalue": "name 'iter_loadtxt' is not defined",
     "output_type": "error",
     "traceback": [
      "\u001b[0;31m---------------------------------------------------------------------------\u001b[0m\n\u001b[0;31mNameError\u001b[0m                                 Traceback (most recent call last)",
      "\u001b[0;32m/home/john/<ipython-input-1-03f265af05ee>\u001b[0m in \u001b[0;36m<module>\u001b[0;34m()\u001b[0m\n\u001b[1;32m      2\u001b[0m \u001b[0;32mimport\u001b[0m \u001b[0mpylab\u001b[0m\u001b[0;34m\u001b[0m\u001b[0m\n\u001b[1;32m      3\u001b[0m \u001b[0;32mfrom\u001b[0m \u001b[0mmatplotlib\u001b[0m \u001b[0;32mimport\u001b[0m \u001b[0mrc\u001b[0m\u001b[0;34m\u001b[0m\u001b[0m\n\u001b[0;32m----> 4\u001b[0;31m \u001b[0mZnOrTiO2_xstl000_core\u001b[0m \u001b[0;34m=\u001b[0m \u001b[0miter_loadtxt\u001b[0m\u001b[0;34m(\u001b[0m\u001b[0;34m'/media/My Passport/Linux/projects/calculations/core_shell/final_plots/all_microstructures_final/fsetout_ZnO_rTiO2_xstl000_core-12.csv'\u001b[0m\u001b[0;34m,\u001b[0m\u001b[0mdelimiter\u001b[0m\u001b[0;34m=\u001b[0m\u001b[0;34m','\u001b[0m\u001b[0;34m,\u001b[0m\u001b[0mskiprows\u001b[0m\u001b[0;34m=\u001b[0m\u001b[0;36m1\u001b[0m\u001b[0;34m,\u001b[0m\u001b[0mdtype\u001b[0m\u001b[0;34m=\u001b[0m\u001b[0mfloat\u001b[0m\u001b[0;34m)\u001b[0m\u001b[0;34m\u001b[0m\u001b[0m\n\u001b[0m\u001b[1;32m      5\u001b[0m \u001b[0mZnOrTiO2_xstl000_shell\u001b[0m \u001b[0;34m=\u001b[0m \u001b[0miter_loadtxt\u001b[0m\u001b[0;34m(\u001b[0m\u001b[0;34m'/media/My Passport/Linux/projects/calculations/core_shell/final_plots/all_microstructures_final/fsetout_ZnO_rTiO2_xstl000_shell_COMP.csv'\u001b[0m\u001b[0;34m,\u001b[0m\u001b[0mdelimiter\u001b[0m\u001b[0;34m=\u001b[0m\u001b[0;34m','\u001b[0m\u001b[0;34m,\u001b[0m\u001b[0mskiprows\u001b[0m\u001b[0;34m=\u001b[0m\u001b[0;36m1\u001b[0m\u001b[0;34m,\u001b[0m\u001b[0mdtype\u001b[0m\u001b[0;34m=\u001b[0m\u001b[0mfloat\u001b[0m\u001b[0;34m)\u001b[0m\u001b[0;34m\u001b[0m\u001b[0m\n",
      "\u001b[0;31mNameError\u001b[0m: name 'iter_loadtxt' is not defined"
     ]
    }
   ],
   "source": [
    "import matplotlib.pyplot as plt\n",
    "import pylab\n",
    "from matplotlib import rc\n",
    "ZnOrTiO2_xstl000_core = iter_loadtxt('/media/My Passport/Linux/projects/calculations/core_shell/final_plots/all_microstructures_final/fsetout_ZnO_rTiO2_xstl000_core-12.csv',delimiter=',',skiprows=1,dtype=float)\n",
    "ZnOrTiO2_xstl000_shell = iter_loadtxt('/media/My Passport/Linux/projects/calculations/core_shell/final_plots/all_microstructures_final/fsetout_ZnO_rTiO2_xstl000_shell_COMP.csv',delimiter=',',skiprows=1,dtype=float)"
   ]
  },
  {
   "cell_type": "code",
   "execution_count": 30,
   "metadata": {
    "collapsed": true
   },
   "outputs": [],
   "source": [
    "#------Load Variables from the csv------#\n",
    "\n",
    "vol1 = [row[12] for row in ZnOrTiO2_xstl000_core]\n",
    "Sxx1 = [row[0] for row in ZnOrTiO2_xstl000_core]\n",
    "Syy1 = [row[1] for row in ZnOrTiO2_xstl000_core]\n",
    "Szz1 = [row[2] for row in ZnOrTiO2_xstl000_core]\n",
    "Eg1 = [row[8] for row in ZnOrTiO2_xstl000_core]\n",
    "\n",
    "vol2 = [row[12] for row in ZnOrTiO2_xstl000_shell] \n",
    "Sxx2 = [row[0] for row in ZnOrTiO2_xstl000_shell]\n",
    "Syy2 = [row[1] for row in ZnOrTiO2_xstl000_shell]\n",
    "Szz2 = [row[2] for row in ZnOrTiO2_xstl000_shell]\n",
    "Eg2 = [row[8] for row in ZnOrTiO2_xstl000_shell]\n",
    "\n",
    "nbins = 120\n",
    "#comment on nbins, if nbins > ideal, then we get \"dips\" in the spectrum\n",
    "#                  if nbins < ideal, then we get \"peaks\" in the spectrum\n",
    "#   ideal = ideal(Precision) in microstructures.py file\n",
    "\n",
    "HSxx1, xedgesSxx1, yedgesSxx1 = np.histogram2d(Sxx1[1:len(Sxx1)],vol1[1:len(vol1)],bins=nbins)\n",
    "HSyy1, xedgesSyy1, yedgesSyy1 = np.histogram2d(Syy1[1:len(Syy1)],vol1[1:len(vol1)],bins=nbins)\n",
    "HSzz1, xedgesSzz1, yedgesSzz1 = np.histogram2d(Szz1[1:len(Szz1)],vol1[1:len(vol1)],bins=nbins)\n",
    "HEg1, xedgesEg1, yedgesEg1 = np.histogram2d(Eg1[1:len(Eg1)],vol1[1:len(vol1)],bins=nbins)\n",
    "\n",
    "HSxx2, xedgesSxx2, yedgesSxx2 = np.histogram2d(Sxx2[1:len(Sxx2)],vol2[1:len(vol2)],bins=nbins)\n",
    "HSyy2, xedgesSyy2, yedgesSyy2 = np.histogram2d(Syy2[1:len(Syy2)],vol2[1:len(vol2)],bins=nbins)\n",
    "HSzz2, xedgesSzz2, yedgesSzz2 = np.histogram2d(Szz2[1:len(Szz2)],vol2[1:len(vol2)],bins=nbins)\n",
    "HEg2, xedgesEg2, yedgesEg2 = np.histogram2d(Eg2[1:len(Eg2)],vol2[1:len(vol2)],bins=nbins)\n",
    "\n",
    "HSxx1 = np.rot90(HSxx1); HSyy1 = np.rot90(HSyy1); HSzz1 = np.rot90(HSzz1);\n",
    "HSxx1 = np.flipud(HSxx1); HSyy1 = np.flipud(HSyy1); HSzz1 = np.flipud(HSzz1);\n",
    "HEg1 = np.rot90(HEg1); HEg1 = np.flipud(HEg1);\n",
    "\n",
    "HSxx2 = np.rot90(HSxx2); HSyy2 = np.rot90(HSyy2); HSzz2 = np.rot90(HSzz2);\n",
    "HSxx2 = np.flipud(HSxx2); HSyy2 = np.flipud(HSyy2); HSzz2 = np.flipud(HSzz2);\n",
    "HEg2 = np.rot90(HEg2); HEg2 = np.flipud(HEg2);\n",
    "\n",
    "\n",
    "yedgesSxx1_up = yedgesSxx1[0:len(yedgesSxx1)-1]+(yedgesSxx1[1:len(yedgesSxx1)]-yedgesSxx1[0:len(yedgesSxx1)-1])/2\n",
    "yedgesSyy1_up = yedgesSyy1[0:len(yedgesSyy1)-1]+(yedgesSyy1[1:len(yedgesSyy1)]-yedgesSyy1[0:len(yedgesSyy1)-1])/2\n",
    "yedgesSzz1_up = yedgesSzz1[0:len(yedgesSzz1)-1]+(yedgesSzz1[1:len(yedgesSzz1)]-yedgesSzz1[0:len(yedgesSzz1)-1])/2\n",
    "yedgesEg1_up = yedgesEg1[0:len(yedgesEg1)-1]+(yedgesEg1[1:len(yedgesEg1)]-yedgesEg1[0:len(yedgesEg1)-1])/2\n",
    "\n",
    "yedgesSxx2_up = yedgesSxx2[0:len(yedgesSxx2)-1]+(yedgesSxx2[1:len(yedgesSxx2)]-yedgesSxx2[0:len(yedgesSxx2)-1])/2\n",
    "yedgesSyy2_up = yedgesSyy2[0:len(yedgesSyy2)-1]+(yedgesSyy2[1:len(yedgesSyy2)]-yedgesSyy2[0:len(yedgesSyy2)-1])/2\n",
    "yedgesSzz2_up = yedgesSzz2[0:len(yedgesSzz2)-1]+(yedgesSzz2[1:len(yedgesSzz2)]-yedgesSzz2[0:len(yedgesSzz2)-1])/2\n",
    "yedgesEg2_up = yedgesEg2[0:len(yedgesEg2)-1]+(yedgesEg2[1:len(yedgesEg2)]-yedgesEg2[0:len(yedgesEg2)-1])/2\n",
    "\n",
    "\n",
    "vSxx1j = np.einsum('ij,i',HSxx1,yedgesSxx1_up)\n",
    "vSyy1j = np.einsum('ij,i',HSyy1,yedgesSyy1_up)\n",
    "vSzz1j = np.einsum('ij,i',HSzz1,yedgesSzz1_up)\n",
    "vEg1j = np.einsum('ij,i',HEg1,yedgesEg1_up)\n",
    "\n",
    "vSxx2j = np.einsum('ij,i',HSxx2,yedgesSxx2_up)\n",
    "vSyy2j = np.einsum('ij,i',HSyy2,yedgesSyy2_up)\n",
    "vSzz2j = np.einsum('ij,i',HSzz2,yedgesSzz2_up)\n",
    "vEg2j = np.einsum('ij,i',HEg2,yedgesEg2_up)\n",
    "\n",
    "\n",
    "VSxx1j = vSxx1j/sum(vSxx1j)*100\n",
    "VSyy1j = vSyy1j/sum(vSyy1j)*100\n",
    "VSzz1j = vSzz1j/sum(vSzz1j)*100\n",
    "VEg1j = vEg1j/sum(vEg1j)*100\n",
    "\n",
    "VSxx2j = vSxx2j/sum(vSxx2j)*100\n",
    "VSyy2j = vSyy2j/sum(vSyy2j)*100\n",
    "VSzz2j = vSzz2j/sum(vSzz2j)*100\n",
    "VEg2j = vEg2j/sum(vEg2j)*100\n",
    "\n",
    "x_Sxx1 = xedgesSxx1[0:len(xedgesSxx1)-1]+(xedgesSxx1[1:len(xedgesSxx1)]-xedgesSxx1[0:len(xedgesSxx1)-1])/2\n",
    "x_Syy1 = xedgesSyy1[0:len(xedgesSyy1)-1]+(xedgesSyy1[1:len(xedgesSyy1)]-xedgesSyy1[0:len(xedgesSyy1)-1])/2\n",
    "x_Szz1 = xedgesSzz1[0:len(xedgesSzz1)-1]+(xedgesSzz1[1:len(xedgesSzz1)]-xedgesSzz1[0:len(xedgesSzz1)-1])/2\n",
    "x_Eg1 = xedgesEg1[0:len(xedgesEg1)-1]+(xedgesEg1[1:len(xedgesEg1)]-xedgesEg1[0:len(xedgesEg1)-1])/2\n",
    "\n",
    "\n",
    "x_Sxx2 = xedgesSxx2[0:len(xedgesSxx2)-1]+(xedgesSxx2[1:len(xedgesSxx2)]-xedgesSxx2[0:len(xedgesSxx2)-1])/2\n",
    "x_Syy2 = xedgesSyy2[0:len(xedgesSyy2)-1]+(xedgesSyy2[1:len(xedgesSyy2)]-xedgesSyy2[0:len(xedgesSyy2)-1])/2\n",
    "x_Szz2 = xedgesSzz2[0:len(xedgesSzz2)-1]+(xedgesSzz2[1:len(xedgesSzz2)]-xedgesSzz2[0:len(xedgesSzz2)-1])/2\n",
    "x_Eg2 = xedgesEg2[0:len(xedgesEg2)-1]+(xedgesEg2[1:len(xedgesEg2)]-xedgesEg2[0:len(xedgesEg2)-1])/2"
   ]
  },
  {
   "cell_type": "code",
   "execution_count": 43,
   "metadata": {
    "collapsed": true
   },
   "outputs": [],
   "source": [
    "import numpy as np\n",
    "import matplotlib.pyplot as plt\n",
    "from matplotlib import rc\n",
    "\n",
    "\n",
    "plt.plot(x_Sxx1*np.power(10,10),VSxx1j,'g',linewidth=3.5, label = '$\\sigma_{xx}$')\n",
    "plt.plot(x_Syy1*np.power(10,10),VSyy1j,'r',linewidth=3.5, label = '$\\sigma_{yy}$')\n",
    "plt.plot(x_Szz1*np.power(10,10),VSzz1j,'b',linewidth=3.5, label = '$\\sigma_{zz}$') \n",
    "#plt.legend(labelspacing = 1.0,loc=1,prop={'size':20})\n",
    "\n",
    "#Custom PlotLabels for differing fontsize in same xlabel\n",
    "plt.rc('text',usetex=True)\n",
    "plt.text(-2.55,-0.6,'$\\sigma_{jj}$',fontsize=30)\n",
    "plt.text(-2.45,-0.6,'[$\\,\\,10^{-10}\\, \\mathrm{N}/\\mathrm{nm}^2$]',fontsize = 20)\n",
    "\n",
    "###both of these plots are 25 nm total diameter, 15 nm core diameter\n",
    "#plt.xlabel('$\\sigma_{jj}\\,\\,\\,\\,\\,\\,\\,$ [$\\,\\,10^{10} \\mathrm{N}/\\mathrm{nm}^2$]',fontsize = 30)\n",
    "plt.tick_params(axis='both', which='major', labelsize=20)\n",
    "#plt.xlim([1.2,4.2])\n",
    "#tick_vals = np.linspace(2,4,3)\n",
    "#tick_labels = [tick_vals[i] for i in range(len(tick_vals))]\n",
    "#tick_labels[0] = '2'\n",
    "#tick_labels[1] = '3'\n",
    "#tick_labels[2] = '4'\n",
    "#plt.xticks(tick_vals, tick_labels)\n",
    "plt.ylabel('Shell volume fraction [$\\%$]',fontsize =20)\n",
    "plt.savefig(\"/home/john/projects/calculations/core_shell/Zn_ZnO_stress_core_hist.svg\",format='svg',dpi=600)\n",
    "plt.show()"
   ]
  },
  {
   "cell_type": "code",
   "execution_count": 73,
   "metadata": {
    "collapsed": true
   },
   "outputs": [],
   "source": [
    "import numpy as np\n",
    "import matplotlib.pyplot as plt\n",
    "from matplotlib import rc\n",
    "\n",
    "\n",
    "plt.plot(x_Eg1,VEg1j,'r',linewidth=3.5, label = '$E_g$') \n",
    "#plt.legend(labelspacing = 1.0,loc=1,prop={'size':20})\n",
    "\n",
    "#Custom PlotLabels for differing fontsize in same xlabel\n",
    "plt.rc('text',usetex=True)\n",
    "plt.text(3.249,-0.3,'$\\delta E_g$',fontsize=22)\n",
    "plt.text(3.2495,-0.3,'[$\\mathrm{eV}$]',fontsize = 22)\n",
    "\n",
    "###both of these plots are 25 nm total diameter, 15 nm core diameter\n",
    "#plt.xlabel('$\\sigma_{jj}\\,\\,\\,\\,\\,\\,\\,$ [$\\,\\,10^{10} \\mathrm{N}/\\mathrm{nm}^2$]',fontsize = 30)\n",
    "plt.tick_params(axis='both', which='major', labelsize=25)\n",
    "plt.xlim([3.247,3.251])\n",
    "tick_vals = np.linspace(3.2475,3.251,4)\n",
    "tick_labels = [tick_vals[i] for i in range(len(tick_vals))]\n",
    "tick_labels[0] = '+0.048'\n",
    "tick_labels[1] = '+0.049'\n",
    "tick_labels[2] = '+0.050'\n",
    "tick_labels[3] = '+0.051'\n",
    "plt.xticks(tick_vals, tick_labels,fontsize=18)\n",
    "plt.ylabel('Shell volume fraction [$\\%$]',fontsize =25)\n",
    "plt.savefig(\"/home/john/projects/calculations/core_shell/ZnO_rTiO2_stress_core_hist.svg\",format='svg',dpi=900)\n",
    "plt.show()"
   ]
  },
  {
   "cell_type": "code",
   "execution_count": 63,
   "metadata": {
    "collapsed": true
   },
   "outputs": [],
   "source": []
  },
  {
   "cell_type": "code",
   "execution_count": 74,
   "metadata": {
    "collapsed": false
   },
   "outputs": [
    {
     "data": {
      "text/plain": [
       "0"
      ]
     },
     "execution_count": 74,
     "metadata": {},
     "output_type": "execute_result"
    }
   ],
   "source": [
    "subprocess.call('inkscape --export-png=/home/john/projects/calculations/core_shell/ZnO_rTiO2_stress_core_hist.png /home/john/projects/calculations/core_shell/ZnO_rTiO2_stress_core_hist.svg',shell=True)"
   ]
  },
  {
   "cell_type": "code",
   "execution_count": null,
   "metadata": {
    "collapsed": true
   },
   "outputs": [],
   "source": []
  }
 ],
 "metadata": {
  "kernelspec": {
   "display_name": "Python 2",
   "language": "python",
   "name": "python2"
  },
  "language_info": {
   "codemirror_mode": {
    "name": "ipython",
    "version": 2
   },
   "file_extension": ".py",
   "mimetype": "text/x-python",
   "name": "python",
   "nbconvert_exporter": "python",
   "pygments_lexer": "ipython2",
   "version": "2.7.11"
  }
 },
 "nbformat": 4,
 "nbformat_minor": 0
}
