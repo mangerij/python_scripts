{
 "metadata": {
  "name": "nevilles"
 }, 
 "nbformat": 2, 
 "worksheets": [
  {
   "cells": [
    {
     "cell_type": "markdown", 
     "source": [
      "Call numpy (numerical package for python):"
     ]
    }, 
    {
     "cell_type": "code", 
     "collapsed": true, 
     "input": [
      "import numpy as np"
     ], 
     "language": "python", 
     "outputs": [], 
     "prompt_number": 23
    }, 
    {
     "cell_type": "markdown", 
     "source": [
      "First let's construct the initial data arrays:"
     ]
    }, 
    {
     "cell_type": "code", 
     "collapsed": true, 
     "input": [
      "x = {}", 
      "f = {}", 
      "step = 5", 
      "nsupport = 10", 
      "for j in range(0,nsupport,1):", 
      "    x[j] = -2 * np.pi + 2 * np.pi * j / step; f[j] = np.sin(x[j])", 
      "    "
     ], 
     "language": "python", 
     "outputs": [], 
     "prompt_number": 24
    }, 
    {
     "cell_type": "markdown", 
     "source": [
      "Building Neville's tree, note we map $P_{012} \\to P_0, P_{123} \\to P_{1}$ ect. Also, instead of using a different dictionary for each step in the tree, we can use the same function and just overwrite it to save memory:"
     ]
    }, 
    {
     "cell_type": "code", 
     "collapsed": true, 
     "input": [
      "def Nevilles(x, f, z):", 
      "    A = {};", 
      "    for k in range(0,len(x)-1):", 
      "        A[k, z] = ((z - x[k]) * f[k + 1] - (z - x[k + 1]) * f[k])/(x[k+1] - x[k])        ", 
      "    ", 
      "    for n in range(2,len(x)):", 
      "        for k in range(0,len(x)-n):", 
      "            A[k, z] = ((z - x[k]) * A[k + 1, z] - (z - x[k + n]) * A[k, z])/(x[k + n] - x[k])", 
      "", 
      "    return A[0, z]"
     ], 
     "language": "python", 
     "outputs": [], 
     "prompt_number": 25
    }, 
    {
     "cell_type": "markdown", 
     "source": [
      "Use numpy's linspace function to construct an evenly spaced array between $[-2 \\pi, 2 \\pi]$ of length 101."
     ]
    }, 
    {
     "cell_type": "code", 
     "collapsed": true, 
     "input": [
      "xdat = np.linspace(-2 * np.pi, 2 * np.pi, 101)"
     ], 
     "language": "python", 
     "outputs": [], 
     "prompt_number": 26
    }, 
    {
     "cell_type": "code", 
     "collapsed": true, 
     "input": [
      "g = np.zeros(len(xdat)); x = np.zeros(len(x)); f = np.zeros(len(x));  ", 
      "for k in range(0,len(xdat)):", 
      "    g[k] = Nevilles(x, f, xdat[k]) ", 
      "      ", 
      "for j in range(0,len(x)):", 
      "    x[j] = -2 * np.pi + 2 * np.pi * j / step", 
      "    f[j] = np.sin(x[j])"
     ], 
     "language": "python", 
     "outputs": [], 
     "prompt_number": 27
    }, 
    {
     "cell_type": "markdown", 
     "source": [
      "We use the matplotlib package(which has all of the functionality of MATLABs plotting libraries)"
     ]
    }, 
    {
     "cell_type": "code", 
     "collapsed": true, 
     "input": [
      "import matplotlib.pyplot as plt", 
      "", 
      "plt.plot(xdat,g,'r--')", 
      "plt.plot(x,f,'bo')", 
      "plt.ylabel('p(x)',fontsize=37)", 
      "plt.xlabel('x',fontsize=37)", 
      "plt.tick_params(axis='both', which='major', labelsize=30)", 
      "plt.tick_params(axis='both', which='minor', labelsize=30)", 
      "plt.show()"
     ], 
     "language": "python", 
     "outputs": [], 
     "prompt_number": 20
    }, 
    {
     "cell_type": "code", 
     "collapsed": true, 
     "input": [
      "import matplotlib.pyplot as plt", 
      "", 
      "plt.plot(xdat,np.abs(g - np.sin(xdat)),'b--')", 
      "plt.ylabel('|p(x) - $\\sin{x}$|',fontsize=37)", 
      "plt.xlabel('x',fontsize=37)", 
      "plt.tick_params(axis='both', which='major', labelsize=30)", 
      "plt.tick_params(axis='both', which='minor', labelsize=30)", 
      "plt.show()"
     ], 
     "language": "python", 
     "outputs": [], 
     "prompt_number": 21
    }, 
    {
     "cell_type": "markdown", 
     "source": [
      "Some interesting things are happening here. Moderate changes in error for factors of two increases to support points and hence the order of the interpolation.. but there is a maximum amount of support points that can be used"
     ]
    }
   ]
  }
 ]
}