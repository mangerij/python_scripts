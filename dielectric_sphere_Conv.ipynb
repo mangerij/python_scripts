{
 "metadata": {
  "name": "dielectric_sphere_Conv"
 }, 
 "nbformat": 2, 
 "worksheets": [
  {
   "cells": [
    {
     "cell_type": "code", 
     "collapsed": true, 
     "input": [
      "import os", 
      "import subprocess", 
      "import numpy as np", 
      "", 
      "os.chdir('/home/john/projects/ferret/')", 
      "", 
      "permitivitty_vec = np.linspace(4.425e-12,100.0e-10,6)  ", 
      "", 
      "for t in range(0,6):", 
      "    # Define the base file we will be iteratively modifiying #", 
      "    infile = open('/home/john/projects/ferret/dielectric_sphere_test_E_default.i')", 
      "    # Open the out file we will be writing at each step in the iteration #", 
      "    outfile = open('/home/john/projects/ferret/newdielectric_sphere_test_E_'+repr(t)+'.i', 'w')", 
      "    # Note that we are using -'+repr(t)+'.i' in order to for loop the path name. This is used again in the next line.", 
      "    replacements = {'permittivity = default':'permittivity = %s' % permitivitty_vec[t],'file_base = out_cube_die_sphere_implicit_strong_dt0_n80_size1_default':'file_base = out_cube_die_sphere_implicit_strong_dt0_n80_size1_er'+repr(t)}", 
      "    for line in infile:", 
      "        for src, target in replacements.iteritems():", 
      "            line = line.replace(src, target)", 
      "        outfile.write(line)", 
      "    infile.close()", 
      "    outfile.close()"
     ], 
     "language": "python", 
     "outputs": []
    }, 
    {
     "cell_type": "code", 
     "collapsed": true, 
     "input": [], 
     "language": "python", 
     "outputs": []
    }, 
    {
     "cell_type": "code", 
     "collapsed": true, 
     "input": [], 
     "language": "python", 
     "outputs": []
    }, 
    {
     "cell_type": "code", 
     "collapsed": true, 
     "input": [], 
     "language": "python", 
     "outputs": []
    }
   ]
  }
 ]
}