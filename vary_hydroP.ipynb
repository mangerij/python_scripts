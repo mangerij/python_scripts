{
 "metadata": {
  "name": "vary_hydroP"
 }, 
 "nbformat": 2, 
 "worksheets": [
  {
   "cells": [
    {
     "cell_type": "code", 
     "collapsed": true, 
     "input": [
      "import os", 
      "import subprocess", 
      "import numpy as np", 
      "", 
      "os.chdir('/home/john/projects/ferret/')", 
      "", 
      "pressure_vec = np.linspace(-1.0e-08,1.0e-08,121)  ", 
      "", 
      "for t in range(0,121):", 
      "    # Define the base file we will be iteratively modifiying #", 
      "    infile = open('/home/john/projects/ferret/vary_hydroP.i')", 
      "    # Open the out file we will be writing at each step in the iteration #", 
      "    outfile = open('/home/john/projects/ferret/newvary_hydroP-'+repr(t)+'.i', 'w')", 
      "    # Note that we are using -'+repr(t)+'.i' in order to for loop the path name. This is used again in the next line.", 
      "    replacements = {'pressure = default_pressure':'pressure = %s' % pressure_vec[t],'file_base = out_hydroBC-Surf_core_iso_shell-bg':'file_base = out_hydroBC-Surf_core_iso_shell-bg-'+repr(t)}", 
      "    for line in infile:", 
      "        for src, target in replacements.iteritems():", 
      "            line = line.replace(src, target)", 
      "        outfile.write(line)", 
      "    infile.close()", 
      "    outfile.close()"
     ], 
     "language": "python", 
     "outputs": [], 
     "prompt_number": 4
    }, 
    {
     "cell_type": "code", 
     "collapsed": true, 
     "input": [
      "for k in range(0,121):    ", 
      "    subprocess.call('mpiexec -n 8 ./ferret-opt -i newvary_hydroP-'+ repr(k)+'.i',shell=True)", 
      "#note that mpiexec -n 8 intializes 8 processors for computing. Outputs show up in terminal."
     ], 
     "language": "python", 
     "outputs": [], 
     "prompt_number": 6
    }, 
    {
     "cell_type": "code", 
     "collapsed": false, 
     "input": [
      "import os", 
      "import subprocess", 
      "", 
      "#This file only depends on the output from out_hydroBC-Surf_core_iso_shell-bg-k.e and number of mesh files", 
      "", 
      "os.chdir('/home/john/projects/ParaView-bin/bin/')", 
      "subprocess.call('pvpython /home/john/projects/scripts/CELLSMeshData.py',shell=True)", 
      "os.chdir('/home/john/projects/ferret/')", 
      "for k in range(0,121):", 
      "    for t in range(1,8):", 
      "        subprocess.call('rm MeshData-'+repr(k)+'-'+repr(t)+'.csv',shell=True)", 
      "", 
      "# Need to gather MeshData(including Volumes of the elements in order to normalize properly for any physical property)", 
      "# Have to remove excess files since ParaView is going to output more than one .csv but these ones are empty."
     ], 
     "language": "python", 
     "outputs": [
      {
       "ename": "KeyboardInterrupt", 
       "evalue": "", 
       "output_type": "pyerr", 
       "traceback": [
        "\u001b[0;31m---------------------------------------------------------------------------\u001b[0m\n\u001b[0;31mKeyboardInterrupt\u001b[0m                         Traceback (most recent call last)", 
        "\u001b[0;32m/home/john/projects/ParaView-bin/bin/<ipython-input-2-6192526d5966>\u001b[0m in \u001b[0;36m<module>\u001b[0;34m()\u001b[0m\n\u001b[1;32m      5\u001b[0m \u001b[0;34m\u001b[0m\u001b[0m\n\u001b[1;32m      6\u001b[0m \u001b[0mos\u001b[0m\u001b[0;34m.\u001b[0m\u001b[0mchdir\u001b[0m\u001b[0;34m(\u001b[0m\u001b[0;34m'/home/john/projects/ParaView-bin/bin/'\u001b[0m\u001b[0;34m)\u001b[0m\u001b[0;34m\u001b[0m\u001b[0m\n\u001b[0;32m----> 7\u001b[0;31m \u001b[0msubprocess\u001b[0m\u001b[0;34m.\u001b[0m\u001b[0mcall\u001b[0m\u001b[0;34m(\u001b[0m\u001b[0;34m'pvpython /home/john/projects/scripts/CELLSMeshData.py'\u001b[0m\u001b[0;34m,\u001b[0m\u001b[0mshell\u001b[0m\u001b[0;34m=\u001b[0m\u001b[0mTrue\u001b[0m\u001b[0;34m)\u001b[0m\u001b[0;34m\u001b[0m\u001b[0m\n\u001b[0m\u001b[1;32m      8\u001b[0m \u001b[0mos\u001b[0m\u001b[0;34m.\u001b[0m\u001b[0mchdir\u001b[0m\u001b[0;34m(\u001b[0m\u001b[0;34m'/home/john/projects/ferret/'\u001b[0m\u001b[0;34m)\u001b[0m\u001b[0;34m\u001b[0m\u001b[0m\n\u001b[1;32m      9\u001b[0m \u001b[0;32mfor\u001b[0m \u001b[0mk\u001b[0m \u001b[0;32min\u001b[0m \u001b[0mrange\u001b[0m\u001b[0;34m(\u001b[0m\u001b[0;36m0\u001b[0m\u001b[0;34m,\u001b[0m\u001b[0;36m121\u001b[0m\u001b[0;34m)\u001b[0m\u001b[0;34m:\u001b[0m\u001b[0;34m\u001b[0m\u001b[0m\n", 
        "\u001b[0;32m/usr/lib/python2.7/subprocess.pyc\u001b[0m in \u001b[0;36mcall\u001b[0;34m(*popenargs, **kwargs)\u001b[0m\n\u001b[1;32m    491\u001b[0m     \u001b[0mretcode\u001b[0m \u001b[0;34m=\u001b[0m \u001b[0mcall\u001b[0m\u001b[0;34m(\u001b[0m\u001b[0;34m[\u001b[0m\u001b[0;34m\"ls\"\u001b[0m\u001b[0;34m,\u001b[0m \u001b[0;34m\"-l\"\u001b[0m\u001b[0;34m]\u001b[0m\u001b[0;34m)\u001b[0m\u001b[0;34m\u001b[0m\u001b[0m\n\u001b[1;32m    492\u001b[0m     \"\"\"\n\u001b[0;32m--> 493\u001b[0;31m     \u001b[0;32mreturn\u001b[0m \u001b[0mPopen\u001b[0m\u001b[0;34m(\u001b[0m\u001b[0;34m*\u001b[0m\u001b[0mpopenargs\u001b[0m\u001b[0;34m,\u001b[0m \u001b[0;34m**\u001b[0m\u001b[0mkwargs\u001b[0m\u001b[0;34m)\u001b[0m\u001b[0;34m.\u001b[0m\u001b[0mwait\u001b[0m\u001b[0;34m(\u001b[0m\u001b[0;34m)\u001b[0m\u001b[0;34m\u001b[0m\u001b[0m\n\u001b[0m\u001b[1;32m    494\u001b[0m \u001b[0;34m\u001b[0m\u001b[0m\n\u001b[1;32m    495\u001b[0m \u001b[0;34m\u001b[0m\u001b[0m\n", 
        "\u001b[0;32m/usr/lib/python2.7/subprocess.pyc\u001b[0m in \u001b[0;36mwait\u001b[0;34m(self)\u001b[0m\n\u001b[1;32m   1289\u001b[0m             \u001b[0;32mif\u001b[0m \u001b[0mself\u001b[0m\u001b[0;34m.\u001b[0m\u001b[0mreturncode\u001b[0m \u001b[0;32mis\u001b[0m \u001b[0mNone\u001b[0m\u001b[0;34m:\u001b[0m\u001b[0;34m\u001b[0m\u001b[0m\n\u001b[1;32m   1290\u001b[0m                 \u001b[0;32mtry\u001b[0m\u001b[0;34m:\u001b[0m\u001b[0;34m\u001b[0m\u001b[0m\n\u001b[0;32m-> 1291\u001b[0;31m                     \u001b[0mpid\u001b[0m\u001b[0;34m,\u001b[0m \u001b[0msts\u001b[0m \u001b[0;34m=\u001b[0m \u001b[0m_eintr_retry_call\u001b[0m\u001b[0;34m(\u001b[0m\u001b[0mos\u001b[0m\u001b[0;34m.\u001b[0m\u001b[0mwaitpid\u001b[0m\u001b[0;34m,\u001b[0m \u001b[0mself\u001b[0m\u001b[0;34m.\u001b[0m\u001b[0mpid\u001b[0m\u001b[0;34m,\u001b[0m \u001b[0;36m0\u001b[0m\u001b[0;34m)\u001b[0m\u001b[0;34m\u001b[0m\u001b[0m\n\u001b[0m\u001b[1;32m   1292\u001b[0m                 \u001b[0;32mexcept\u001b[0m \u001b[0mOSError\u001b[0m \u001b[0;32mas\u001b[0m \u001b[0me\u001b[0m\u001b[0;34m:\u001b[0m\u001b[0;34m\u001b[0m\u001b[0m\n\u001b[1;32m   1293\u001b[0m                     \u001b[0;32mif\u001b[0m \u001b[0me\u001b[0m\u001b[0;34m.\u001b[0m\u001b[0merrno\u001b[0m \u001b[0;34m!=\u001b[0m \u001b[0merrno\u001b[0m\u001b[0;34m.\u001b[0m\u001b[0mECHILD\u001b[0m\u001b[0;34m:\u001b[0m\u001b[0;34m\u001b[0m\u001b[0m\n", 
        "\u001b[0;32m/usr/lib/python2.7/subprocess.pyc\u001b[0m in \u001b[0;36m_eintr_retry_call\u001b[0;34m(func, *args)\u001b[0m\n\u001b[1;32m    476\u001b[0m     \u001b[0;32mwhile\u001b[0m \u001b[0mTrue\u001b[0m\u001b[0;34m:\u001b[0m\u001b[0;34m\u001b[0m\u001b[0m\n\u001b[1;32m    477\u001b[0m         \u001b[0;32mtry\u001b[0m\u001b[0;34m:\u001b[0m\u001b[0;34m\u001b[0m\u001b[0m\n\u001b[0;32m--> 478\u001b[0;31m             \u001b[0;32mreturn\u001b[0m \u001b[0mfunc\u001b[0m\u001b[0;34m(\u001b[0m\u001b[0;34m*\u001b[0m\u001b[0margs\u001b[0m\u001b[0;34m)\u001b[0m\u001b[0;34m\u001b[0m\u001b[0m\n\u001b[0m\u001b[1;32m    479\u001b[0m         \u001b[0;32mexcept\u001b[0m \u001b[0;34m(\u001b[0m\u001b[0mOSError\u001b[0m\u001b[0;34m,\u001b[0m \u001b[0mIOError\u001b[0m\u001b[0;34m)\u001b[0m \u001b[0;32mas\u001b[0m \u001b[0me\u001b[0m\u001b[0;34m:\u001b[0m\u001b[0;34m\u001b[0m\u001b[0m\n\u001b[1;32m    480\u001b[0m             \u001b[0;32mif\u001b[0m \u001b[0me\u001b[0m\u001b[0;34m.\u001b[0m\u001b[0merrno\u001b[0m \u001b[0;34m==\u001b[0m \u001b[0merrno\u001b[0m\u001b[0;34m.\u001b[0m\u001b[0mEINTR\u001b[0m\u001b[0;34m:\u001b[0m\u001b[0;34m\u001b[0m\u001b[0m\n", 
        "\u001b[0;31mKeyboardInterrupt\u001b[0m: "
       ]
      }
     ], 
     "prompt_number": 2
    }, 
    {
     "cell_type": "code", 
     "collapsed": false, 
     "input": [
      "#SAVE normalizedVEC as .CSV for animation:", 
      "import numpy as np", 
      "for k in range(0,121):    ", 
      "    data_SigmaVolume = np.genfromtxt('/home/john/projects/calculations/core_shell/vary_hydroP/MeshData-'+str(k)+'-0.csv',delimiter=',', dtype = float)", 
      "    Eg = [row[8] for row in data_SigmaVolume]", 
      "    vol = [row[14] for row in data_SigmaVolume] ", 
      "    ", 
      "    nbins = 300", 
      "", 
      "        # stresses", 
      "    sxx = [row[0] for row in data_SigmaVolume] #generate vectors of data  can forloop this for all columns of data", 
      "    syy = [row[1] for row in data_SigmaVolume]", 
      "    szz = [row[2] for row in data_SigmaVolume]", 
      "    # strains", 
      "    exx = [row[3] for row in data_SigmaVolume]", 
      "    eyy = [row[4] for row in data_SigmaVolume]", 
      "    ezz = [row[5] for row in data_SigmaVolume]", 
      "    # volume", 
      "    Hxx, xedgesxx, yedgesxx = np.histogram2d(sxx[1:len(sxx)],vol[1:len(vol)],bins=nbins)", 
      "    Hyy, xedgesyy, yedgesyy = np.histogram2d(syy[1:len(szz)],vol[1:len(vol)],bins=nbins)", 
      "    Hzz, xedgeszz, yedgeszz = np.histogram2d(szz[1:len(szz)],vol[1:len(vol)],bins=nbins)", 
      "    Hbg, xedgesbg, yedgesbg = np.histogram2d(Eg[1:len(Eg)],vol[1:len(vol)],bins=nbins)", 
      "", 
      "    Hxx = np.rot90(Hxx)", 
      "    Hxx = np.flipud(Hxx)", 
      "    Hyy = np.rot90(Hyy)", 
      "    Hyy = np.flipud(Hyy)", 
      "    Hzz = np.rot90(Hzz)", 
      "    Hzz = np.flipud(Hzz)", 
      "    Hbg = np.rot90(Hbg)", 
      "    Hbg = np.flipud(Hbg)", 
      "", 
      "    yedgesxx_up = yedgesxx[0:len(yedgesxx)-1]+(yedgesxx[1:len(yedgesxx)]-yedgesxx[0:len(yedgesxx)-1])/2", 
      "    yedgesyy_up = yedgesyy[0:len(yedgesyy)-1]+(yedgesyy[1:len(yedgesyy)]-yedgesyy[0:len(yedgesyy)-1])/2", 
      "    yedgeszz_up = yedgeszz[0:len(yedgeszz)-1]+(yedgeszz[1:len(yedgeszz)]-yedgeszz[0:len(yedgeszz)-1])/2", 
      "    yedgesbg_up = yedgesbg[0:len(yedgesbg)-1]+(yedgesbg[1:len(yedgesbg)]-yedgesbg[0:len(yedgesbg)-1])/2", 
      "    ", 
      "#here we are summing V[j]=Table[Hxx[k,j]v[k],{k,all}]", 
      "    vxxj = np.einsum('ij,i',Hxx,yedgesxx_up)", 
      "    vyyj = np.einsum('ij,i',Hyy,yedgesyy_up)", 
      "    vzzj = np.einsum('ij,i',Hzz,yedgeszz_up)", 
      "    vEgj = np.einsum('ij,i',Hbg,yedgesbg_up)", 
      "#note we have to assume the value is in between the bin edges", 
      "", 
      "    Vxxj = vxxj/sum(vxxj)*100", 
      "    Vyyj = vyyj/sum(vyyj)*100", 
      "    Vzzj = vzzj/sum(vzzj)*100", 
      "    VEgj = vEgj/sum(vEgj)*100", 
      "", 
      "    x_xx = xedgesxx[0:len(xedgesxx)-1]+(xedgesxx[1:len(xedgesxx)]-xedgesxx[0:len(xedgesxx)-1])/2", 
      "    x_yy = xedgesyy[0:len(xedgesyy)-1]+(xedgesyy[1:len(xedgesyy)]-xedgesyy[0:len(xedgesyy)-1])/2", 
      "    x_zz = xedgeszz[0:len(xedgeszz)-1]+(xedgeszz[1:len(xedgeszz)]-xedgeszz[0:len(xedgeszz)-1])/2", 
      "    x_bg = xedgesbg[0:len(xedgesbg)-1]+(xedgesbg[1:len(xedgesbg)]-xedgesbg[0:len(xedgesbg)-1])/2", 
      "    ", 
      "    np.savetxt(\"/home/john/projects/calculations/core_shell/vary_hydroP/data_for_animation-\"+str(k)+\".csv\",[x_bg,x_xx,x_yy,x_zz,VEgj,Vxxj,Vyyj,Vzzj],delimiter=\",\")    ", 
      " "
     ], 
     "language": "python", 
     "outputs": [], 
     "prompt_number": 15
    }, 
    {
     "cell_type": "code", 
     "collapsed": false, 
     "input": [
      "sum(VEgj),sum(Vxxj),sum(Vyyj),sum(Vzzj),sum(vEgj)"
     ], 
     "language": "python", 
     "outputs": [
      {
       "output_type": "pyout", 
       "prompt_number": 10, 
       "text": [
        "(99.999999999999915,", 
        " 100.00000000000007,", 
        " 99.999999999999943,", 
        " 99.999999999999929,", 
        " 14092.268534710001)"
       ]
      }
     ], 
     "prompt_number": 10
    }, 
    {
     "cell_type": "code", 
     "collapsed": true, 
     "input": [
      "import numpy as np", 
      "pressure_vec = np.linspace(-1.0e-08,1.0e-08,121) "
     ], 
     "language": "python", 
     "outputs": [], 
     "prompt_number": 4
    }, 
    {
     "cell_type": "code", 
     "collapsed": true, 
     "input": [], 
     "language": "python", 
     "outputs": []
    }
   ]
  }
 ]
}