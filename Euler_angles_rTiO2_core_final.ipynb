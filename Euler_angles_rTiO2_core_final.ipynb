{
 "cells": [
  {
   "cell_type": "code",
   "execution_count": null,
   "metadata": {
    "collapsed": true
   },
   "outputs": [],
   "source": []
  },
  {
   "cell_type": "code",
   "execution_count": 1,
   "metadata": {
    "collapsed": true
   },
   "outputs": [],
   "source": [
    "#MOOSE related stuff ran through script on HORNET:\n",
    "\n",
    "import os\n",
    "import subprocess\n",
    "\n",
    "for k in range(1,5):\n",
    "    os.chdir('/home/john/projects/ParaView-bin/bin/')\n",
    "    subprocess.call('pvpython /media/My\\ Passport/Linux/projects/calculations/core_shell/final_plots/vary_Euler_rTiO2/scripts-and-out-files/MeshEuler-rTiO2-core-'+repr(k)+'.py',shell=True)\n",
    "    subprocess.call('espeak \"Your pvpython script is done loading the Euler core data for part '+repr(k)+'\"',shell=True) #tested, works in this order"
   ]
  },
  {
   "cell_type": "code",
   "execution_count": 1,
   "metadata": {
    "collapsed": true
   },
   "outputs": [],
   "source": [
    "# numpy genfromtxt crashes when loading large files, have to use an iterative loading scheme\n",
    "# Found on stackexchange with some interesting plots on memory. We are essentially using this sceme above with the pvpython scripts\n",
    "\n",
    "import numpy as np\n",
    "\n",
    "def iter_loadtxt(filename, delimiter=',', skiprows=1, dtype=float):\n",
    "    def iter_func():\n",
    "        with open(filename, 'r') as infile:\n",
    "            for _ in range(skiprows):\n",
    "                next(infile)\n",
    "            for line in infile:\n",
    "                line = line.rstrip().split(delimiter)\n",
    "                for item in line:\n",
    "                    yield dtype(item)\n",
    "        iter_loadtxt.rowlength = len(line)\n",
    "\n",
    "    data = np.fromiter(iter_func(), dtype=dtype)\n",
    "    data = data.reshape((-1, iter_loadtxt.rowlength))\n",
    "    return data"
   ]
  },
  {
   "cell_type": "code",
   "execution_count": 2,
   "metadata": {
    "collapsed": false
   },
   "outputs": [
    {
     "data": {
      "text/plain": [
       "0"
      ]
     },
     "execution_count": 2,
     "metadata": {},
     "output_type": "execute_result"
    }
   ],
   "source": [
    "import subprocess\n",
    "\n",
    "euler_2_vec = np.linspace(0,180,40); euler_3_vec = np.linspace(0,180,40);\n",
    "\n",
    "Eg1 = {}; Eg2 = {}; Eg3 = {}; Eg4 = {}; Eg5 = {};\n",
    "vol1 = {}; vol2 = {}; vol3 = {}; vol4 = {}; vol5 = {};\n",
    "Sxx1 = {}; Sxx2 = {}; Sxx3 = {}; Sxx4 = {}; Sxx5 = {};  \n",
    "Szz1 = {}; Szz2 = {}; Szz3 = {}; Szz4 = {}; Szz5 = {}; \n",
    "\n",
    "varEg = np.zeros((40,40));\n",
    "varEg_weighted = np.zeros((40,40));\n",
    "varSxx_weighted = np.zeros((40,40));\n",
    "varSzz_weighted = np.zeros((40,40,));\n",
    "vol_total_stored = np.zeros((40,40));\n",
    "meanEg_weighted = np.zeros((40,40));\n",
    "\n",
    "fileset_data1 = {}; fileset_data2 = {}; fileset_data3 = {}; fileset_data4 = {}; fileset_data5 = {};\n",
    "\n",
    "for k in range(0,40):\n",
    "    for j in range(0,10):\n",
    "        fileset_data1[k,j] = iter_loadtxt('/media/My Passport/Linux/projects/calculations/core_shell/final_plots/vary_Euler_rTiO2/core-data-1/MeshData-'+repr(k)+'-'+repr(j)+'-12.csv',delimiter=',',skiprows=1,dtype=float)\n",
    "for k in range(0,40):\n",
    "    for j in range(0,10):\n",
    "        Eg1 = [row[8] for row in fileset_data1[k,j]]\n",
    "        Sxx1 = [row[0] for row in fileset_data1[k,j]]\n",
    "        Szz1 = [row[2] for row in fileset_data1[k,j]]\n",
    "        vol1 = [row[12] for row in fileset_data1[k,j]]\n",
    "        varEg[k,j] = np.var(Eg1)\n",
    "        vol1_total = sum(vol1)\n",
    "        vol_total_stored[k,j] = vol1_total\n",
    "        vol1_norm = vol1/vol1_total\n",
    "        meanEg1_weighted = np.einsum('i,i',vol1_norm,Eg1)\n",
    "        meanSxx1_weighted = np.einsum('i,i',vol1_norm,Sxx1)\n",
    "        meanSzz1_weighted = np.einsum('i,i',vol1_norm,Szz1)\n",
    "        varSxx_weighted[k,j] = sum(vol1_norm * np.power((Sxx1 - meanSxx1_weighted),2))\n",
    "        varSzz_weighted[k,j] = sum(vol1_norm * np.power((Szz1 - meanSzz1_weighted),2))\n",
    "        varEg_weighted[k,j] = sum(vol1_norm * np.power((Eg1 - meanEg1_weighted),2))\n",
    "        meanEg_weighted[k,j] = np.einsum('i,i',vol1_norm,Eg1)\n",
    "        \n",
    "%xdel fileset_data1 \n",
    "%xdel Eg1\n",
    "%xdel vol1\n",
    "%xdel Sxx1\n",
    "%xdel Szz1\n",
    "\n",
    "\n",
    "for k in range(0,40):\n",
    "    for j in range(10,20):\n",
    "        fileset_data2[k,j] = iter_loadtxt('/media/My Passport/Linux/projects/calculations/core_shell/final_plots/vary_Euler_rTiO2/core-data-2/MeshData-'+repr(k)+'-'+repr(j)+'-12.csv',delimiter=',',skiprows=1,dtype=float)\n",
    "for k in range(0,40):\n",
    "    for j in range(10,20):\n",
    "        Eg2 = [row[8] for row in fileset_data2[k,j]]\n",
    "        Sxx2 = [row[0] for row in fileset_data2[k,j]]\n",
    "        Szz2 = [row[2] for row in fileset_data2[k,j]]\n",
    "        vol2 = [row[12] for row in fileset_data2[k,j]]\n",
    "        varEg[k,j] = np.var(Eg2)\n",
    "        vol2_total = sum(vol2)\n",
    "        vol_total_stored[k,j] = vol2_total\n",
    "        vol2_norm = vol2/vol2_total\n",
    "        meanEg2_weighted = np.einsum('i,i',vol2_norm,Eg2) \n",
    "        meanSxx2_weighted = np.einsum('i,i',vol2_norm,Sxx2)\n",
    "        meanSzz2_weighted = np.einsum('i,i',vol2_norm,Szz2)\n",
    "        varSxx_weighted[k,j] = sum(vol2_norm * np.power((Sxx2 - meanSxx2_weighted),2))\n",
    "        varSzz_weighted[k,j] = sum(vol2_norm * np.power((Szz2 - meanSzz2_weighted),2))\n",
    "        varEg_weighted[k,j] = sum(vol2_norm * np.power((Eg2 - meanEg2_weighted),2))\n",
    "        meanEg_weighted[k,j] = np.einsum('i,i',vol2_norm,Eg2)\n",
    "        \n",
    "%xdel fileset_data2 \n",
    "%xdel Eg2\n",
    "%xdel vol2\n",
    "%xdel Sxx2\n",
    "%xdel Szz2\n",
    "\n",
    "for k in range(0,40):\n",
    "    for j in range(20,30):\n",
    "        fileset_data3[k,j] = iter_loadtxt('/media/My Passport/Linux/projects/calculations/core_shell/final_plots/vary_Euler_rTiO2/core-data-3/MeshData-'+repr(k)+'-'+repr(j)+'-12.csv',delimiter=',',skiprows=1,dtype=float)\n",
    "for k in range(0,40):\n",
    "    for j in range(20,30):\n",
    "        Eg3 = [row[8] for row in fileset_data3[k,j]]\n",
    "        Sxx3 = [row[0] for row in fileset_data3[k,j]]\n",
    "        Szz3 = [row[2] for row in fileset_data3[k,j]]\n",
    "        vol3 = [row[12] for row in fileset_data3[k,j]]\n",
    "        varEg[k,j] = np.var(Eg3)\n",
    "        vol3_total = sum(vol3)\n",
    "        vol_total_stored[k,j] = vol3_total\n",
    "        vol3_norm = vol3/vol3_total\n",
    "        meanEg3_weighted = np.einsum('i,i',vol3_norm,Eg3)\n",
    "        meanSxx3_weighted = np.einsum('i,i',vol3_norm,Sxx3)\n",
    "        meanSzz3_weighted = np.einsum('i,i',vol3_norm,Szz3)\n",
    "        varSxx_weighted[k,j] = sum(vol3_norm * np.power((Sxx3 - meanSxx3_weighted),2))\n",
    "        varSzz_weighted[k,j] = sum(vol3_norm * np.power((Szz3 - meanSzz3_weighted),2))\n",
    "        varEg_weighted[k,j] = sum(vol3_norm * np.power((Eg3 - meanEg3_weighted),2))\n",
    "        meanEg_weighted[k,j] = np.einsum('i,i',vol3_norm,Eg3)\n",
    "        \n",
    "%xdel fileset_data3 \n",
    "%xdel Eg3\n",
    "%xdel vol3\n",
    "%xdel Sxx3\n",
    "%xdel Szz3\n",
    "\n",
    "for k in range(0,40):\n",
    "    for j in range(30,40):\n",
    "        fileset_data4[k,j] = iter_loadtxt('/media/My Passport/Linux/projects/calculations/core_shell/final_plots/vary_Euler_rTiO2/core-data-4/MeshData-'+repr(k)+'-'+repr(j)+'-12.csv',delimiter=',',skiprows=1,dtype=float)\n",
    "for k in range(0,40):\n",
    "    for j in range(30,40):\n",
    "        Eg4 = [row[8] for row in fileset_data4[k,j]]\n",
    "        Sxx4 = [row[0] for row in fileset_data4[k,j]]\n",
    "        Szz4 = [row[2] for row in fileset_data4[k,j]]\n",
    "        vol4 = [row[12] for row in fileset_data4[k,j]]\n",
    "        varEg[k,j] = np.var(Eg4)\n",
    "        vol4_total = sum(vol4)\n",
    "        vol_total_stored[k,j] = vol4_total\n",
    "        vol4_norm = vol4/vol4_total\n",
    "        meanEg4_weighted = np.einsum('i,i',vol4_norm,Eg4)\n",
    "        meanSxx4_weighted = np.einsum('i,i',vol4_norm,Sxx4)\n",
    "        meanSzz4_weighted = np.einsum('i,i',vol4_norm,Szz4)\n",
    "        varSxx_weighted[k,j] = sum(vol4_norm * np.power((Sxx4 - meanSxx4_weighted),2))\n",
    "        varSzz_weighted[k,j] = sum(vol4_norm * np.power((Szz4 - meanSzz4_weighted),2))\n",
    "        varEg_weighted[k,j] = sum(vol4_norm * np.power((Eg4 - meanEg4_weighted),2))\n",
    "        meanEg_weighted[k,j] = np.einsum('i,i',vol4_norm,Eg4)\n",
    "        \n",
    "%xdel fileset_data4\n",
    "%xdel Eg4\n",
    "%xdel vol4\n",
    "%xdel Sxx4\n",
    "%xdel Szz4\n",
    "\n",
    "\n",
    "subprocess.call('espeak \"Load complete\"',shell=True)"
   ]
  },
  {
   "cell_type": "code",
   "execution_count": 4,
   "metadata": {
    "collapsed": true
   },
   "outputs": [],
   "source": [
    "import numpy as np\n",
    "from mpl_toolkits.mplot3d import Axes3D\n",
    "import matplotlib.pyplot as plt\n",
    "from matplotlib import rc\n",
    "\n",
    "plt.pcolormesh(euler_2_vec,euler_3_vec,varEg_weighted*np.power(10,7))\n",
    "#use \\theta \\phi \\Psi convention\n",
    "plt.ylabel('$\\phi$',fontsize=18)\n",
    "plt.xlabel('$\\Psi$',fontsize= 18)\n",
    "#%xdel cbar3\n",
    "cbar3 = plt.colorbar()\n",
    "cbar3.ax.set_ylabel('$\\mathrm{var}( E_{g})\\,\\,10^{-7} \\,\\,[\\mathrm{eV}^2]$',fontsize=18)\n",
    "plt.xlim([0,180])\n",
    "tick_vals = np.linspace(0,180,3)\n",
    "tick_labels = [tick_vals[i] for i in range(len(tick_vals))]\n",
    "tick_labels[0] = ''\n",
    "tick_labels[1] = '$\\pi/2$'\n",
    "tick_labels[2] = '$\\pi$'\n",
    "plt.xticks(tick_vals, tick_labels)\n",
    "plt.ylim([0,180])\n",
    "tick_vals = np.linspace(0,180,3)\n",
    "tick_labels = [tick_vals[i] for i in range(len(tick_vals))]\n",
    "tick_labels[0] = '0'\n",
    "tick_labels[1] = '$\\pi/2$'\n",
    "tick_labels[2] = '$\\pi$'\n",
    "plt.yticks(tick_vals, tick_labels)\n",
    "plt.tick_params(axis='both', which='major', labelsize=18)\n",
    "#plt.title('volume weighted variance of band gap for ZnO shell')\n",
    "plt.savefig(\"/home/john/projects/varEg_weighted_ZnO_Core.eps\",format='eps',dpi=600,bbox_inches = 'tight')\n",
    "#plt.show()"
   ]
  },
  {
   "cell_type": "code",
   "execution_count": null,
   "metadata": {
    "collapsed": true
   },
   "outputs": [],
   "source": []
  },
  {
   "cell_type": "code",
   "execution_count": null,
   "metadata": {
    "collapsed": true
   },
   "outputs": [],
   "source": []
  },
  {
   "cell_type": "code",
   "execution_count": 4,
   "metadata": {
    "collapsed": false
   },
   "outputs": [
    {
     "data": {
      "text/plain": [
       "0"
      ]
     },
     "execution_count": 4,
     "metadata": {},
     "output_type": "execute_result"
    }
   ],
   "source": [
    "subprocess.call('pvpython /media/My\\ Passport/Linux/projects/calculations/core_shell/final_plots/vary_Euler_rTiO2/scripts-and-out-files/MeshEuler-rTiO2-core-test.py',shell=True)"
   ]
  },
  {
   "cell_type": "code",
   "execution_count": null,
   "metadata": {
    "collapsed": true
   },
   "outputs": [],
   "source": []
  },
  {
   "cell_type": "code",
   "execution_count": 11,
   "metadata": {
    "collapsed": true
   },
   "outputs": [],
   "source": [
    "from mpl_toolkits.mplot3d import axes3d\n",
    "import matplotlib.pyplot as plt\n",
    "import numpy as np\n",
    "\n",
    "fig = plt.figure()\n",
    "ax = fig.add_subplot(111, projection='3d')\n",
    "X, Y, Z = axes3d.get_test_data(0.05)\n",
    "ax.plot_wireframe(X, Y, Z, rstride=10, cstride=10)\n",
    "\n",
    "plt.show()"
   ]
  },
  {
   "cell_type": "code",
   "execution_count": null,
   "metadata": {
    "collapsed": true
   },
   "outputs": [],
   "source": []
  }
 ],
 "metadata": {
  "kernelspec": {
   "display_name": "Python 2",
   "language": "python",
   "name": "python2"
  },
  "language_info": {
   "codemirror_mode": {
    "name": "ipython",
    "version": 2
   },
   "file_extension": ".py",
   "mimetype": "text/x-python",
   "name": "python",
   "nbconvert_exporter": "python",
   "pygments_lexer": "ipython2",
   "version": "2.7.11"
  }
 },
 "nbformat": 4,
 "nbformat_minor": 0
}
