{
 "cells": [
  {
   "cell_type": "code",
   "execution_count": 1,
   "metadata": {
    "collapsed": true
   },
   "outputs": [],
   "source": [
    "import numpy as np\n",
    "import time as time\n",
    "\n",
    "#implement a fast loader\n",
    "\n",
    "def iter_loadtxt(filename, delimiter=',', skiprows=1, dtype=float):\n",
    "    def iter_func():\n",
    "        with open(filename, 'r') as infile:\n",
    "            for _ in range(skiprows):\n",
    "                next(infile)\n",
    "            for line in infile:\n",
    "                line = line.rstrip().split(delimiter)\n",
    "                for item in line:\n",
    "                    yield dtype(item)\n",
    "        iter_loadtxt.rowlength = len(line)\n",
    "\n",
    "    data = np.fromiter(iter_func(), dtype=dtype)\n",
    "    data = data.reshape((-1, iter_loadtxt.rowlength))\n",
    "    return data"
   ]
  },
  {
   "cell_type": "code",
   "execution_count": 2,
   "metadata": {
    "collapsed": false
   },
   "outputs": [],
   "source": [
    "#This code will import nodal polar vector values\n",
    "\n",
    "\n",
    "file1 = iter_loadtxt('/media/john/My Passport/Sphere project data/run2--curl/data1.csv',delimiter=',',skiprows=1,dtype=float)\n",
    "file2 = iter_loadtxt('/media/john/My Passport/Sphere project data/run2--curl/data2.csv',delimiter=',',skiprows=1,dtype=float)\n",
    "file3 = iter_loadtxt('/media/john/My Passport/Sphere project data/run2--curl/data3.csv',delimiter=',',skiprows=1,dtype=float)\n",
    "file4 = iter_loadtxt('/media/john/My Passport/Sphere project data/run2--curl/data4.csv',delimiter=',',skiprows=1,dtype=float)\n",
    "file5 = iter_loadtxt('/media/john/My Passport/Sphere project data/run2--curl/data5.csv',delimiter=',',skiprows=1,dtype=float)\n",
    "file6 = iter_loadtxt('/media/john/My Passport/Sphere project data/run2--curl/data6.csv',delimiter=',',skiprows=1,dtype=float)\n",
    "file7 = iter_loadtxt('/media/john/My Passport/Sphere project data/run2--curl/data7.csv',delimiter=',',skiprows=1,dtype=float)\n",
    "file8 = iter_loadtxt('/media/john/My Passport/Sphere project data/run2--curl/data8.csv',delimiter=',',skiprows=1,dtype=float)\n",
    "file9 = iter_loadtxt('/media/john/My Passport/Sphere project data/run2--curl/data9.csv',delimiter=',',skiprows=1,dtype=float)\n",
    "file10 = iter_loadtxt('/media/john/My Passport/Sphere project data/run2--curl/data10.csv',delimiter=',',skiprows=1,dtype=float)\n",
    "file11 = iter_loadtxt('/media/john/My Passport/Sphere project data/run2--curl/data11.csv',delimiter=',',skiprows=1,dtype=float)\n",
    "file12 = iter_loadtxt('/media/john/My Passport/Sphere project data/run2--curl/data12.csv',delimiter=',',skiprows=1,dtype=float)\n",
    "file13 = iter_loadtxt('/media/john/My Passport/Sphere project data/run2--curl/data13.csv',delimiter=',',skiprows=1,dtype=float)\n",
    "file14 = iter_loadtxt('/media/john/My Passport/Sphere project data/run2--curl/data14.csv',delimiter=',',skiprows=1,dtype=float)\n",
    "file15 = iter_loadtxt('/media/john/My Passport/Sphere project data/run2--curl/data15.csv',delimiter=',',skiprows=1,dtype=float)\n",
    "file16 = iter_loadtxt('/media/john/My Passport/Sphere project data/run2--curl/data16.csv',delimiter=',',skiprows=1,dtype=float)\n",
    "file17 = iter_loadtxt('/media/john/My Passport/Sphere project data/run2--curl/data17.csv',delimiter=',',skiprows=1,dtype=float)\n",
    "file18 = iter_loadtxt('/media/john/My Passport/Sphere project data/run2--curl/data18.csv',delimiter=',',skiprows=1,dtype=float)\n",
    "file19 = iter_loadtxt('/media/john/My Passport/Sphere project data/run2--curl/data19.csv',delimiter=',',skiprows=1,dtype=float)\n",
    "file20 = iter_loadtxt('/media/john/My Passport/Sphere project data/run2--curl/data20.csv',delimiter=',',skiprows=1,dtype=float)\n",
    "file21 = iter_loadtxt('/media/john/My Passport/Sphere project data/run2--curl/data21.csv',delimiter=',',skiprows=1,dtype=float)\n",
    "file22 = iter_loadtxt('/media/john/My Passport/Sphere project data/run2--curl/data22.csv',delimiter=',',skiprows=1,dtype=float)\n",
    "file23 = iter_loadtxt('/media/john/My Passport/Sphere project data/run2--curl/data23.csv',delimiter=',',skiprows=1,dtype=float)\n",
    "file24 = iter_loadtxt('/media/john/My Passport/Sphere project data/run2--curl/data24.csv',delimiter=',',skiprows=1,dtype=float)\n",
    "file25 = iter_loadtxt('/media/john/My Passport/Sphere project data/run2--curl/data25.csv',delimiter=',',skiprows=1,dtype=float)"
   ]
  },
  {
   "cell_type": "code",
   "execution_count": 3,
   "metadata": {
    "collapsed": true
   },
   "outputs": [],
   "source": [
    "#define variables\n",
    "\n",
    "polar10 = [row[1] for row in file1]\n",
    "polar11 = [row[2] for row in file1]\n",
    "polar12 = [row[3] for row in file1]\n",
    "r10 = [row[4] for row in file1]\n",
    "r11 = [row[5] for row in file1]\n",
    "r12 = [row[6] for row in file1]\n",
    "\n",
    "polar20 = [row[1] for row in file2]\n",
    "polar21 = [row[2] for row in file2]\n",
    "polar22 = [row[3] for row in file2]\n",
    "r20 = [row[4] for row in file2]\n",
    "r21 = [row[5] for row in file2]\n",
    "r22 = [row[6] for row in file2]\n",
    "\n",
    "polar30 = [row[1] for row in file3]\n",
    "polar31 = [row[2] for row in file3]\n",
    "polar32 = [row[3] for row in file3]\n",
    "r30 = [row[4] for row in file3]\n",
    "r31 = [row[5] for row in file3]\n",
    "r32 = [row[6] for row in file3]\n",
    "\n",
    "polar40 = [row[1] for row in file4]\n",
    "polar41 = [row[2] for row in file4]\n",
    "polar42 = [row[3] for row in file4]\n",
    "r40 = [row[4] for row in file4]\n",
    "r41 = [row[5] for row in file4]\n",
    "r42 = [row[6] for row in file4]\n",
    "\n",
    "polar50 = [row[1] for row in file5]\n",
    "polar51 = [row[2] for row in file5]\n",
    "polar52 = [row[3] for row in file5]\n",
    "r50 = [row[4] for row in file5]\n",
    "r51 = [row[5] for row in file5]\n",
    "r52 = [row[6] for row in file5]\n",
    "\n",
    "polar60 = [row[1] for row in file6]\n",
    "polar61 = [row[2] for row in file6]\n",
    "polar62 = [row[3] for row in file6]\n",
    "r60 = [row[4] for row in file6]\n",
    "r61 = [row[5] for row in file6]\n",
    "r62 = [row[6] for row in file6]\n",
    "\n",
    "polar70 = [row[1] for row in file7]\n",
    "polar71 = [row[2] for row in file7]\n",
    "polar72 = [row[3] for row in file7]\n",
    "r70 = [row[4] for row in file7]\n",
    "r71 = [row[5] for row in file7]\n",
    "r72 = [row[6] for row in file7]\n",
    "\n",
    "polar80 = [row[1] for row in file8]\n",
    "polar81 = [row[2] for row in file8]\n",
    "polar82 = [row[3] for row in file8]\n",
    "r80 = [row[4] for row in file8]\n",
    "r81 = [row[5] for row in file8]\n",
    "r82 = [row[6] for row in file8]\n",
    "\n",
    "polar90 = [row[1] for row in file9]\n",
    "polar91 = [row[2] for row in file9]\n",
    "polar92 = [row[3] for row in file9]\n",
    "r90 = [row[4] for row in file9]\n",
    "r91 = [row[5] for row in file9]\n",
    "r92 = [row[6] for row in file9]\n",
    "\n",
    "polar100 = [row[1] for row in file10]\n",
    "polar101 = [row[2] for row in file10]\n",
    "polar102 = [row[3] for row in file10]\n",
    "r100 = [row[4] for row in file10]\n",
    "r101 = [row[5] for row in file10]\n",
    "r102 = [row[6] for row in file10]\n",
    "\n",
    "polar110 = [row[1] for row in file11]\n",
    "polar111 = [row[2] for row in file11]\n",
    "polar112 = [row[3] for row in file11]\n",
    "r110 = [row[4] for row in file11]\n",
    "r111 = [row[5] for row in file11]\n",
    "r112 = [row[6] for row in file11]\n",
    "\n",
    "polar120 = [row[1] for row in file12]\n",
    "polar121 = [row[2] for row in file12]\n",
    "polar122 = [row[3] for row in file12]\n",
    "r120 = [row[4] for row in file12]\n",
    "r121 = [row[5] for row in file12]\n",
    "r122 = [row[6] for row in file12]\n",
    "\n",
    "polar130 = [row[1] for row in file13]\n",
    "polar131 = [row[2] for row in file13]\n",
    "polar132 = [row[3] for row in file13]\n",
    "r130 = [row[4] for row in file13]\n",
    "r131 = [row[5] for row in file13]\n",
    "r132 = [row[6] for row in file13]\n",
    "\n",
    "polar140 = [row[1] for row in file14]\n",
    "polar141 = [row[2] for row in file14]\n",
    "polar142 = [row[3] for row in file14]\n",
    "r140 = [row[4] for row in file14]\n",
    "r141 = [row[5] for row in file14]\n",
    "r142 = [row[6] for row in file14]\n",
    "\n",
    "\n",
    "polar150 = [row[1] for row in file15]\n",
    "polar151 = [row[2] for row in file15]\n",
    "polar152 = [row[3] for row in file15]\n",
    "r150 = [row[4] for row in file15]\n",
    "r151 = [row[5] for row in file15]\n",
    "r152 = [row[6] for row in file15]\n",
    "\n",
    "\n",
    "polar160 = [row[1] for row in file16]\n",
    "polar161 = [row[2] for row in file16]\n",
    "polar162 = [row[3] for row in file16]\n",
    "r160 = [row[4] for row in file16]\n",
    "r161 = [row[5] for row in file16]\n",
    "r162 = [row[6] for row in file16]\n",
    "\n",
    "\n",
    "polar170 = [row[1] for row in file17]\n",
    "polar171 = [row[2] for row in file17]\n",
    "polar172 = [row[3] for row in file17]\n",
    "r170 = [row[4] for row in file17]\n",
    "r171 = [row[5] for row in file17]\n",
    "r172 = [row[6] for row in file17]\n",
    "\n",
    "\n",
    "polar180 = [row[1] for row in file18]\n",
    "polar181 = [row[2] for row in file18]\n",
    "polar182 = [row[3] for row in file18]\n",
    "r180 = [row[4] for row in file18]\n",
    "r181 = [row[5] for row in file18]\n",
    "r182 = [row[6] for row in file18]\n",
    "\n",
    "\n",
    "polar190 = [row[1] for row in file19]\n",
    "polar191 = [row[2] for row in file19]\n",
    "polar192 = [row[3] for row in file19]\n",
    "r190 = [row[4] for row in file19]\n",
    "r191 = [row[5] for row in file19]\n",
    "r192 = [row[6] for row in file19]\n",
    "\n",
    "\n",
    "polar200 = [row[1] for row in file20]\n",
    "polar201 = [row[2] for row in file20]\n",
    "polar202 = [row[3] for row in file20]\n",
    "r200 = [row[4] for row in file20]\n",
    "r201 = [row[5] for row in file20]\n",
    "r202 = [row[6] for row in file20]\n",
    "\n",
    "\n",
    "polar210 = [row[1] for row in file21]\n",
    "polar211 = [row[2] for row in file21]\n",
    "polar212 = [row[3] for row in file21]\n",
    "r210 = [row[4] for row in file21]\n",
    "r211 = [row[5] for row in file21]\n",
    "r212 = [row[6] for row in file21]\n",
    "\n",
    "polar220 = [row[1] for row in file22]\n",
    "polar221 = [row[2] for row in file22]\n",
    "polar222 = [row[3] for row in file22]\n",
    "r220 = [row[4] for row in file22]\n",
    "r221 = [row[5] for row in file22]\n",
    "r222 = [row[6] for row in file22]\n",
    "\n",
    "polar230 = [row[1] for row in file23]\n",
    "polar231 = [row[2] for row in file23]\n",
    "polar232 = [row[3] for row in file23]\n",
    "r230 = [row[4] for row in file23]\n",
    "r231 = [row[5] for row in file23]\n",
    "r232 = [row[6] for row in file23]\n",
    "\n",
    "polar240 = [row[1] for row in file24]\n",
    "polar241 = [row[2] for row in file24]\n",
    "polar242 = [row[3] for row in file24]\n",
    "r240 = [row[4] for row in file24]\n",
    "r241 = [row[5] for row in file24]\n",
    "r242 = [row[6] for row in file24]\n",
    "\n",
    "polar250 = [row[1] for row in file25]\n",
    "polar251 = [row[2] for row in file25]\n",
    "polar252 = [row[3] for row in file25]\n",
    "r250 = [row[4] for row in file25]\n",
    "r251 = [row[5] for row in file25]\n",
    "r252 = [row[6] for row in file25]"
   ]
  },
  {
   "cell_type": "code",
   "execution_count": 5,
   "metadata": {
    "collapsed": false
   },
   "outputs": [
    {
     "name": "stdout",
     "output_type": "stream",
     "text": [
      "45.5085220337\n"
     ]
    }
   ],
   "source": [
    "polar10ave = np.mean(polar10);\n",
    "polar11ave = np.mean(polar11);\n",
    "polar12ave = np.mean(polar12);\n",
    "\n",
    "Cr1 = np.zeros(len(polar10));\n",
    "R1 = np.zeros(len(polar10));\n",
    "\n",
    "#use the correlation function of 10.1103/PhysRevLett.91.267204 (not volume normalized)\n",
    "#this calculation is O(N(N-1))\n",
    "#a GPU will speed this calculation up tremendously.\n",
    "\n",
    "start = time.time()\n",
    "for i in range(1,len(polar10)):\n",
    "    for j in range(1,len(polar10)):\n",
    "        if i != j:\n",
    "            Cr1[i] += 1/(0.8*0.8)*((polar10[i] - polar10ave) * (polar10[j] - polar10ave) + (polar11[i] - polar11ave) * (polar11[j] - polar11ave) + (polar12[i] - polar12ave) * (polar12[j] - polar12ave));\n",
    "            R1[i] = (r10[i]*r10[i] + r11[i]*r11[i] + r12[i]*r12[i])**0.5\n",
    "np.savetxt(\"/media/john/My Passport/Sphere project data/run2--curl/Cr1s.csv\",Cr1, delimiter=\",\")\n",
    "np.savetxt(\"/media/john/My Passport/Sphere project data/run2--curl/r1s.csv\",R1, delimiter=\",\")\n",
    "end = time.time()\n",
    "print end - start"
   ]
  },
  {
   "cell_type": "code",
   "execution_count": 5,
   "metadata": {
    "collapsed": false
   },
   "outputs": [
    {
     "name": "stdout",
     "output_type": "stream",
     "text": [
      "216.114197969"
     ]
    }
   ],
   "source": [
    "polar20ave = np.mean(polar20);\n",
    "polar21ave = np.mean(polar21);\n",
    "polar22ave = np.mean(polar22);\n",
    "\n",
    "Cr2 = np.zeros(len(polar20));\n",
    "R2 = np.zeros(len(polar20));\n",
    "\n",
    "#use the correlation function of 10.1103/PhysRevLett.91.267204 (not volume normalized)\n",
    "#this calculation is O(N(N-1))\n",
    "#a GPU will speed this calculation up tremendously.\n",
    "\n",
    "start = time.time()\n",
    "for i in range(1,len(polar20)):\n",
    "    for j in range(1,len(polar20)):\n",
    "        if i != j:\n",
    "            Cr2[i] += 1/(0.8*0.8)*((polar20[i] - polar20ave) * (polar20[j] - polar20ave) + (polar21[i] - polar21ave) * (polar21[j] - polar21ave) + (polar22[i] - polar22ave) * (polar22[j] - polar22ave));\n",
    "            R2[i] = (r20[i]*r20[i] + r21[i]*r21[i] + r22[i]*r22[i])**0.5\n",
    "np.savetxt(\"/media/My Passport/Sphere project data/run2--curl/Cr2s.csv\", Cr2, delimiter=\",\")\n",
    "np.savetxt(\"/media/My Passport/Sphere project data/run2--curl/r2s.csv\",R2, delimiter=\",\")\n",
    "end = time.time()\n",
    "print end - start"
   ]
  },
  {
   "cell_type": "code",
   "execution_count": 7,
   "metadata": {
    "collapsed": false
   },
   "outputs": [
    {
     "name": "stdout",
     "output_type": "stream",
     "text": [
      "356.285660982"
     ]
    }
   ],
   "source": [
    "polar30ave = np.mean(polar30);\n",
    "polar31ave = np.mean(polar31);\n",
    "polar32ave = np.mean(polar32);\n",
    "\n",
    "Cr3 = np.zeros(len(polar30));\n",
    "R3 = np.zeros(len(polar30));\n",
    "\n",
    "#use the correlation function of 10.1103/PhysRevLett.91.267204 (not volume normalized)\n",
    "#this calculation is O(N(N-1))\n",
    "#a GPU will speed this calculation up tremendously.\n",
    "\n",
    "start = time.time()\n",
    "for i in range(1,len(polar30)):\n",
    "    for j in range(1,len(polar30)):\n",
    "        if i != j:\n",
    "            Cr3[i] += 1/(0.8*0.8)*((polar30[i] - polar30ave) * (polar30[j] - polar30ave) + (polar31[i] - polar31ave) * (polar31[j] - polar31ave) + (polar32[i] - polar32ave) * (polar32[j] - polar32ave));\n",
    "            R3[i] = (r30[i]*r30[i] + r31[i]*r31[i] + r32[i]*r32[i])**0.5\n",
    "np.savetxt(\"/media/My Passport/Sphere project data/run2--curl/Cr3s.csv\", Cr3, delimiter=\",\")\n",
    "np.savetxt(\"/media/My Passport/Sphere project data/run2--curl/r3s.csv\",R3, delimiter=\",\")\n",
    "end = time.time()\n",
    "print end - start"
   ]
  },
  {
   "cell_type": "code",
   "execution_count": 8,
   "metadata": {
    "collapsed": false
   },
   "outputs": [
    {
     "name": "stdout",
     "output_type": "stream",
     "text": [
      "582.313021898"
     ]
    }
   ],
   "source": [
    "polar40ave = np.mean(polar40);\n",
    "polar41ave = np.mean(polar41);\n",
    "polar42ave = np.mean(polar42);\n",
    "\n",
    "Cr4 = np.zeros(len(polar40));\n",
    "R4 = np.zeros(len(polar40));\n",
    "\n",
    "#use the correlation function of 10.1103/PhysRevLett.91.267204 (not volume normalized)\n",
    "#this calculation is O(N(N-1))\n",
    "#a GPU will speed this calculation up tremendously.\n",
    "\n",
    "start = time.time()\n",
    "for i in range(1,len(polar40)):\n",
    "    for j in range(1,len(polar40)):\n",
    "        if i != j:\n",
    "            Cr4[i] += 1/(0.8*0.8)*((polar40[i] - polar40ave) * (polar40[j] - polar40ave) + (polar41[i] - polar41ave) * (polar41[j] - polar41ave) + (polar42[i] - polar42ave) * (polar42[j] - polar42ave));\n",
    "            R4[i] = (r40[i]*r40[i] + r41[i]*r41[i] + r42[i]*r42[i])**0.5\n",
    "np.savetxt(\"/media/My Passport/Sphere project data/run2--curl/Cr4s.csv\", Cr4, delimiter=\",\")\n",
    "np.savetxt(\"/media/My Passport/Sphere project data/run2--curl/r4s.csv\",R4, delimiter=\",\")\n",
    "end = time.time()\n",
    "print end - start"
   ]
  },
  {
   "cell_type": "code",
   "execution_count": 9,
   "metadata": {
    "collapsed": false
   },
   "outputs": [
    {
     "name": "stdout",
     "output_type": "stream",
     "text": [
      "889.680973053"
     ]
    }
   ],
   "source": [
    "polar50ave = np.mean(polar50);\n",
    "polar51ave = np.mean(polar51);\n",
    "polar52ave = np.mean(polar52);\n",
    "\n",
    "Cr5 = np.zeros(len(polar50));\n",
    "R5 = np.zeros(len(polar50));\n",
    "\n",
    "#use the correlation function of 10.1103/PhysRevLett.91.267204 (not volume normalized)\n",
    "#this calculation is O(N(N-1))\n",
    "#a GPU will speed this calculation up tremendously.\n",
    "\n",
    "start = time.time()\n",
    "for i in range(1,len(polar50)):\n",
    "    for j in range(1,len(polar50)):\n",
    "        if i != j:\n",
    "            Cr5[i] += 1/(0.8*0.8)*((polar50[i] - polar50ave) * (polar50[j] - polar50ave) + (polar51[i] - polar51ave) * (polar51[j] - polar51ave) + (polar52[i] - polar52ave) * (polar52[j] - polar52ave));\n",
    "            R5[i] = (r50[i]*r50[i] + r51[i]*r51[i] + r52[i]*r52[i])**0.5\n",
    "np.savetxt(\"/media/My Passport/Sphere project data/run2--curl/Cr5s.csv\", Cr5, delimiter=\",\")\n",
    "np.savetxt(\"/media/My Passport/Sphere project data/run2--curl/r5s.csv\",R5, delimiter=\",\")\n",
    "end = time.time()\n",
    "print end - start"
   ]
  },
  {
   "cell_type": "code",
   "execution_count": 10,
   "metadata": {
    "collapsed": false
   },
   "outputs": [
    {
     "name": "stdout",
     "output_type": "stream",
     "text": [
      "1399.40865993"
     ]
    }
   ],
   "source": [
    "polar60ave = np.mean(polar60);\n",
    "polar61ave = np.mean(polar61);\n",
    "polar62ave = np.mean(polar62);\n",
    "\n",
    "Cr6 = np.zeros(len(polar60));\n",
    "R6 = np.zeros(len(polar60));\n",
    "\n",
    "#use the correlation function of 10.1103/PhysRevLett.91.267204 (not volume normalized)\n",
    "#this calculation is O(N(N-1))\n",
    "#a GPU will speed this calculation up tremendously.\n",
    "\n",
    "start = time.time()\n",
    "for i in range(1,len(polar60)):\n",
    "    for j in range(1,len(polar60)):\n",
    "        if i != j:\n",
    "            Cr6[i] += 1/(0.8*0.8)*((polar60[i] - polar60ave) * (polar60[j] - polar60ave) + (polar61[i] - polar61ave) * (polar61[j] - polar61ave) + (polar62[i] - polar62ave) * (polar62[j] - polar62ave));\n",
    "            R6[i] = (r60[i]*r60[i] + r61[i]*r61[i] + r62[i]*r62[i])**0.5\n",
    "np.savetxt(\"/media/My Passport/Sphere project data/run2--curl/Cr6.csv\", Cr6, delimiter=\",\")\n",
    "np.savetxt(\"/media/My Passport/Sphere project data/run2--curl/r6s.csv\",R6, delimiter=\",\")\n",
    "end = time.time()\n",
    "print end - start"
   ]
  },
  {
   "cell_type": "code",
   "execution_count": 6,
   "metadata": {
    "collapsed": false
   },
   "outputs": [
    {
     "name": "stdout",
     "output_type": "stream",
     "text": [
      "916.436903954\n"
     ]
    }
   ],
   "source": [
    "polar70ave = np.mean(polar70);\n",
    "polar71ave = np.mean(polar71);\n",
    "polar72ave = np.mean(polar72);\n",
    "\n",
    "Cr7 = np.zeros(len(polar70));\n",
    "R7 = np.zeros(len(polar70));\n",
    "\n",
    "#use the correlation function of 10.1103/PhysRevLett.91.267204 (not volume normalized)\n",
    "#this calculation is O(N(N-1))\n",
    "#a GPU will speed this calculation up tremendously.\n",
    "\n",
    "start = time.time()\n",
    "for i in range(1,len(polar70)):\n",
    "    for j in range(1,len(polar70)):\n",
    "        if i != j:\n",
    "            Cr7[i] += 1/(0.8*0.8)*((polar70[i] - polar70ave) * (polar70[j] - polar70ave) + (polar71[i] - polar71ave) * (polar71[j] - polar71ave) + (polar72[i] - polar72ave) * (polar72[j] - polar72ave));\n",
    "            R7[i] = (r70[i]*r70[i] + r71[i]*r71[i] + r72[i]*r72[i])**0.5\n",
    "np.savetxt(\"/media/My Passport/Sphere project data/run2--curl/Cr7s.csv\", Cr7, delimiter=\",\")\n",
    "np.savetxt(\"/media/My Passport/Sphere project data/run2--curl/r7s.csv\",R7, delimiter=\",\")\n",
    "end = time.time()\n",
    "print end - start"
   ]
  },
  {
   "cell_type": "code",
   "execution_count": 7,
   "metadata": {
    "collapsed": false
   },
   "outputs": [
    {
     "name": "stdout",
     "output_type": "stream",
     "text": [
      "908.626096964\n"
     ]
    }
   ],
   "source": [
    "polar80ave = np.mean(polar80);\n",
    "polar81ave = np.mean(polar81);\n",
    "polar82ave = np.mean(polar82);\n",
    "\n",
    "Cr8 = np.zeros(len(polar80));\n",
    "R8 = np.zeros(len(polar80));\n",
    "\n",
    "#use the correlation function of 10.1103/PhysRevLett.91.267204 (not volume normalized)\n",
    "#this calculation is O(N(N-1))\n",
    "#a GPU will speed this calculation up tremendously.\n",
    "\n",
    "start = time.time()\n",
    "for i in range(1,len(polar80)):\n",
    "    for j in range(1,len(polar80)):\n",
    "        if i != j:\n",
    "            Cr8[i] += 1/(0.8*0.8)*((polar80[i] - polar80ave)* (polar80[j] - polar80ave) + (polar81[i] - polar81ave) * (polar81[j] - polar81ave) + (polar82[i] - polar82ave) * (polar82[j] - polar82ave));\n",
    "            R8[i] = (r80[i]*r80[i] + r81[i]*r81[i] + r82[i]*r82[i])**0.5\n",
    "np.savetxt(\"/media/My Passport/Sphere project data/run2--curl/Cr8s.csv\", Cr8, delimiter=\",\")\n",
    "np.savetxt(\"/media/My Passport/Sphere project data/run2--curl/r8s.csv\",R8, delimiter=\",\")\n",
    "end = time.time()\n",
    "print end - start"
   ]
  },
  {
   "cell_type": "code",
   "execution_count": 8,
   "metadata": {
    "collapsed": false
   },
   "outputs": [
    {
     "name": "stdout",
     "output_type": "stream",
     "text": [
      "1337.07307816\n"
     ]
    }
   ],
   "source": [
    "polar90ave = np.mean(polar90);\n",
    "polar91ave = np.mean(polar91);\n",
    "polar92ave = np.mean(polar92);\n",
    "\n",
    "Cr9 = np.zeros(len(polar90));\n",
    "R9  = np.zeros(len(polar90));\n",
    "\n",
    "#use the correlation function of 10.1103/PhysRevLett.91.267204 (not volume normalized)\n",
    "#this calculation is O(N(N-1))\n",
    "#a GPU will speed this calculation up tremendously.\n",
    "\n",
    "start = time.time()\n",
    "for i in range(1,len(polar90)):\n",
    "    for j in range(1,len(polar90)):\n",
    "        if i != j:\n",
    "            Cr9[i] += 1/(0.8*0.8)*((polar90[i] - polar90ave)* (polar90[j] - polar90ave) + (polar91[i] - polar91ave) * (polar91[j] - polar91ave) + (polar92[i] - polar92ave) * (polar92[j] - polar92ave));\n",
    "            R9[i] = (r90[i]*r90[i] + r91[i]*r91[i] + r92[i]*r92[i])**0.5\n",
    "np.savetxt(\"/media/My Passport/Sphere project data/run2--curl/Cr9s.csv\", Cr9, delimiter=\",\")\n",
    "np.savetxt(\"/media/My Passport/Sphere project data/run2--curl/r9s.csv\",R9, delimiter=\",\")\n",
    "end = time.time()\n",
    "print end - start"
   ]
  },
  {
   "cell_type": "code",
   "execution_count": 9,
   "metadata": {
    "collapsed": false
   },
   "outputs": [
    {
     "name": "stdout",
     "output_type": "stream",
     "text": [
      "1647.11998796\n"
     ]
    }
   ],
   "source": [
    "polar100ave = np.mean(polar100);\n",
    "polar101ave = np.mean(polar101);\n",
    "polar102ave = np.mean(polar102);\n",
    "\n",
    "Cr10 = np.zeros(len(polar100));\n",
    "R10  = np.zeros(len(polar100));\n",
    "\n",
    "#use the correlation function of 10.1103/PhysRevLett.91.267204 (not volume normalized)\n",
    "#this calculation is O(N(N-1))\n",
    "#a GPU will speed this calculation up tremendously.\n",
    "\n",
    "start = time.time()\n",
    "for i in range(1,len(polar100)):\n",
    "    for j in range(1,len(polar100)):\n",
    "        if i != j:\n",
    "            Cr10[i] += 1/(0.8*0.8)*((polar100[i] - polar100ave)* (polar100[j] - polar100ave) + (polar101[i] - polar101ave) * (polar101[j] - polar101ave) + ( polar102[i] - polar102ave)* (polar102[j] - polar102ave));\n",
    "            R10[i] = (r100[i]*r100[i] + r101[i]*r101[i] + r102[i]*r102[i])**0.5\n",
    "np.savetxt(\"/media/My Passport/Sphere project data/run2--curl/Cr10.csv\", Cr10, delimiter=\",\")\n",
    "np.savetxt(\"/media/My Passport/Sphere project data/run2--curl/r10s.csv\",R10, delimiter=\",\")\n",
    "end = time.time()\n",
    "print end - start"
   ]
  },
  {
   "cell_type": "code",
   "execution_count": 10,
   "metadata": {
    "collapsed": false
   },
   "outputs": [
    {
     "name": "stdout",
     "output_type": "stream",
     "text": [
      "2142.332582\n"
     ]
    }
   ],
   "source": [
    "polar110ave = np.mean(polar110);\n",
    "polar111ave = np.mean(polar111);\n",
    "polar112ave = np.mean(polar112);\n",
    "\n",
    "Cr11 = np.zeros(len(polar110));\n",
    "R11  = np.zeros(len(polar110));\n",
    "\n",
    "#use the correlation function of 10.1103/PhysRevLett.91.267204 (not volume normalized)\n",
    "#this calculation is O(N(N-1))\n",
    "#a GPU will speed this calculation up tremendously.\n",
    "\n",
    "start = time.time()\n",
    "for i in range(1,len(polar110)):\n",
    "    for j in range(1,len(polar110)):\n",
    "        if i != j:\n",
    "            Cr11[i] += 1/(0.8*0.8)*((polar110[i] - polar110ave)* (polar110[j] - polar110ave) + (polar111[i] - polar111ave) * (polar111[j] - polar111ave) + (polar112[i] - polar112ave) * (polar112[j] - polar112ave));\n",
    "            R11[i] = (r110[i]*r110[i] + r111[i]*r111[i] + r112[i]*r112[i])**0.5\n",
    "np.savetxt(\"/media/My Passport/Sphere project data/run2--curl/Cr11.csv\", Cr11, delimiter=\",\")\n",
    "np.savetxt(\"/media/My Passport/Sphere project data/run2--curl/r11s.csv\",R11, delimiter=\",\")\n",
    "end = time.time()\n",
    "print end - start"
   ]
  },
  {
   "cell_type": "code",
   "execution_count": 11,
   "metadata": {
    "collapsed": false
   },
   "outputs": [
    {
     "name": "stdout",
     "output_type": "stream",
     "text": [
      "2990.45030713\n"
     ]
    }
   ],
   "source": [
    "polar120ave = np.mean(polar120);\n",
    "polar121ave = np.mean(polar121);\n",
    "polar122ave = np.mean(polar122);\n",
    "\n",
    "Cr12 = np.zeros(len(polar120));\n",
    "R12  = np.zeros(len(polar120));\n",
    "\n",
    "#use the correlation function of 10.1103/PhysRevLett.91.267204 (not volume normalized)\n",
    "#this calculation is O(N(N-1))\n",
    "#a GPU will speed this calculation up tremendously.\n",
    "\n",
    "start = time.time()\n",
    "for i in range(1,len(polar120)):\n",
    "    for j in range(1,len(polar120)):\n",
    "        if i != j:\n",
    "            Cr12[i] += 1/(0.8*0.8)*((polar120[i] - polar120ave)* (polar120[j] - polar120ave) + (polar121[i] - polar121ave)* (polar121[j] - polar121ave) + (polar122[i] - polar122ave) * (polar122[j] - polar122ave));\n",
    "            R12[i] = (r120[i]*r120[i] + r121[i]*r121[i] + r122[i]*r122[i])**0.5\n",
    "np.savetxt(\"/media/My Passport/Sphere project data/run2--curl/Cr12.csv\", Cr12, delimiter=\",\")\n",
    "np.savetxt(\"/media/My Passport/Sphere project data/run2--curl/r12s.csv\",R12, delimiter=\",\")\n",
    "end = time.time()\n",
    "print end - start"
   ]
  },
  {
   "cell_type": "code",
   "execution_count": 12,
   "metadata": {
    "collapsed": false
   },
   "outputs": [
    {
     "name": "stdout",
     "output_type": "stream",
     "text": [
      "3700.96762395\n"
     ]
    }
   ],
   "source": [
    "polar130ave = np.mean(polar130);\n",
    "polar131ave = np.mean(polar131);\n",
    "polar132ave = np.mean(polar132);\n",
    "\n",
    "Cr13 = np.zeros(len(polar130));\n",
    "R13  = np.zeros(len(polar130));\n",
    "\n",
    "#use the correlation function of 10.1103/PhysRevLett.91.267204 (not volume normalized)\n",
    "#this calculation is O(N(N-1))\n",
    "#a GPU will speed this calculation up tremendously.\n",
    "\n",
    "start = time.time()\n",
    "for i in range(1,len(polar130)):\n",
    "    for j in range(1,len(polar130)):\n",
    "        if i != j:\n",
    "            Cr13[i] += 1/(0.8*0.8)*((polar130[i] - polar130ave)* (polar130[j] - polar130ave) + (polar131[i] - polar131ave) * (polar131[j] - polar131ave) + (polar132[i] - polar132ave) * (polar132[j] - polar132ave));\n",
    "            R13[i] = (r130[i]*r130[i] + r131[i]*r131[i] + r132[i]*r132[i])**0.5\n",
    "np.savetxt(\"/media/My Passport/Sphere project data/run2--curl/Cr13.csv\", Cr13, delimiter=\",\")\n",
    "np.savetxt(\"/media/My Passport/Sphere project data/run2--curl/r13s.csv\",R13, delimiter=\",\")\n",
    "end = time.time()\n",
    "print end - start"
   ]
  },
  {
   "cell_type": "code",
   "execution_count": 13,
   "metadata": {
    "collapsed": false
   },
   "outputs": [
    {
     "name": "stdout",
     "output_type": "stream",
     "text": [
      "3086.6491189\n"
     ]
    }
   ],
   "source": [
    "polar140ave = np.mean(polar140);\n",
    "polar141ave = np.mean(polar141);\n",
    "polar142ave = np.mean(polar142);\n",
    "\n",
    "Cr14 = np.zeros(len(polar140));\n",
    "\n",
    "#use the correlation function of 10.1103/PhysRevLett.91.267204 (not volume normalized)\n",
    "#this calculation is O(N(N-1))\n",
    "#a GPU will speed this calculation up tremendously.\n",
    "\n",
    "start = time.time()\n",
    "for i in range(1,len(polar140)):\n",
    "    for j in range(1,len(polar140)):\n",
    "        if i != j:\n",
    "            Cr14[i] += 1/(0.8*0.8)*((polar140[i] - polar140ave)* (polar140[j] - polar140ave) + (polar141[i] -polar141ave) * (polar141[j] - polar141ave) + (polar142[i] - polar142ave)* (polar142[j] - polar142ave));\n",
    "np.savetxt(\"/media/My Passport/Sphere project data/run2--curl/Cr14.csv\", Cr14, delimiter=\",\")\n",
    "end = time.time()\n",
    "print end - start #6980 sec with old ipython"
   ]
  },
  {
   "cell_type": "code",
   "execution_count": 5,
   "metadata": {
    "collapsed": false
   },
   "outputs": [
    {
     "ename": "KeyboardInterrupt",
     "evalue": "",
     "output_type": "error",
     "traceback": [
      "\u001b[1;31m---------------------------------------------------------------------------\u001b[0m",
      "\u001b[1;31mKeyboardInterrupt\u001b[0m                         Traceback (most recent call last)",
      "\u001b[1;32m<ipython-input-5-9573cda16374>\u001b[0m in \u001b[0;36m<module>\u001b[1;34m()\u001b[0m\n\u001b[0;32m     13\u001b[0m     \u001b[1;32mfor\u001b[0m \u001b[0mj\u001b[0m \u001b[1;32min\u001b[0m \u001b[0mrange\u001b[0m\u001b[1;33m(\u001b[0m\u001b[1;36m1\u001b[0m\u001b[1;33m,\u001b[0m\u001b[0mlen\u001b[0m\u001b[1;33m(\u001b[0m\u001b[0mpolar150\u001b[0m\u001b[1;33m)\u001b[0m\u001b[1;33m)\u001b[0m\u001b[1;33m:\u001b[0m\u001b[1;33m\u001b[0m\u001b[0m\n\u001b[0;32m     14\u001b[0m         \u001b[1;32mif\u001b[0m \u001b[0mi\u001b[0m \u001b[1;33m!=\u001b[0m \u001b[0mj\u001b[0m\u001b[1;33m:\u001b[0m\u001b[1;33m\u001b[0m\u001b[0m\n\u001b[1;32m---> 15\u001b[1;33m             \u001b[0mCr15\u001b[0m\u001b[1;33m[\u001b[0m\u001b[0mi\u001b[0m\u001b[1;33m]\u001b[0m \u001b[1;33m+=\u001b[0m \u001b[1;36m1\u001b[0m\u001b[1;33m/\u001b[0m\u001b[1;33m(\u001b[0m\u001b[1;36m0.8\u001b[0m\u001b[1;33m*\u001b[0m\u001b[1;36m0.8\u001b[0m\u001b[1;33m)\u001b[0m\u001b[1;33m*\u001b[0m\u001b[1;33m(\u001b[0m\u001b[1;33m(\u001b[0m\u001b[0mpolar150\u001b[0m\u001b[1;33m[\u001b[0m\u001b[0mi\u001b[0m\u001b[1;33m]\u001b[0m \u001b[1;33m-\u001b[0m \u001b[0mpolar150ave\u001b[0m\u001b[1;33m)\u001b[0m \u001b[1;33m*\u001b[0m \u001b[1;33m(\u001b[0m\u001b[0mpolar150\u001b[0m\u001b[1;33m[\u001b[0m\u001b[0mj\u001b[0m\u001b[1;33m]\u001b[0m \u001b[1;33m-\u001b[0m \u001b[0mpolar150ave\u001b[0m\u001b[1;33m)\u001b[0m \u001b[1;33m+\u001b[0m \u001b[1;33m(\u001b[0m\u001b[0mpolar151\u001b[0m\u001b[1;33m[\u001b[0m\u001b[0mi\u001b[0m\u001b[1;33m]\u001b[0m \u001b[1;33m-\u001b[0m \u001b[0mpolar151ave\u001b[0m\u001b[1;33m)\u001b[0m \u001b[1;33m*\u001b[0m \u001b[1;33m(\u001b[0m\u001b[0mpolar151\u001b[0m\u001b[1;33m[\u001b[0m\u001b[0mj\u001b[0m\u001b[1;33m]\u001b[0m \u001b[1;33m-\u001b[0m \u001b[0mpolar151ave\u001b[0m\u001b[1;33m)\u001b[0m \u001b[1;33m+\u001b[0m \u001b[1;33m(\u001b[0m\u001b[0mpolar152\u001b[0m\u001b[1;33m[\u001b[0m\u001b[0mi\u001b[0m\u001b[1;33m]\u001b[0m \u001b[1;33m-\u001b[0m \u001b[0mpolar152ave\u001b[0m\u001b[1;33m)\u001b[0m \u001b[1;33m*\u001b[0m \u001b[1;33m(\u001b[0m\u001b[0mpolar152\u001b[0m\u001b[1;33m[\u001b[0m\u001b[0mj\u001b[0m\u001b[1;33m]\u001b[0m \u001b[1;33m-\u001b[0m \u001b[0mpolar152ave\u001b[0m\u001b[1;33m)\u001b[0m\u001b[1;33m)\u001b[0m\u001b[1;33m;\u001b[0m\u001b[1;33m\u001b[0m\u001b[0m\n\u001b[0m\u001b[0;32m     16\u001b[0m \u001b[0mnp\u001b[0m\u001b[1;33m.\u001b[0m\u001b[0msavetxt\u001b[0m\u001b[1;33m(\u001b[0m\u001b[1;34m\"/media/My Passport/Sphere project data/run2--curl/Cr15.csv\"\u001b[0m\u001b[1;33m,\u001b[0m \u001b[0mCr15\u001b[0m\u001b[1;33m,\u001b[0m \u001b[0mdelimiter\u001b[0m\u001b[1;33m=\u001b[0m\u001b[1;34m\",\"\u001b[0m\u001b[1;33m)\u001b[0m\u001b[1;33m\u001b[0m\u001b[0m\n\u001b[0;32m     17\u001b[0m \u001b[0mend\u001b[0m \u001b[1;33m=\u001b[0m \u001b[0mtime\u001b[0m\u001b[1;33m.\u001b[0m\u001b[0mtime\u001b[0m\u001b[1;33m(\u001b[0m\u001b[1;33m)\u001b[0m\u001b[1;33m\u001b[0m\u001b[0m\n",
      "\u001b[1;31mKeyboardInterrupt\u001b[0m: "
     ]
    }
   ],
   "source": [
    "polar150ave = np.mean(polar150);\n",
    "polar151ave = np.mean(polar151);\n",
    "polar152ave = np.mean(polar152);\n",
    "\n",
    "Cr15 = np.zeros(len(polar150));\n",
    "\n",
    "#use the correlation function of 10.1103/PhysRevLett.91.267204 (not volume normalized)\n",
    "#this calculation is O(N(N-1))\n",
    "#a GPU will speed this calculation up tremendously.\n",
    "\n",
    "start = time.time()\n",
    "for i in range(1,len(polar150)):\n",
    "    for j in range(1,len(polar150)):\n",
    "        if i != j:\n",
    "            Cr15[i] += 1/(0.8*0.8)*((polar150[i] - polar150ave) * (polar150[j] - polar150ave) + (polar151[i] - polar151ave) * (polar151[j] - polar151ave) + (polar152[i] - polar152ave) * (polar152[j] - polar152ave));\n",
    "np.savetxt(\"/media/My Passport/Sphere project data/run2--curl/Cr15.csv\", Cr15, delimiter=\",\")\n",
    "end = time.time()\n",
    "print end - start"
   ]
  },
  {
   "cell_type": "code",
   "execution_count": null,
   "metadata": {
    "collapsed": false
   },
   "outputs": [],
   "source": [
    "polar160ave = np.mean(polar160);\n",
    "polar161ave = np.mean(polar161);\n",
    "polar162ave = np.mean(polar162);\n",
    "\n",
    "Cr16 = np.zeros(len(polar160));\n",
    "\n",
    "#use the correlation function of 10.1103/PhysRevLett.91.267204 (not volume normalized)\n",
    "#this calculation is O(N(N-1))\n",
    "#a GPU will speed this calculation up tremendously.\n",
    "\n",
    "start = time.time()\n",
    "for i in range(1,len(polar160)):\n",
    "    for j in range(1,len(polar160)):\n",
    "        if i != j:\n",
    "            Cr16[i] += 1/(0.8*0.8)*((polar160[i] - polar160ave) * (polar160[j] - polar160ave) + (polar161[i] - polar161ave) * (polar161[j] - polar161ave) + (polar162[i] - polar162ave) * (polar162[j] - polar162ave));\n",
    "np.savetxt(\"/media/My Passport/Sphere project data/run2--curl/Cr16.csv\", Cr16, delimiter=\",\")\n",
    "end = time.time()\n",
    "print end - start"
   ]
  },
  {
   "cell_type": "code",
   "execution_count": null,
   "metadata": {
    "collapsed": false
   },
   "outputs": [],
   "source": [
    "polar170ave = np.mean(polar170);\n",
    "polar171ave = np.mean(polar171);\n",
    "polar172ave = np.mean(polar172);\n",
    "\n",
    "Cr17 = np.zeros(len(polar170));\n",
    "\n",
    "#use the correlation function of 10.1103/PhysRevLett.91.267204 (not volume normalized)\n",
    "#this calculation is O(N(N-1))\n",
    "#a GPU will speed this calculation up tremendously.\n",
    "\n",
    "start = time.time()\n",
    "for i in range(1,len(polar170)):\n",
    "    for j in range(1,len(polar170)):\n",
    "        if i != j:\n",
    "            Cr17[i] += 1/(0.8*0.8)*((polar170[i] - polar170ave)* (polar170[j] - polar170ave) + (polar171[i] - polar171ave) * (polar171[j] - polar171ave) + (polar172[i] - polar172ave) * (polar172[j] - polar172ave));\n",
    "np.savetxt(\"/media/My Passport/Sphere project data/run2--curl/Cr17.csv\", Cr17, delimiter=\",\")\n",
    "end = time.time()\n",
    "print end - start"
   ]
  },
  {
   "cell_type": "code",
   "execution_count": 5,
   "metadata": {
    "collapsed": false
   },
   "outputs": [
    {
     "name": "stdout",
     "output_type": "stream",
     "text": [
      "18456.457442"
     ]
    }
   ],
   "source": [
    "polar180ave = np.mean(polar180);\n",
    "polar181ave = np.mean(polar181);\n",
    "polar182ave = np.mean(polar182);\n",
    "\n",
    "Cr18 = np.zeros(len(polar180));\n",
    "\n",
    "#use the correlation function of 10.1103/PhysRevLett.91.267204 (not volume normalized)\n",
    "#this calculation is O(N(N-1))\n",
    "#a GPU will speed this calculation up tremendously.\n",
    "\n",
    "start = time.time()\n",
    "for i in range(1,len(polar180)):\n",
    "    for j in range(1,len(polar180)):\n",
    "        if i != j:\n",
    "            Cr18[i] += 1/(0.8*0.8)*(polar180[i] * (polar180[j] - polar180ave) + polar181[i] * (polar181[j] - polar181ave) + polar182[i] * (polar182[j] - polar182ave));\n",
    "np.savetxt(\"/media/My Passport/Sphere project data/run2--curl/Cr18.csv\", Cr18, delimiter=\",\")\n",
    "end = time.time()\n",
    "print end - start"
   ]
  },
  {
   "cell_type": "code",
   "execution_count": 6,
   "metadata": {
    "collapsed": false
   },
   "outputs": [
    {
     "name": "stdout",
     "output_type": "stream",
     "text": [
      "24239.2185452"
     ]
    }
   ],
   "source": [
    "polar190ave = np.mean(polar190);\n",
    "polar191ave = np.mean(polar191);\n",
    "polar192ave = np.mean(polar192);\n",
    "\n",
    "Cr19 = np.zeros(len(polar190));\n",
    "\n",
    "#use the correlation function of 10.1103/PhysRevLett.91.267204 (not volume normalized)\n",
    "#this calculation is O(N(N-1))\n",
    "#a GPU will speed this calculation up tremendously.\n",
    "\n",
    "start = time.time()\n",
    "for i in range(1,len(polar190)):\n",
    "    for j in range(1,len(polar190)):\n",
    "        if i != j:\n",
    "            Cr19[i] += 1/(0.8*0.8)*(polar190[i] * (polar190[j] - polar190ave) + polar191[i] * (polar191[j] - polar191ave) + polar192[i] * (polar192[j] - polar192ave));\n",
    "np.savetxt(\"/media/My Passport/Sphere project data/run2--curl/Cr19.csv\", Cr19, delimiter=\",\")\n",
    "end = time.time()\n",
    "print end - start"
   ]
  },
  {
   "cell_type": "code",
   "execution_count": null,
   "metadata": {
    "collapsed": true
   },
   "outputs": [],
   "source": [
    "polar200ave = np.mean(polar200);\n",
    "polar201ave = np.mean(polar201);\n",
    "polar202ave = np.mean(polar202);\n",
    "\n",
    "Cr20 = np.zeros(len(polar200));\n",
    "R20 = np.zeros(len(polar200));\n",
    "\n",
    "#use the correlation function of 10.1103/PhysRevLett.91.267204 (not volume normalized)\n",
    "#this calculation is O(N(N-1))\n",
    "#a GPU will speed this calculation up tremendously.\n",
    "\n",
    "start = time.time()\n",
    "for i in range(1,len(polar200)):\n",
    "    for j in range(1,len(polar200)):\n",
    "        if i != j:\n",
    "            Cr20[i] += 1/(0.8*0.8)*(polar200[i] * (polar200[j] - polar200ave) + polar201[i] * (polar201[j] - polar201ave) + polar202[i] * (polar202[j] - polar202ave));\n",
    "            R20[i] = (r200[i]*r200[i] + r201[i]*r201[i] + r202[i]*r202[i])**0.5\n",
    "np.savetxt(\"/media/My Passport/Sphere project data/run2--curl/Cr20.csv\", Cr20, delimiter=\",\")\n",
    "np.savetxt(\"/media/My Passport/Sphere project data/run2--curl/r20s.csv\",R20, delimiter=\",\")\n",
    "end = time.time()\n",
    "print end - start"
   ]
  },
  {
   "cell_type": "code",
   "execution_count": null,
   "metadata": {
    "collapsed": true
   },
   "outputs": [],
   "source": [
    "#need to just construct R for 14-19"
   ]
  },
  {
   "cell_type": "code",
   "execution_count": null,
   "metadata": {
    "collapsed": true
   },
   "outputs": [],
   "source": [
    "\n",
    "WindingNumber[{i_, j_, k_, \n",
    "   l_}] := -(Sign[Det[{j, i}]]*VectorAngle[j, i] + \n",
    "     Sign[Det[{k, j}]]*VectorAngle[k, j] + \n",
    "     Sign[Det[{l, k}]]*VectorAngle[l, k] + \n",
    "     Sign[Det[{i, l}]]*VectorAngle[i, l])/(2 \\[Pi])"
   ]
  },
  {
   "cell_type": "code",
   "execution_count": null,
   "metadata": {
    "collapsed": true
   },
   "outputs": [],
   "source": [
    "polar210ave = np.mean(polar210);\n",
    "polar211ave = np.mean(polar211);\n",
    "polar212ave = np.mean(polar212);\n",
    "\n",
    "Cr21 = np.zeros(len(polar210));\n",
    "R21 = np.zeros(len(polar210));\n",
    "\n",
    "#use the correlation function of 10.1103/PhysRevLett.91.267204 (not volume normalized)\n",
    "#this calculation is O(N(N-1))\n",
    "#a GPU will speed this calculation up tremendously.\n",
    "\n",
    "start = time.time()\n",
    "for i in range(1,len(polar210)):\n",
    "    for j in range(1,len(polar210)):\n",
    "        if i != j:\n",
    "            Cr21[i] += 1/(0.8*0.8)*(polar210[i] * (polar210[j] - polar210ave) + polar211[i] * (polar211[j] - polar211ave) + polar212[i] * (polar212[j] - polar212ave));\n",
    "            R21[i] = (r210[i]*r210[i] + r211[i]*r211[i] + r212[i]*r212[i])**0.5\n",
    "np.savetxt(\"/media/My Passport/Sphere project data/run2--curl/Cr21s.csv\", Cr21, delimiter=\",\")\n",
    "np.savetxt(\"/media/My Passport/Sphere project data/run2--curl/r21s.csv\",R21, delimiter=\",\")\n",
    "end = time.time()\n",
    "print end - start"
   ]
  },
  {
   "cell_type": "code",
   "execution_count": null,
   "metadata": {
    "collapsed": true
   },
   "outputs": [],
   "source": []
  },
  {
   "cell_type": "code",
   "execution_count": 4,
   "metadata": {
    "collapsed": true
   },
   "outputs": [],
   "source": [
    "R12 = np.zeros(len(polar120));\n",
    "for i in range(1,len(polar120)):\n",
    "    R12[i] = (r120[i]*r120[i] + r121[i]*r121[i] + r122[i]*r122[i])**0.5\n",
    "np.savetxt(\"/media/My Passport/Sphere project data/run2--curl/r12s.csv\",R12, delimiter=\",\")"
   ]
  },
  {
   "cell_type": "code",
   "execution_count": 5,
   "metadata": {
    "collapsed": true
   },
   "outputs": [],
   "source": [
    "R13 = np.zeros(len(polar130));\n",
    "for i in range(1,len(polar130)):\n",
    "    R13[i] = (r130[i]*r130[i] + r131[i]*r131[i] + r132[i]*r132[i])**0.5\n",
    "np.savetxt(\"/media/My Passport/Sphere project data/run2--curl/r13s.csv\",R13, delimiter=\",\")"
   ]
  },
  {
   "cell_type": "code",
   "execution_count": 14,
   "metadata": {
    "collapsed": true
   },
   "outputs": [],
   "source": [
    "R14 = np.zeros(len(polar140));\n",
    "for i in range(1,len(polar140)):\n",
    "    R14[i] = (r140[i]*r140[i] + r141[i]*r141[i] + r142[i]*r142[i])**0.5\n",
    "np.savetxt(\"/media/My Passport/Sphere project data/run2--curl/r14s.csv\",R14, delimiter=\",\")"
   ]
  },
  {
   "cell_type": "code",
   "execution_count": 7,
   "metadata": {
    "collapsed": true
   },
   "outputs": [],
   "source": [
    "R15 = np.zeros(len(polar150));\n",
    "for i in range(1,len(polar150)):\n",
    "    R15[i] = (r150[i]*r150[i] + r151[i]*r151[i] + r152[i]*r152[i])**0.5\n",
    "np.savetxt(\"/media/My Passport/Sphere project data/run2--curl/r15s.csv\",R15, delimiter=\",\")"
   ]
  },
  {
   "cell_type": "code",
   "execution_count": 8,
   "metadata": {
    "collapsed": true
   },
   "outputs": [],
   "source": [
    "R16 = np.zeros(len(polar160));\n",
    "for i in range(1,len(polar160)):\n",
    "    R16[i] = (r160[i]*r160[i] + r161[i]*r161[i] + r162[i]*r162[i])**0.5\n",
    "np.savetxt(\"/media/My Passport/Sphere project data/run2--curl/r16s.csv\",R16, delimiter=\",\")"
   ]
  },
  {
   "cell_type": "code",
   "execution_count": 9,
   "metadata": {
    "collapsed": true
   },
   "outputs": [],
   "source": [
    "R17 = np.zeros(len(polar170));\n",
    "for i in range(1,len(polar170)):\n",
    "    R17[i] = (r170[i]*r170[i] + r171[i]*r171[i] + r172[i]*r172[i])**0.5\n",
    "np.savetxt(\"/media/My Passport/Sphere project data/run2--curl/r17s.csv\",R17, delimiter=\",\")"
   ]
  },
  {
   "cell_type": "code",
   "execution_count": 10,
   "metadata": {
    "collapsed": true
   },
   "outputs": [],
   "source": [
    "R18 = np.zeros(len(polar180));\n",
    "for i in range(1,len(polar180)):\n",
    "    R18[i] = (r180[i]*r180[i] + r181[i]*r181[i] + r182[i]*r182[i])**0.5\n",
    "np.savetxt(\"/media/My Passport/Sphere project data/run2--curl/r18s.csv\",R18, delimiter=\",\")"
   ]
  },
  {
   "cell_type": "code",
   "execution_count": 11,
   "metadata": {
    "collapsed": true
   },
   "outputs": [],
   "source": [
    "R19 = np.zeros(len(polar190));\n",
    "for i in range(1,len(polar190)):\n",
    "    R19[i] = (r190[i]*r190[i] + r191[i]*r191[i] + r192[i]*r192[i])**0.5\n",
    "np.savetxt(\"/media/My Passport/Sphere project data/run2--curl/r19s.csv\",R19, delimiter=\",\")"
   ]
  },
  {
   "cell_type": "code",
   "execution_count": null,
   "metadata": {
    "collapsed": true
   },
   "outputs": [],
   "source": [
    "R20 = np.zeros(len(polar190));\n",
    "for i in range(1,len(polar190)):\n",
    "    R19[i] = (r190[i]*r190[i] + r191[i]*r191[i] + r192[i]*r192[i])**0.5\n",
    "np.savetxt(\"/media/My Passport/Sphere project data/run2--curl/r19s.csv\",R19, delimiter=\",\")"
   ]
  }
 ],
 "metadata": {
  "kernelspec": {
   "display_name": "Python 2",
   "language": "python",
   "name": "python2"
  },
  "language_info": {
   "codemirror_mode": {
    "name": "ipython",
    "version": 2
   },
   "file_extension": ".py",
   "mimetype": "text/x-python",
   "name": "python",
   "nbconvert_exporter": "python",
   "pygments_lexer": "ipython2",
   "version": "2.7.11"
  }
 },
 "nbformat": 4,
 "nbformat_minor": 0
}
