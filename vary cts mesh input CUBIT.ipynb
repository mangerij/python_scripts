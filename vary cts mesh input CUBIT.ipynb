{
 "metadata": {
  "name": "vary cts mesh input CUBIT"
 }, 
 "nbformat": 2, 
 "worksheets": [
  {
   "cells": [
    {
     "cell_type": "code", 
     "collapsed": true, 
     "input": [
      "#vary core-to-shell ratio and plot stress fields (look for differences)", 
      "", 
      "import os", 
      "import subprocess", 
      "import numpy as np", 
      "", 
      "os.chdir('/home/john/')", 
      "", 
      "", 
      "## small core to larger core, 25nm total diameter particle", 
      "", 
      "size_vec = [0.1, 0.09, 0.08, 0.07, 0.06, 0.05, 0.04, 0.03, 0.02];", 
      "", 
      "for t in range(0,len(size_vec)):", 
      "    # Define the base file we will be iteratively modifiying #", 
      "    infile = open('/home/john/sphererecipe.py')", 
      "    ", 
      "    ", 
      "    # Open the out file we will be writing at each step in the iteration #", 
      "    outfile = open('/home/john/newsphererecipe-'+repr(t)+'.py', 'w')", 
      "    # Note that we are using -'+repr(t)+'.i' in order to for loop the path name. This is used again in the next line.", 
      "    replacements = {'volume 1 size default':'volume 1 size %s' % size_vec[t],'export Genesis  \"./sphere_default.e\" dimension 3 block all overwrite':'export Genesis  \"./sphere_'+repr(t)+'.e\" dimension 3 block all overwrite'}", 
      "    for line in infile:", 
      "        for src, target in replacements.iteritems():", 
      "            line = line.replace(src, target)", 
      "        outfile.write(line)", 
      "    infile.close()", 
      "    outfile.close()", 
      "    ", 
      "# seems to be an issue with cubit closing to run next iteration", 
      "# for t in range(0,len(rad1_vec)-15): ", 
      "#     subprocess.call('./cubit /home/john/projects/ferret/newcore_shellrecipe-'+str(t)+ '.py',shell=True)", 
      "# SHOULD in principle work but I suspect since the method of installation was semi-shady, we have to work around it."
     ], 
     "language": "python", 
     "outputs": [], 
     "prompt_number": 7
    }, 
    {
     "cell_type": "code", 
     "collapsed": true, 
     "input": [
      "import glob", 
      "os.chdir('/home/john/')", 
      "read_files = glob.glob(\"*.py\")", 
      "", 
      "with open(\"result.py\", \"wb\") as outfile:", 
      "    for f in read_files:", 
      "        with open(f, \"rb\") as infile:", 
      "            outfile.write(infile.read())", 
      "os.chdir('/home/john/projects/cubit/cubit-14.1/bin')", 
      "subprocess.call('./cubit /home/john/result.py',shell=True)", 
      "", 
      "#WARNING because the copy of cubit is ghetto, you will crash your shell after running this command but the mesh will be created!"
     ], 
     "language": "python", 
     "outputs": [], 
     "prompt_number": "*"
    }, 
    {
     "cell_type": "code", 
     "collapsed": true, 
     "input": [], 
     "language": "python", 
     "outputs": []
    }
   ]
  }
 ]
}