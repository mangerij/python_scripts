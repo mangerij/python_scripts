{
 "cells": [
  {
   "cell_type": "markdown",
   "metadata": {},
   "source": [
    "Make the spheres using batch of recipes. We put these in an oven and bake to 567 degrees kelvin and then glaze in a honey butter."
   ]
  },
  {
   "cell_type": "code",
   "execution_count": 1,
   "metadata": {
    "collapsed": false
   },
   "outputs": [],
   "source": [
    "#vary size PART I\n",
    "\n",
    "import os\n",
    "import subprocess\n",
    "import numpy as np\n",
    "\n",
    "os.chdir('/home/john/scriptsforSphereproject/')\n",
    "\n",
    "\n",
    "size_vec = [1.5, 1.75, 2., 2.25, 2.5, 2.75, 3., 3.25, 3.5, 3.75, 4., 4.25, 4.5, 4.75, 5., 5.25, 5.5, 5.75, 6.]\n",
    "block_size_vec = [50., 50.5, 51., 51.5, 52., 52.5, 53., 53.5, 54., 54.5, 55., 55.5, 56., 56.5, 57., 57.5, 58., 58.5, 59.];\n",
    "\n",
    "grid_size_vec = [5., 5.25, 5.5, 5.75, 6., 6.25, 6.5, 6.75, 7., 7.25, 7.5, 7.75, 8., 8.25, 8.5, 8.75, 9., 9.25, 9.5];\n",
    "                 \n",
    "for t in range(0,len(size_vec)):\n",
    "    # Define the base file we will be iteratively modifiying #\n",
    "    infile = open('/home/john/scriptsforSphereproject/sphereRecipe')\n",
    "    # Open the out file we will be writing at each step in the iteration #\n",
    "    outfile = open('/home/john/scriptsforSphereproject/newsphereRecipe-'+repr(t)+'.py', 'w')\n",
    "    # Note that we are using -'+repr(t)+'.i' in order to for loop the path name. This is used again in the next line.\n",
    "    replacements = {'create brick x BrickLength':'create brick x %s' % block_size_vec[t],\n",
    "                    'create sphere radius SphereRadius':'create sphere radius %s' % size_vec[t],\n",
    "                    'surface 1 2 3 4 5 6 size SurfMeshSize':'surface 1 2 3 4 5 6 size %s' % grid_size_vec[t],\n",
    "                    'export Genesis \"./embedded_single_sphere_defsize.e\" dimension 3 block all overwrite':'export Genesis  \"./embedded_single_sphere_'+repr(t)+'.e\" dimension 3 block all overwrite'}\n",
    "    for line in infile:\n",
    "        for src, target in replacements.iteritems():\n",
    "            line = line.replace(src, target)\n",
    "        outfile.write(line)\n",
    "    infile.close()\n",
    "    outfile.close()\n",
    "    \n",
    "# seems to be an issue with cubit closing to run next iteration\n",
    "# for t in range(0,len(rad1_vec)-15): \n",
    "#     subprocess.call('./cubit /home/john/projects/ferret/newcore_shellrecipe-'+str(t)+ '.py',shell=True)"
   ]
  },
  {
   "cell_type": "code",
   "execution_count": null,
   "metadata": {
    "collapsed": true
   },
   "outputs": [],
   "source": [
    "#vary size PART II\n",
    "\n",
    "import os\n",
    "import subprocess\n",
    "import numpy as np\n",
    "\n",
    "os.chdir('/home/john/scriptsforSphereproject/')\n",
    "\n",
    "\n",
    "size_vec = [insert]\n",
    "block_size_vec = [insert];\n",
    "\n",
    "grid_size_vec = [insert];\n",
    "                 \n",
    "for t in range(0,len(size_vec)):\n",
    "    # Define the base file we will be iteratively modifiying #\n",
    "    infile = open('/home/john/scriptsforSphereproject/sphererecipe')\n",
    "    # Open the out file we will be writing at each step in the iteration #\n",
    "    outfile = open('/home/john/scriptsforSphereproject/newsphererecipe-'+repr(t)+'.py', 'w')\n",
    "    # Note that we are using -'+repr(t)+'.i' in order to for loop the path name. This is used again in the next line.\n",
    "    replacements = {'create brick x def1':'create brick x %s' % block_size_vec[t],\n",
    "                    'create sphere radius defR':'create sphere radius %s' % size_vec[t],\n",
    "                    'surface 1 2 3 4 5 6 size defSize':'surface 1 2 3 4 5 6 size %s' % grid_size_vec[t],\n",
    "                    'export Genesis \"./embedded_single_sphere_defsize.e\" dimension 3 block all overwrite':'export Genesis  \"./embedded_single_sphere_'+repr(t)+'.e\" dimension 3 block all overwrite'}\n",
    "    for line in infile:\n",
    "        for src, target in replacements.iteritems():\n",
    "            line = line.replace(src, target)\n",
    "        outfile.write(line)\n",
    "    infile.close()\n",
    "    outfile.close()\n",
    "    \n",
    "# seems to be an issue with cubit closing to run next iteration\n",
    "# for t in range(0,len(rad1_vec)-15): \n",
    "#     subprocess.call('./cubit /home/john/projects/ferret/newcore_shellrecipe-'+str(t)+ '.py',shell=True)"
   ]
  },
  {
   "cell_type": "code",
   "execution_count": 3,
   "metadata": {
    "collapsed": false
   },
   "outputs": [],
   "source": [
    "import glob\n",
    "os.chdir('/home/john/scriptsforSphereproject/')\n",
    "read_files = glob.glob(\"*.py\")\n",
    "\n",
    "with open(\"result.py\", \"wb\") as outfile:\n",
    "    for f in read_files:\n",
    "        with open(f, \"rb\") as infile:\n",
    "            outfile.write(infile.read())\n",
    "os.chdir('/home/john/projects/cubit/cubit-14.1/bin')\n",
    "#subprocess.call('./cubit /home/john/scriptsforSphereproject/result.py',shell=True) #should work... but its easier to copypasta the recipe file into clarox"
   ]
  },
  {
   "cell_type": "markdown",
   "metadata": {},
   "source": [
    "Script input files for the different sizes:"
   ]
  },
  {
   "cell_type": "code",
   "execution_count": 8,
   "metadata": {
    "collapsed": false
   },
   "outputs": [],
   "source": [
    "#vary size\n",
    "\n",
    "import os\n",
    "import subprocess\n",
    "import numpy as np\n",
    "\n",
    "os.chdir('/home/john/scriptsforSphereproject/')\n",
    "\n",
    "size_vec = [3., 3.25, 3.5, 3.75, 4., 4.25, 4.5, 4.75, 5., 5.25, 5.5, 5.75, 6., 6.25, 6.5, 6.75, 7., 7.25, 7.5, 7.75, 8., 8.25, 8.5, 8.75, 9., 9.25];\n",
    "\n",
    "block_size_vec = [60., 60.5, 61., 61.5, 62., 62.5, 63., 63.5, 64., 64.5, 65., 65.5, 66., 66.5, 67., 67.5, 68., 68.5, 69., 69.5, 70., 70.5, 71., 71.5, 72., 72.5];\n",
    "\n",
    "grid_size_vec = [7., 7.05, 7.1, 7.15, 7.2, 7.25, 7.3, 7.35, 7.4, 7.45, 7.5, 7.55, 7.6, 7.65, 7.7, 7.75, 7.8, 7.85, 7.9, 7.95, 8., 8.05, 8.1, 8.15, 8.2, 8.25];\n",
    " \n",
    "for t in range(0,len(size_vec)):\n",
    "    # Define the base file we will be iteratively modifiying #\n",
    "    infile = open('/home/john/scriptsforSphereproject/PTOsphere_inSTO.i')\n",
    "    # Open the out file we will be writing at each step in the iteration #\n",
    "    outfile = open('/home/john/scriptsforSphereproject/newPTOsphere_inSTO_T293-'+repr(t)+'.i', 'w')\n",
    "    # Note that we are using -'+repr(t)+'.i' in order to for loop the path name. This is used again in the next line.\n",
    "    replacements = {'file = single_sphere_def.e':'file = embedded_single_sphere_'+repr(t)+'.e','file_base = out_PTOsphere_inSTO':'file_base = out_PTOsphere_inSTO_'+repr(t)}\n",
    "    for line in infile:\n",
    "        for src, target in replacements.iteritems():\n",
    "            line = line.replace(src, target)\n",
    "        outfile.write(line)\n",
    "    infile.close()\n",
    "    outfile.close()\n",
    "    \n",
    "# seems to be an issue with cubit closing to run next iteration\n",
    "# for t in range(0,len(rad1_vec)-15): \n",
    "#     subprocess.call('./cubit /home/john/projects/ferret/newcore_shellrecipe-'+str(t)+ '.py',shell=True)\n",
    "# SHOULD in principle work but I suspect since the method of installation was semi-shady, we have to work around it."
   ]
  },
  {
   "cell_type": "code",
   "execution_count": 6,
   "metadata": {
    "collapsed": true
   },
   "outputs": [],
   "source": [
    "#vary size\n",
    "\n",
    "import os\n",
    "import subprocess\n",
    "import numpy as np\n",
    "\n",
    "os.chdir('/home/john/scriptsforSphereproject/')\n",
    "\n",
    "size_vec = [3., 3.25, 3.5, 3.75, 4., 4.25, 4.5, 4.75, 5., 5.25, 5.5, 5.75, 6., 6.25, 6.5, 6.75, 7., 7.25, 7.5, 7.75, 8., 8.25, 8.5, 8.75, 9., 9.25];\n",
    "\n",
    "block_size_vec = [60., 60.5, 61., 61.5, 62., 62.5, 63., 63.5, 64., 64.5, 65., 65.5, 66., 66.5, 67., 67.5, 68., 68.5, 69., 69.5, 70., 70.5, 71., 71.5, 72., 72.5];\n",
    "\n",
    "grid_size_vec = [7., 7.05, 7.1, 7.15, 7.2, 7.25, 7.3, 7.35, 7.4, 7.45, 7.5, 7.55, 7.6, 7.65, 7.7, 7.75, 7.8, 7.85, 7.9, 7.95, 8., 8.05, 8.1, 8.15, 8.2, 8.25];\n",
    " \n",
    "#We will fix a mesh size vector..#\n",
    "\n",
    "for t in range(0,len(size_vec)):\n",
    "    # Define the base file we will be iteratively modifiying #\n",
    "    infile = open('/home/john/scriptsforSphereproject/script')\n",
    "    # Open the out file we will be writing at each step in the iteration #\n",
    "    outfile = open('/home/john/scriptsforSphereproject/PTOinSisphere-'+repr(t), 'w')\n",
    "    # Note that we are using -'+repr(t)+'.i' in order to for loop the path name. This is used again in the next line.\n",
    "    replacements = {'mpirun -v ./ferret-opt -i newPTOsphere_inSi-def.i':'mpirun -v ./ferret-opt -i newPTOsphere_inSi_T293-'+repr(t)+'.i'}\n",
    "    for line in infile:\n",
    "        for src, target in replacements.iteritems():\n",
    "            line = line.replace(src, target)\n",
    "        outfile.write(line)\n",
    "    infile.close()\n",
    "    outfile.close()\n",
    "    \n",
    "# seems to be an issue with cubit closing to run next iteration\n",
    "# for t in range(0,len(rad1_vec)-15): \n",
    "#     subprocess.call('./cubit /home/john/projects/ferret/newcore_shellrecipe-'+str(t)+ '.py',shell=True)\n",
    "# SHOULD in principle work but I suspect since the method of installation was semi-shady, we have to work around it."
   ]
  },
  {
   "cell_type": "code",
   "execution_count": 1,
   "metadata": {
    "collapsed": false
   },
   "outputs": [
    {
     "name": "stderr",
     "output_type": "stream",
     "text": [
      "Vendor:  Continuum Analytics, Inc.\n",
      "Package: mkl\n",
      "Message: trial mode expires in 30 days\n"
     ]
    }
   ],
   "source": [
    "import numpy as np"
   ]
  },
  {
   "cell_type": "code",
   "execution_count": 7,
   "metadata": {
    "collapsed": false
   },
   "outputs": [
    {
     "data": {
      "text/plain": [
       "array([ 0.5       ,  0.5097561 ,  0.5195122 ,  0.52926829,  0.53902439,\n",
       "        0.54878049,  0.55853659,  0.56829268,  0.57804878,  0.58780488,\n",
       "        0.59756098,  0.60731707,  0.61707317,  0.62682927,  0.63658537,\n",
       "        0.64634146,  0.65609756,  0.66585366,  0.67560976,  0.68536585,\n",
       "        0.69512195,  0.70487805,  0.71463415,  0.72439024,  0.73414634,\n",
       "        0.74390244,  0.75365854,  0.76341463,  0.77317073,  0.78292683,\n",
       "        0.79268293,  0.80243902,  0.81219512,  0.82195122,  0.83170732,\n",
       "        0.84146341,  0.85121951,  0.86097561,  0.87073171,  0.8804878 ,\n",
       "        0.8902439 ,  0.9       ])"
      ]
     },
     "execution_count": 7,
     "metadata": {},
     "output_type": "execute_result"
    }
   ],
   "source": [
    "np.linspace(0.5,0.9,42)"
   ]
  },
  {
   "cell_type": "code",
   "execution_count": 1,
   "metadata": {
    "collapsed": true
   },
   "outputs": [],
   "source": [
    "import os\n",
    "import subprocess\n",
    "import numpy as np\n",
    "\n",
    "os.chdir('/home/john/scriptsforSphereproject/')\n",
    "\n",
    "size_vec = [3., 3.5, 4., 4.5, 5., 5.5, 6., 6.5, 7., 7.5, 8., 8.5, 9., 9.5, 10., 10.5, 11., 11.5, 12., 12.5, 13., 13.5, 14., 14.5, 15., 15.5, 16., 16.5, 17., 17.5, 18., 18.5, 19., 19.5, 20., 20.5, 21., 21.5, 22., 22.5, 23., 23.5, 24., 24.5, 25.];\n",
    "block_size_vec = [50, 53, 56, 59, 62, 65, 68, 71, 74, 77, 80, 83, 86, 89, 92, 95, 98, 101, 104, 107, 110, 113, 116, 119, 122, 125, 128, 131, 134, 137, 140, 143, 146, 149, 152, 155, 158, 161, 164, 167, 170, 173, 176, 179, 182];\n"
   ]
  },
  {
   "cell_type": "code",
   "execution_count": 3,
   "metadata": {
    "collapsed": false
   },
   "outputs": [
    {
     "data": {
      "text/plain": [
       "45"
      ]
     },
     "execution_count": 3,
     "metadata": {},
     "output_type": "execute_result"
    }
   ],
   "source": [
    "len(size_vec)"
   ]
  },
  {
   "cell_type": "code",
   "execution_count": null,
   "metadata": {
    "collapsed": true
   },
   "outputs": [],
   "source": []
  },
  {
   "cell_type": "code",
   "execution_count": null,
   "metadata": {
    "collapsed": true
   },
   "outputs": [],
   "source": [
    "#vary size\n",
    "\n",
    "import os\n",
    "import subprocess\n",
    "import numpy as np\n",
    "\n",
    "os.chdir('/home/john/scriptsforSphereproject/')\n",
    "\n",
    "size_vec = [3., 3.25, 3.5, 3.75, 4., 4.25, 4.5, 4.75, 5., 5.25, 5.5, 5.75, 6., 6.25, 6.5, 6.75, 7., 7.25, 7.5, 7.75, 8., 8.25, 8.5, 8.75, 9., 9.25];\n",
    "\n",
    "block_size_vec = [60., 60.5, 61., 61.5, 62., 62.5, 63., 63.5, 64., 64.5, 65., 65.5, 66., 66.5, 67., 67.5, 68., 68.5, 69., 69.5, 70., 70.5, 71., 71.5, 72., 72.5];\n",
    "\n",
    "grid_size_vec = [7., 7.05, 7.1, 7.15, 7.2, 7.25, 7.3, 7.35, 7.4, 7.45, 7.5, 7.55, 7.6, 7.65, 7.7, 7.75, 7.8, 7.85, 7.9, 7.95, 8., 8.05, 8.1, 8.15, 8.2, 8.25];\n",
    " \n",
    "#We will fix a mesh size vector..#\n",
    "\n",
    "for t in range(0,len(size_vec)):\n",
    "    # Define the base file we will be iteratively modifiying #\n",
    "    infile = open('/home/john/scriptsforSphereproject/script')\n",
    "    # Open the out file we will be writing at each step in the iteration #\n",
    "    outfile = open('/home/john/scriptsforSphereproject/PTOsphere_nc-'+repr(t), 'w')\n",
    "    # Note that we are using -'+repr(t)+'.i' in order to for loop the path name. This is used again in the next line.\n",
    "    replacements = {'mpirun -v ./ferret-opt -i newsingle_sphere-def.i':'mpirun -v ./ferret-opt -i newsingle_nocouple_sphere-'+repr(t)+'.i'}\n",
    "    for line in infile:\n",
    "        for src, target in replacements.iteritems():\n",
    "            line = line.replace(src, target)\n",
    "        outfile.write(line)\n",
    "    infile.close()\n",
    "    outfile.close()\n",
    "    \n",
    "# seems to be an issue with cubit closing to run next iteration\n",
    "# for t in range(0,len(rad1_vec)-15): \n",
    "#     subprocess.call('./cubit /home/john/projects/ferret/newcore_shellrecipe-'+str(t)+ '.py',shell=True)\n",
    "# SHOULD in principle work but I suspect since the method of installation was semi-shady, we have to work around it."
   ]
  },
  {
   "cell_type": "code",
   "execution_count": null,
   "metadata": {
    "collapsed": true
   },
   "outputs": [],
   "source": []
  },
  {
   "cell_type": "markdown",
   "metadata": {
    "collapsed": true
   },
   "source": [
    "Sanity check:"
   ]
  },
  {
   "cell_type": "code",
   "execution_count": 9,
   "metadata": {
    "collapsed": true
   },
   "outputs": [],
   "source": [
    "#vary size\n",
    "\n",
    "import os\n",
    "import subprocess\n",
    "import numpy as np\n",
    "\n",
    "os.chdir('/home/john/scriptsforSphereproject/')\n",
    "\n",
    "#size_vec = [3, 4, 5, 6, 7, 8, 9, 10, 11, 12, 13, 14, 15, 16, 17, 18, 19, 20, 21, 22, 23, 24, 25, 26, 27, 28, 29, 30, 31, 32, 33, 34, 35, 36, 37, 38];\n",
    "block_size_vec = [30, 42, 56, 70, 84, 96, 120, 140, 180];\n",
    "\n",
    "#grid_size_vec = [5., 6., 7., 8., 9., 10., 11., 12., 13., 14., 15., 16., 17., 18., 19., 20., 21., 22., 23., 24., 25., 26., 27., 28., 29., 30., 31., 32., 33., 34., 35., 36., 37., 38., 39., 40.];\n",
    "                 \n",
    "for t in range(0,len(block_size_vec)):\n",
    "    # Define the base file we will be iteratively modifiying #\n",
    "    infile = open('/home/john/scriptsforSphereproject/sphererecipe_e_check')\n",
    "    # Open the out file we will be writing at each step in the iteration #\n",
    "    outfile = open('/home/john/scriptsforSphereproject/newsphererecipe_e_check-'+repr(t)+'.py', 'w')\n",
    "    # Note that we are using -'+repr(t)+'.i' in order to for loop the path name. This is used again in the next line.\n",
    "    replacements = {'create brick x def1':'create brick x %s' % block_size_vec[t],\n",
    "                    #'create sphere radius defR':'create sphere radius %s' % size_vec[t],\n",
    "                    #'surface 1 2 3 4 5 6 size defSize':'surface 1 2 3 4 5 6 size %s' % grid_size_vec[t],\n",
    "                    'export Genesis \"./embedded_single_sphere_defsize.e\" dimension 3 block all overwrite':'export Genesis  \"./embedded_sphere_e_check_'+repr(t)+'.e\" dimension 3 block all overwrite'}\n",
    "    for line in infile:\n",
    "        for src, target in replacements.iteritems():\n",
    "            line = line.replace(src, target)\n",
    "        outfile.write(line)\n",
    "    infile.close()\n",
    "    outfile.close()\n",
    "    \n",
    "# seems to be an issue with cubit closing to run next iteration\n",
    "# for t in range(0,len(rad1_vec)-15): \n",
    "#     subprocess.call('./cubit /home/john/projects/ferret/newcore_shellrecipe-'+str(t)+ '.py',shell=True)\n",
    "# SHOULD in principle work but I suspect since the method of installation was semi-shady, we have to work around it."
   ]
  },
  {
   "cell_type": "code",
   "execution_count": 10,
   "metadata": {
    "collapsed": true
   },
   "outputs": [],
   "source": [
    "#NOTE: DELETE .py files from folder before running\n",
    "import glob\n",
    "os.chdir('/home/john/scriptsforSphereproject/')\n",
    "read_files = glob.glob(\"*.py\")\n",
    "\n",
    "with open(\"result.py\", \"wb\") as outfile:\n",
    "    for f in read_files:\n",
    "        with open(f, \"rb\") as infile:\n",
    "            outfile.write(infile.read())\n",
    "os.chdir('/home/john/projects/cubit/cubit-14.1/bin')\n",
    "#subprocess.call('./cubit /home/john/scriptsforSphereproject/result.py',shell=True) #should work... but its easier to copypasta the recipe file into clarox"
   ]
  },
  {
   "cell_type": "code",
   "execution_count": 5,
   "metadata": {
    "collapsed": true
   },
   "outputs": [],
   "source": [
    "#vary size\n",
    "\n",
    "import os\n",
    "import subprocess\n",
    "import numpy as np\n",
    "\n",
    "os.chdir('/home/john/scriptsforSphereproject/')\n",
    "\n",
    "size_vec = [3., 3.25, 3.5, 3.75, 4., 4.25, 4.5, 4.75, 5., 5.25, 5.5, 5.75, 6., 6.25, 6.5, 6.75, 7., 7.25, 7.5, 7.75, 8., 8.25, 8.5, 8.75, 9., 9.25];\n",
    "\n",
    "block_size_vec = [60., 60.5, 61., 61.5, 62., 62.5, 63., 63.5, 64., 64.5, 65., 65.5, 66., 66.5, 67., 67.5, 68., 68.5, 69., 69.5, 70., 70.5, 71., 71.5, 72., 72.5];\n",
    "\n",
    "grid_size_vec = [7., 7.05, 7.1, 7.15, 7.2, 7.25, 7.3, 7.35, 7.4, 7.45, 7.5, 7.55, 7.6, 7.65, 7.7, 7.75, 7.8, 7.85, 7.9, 7.95, 8., 8.05, 8.1, 8.15, 8.2, 8.25];\n",
    " \n",
    "for t in range(0,len(size_vec)):\n",
    "    # Define the base file we will be iteratively modifiying #\n",
    "    infile = open('/home/john/scriptsforSphereproject/PTOsphere_inSi.i')\n",
    "    # Open the out file we will be writing at each step in the iteration #\n",
    "    outfile = open('/home/john/scriptsforSphereproject/newPTOsphere_inSi_T293-'+repr(t)+'.i', 'w')\n",
    "    # Note that we are using -'+repr(t)+'.i' in order to for loop the path name. This is used again in the next line.\n",
    "    replacements = {'file = single_sphere_def.e':'file = embedded_single_sphere_'+repr(t)+'.e','file_base = out_PTOsphere_inSTO':'file_base = out_PTOsphere_inSTO_'+repr(t)}\n",
    "    for line in infile:\n",
    "        for src, target in replacements.iteritems():\n",
    "            line = line.replace(src, target)\n",
    "        outfile.write(line)\n",
    "    infile.close()\n",
    "    outfile.close()\n",
    "    \n",
    "# seems to be an issue with cubit closing to run next iteration\n",
    "# for t in range(0,len(rad1_vec)-15): \n",
    "#     subprocess.call('./cubit /home/john/projects/ferret/newcore_shellrecipe-'+str(t)+ '.py',shell=True)\n",
    "# SHOULD in principle work but I suspect since the method of installation was semi-shady, we have to work around it."
   ]
  },
  {
   "cell_type": "code",
   "execution_count": null,
   "metadata": {
    "collapsed": true
   },
   "outputs": [],
   "source": []
  }
 ],
 "metadata": {
  "kernelspec": {
   "display_name": "Python 2",
   "language": "python",
   "name": "python2"
  },
  "language_info": {
   "codemirror_mode": {
    "name": "ipython",
    "version": 2
   },
   "file_extension": ".py",
   "mimetype": "text/x-python",
   "name": "python",
   "nbconvert_exporter": "python",
   "pygments_lexer": "ipython2",
   "version": "2.7.11"
  }
 },
 "nbformat": 4,
 "nbformat_minor": 0
}
