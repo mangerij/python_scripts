{
 "metadata": {
  "name": "snowpersons"
 }, 
 "nbformat": 2, 
 "worksheets": [
  {
   "cells": [
    {
     "cell_type": "code", 
     "collapsed": true, 
     "input": [
      "V='.oO-'", 
      "def F(d):", 
      " D=lambda i:int(d[i])-1", 
      " print\"  \"+\" __ \"[D(0)]*3+\"\\n \"+\"_. (=./_=._*=.\\\\__. )\"[D(0)::4]+\"\\n\"+\\", 
      "\" \\\\  \"[D(4)]+\"(\"+V[D(2)]+',._ '[D(1)]+V[D(3)]+\")\"+\" //  \"[D(5)]+'\\n'+\\", 
      "\"< / \"[D(4)]+\"(\"+\" ]> :    [< \"[D(6)::4]+\")\"+\"> \\\\ \"[D(5)]+\"\\n (\"+\\", 
      "' \"_ : _  \"_ '[D(7)::4]+\")\""
     ], 
     "language": "python", 
     "outputs": [], 
     "prompt_number": 1
    }, 
    {
     "cell_type": "code", 
     "collapsed": false, 
     "input": [
      "F(\"122234214\")"
     ], 
     "language": "python", 
     "outputs": [
      {
       "output_type": "stream", 
       "stream": "stdout", 
       "text": [
        "     ", 
        " _===_", 
        " (o.o) ", 
        "/(] [) ", 
        " ( : )"
       ]
      }
     ], 
     "prompt_number": 15
    }, 
    {
     "cell_type": "code", 
     "collapsed": true, 
     "input": [], 
     "language": "python", 
     "outputs": []
    }
   ]
  }
 ]
}