{
 "metadata": {
  "name": "generatePhaseDiagramInput"
 }, 
 "nbformat": 2, 
 "worksheets": [
  {
   "cells": [
    {
     "cell_type": "code", 
     "collapsed": true, 
     "input": [
      "#Here we use Mathematica's unit convert to generate the vector of \\alpha_1 coefficients at different temperatures", 
      "import os", 
      "import subprocess", 
      "import numpy as np", 
      "", 
      "# T = {10,850,60} (length 15)", 
      "a_vec = np.array([-0.284371, -0.261775, -0.239179, -0.216583, -0.193987, -0.171391, -0.148795, -0.126199, -0.103603, -0.0810067, -0.0584107, -0.0358147, -0.0132187, 0.00937734, 0.0319733]);"
     ], 
     "language": "python", 
     "outputs": [], 
     "prompt_number": 15
    }, 
    {
     "cell_type": "code", 
     "collapsed": true, 
     "input": [
      "import os", 
      "import subprocess", 
      "import numpy as np", 
      "", 
      "os.chdir('/home/john/projectz/ferret/')", 
      "", 
      "#dT = 85 ", 
      "a_vec = np.array([-0.288137, -0.269307, -0.250477, -0.231647, -0.212817, -0.193987, 0.175157, -0.156327, -0.137497, -0.118667, -0.0998367, -0.0810067, -0.0621767, -0.0433467, -0.0245167, -0.00568666, 0.0131433]);", 
      "disp_vec = np.linspace(-0.51,0.51,7); #note that this depeds on the slab size!", 
      "", 
      "for t in range(0,len(a_vec)):", 
      "    for j in range(0,len(disp_vec)):", 
      "        # Define the base file we will be iteratively modifiying #", 
      "        infile = open('/home/john/projectz/ferret/coupledTests.i')", 
      "        # Open the out file we will be writing at each step in the iteration #", 
      "        outfile = open('/home/john/projectz/ferret/newcoupledTests-'+repr(t)+'-'+repr(j)+'.i', 'w')", 
      "        # Note that we are using -'+repr(t)+'.i' in order to for loop the path name. This is used again in the next line.", 
      "        replacements = {'alpha1 = -0.07228837000000002':'alpha1 = %s' % a_vec[t],'value = -0.25':'value = %s' % disp_vec[j],'value = 0.25':'value = %s' % disp_vec[len(disp_vec)-1-j],'file_base = out_PbTiO3_40nm_test_comp02':'file_base = out_PbTiO3_50nm_scale-cnorm_T-'+repr(t)+'_strain-'+repr(j)}", 
      "        for line in infile:", 
      "            for src, target in replacements.iteritems():", 
      "                line = line.replace(src, target)", 
      "            outfile.write(line)", 
      "        infile.close()", 
      "        outfile.close()"
     ], 
     "language": "python", 
     "outputs": [], 
     "prompt_number": 10
    }, 
    {
     "cell_type": "code", 
     "collapsed": true, 
     "input": [
      "#PREFACTOR", 
      "", 
      "import os", 
      "import subprocess", 
      "import numpy as np", 
      "", 
      "os.chdir('/home/john/projectz/ferret/')", 
      "", 
      "#dT = 85 K:", 
      "a_vec = np.array([-0.288137, -0.269307, -0.250477, -0.231647, -0.212817, -0.193987, 0.175157, -0.156327, -0.137497, -0.118667, -0.0998367, -0.0810067, -0.0621767, -0.0433467, -0.0245167, -0.00568666, 0.0131433]);", 
      "str_vec = np.linspace(-0.027, 0.027,7); #note that this depends on the slab size!", 
      "#'alpha1 = -0.07228837000000002':'alpha1 = %s' % a_vec[t],", 
      "for t in range(0,len(a_vec)):", 
      "    for j in range(0,len(str_vec)):", 
      "        # Define the base file we will be iteratively modifiying #", 
      "        infile = open('/home/john/projectz/ferret/coupledTests.i')", 
      "        # Open the out file we will be writing at each step in the iteration #", 
      "        outfile = open('/home/john/projectz/ferret/newcoupledTests-'+repr(t)+'-'+repr(j)+'.i', 'w')", 
      "        # Note that we are using -'+repr(t)+'.i' in order to for loop the path name. This is used again in the next line.", 
      "        replacements = {'prefactor = -0.012':'prefactor = %s' % str_vec[j],'file_base = out_PbTiO3_40nm_test_comp02':'file_base = out_PbTiO3_90nm_T-'+repr(t)+'_strain-'+repr(j)}", 
      "        for line in infile:", 
      "            for src, target in replacements.iteritems():", 
      "                line = line.replace(src, target)", 
      "            outfile.write(line)", 
      "        infile.close()", 
      "        outfile.close()"
     ], 
     "language": "python", 
     "outputs": [], 
     "prompt_number": 2
    }, 
    {
     "cell_type": "code", 
     "collapsed": true, 
     "input": [
      "import os", 
      "import subprocess", 
      "import numpy as np", 
      "", 
      "os.chdir('/home/john/projectz/ferret/')", 
      "", 
      "#dT = 85 K:", 
      "a_vec = np.array([-0.284371, -0.25236, -0.220349, -0.188338, -0.156327, -0.124316, -0.0923047, -0.0602937, -0.0282827, 0.00372834]);", 
      "disp_vec = np.linspace(-0.4,0.4,10); #note that this depends on the slab size!", 
      "", 
      "for t in range(0,len(a_vec)):", 
      "    for j in range(0,len(disp_vec)):", 
      "        # Define the base file we will be iteratively modifiying #", 
      "        infile = open('/home/john/projectz/ferret/coupledTests-quick.i')", 
      "        # Open the out file we will be writing at each step in the iteration #", 
      "        outfile = open('/home/john/projectz/ferret/newquickcoupledTests-'+repr(t)+'-'+repr(j)+'.i', 'w')", 
      "        # Note that we are using -'+repr(t)+'.i' in order to for loop the path name. This is used again in the next line.", 
      "        replacements = {'alpha1 = -0.07228837000000002':'alpha1 = %s' % a_vec[t],'value = 0.4':'value = %s' % disp_vec[j],'value = -0.4':'value = %s' % disp_vec[len(disp_vec)-1-j],'file_base = out_PbTiO3_30nm_T1_comp004_scale-cnorm':'file_base = out_PbTiO3_30nm_scale-cnorm_T-'+repr(t)+'_strain-'+repr(j)}", 
      "        for line in infile:", 
      "            for src, target in replacements.iteritems():", 
      "                line = line.replace(src, target)", 
      "            outfile.write(line)", 
      "        infile.close()", 
      "        outfile.close()"
     ], 
     "language": "python", 
     "outputs": [], 
     "prompt_number": 2
    }, 
    {
     "cell_type": "code", 
     "collapsed": false, 
     "input": [
      "disp_vec[len(disp_vec)-1-9]"
     ], 
     "language": "python", 
     "outputs": [
      {
       "output_type": "pyout", 
       "prompt_number": 3, 
       "text": [
        "-1.0"
       ]
      }
     ], 
     "prompt_number": 3
    }, 
    {
     "cell_type": "code", 
     "collapsed": false, 
     "input": [
      "disp_vec[9]"
     ], 
     "language": "python", 
     "outputs": [
      {
       "output_type": "pyout", 
       "prompt_number": 4, 
       "text": [
        "1.0"
       ]
      }
     ], 
     "prompt_number": 4
    }, 
    {
     "cell_type": "code", 
     "collapsed": true, 
     "input": [], 
     "language": "python", 
     "outputs": []
    }, 
    {
     "cell_type": "code", 
     "collapsed": true, 
     "input": [], 
     "language": "python", 
     "outputs": []
    }
   ]
  }
 ]
}