{
 "metadata": {
  "name": "vary stv mesh input CUBIT"
 }, 
 "nbformat": 2, 
 "worksheets": [
  {
   "cells": [
    {
     "cell_type": "code", 
     "collapsed": true, 
     "input": [
      "#vary surface-to-volume ratio and plot stress fields (look for differences)", 
      "", 
      "import os", 
      "import subprocess", 
      "import numpy as np", 
      "", 
      "os.chdir('/home/john/projects/ferret/')", 
      "", 
      "", 
      "## new set, lets study the small size first and then go to large size in which we will have to do on a cluster since the ", 
      "# number of fem in the mesh is going to scale with size", 
      "", 
      "rad2_vec = np.around(np.linspace(4,25,121),decimals=2);", 
      "rad1_vec = np.around(np.linspace(2.4,15,121),decimals=2); #dont need a mathematica file, just solve for starting and end points", 
      "size_vec = np.around(np.linspace(0.4,2.5,121),decimals=3); #need to change the size of the mesh", 
      "", 
      "# note that these radii are ensuring the same shell/core ratio. It will be interesting to vary that parameter.", 
      "# These are calculated in a Mathematica .nb file named 'stv ratio'.", 
      "", 
      "for t in range(0,121):", 
      "    # Define the base file we will be iteratively modifiying #", 
      "    infile = open('/home/john/projects/ferret/core_shellrecipe.py')", 
      "    ", 
      "    # Open the out file we will be writing at each step in the iteration #", 
      "    outfile = open('/home/john/projects/ferret/newcore_shellrecipe-'+repr(t)+'.py', 'w')", 
      "    # Note that we are using -'+repr(t)+'.i' in order to for loop the path name. This is used again in the next line.", 
      "    replacements = {'create sphere radius defaultrad1':'create sphere radius %s' % rad1_vec[t],'create sphere radius defaultrad2':'create sphere radius %s' % rad2_vec[t],'export Genesis  \"./core_shell_exodus.e\" dimension 3 block all overwrite':'export Genesis  \"./core_shell_exodus-'+repr(t)+'.e\" dimension 3 block all overwrite','volume 1 size defaultsize':'volume 1 size %s' % size_vec[t],'volume 2 size defaultsize':'volume 2 size %s' % size_vec[t]}", 
      "    for line in infile:", 
      "        for src, target in replacements.iteritems():", 
      "            line = line.replace(src, target)", 
      "        outfile.write(line)", 
      "    infile.close()", 
      "    outfile.close()", 
      "    ", 
      "# seems to be an issue with cubit closing to run next iteration", 
      "# for t in range(0,len(rad1_vec)-15): ", 
      "#     subprocess.call('./cubit /home/john/projects/ferret/newcore_shellrecipe-'+str(t)+ '.py',shell=True)", 
      "# SHOULD in principle work but I suspect since the method of installation was semi-shady, we have to work around it."
     ], 
     "language": "python", 
     "outputs": [], 
     "prompt_number": 3
    }, 
    {
     "cell_type": "code", 
     "collapsed": false, 
     "input": [
      "import glob", 
      "os.chdir('/home/john/projects/ferret/')", 
      "read_files = glob.glob(\"*.py\")", 
      "", 
      "with open(\"result.py\", \"wb\") as outfile:", 
      "    for f in read_files:", 
      "        with open(f, \"rb\") as infile:", 
      "            outfile.write(infile.read())", 
      "os.chdir('/home/john/projects/cubit/cubit-14.1/bin')", 
      "subprocess.call('./cubit /home/john/projects/ferret/result.py',shell=True)", 
      "", 
      "#WARNING because the copy of cubit is ghetto, you will crash your shell after running this command but the mesh will be created!"
     ], 
     "language": "python", 
     "outputs": [
      {
       "ename": "KeyboardInterrupt", 
       "evalue": "", 
       "output_type": "pyerr", 
       "traceback": [
        "\u001b[0;31m---------------------------------------------------------------------------\u001b[0m\n\u001b[0;31mKeyboardInterrupt\u001b[0m                         Traceback (most recent call last)", 
        "\u001b[0;32m/home/john/projects/cubit/cubit-14.1/bin/<ipython-input-4-8b90bbdaae5f>\u001b[0m in \u001b[0;36m<module>\u001b[0;34m()\u001b[0m\n\u001b[1;32m      8\u001b[0m             \u001b[0moutfile\u001b[0m\u001b[0;34m.\u001b[0m\u001b[0mwrite\u001b[0m\u001b[0;34m(\u001b[0m\u001b[0minfile\u001b[0m\u001b[0;34m.\u001b[0m\u001b[0mread\u001b[0m\u001b[0;34m(\u001b[0m\u001b[0;34m)\u001b[0m\u001b[0;34m)\u001b[0m\u001b[0;34m\u001b[0m\u001b[0m\n\u001b[1;32m      9\u001b[0m \u001b[0mos\u001b[0m\u001b[0;34m.\u001b[0m\u001b[0mchdir\u001b[0m\u001b[0;34m(\u001b[0m\u001b[0;34m'/home/john/projects/cubit/cubit-14.1/bin'\u001b[0m\u001b[0;34m)\u001b[0m\u001b[0;34m\u001b[0m\u001b[0m\n\u001b[0;32m---> 10\u001b[0;31m \u001b[0msubprocess\u001b[0m\u001b[0;34m.\u001b[0m\u001b[0mcall\u001b[0m\u001b[0;34m(\u001b[0m\u001b[0;34m'./cubit /home/john/projects/ferret/result.py'\u001b[0m\u001b[0;34m,\u001b[0m\u001b[0mshell\u001b[0m\u001b[0;34m=\u001b[0m\u001b[0mTrue\u001b[0m\u001b[0;34m)\u001b[0m\u001b[0;34m\u001b[0m\u001b[0m\n\u001b[0m\u001b[1;32m     11\u001b[0m \u001b[0;34m\u001b[0m\u001b[0m\n\u001b[1;32m     12\u001b[0m \u001b[0;31m#WARNING because the copy of cubit is ghetto, you will crash your shell after running this command but the mesh will be created!\u001b[0m\n\u001b[0;34m\u001b[0m\u001b[0m\n", 
        "\u001b[0;32m/usr/lib/python2.7/subprocess.pyc\u001b[0m in \u001b[0;36mcall\u001b[0;34m(*popenargs, **kwargs)\u001b[0m\n\u001b[1;32m    491\u001b[0m     \u001b[0mretcode\u001b[0m \u001b[0;34m=\u001b[0m \u001b[0mcall\u001b[0m\u001b[0;34m(\u001b[0m\u001b[0;34m[\u001b[0m\u001b[0;34m\"ls\"\u001b[0m\u001b[0;34m,\u001b[0m \u001b[0;34m\"-l\"\u001b[0m\u001b[0;34m]\u001b[0m\u001b[0;34m)\u001b[0m\u001b[0;34m\u001b[0m\u001b[0m\n\u001b[1;32m    492\u001b[0m     \"\"\"\n\u001b[0;32m--> 493\u001b[0;31m     \u001b[0;32mreturn\u001b[0m \u001b[0mPopen\u001b[0m\u001b[0;34m(\u001b[0m\u001b[0;34m*\u001b[0m\u001b[0mpopenargs\u001b[0m\u001b[0;34m,\u001b[0m \u001b[0;34m**\u001b[0m\u001b[0mkwargs\u001b[0m\u001b[0;34m)\u001b[0m\u001b[0;34m.\u001b[0m\u001b[0mwait\u001b[0m\u001b[0;34m(\u001b[0m\u001b[0;34m)\u001b[0m\u001b[0;34m\u001b[0m\u001b[0m\n\u001b[0m\u001b[1;32m    494\u001b[0m \u001b[0;34m\u001b[0m\u001b[0m\n\u001b[1;32m    495\u001b[0m \u001b[0;34m\u001b[0m\u001b[0m\n", 
        "\u001b[0;32m/usr/lib/python2.7/subprocess.pyc\u001b[0m in \u001b[0;36mwait\u001b[0;34m(self)\u001b[0m\n\u001b[1;32m   1289\u001b[0m             \u001b[0;32mif\u001b[0m \u001b[0mself\u001b[0m\u001b[0;34m.\u001b[0m\u001b[0mreturncode\u001b[0m \u001b[0;32mis\u001b[0m \u001b[0mNone\u001b[0m\u001b[0;34m:\u001b[0m\u001b[0;34m\u001b[0m\u001b[0m\n\u001b[1;32m   1290\u001b[0m                 \u001b[0;32mtry\u001b[0m\u001b[0;34m:\u001b[0m\u001b[0;34m\u001b[0m\u001b[0m\n\u001b[0;32m-> 1291\u001b[0;31m                     \u001b[0mpid\u001b[0m\u001b[0;34m,\u001b[0m \u001b[0msts\u001b[0m \u001b[0;34m=\u001b[0m \u001b[0m_eintr_retry_call\u001b[0m\u001b[0;34m(\u001b[0m\u001b[0mos\u001b[0m\u001b[0;34m.\u001b[0m\u001b[0mwaitpid\u001b[0m\u001b[0;34m,\u001b[0m \u001b[0mself\u001b[0m\u001b[0;34m.\u001b[0m\u001b[0mpid\u001b[0m\u001b[0;34m,\u001b[0m \u001b[0;36m0\u001b[0m\u001b[0;34m)\u001b[0m\u001b[0;34m\u001b[0m\u001b[0m\n\u001b[0m\u001b[1;32m   1292\u001b[0m                 \u001b[0;32mexcept\u001b[0m \u001b[0mOSError\u001b[0m \u001b[0;32mas\u001b[0m \u001b[0me\u001b[0m\u001b[0;34m:\u001b[0m\u001b[0;34m\u001b[0m\u001b[0m\n\u001b[1;32m   1293\u001b[0m                     \u001b[0;32mif\u001b[0m \u001b[0me\u001b[0m\u001b[0;34m.\u001b[0m\u001b[0merrno\u001b[0m \u001b[0;34m!=\u001b[0m \u001b[0merrno\u001b[0m\u001b[0;34m.\u001b[0m\u001b[0mECHILD\u001b[0m\u001b[0;34m:\u001b[0m\u001b[0;34m\u001b[0m\u001b[0m\n", 
        "\u001b[0;32m/usr/lib/python2.7/subprocess.pyc\u001b[0m in \u001b[0;36m_eintr_retry_call\u001b[0;34m(func, *args)\u001b[0m\n\u001b[1;32m    476\u001b[0m     \u001b[0;32mwhile\u001b[0m \u001b[0mTrue\u001b[0m\u001b[0;34m:\u001b[0m\u001b[0;34m\u001b[0m\u001b[0m\n\u001b[1;32m    477\u001b[0m         \u001b[0;32mtry\u001b[0m\u001b[0;34m:\u001b[0m\u001b[0;34m\u001b[0m\u001b[0m\n\u001b[0;32m--> 478\u001b[0;31m             \u001b[0;32mreturn\u001b[0m \u001b[0mfunc\u001b[0m\u001b[0;34m(\u001b[0m\u001b[0;34m*\u001b[0m\u001b[0margs\u001b[0m\u001b[0;34m)\u001b[0m\u001b[0;34m\u001b[0m\u001b[0m\n\u001b[0m\u001b[1;32m    479\u001b[0m         \u001b[0;32mexcept\u001b[0m \u001b[0;34m(\u001b[0m\u001b[0mOSError\u001b[0m\u001b[0;34m,\u001b[0m \u001b[0mIOError\u001b[0m\u001b[0;34m)\u001b[0m \u001b[0;32mas\u001b[0m \u001b[0me\u001b[0m\u001b[0;34m:\u001b[0m\u001b[0;34m\u001b[0m\u001b[0m\n\u001b[1;32m    480\u001b[0m             \u001b[0;32mif\u001b[0m \u001b[0me\u001b[0m\u001b[0;34m.\u001b[0m\u001b[0merrno\u001b[0m \u001b[0;34m==\u001b[0m \u001b[0merrno\u001b[0m\u001b[0;34m.\u001b[0m\u001b[0mEINTR\u001b[0m\u001b[0;34m:\u001b[0m\u001b[0;34m\u001b[0m\u001b[0m\n", 
        "\u001b[0;31mKeyboardInterrupt\u001b[0m: "
       ]
      }
     ], 
     "prompt_number": 4
    }, 
    {
     "cell_type": "code", 
     "collapsed": false, 
     "input": [
      "rad2_vec"
     ], 
     "language": "python", 
     "outputs": [
      {
       "output_type": "pyout", 
       "prompt_number": 3, 
       "text": [
        "array([   5.  ,    9.75,   14.5 ,   19.25,   24.  ,   28.75,   33.5 ,", 
        "         38.25,   43.  ,   47.75,   52.5 ,   57.25,   62.  ,   66.75,", 
        "         71.5 ,   76.25,   81.  ,   85.75,   90.5 ,   95.25,  100.  ])"
       ]
      }
     ], 
     "prompt_number": 3
    }, 
    {
     "cell_type": "code", 
     "collapsed": false, 
     "input": [
      "rad1_vec"
     ], 
     "language": "python", 
     "outputs": [
      {
       "output_type": "pyout", 
       "prompt_number": 4, 
       "text": [
        "array([  3.  ,   5.85,   8.7 ,  11.55,  14.4 ,  17.25,  20.1 ,  22.95,", 
        "        25.8 ,  28.65,  31.5 ,  34.35,  37.2 ,  40.05,  42.9 ,  45.75,", 
        "        48.6 ,  51.45,  54.3 ,  57.15,  60.  ])"
       ]
      }
     ], 
     "prompt_number": 4
    }, 
    {
     "cell_type": "code", 
     "collapsed": true, 
     "input": [
      "import sys", 
      "# add Cubit libraries to your path", 
      "sys.path.append('/home/john/projects/cubit/cubit-14.1/bin')", 
      "import cubit", 
      "#cubit.init([''])", 
      "import numpy as np"
     ], 
     "language": "python", 
     "outputs": [], 
     "prompt_number": 1
    }, 
    {
     "cell_type": "code", 
     "collapsed": true, 
     "input": [
      "rad2_vec = np.linspace(2.5,12.5,121);", 
      "rad1_vec = np.linspace(1.5,7.5,121);"
     ], 
     "language": "python", 
     "outputs": [], 
     "prompt_number": 2
    }, 
    {
     "cell_type": "code", 
     "collapsed": false, 
     "input": [
      "rad2_vec"
     ], 
     "language": "python", 
     "outputs": [
      {
       "output_type": "pyout", 
       "prompt_number": 3, 
       "text": [
        "array([  2.5       ,   2.58333333,   2.66666667,   2.75      ,", 
        "         2.83333333,   2.91666667,   3.        ,   3.08333333,", 
        "         3.16666667,   3.25      ,   3.33333333,   3.41666667,", 
        "         3.5       ,   3.58333333,   3.66666667,   3.75      ,", 
        "         3.83333333,   3.91666667,   4.        ,   4.08333333,", 
        "         4.16666667,   4.25      ,   4.33333333,   4.41666667,", 
        "         4.5       ,   4.58333333,   4.66666667,   4.75      ,", 
        "         4.83333333,   4.91666667,   5.        ,   5.08333333,", 
        "         5.16666667,   5.25      ,   5.33333333,   5.41666667,", 
        "         5.5       ,   5.58333333,   5.66666667,   5.75      ,", 
        "         5.83333333,   5.91666667,   6.        ,   6.08333333,", 
        "         6.16666667,   6.25      ,   6.33333333,   6.41666667,", 
        "         6.5       ,   6.58333333,   6.66666667,   6.75      ,", 
        "         6.83333333,   6.91666667,   7.        ,   7.08333333,", 
        "         7.16666667,   7.25      ,   7.33333333,   7.41666667,", 
        "         7.5       ,   7.58333333,   7.66666667,   7.75      ,", 
        "         7.83333333,   7.91666667,   8.        ,   8.08333333,", 
        "         8.16666667,   8.25      ,   8.33333333,   8.41666667,", 
        "         8.5       ,   8.58333333,   8.66666667,   8.75      ,", 
        "         8.83333333,   8.91666667,   9.        ,   9.08333333,", 
        "         9.16666667,   9.25      ,   9.33333333,   9.41666667,", 
        "         9.5       ,   9.58333333,   9.66666667,   9.75      ,", 
        "         9.83333333,   9.91666667,  10.        ,  10.08333333,", 
        "        10.16666667,  10.25      ,  10.33333333,  10.41666667,", 
        "        10.5       ,  10.58333333,  10.66666667,  10.75      ,", 
        "        10.83333333,  10.91666667,  11.        ,  11.08333333,", 
        "        11.16666667,  11.25      ,  11.33333333,  11.41666667,", 
        "        11.5       ,  11.58333333,  11.66666667,  11.75      ,", 
        "        11.83333333,  11.91666667,  12.        ,  12.08333333,", 
        "        12.16666667,  12.25      ,  12.33333333,  12.41666667,  12.5       ])"
       ]
      }
     ], 
     "prompt_number": 3
    }, 
    {
     "cell_type": "code", 
     "collapsed": false, 
     "input": [
      "rad1_vec"
     ], 
     "language": "python", 
     "outputs": [
      {
       "output_type": "pyout", 
       "prompt_number": 4, 
       "text": [
        "array([  3.  ,   3.75,   4.5 ,   5.25,   6.  ,   6.75,   7.5 ,   8.25,", 
        "         9.  ,   9.75,  10.5 ,  11.25,  12.  ,  12.75,  13.5 ,  14.25,", 
        "        15.  ,  15.75,  16.5 ,  17.25,  18.  ])"
       ]
      }
     ], 
     "prompt_number": 4
    }, 
    {
     "cell_type": "code", 
     "collapsed": true, 
     "input": [], 
     "language": "python", 
     "outputs": []
    }
   ]
  }
 ]
}