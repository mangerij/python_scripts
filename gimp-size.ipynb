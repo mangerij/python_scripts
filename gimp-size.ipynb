{
 "metadata": {
  "name": "gimp-size"
 }, 
 "nbformat": 2, 
 "worksheets": [
  {
   "cells": [
    {
     "cell_type": "code", 
     "collapsed": true, 
     "input": [
      "#saved 4 images in the 4 least compression options in gimp, will use convert for eps2, eps3 and eps1 to see ", 
      "# which image has the best file quality by eye and best file size; can create a matrix... perhaps this isn't that important.", 
      "", 
      "import os", 
      "import subprocess", 
      "", 
      "subprocess.call('\"convert facetedcoremesh_step2_qual\"+str(k)+\".png\" facetedcoremesh_step_qual\"+str(k)+\".eps"
     ], 
     "language": "python", 
     "outputs": []
    }
   ]
  }
 ]
}