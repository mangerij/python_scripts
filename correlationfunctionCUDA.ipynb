{
 "cells": [
  {
   "cell_type": "code",
   "execution_count": 2,
   "metadata": {
    "collapsed": false
   },
   "outputs": [
    {
     "name": "stderr",
     "output_type": "stream",
     "text": [
      "Vendor:  Continuum Analytics, Inc.\n",
      "Package: mkl\n",
      "Message: trial mode expires in 30 days\n",
      "numbapro:1: ImportWarning: The numbapro package is deprecated in favour of the accelerate package. Please update your code to use equivalent functions from accelerate.\n"
     ]
    },
    {
     "name": "stdout",
     "output_type": "stream",
     "text": [
      "------------------------------libraries detection-------------------------------\n",
      "Finding cublas\n",
      "\tlocated at /home/john/anaconda2/lib/libcublas.so.7.0.28\n",
      "\ttrying to open library...\tok\n",
      "Finding cusparse\n",
      "\tlocated at /home/john/anaconda2/lib/libcusparse.so.7.0.28\n",
      "\ttrying to open library...\tok\n",
      "Finding cufft\n",
      "\tlocated at /home/john/anaconda2/lib/libcufft.so.7.0.35\n",
      "\ttrying to open library...\tok\n",
      "Finding curand\n",
      "\tlocated at /home/john/anaconda2/lib/libcurand.so.7.0.28\n",
      "\ttrying to open library...\tok\n",
      "Finding nvvm\n",
      "\tlocated at /home/john/anaconda2/lib/libnvvm.so.3.0.0\n",
      "\ttrying to open library...\tok\n",
      "\tfinding libdevice for compute_20...\tok\n",
      "\tfinding libdevice for compute_30...\tok\n",
      "\tfinding libdevice for compute_35...\tok\n",
      "-------------------------------hardware detection-------------------------------\n",
      "Found 1 CUDA devices\n",
      "id 0        GeForce GTX 870M                              [SUPPORTED]\n",
      "                      compute capability: 3.0\n",
      "                           pci device id: 0\n",
      "                              pci bus id: 1\n",
      "Summary:\n",
      "\t1/1 devices are supported\n",
      "PASSED\n"
     ]
    },
    {
     "data": {
      "text/plain": [
       "True"
      ]
     },
     "execution_count": 2,
     "metadata": {},
     "output_type": "execute_result"
    }
   ],
   "source": [
    "import numpy as np\n",
    "from timeit import default_timer as timer\n",
    "from matplotlib import pyplot\n",
    "import math\n",
    "import numbapro # We use check_cuda() and vectorize\n",
    "from numbapro import vectorize, autojit, jit, cuda #vectorize for functions and cuda for cuda-u functions\n",
    "numbapro.check_cuda()"
   ]
  },
  {
   "cell_type": "code",
   "execution_count": 3,
   "metadata": {
    "collapsed": false
   },
   "outputs": [
    {
     "name": "stdout",
     "output_type": "stream",
     "text": [
      "Running on GPU: GeForce GTX 870M\n",
      "Compute capability:  3.0 (Numba requires >= 2.0)\n",
      "Number of streaming multiprocessor: 7\n",
      "Number of cores per mutliprocessor: 192\n",
      "Number of cores on GPU: 1344\n"
     ]
    }
   ],
   "source": [
    "import numba.cuda  \n",
    "#this line from nbviewer.ipython.org/github/ContinuumIO/numbapro-examples/blob/master/webinars/2014_06_17/intro_to_gpu_python.ipynb\n",
    "my_gpu = numba.cuda.get_current_device()\n",
    "print \"Running on GPU:\", my_gpu.name\n",
    "cores_per_capability = {\n",
    "    1: 8,\n",
    "    2: 32,\n",
    "    3: 192,\n",
    "}\n",
    "cc = my_gpu.compute_capability\n",
    "print \"Compute capability: \", \"%d.%d\" % cc, \"(Numba requires >= 2.0)\"\n",
    "majorcc = cc[0]\n",
    "print \"Number of streaming multiprocessor:\", my_gpu.MULTIPROCESSOR_COUNT\n",
    "cores_per_multiprocessor = cores_per_capability[majorcc]\n",
    "print \"Number of cores per mutliprocessor:\", cores_per_multiprocessor\n",
    "total_cores = cores_per_multiprocessor * my_gpu.MULTIPROCESSOR_COUNT\n",
    "print \"Number of cores on GPU:\", total_cores"
   ]
  },
  {
   "cell_type": "markdown",
   "metadata": {},
   "source": [
    "First, let's do an example, in serial and then GPU accelerate it. "
   ]
  },
  {
   "cell_type": "code",
   "execution_count": 3,
   "metadata": {
    "collapsed": false
   },
   "outputs": [],
   "source": [
    "def VectorAdd(a, b, c):\n",
    "    for i in xrange(a.size):\n",
    "        c[i] = a[i] + b[i]"
   ]
  },
  {
   "cell_type": "code",
   "execution_count": 4,
   "metadata": {
    "collapsed": false
   },
   "outputs": [
    {
     "name": "stdout",
     "output_type": "stream",
     "text": [
      "C[:5] = [ 2.  2.  2.  2.  2.]\n",
      "C[:-5] = [ 2.  2.  2. ...,  2.  2.  2.]\n",
      "VectorAdd took 7.216313 seconds\n"
     ]
    }
   ],
   "source": [
    "def main():\n",
    "    N = 32000000\n",
    "    \n",
    "    A = np.ones(N, dtype = np.float32)\n",
    "    B = np.ones(N, dtype = np.float32)\n",
    "    C = np.zeros(N, dtype = np.float32)\n",
    "    \n",
    "    start = timer()\n",
    "    VectorAdd(A, B, C)\n",
    "    vectoradd_time = timer() - start\n",
    "    \n",
    "    print(\"C[:5] = \" + str(C[:5]))\n",
    "    print(\"C[:-5] = \" + str(C[:-5]))\n",
    "    \n",
    "    print(\"VectorAdd took %f seconds\" % vectoradd_time)\n",
    "    \n",
    "if __name__ == '__main__':\n",
    "    main()"
   ]
  },
  {
   "cell_type": "markdown",
   "metadata": {},
   "source": [
    "Now let's GPUize the computation with @vectorize:"
   ]
  },
  {
   "cell_type": "code",
   "execution_count": 5,
   "metadata": {
    "collapsed": false
   },
   "outputs": [],
   "source": [
    "#simple scalar addition, matrix multiplication can be performed with guvectorize\n",
    "@vectorize([\"float32(float32, float32)\"], target='gpu') \n",
    "def GPU_VectorAdd(a, b):\n",
    "    return a + b  "
   ]
  },
  {
   "cell_type": "code",
   "execution_count": 6,
   "metadata": {
    "collapsed": false
   },
   "outputs": [
    {
     "name": "stdout",
     "output_type": "stream",
     "text": [
      "C[:5] = [ 2.  2.  2.  2.  2.]\n",
      "C[:-5] = [ 2.  2.  2. ...,  2.  2.  2.]\n",
      "GPU_VectorAdd took 0.073357 seconds\n"
     ]
    }
   ],
   "source": [
    "def main():\n",
    "    N = 32000000\n",
    "    \n",
    "    A = np.ones(N, dtype = np.float32)\n",
    "    B = np.ones(N, dtype = np.float32)\n",
    "    C = np.zeros(N, dtype = np.float32)\n",
    "    \n",
    "    start = timer()\n",
    "    C = GPU_VectorAdd(A, B) #this line is different\n",
    "    vectoradd_time = timer() - start\n",
    "    \n",
    "    print(\"C[:5] = \" + str(C[:5]))\n",
    "    print(\"C[:-5] = \" + str(C[:-5]))\n",
    "    \n",
    "    print(\"GPU_VectorAdd took %f seconds\" % vectoradd_time)\n",
    "    \n",
    "if __name__ == '__main__':\n",
    "    main()"
   ]
  },
  {
   "cell_type": "markdown",
   "metadata": {},
   "source": [
    "Now let's write a function that calculates the correlation function, but we should monitor the GPU memory usage"
   ]
  },
  {
   "cell_type": "code",
   "execution_count": 5,
   "metadata": {
    "collapsed": true
   },
   "outputs": [],
   "source": [
    "def iter_loadtxt(filename, delimiter=',', skiprows=1, dtype=float):\n",
    "    def iter_func():\n",
    "        with open(filename, 'r') as infile:\n",
    "            for _ in range(skiprows):\n",
    "                next(infile)\n",
    "            for line in infile:\n",
    "                line = line.rstrip().split(delimiter)\n",
    "                for item in line:\n",
    "                    yield dtype(item)\n",
    "        iter_loadtxt.rowlength = len(line)\n",
    "\n",
    "    data = np.fromiter(iter_func(), dtype=dtype)\n",
    "    data = data.reshape((-1, iter_loadtxt.rowlength))\n",
    "    return data"
   ]
  },
  {
   "cell_type": "code",
   "execution_count": 6,
   "metadata": {
    "collapsed": false
   },
   "outputs": [],
   "source": [
    "#This code will import nodal polar vector values\n",
    "file1 = iter_loadtxt('/media/john/My Passport/slabs/serge_tests/data0.csv',delimiter=',',skiprows=1,dtype=float)"
   ]
  },
  {
   "cell_type": "code",
   "execution_count": 7,
   "metadata": {
    "collapsed": false
   },
   "outputs": [],
   "source": [
    "polar0 = [row[0] for row in file1]\n",
    "polar1 = [row[1] for row in file1]\n",
    "polar2 = [row[2] for row in file1]\n",
    "\n",
    "r0 = [row[5] for row in file1]\n",
    "r1 = [row[6] for row in file1]\n",
    "r2 = [row[7] for row in file1]"
   ]
  },
  {
   "cell_type": "code",
   "execution_count": 118,
   "metadata": {
    "collapsed": false
   },
   "outputs": [
    {
     "name": "stdout",
     "output_type": "stream",
     "text": [
      "27.1577670574\n"
     ]
    }
   ],
   "source": [
    "import time\n",
    "polar0ave = np.mean(polar0);\n",
    "polar1ave = np.mean(polar1);\n",
    "polar2ave = np.mean(polar2);\n",
    "\n",
    "N = 150;\n",
    "\n",
    "Cr = np.zeros(len(polar0));\n",
    "R = np.zeros(len(polar0));\n",
    "\n",
    "#use the correlation function of 10.1103/PhysRevLett.91.267204 (not volume normalized)\n",
    "#this calculation is O(N(N-1))\n",
    "\n",
    "start = time.time()\n",
    "for i in range(1,len(polar0)):\n",
    "    for j in range(1,N):\n",
    "        #if i != j:\n",
    "        Cr[i] += 1/(0.8*0.8)*((polar0[i] - polar0ave)* (polar0[j] - polar0ave) + (polar1[i] - polar1ave) * (polar1[j] - polar1ave) + (polar2[i] - polar2ave) * (polar2[j] - polar2ave));\n",
    "    R[i] = (r0[i]*r0[i] +  r1[i]*r1[i] + r2[i]*r2[i])**(0.5)\n",
    "    \n",
    "np.savetxt(\"/media/john/My Passport/slabs/serial_Cr.csv\", Cr, delimiter=\",\")\n",
    "np.savetxt(\"/media/john/My Passport/slabs/serial_R.csv\", R, delimiter=\",\")    \n",
    "end = time.time()\n",
    "print end - start"
   ]
  },
  {
   "cell_type": "code",
   "execution_count": 9,
   "metadata": {
    "collapsed": false
   },
   "outputs": [],
   "source": []
  },
  {
   "cell_type": "code",
   "execution_count": 15,
   "metadata": {
    "collapsed": false
   },
   "outputs": [],
   "source": [
    "@autojit\n",
    "def myAdd(a, b):\n",
    "    return a + b"
   ]
  },
  {
   "cell_type": "code",
   "execution_count": 32,
   "metadata": {
    "collapsed": false
   },
   "outputs": [],
   "source": [
    "@vectorize([\"float64(float64, float64, float64, float64, float64, float64)\"], target='gpu') \n",
    "def Corrfunct(polar0f, polar1f, polar2f, f0, f1, f2):\n",
    "    return 1/(0.8*0.8)*(polar0f * f0 + polar1f * f1 + polar2f * f2);"
   ]
  },
  {
   "cell_type": "code",
   "execution_count": 123,
   "metadata": {
    "collapsed": false
   },
   "outputs": [
    {
     "name": "stdout",
     "output_type": "stream",
     "text": [
      "R[:5] = [ 57.82732918  57.14017851  56.44466317  57.14017851  57.67968805]\n",
      "R[:-5] = [ 57.82732918  57.14017851  56.44466317 ...,  53.22593353  53.85164807\n",
      "  54.4885309 ]\n",
      "Cr[:1] = [ 184.75990523]\n",
      "Cr[:2] = [ 184.75990523   -3.20883298]\n",
      "Correlation function took 10.840551 seconds\n"
     ]
    }
   ],
   "source": [
    "def main():\n",
    "    #N = len(polar0)-1\n",
    "    N = 3000\n",
    "    Polar0fluct = np.asarray([row[0] for row in file1] - np.mean(polar0))\n",
    "    Polar1fluct = np.asarray([row[1] for row in file1] - np.mean(polar1))\n",
    "    Polar2fluct = np.asarray([row[2] for row in file1] - np.mean(polar2))\n",
    "\n",
    "    R0 = np.asarray([row[5] for row in file1])\n",
    "    R1 = np.asarray([row[6] for row in file1])\n",
    "    R2 = np.asarray([row[7] for row in file1])\n",
    "\n",
    "    R = np.zeros(len(polar0), dtype = np.float64);\n",
    "    Cr = np.zeros((len(polar0)), dtype = np.float64);\n",
    "\n",
    "    \n",
    "    start = timer()\n",
    "    R = Rfunct(R0, R1, R2) \n",
    "    \n",
    "    # below we take use the GPU at every stage in the loop and only require one processor \n",
    "    # to mediate the transfer of the memory. According to CUDA documentation, NumPy \n",
    "    # automatically transfers memory when the GPU calls for it. There is still this strange\n",
    "    # issue of needing to correlate N by (N-1) \n",
    "    \n",
    "    for k in xrange(N):\n",
    "        Cr += Corrfunct(Polar0fluct, Polar1fluct, Polar2fluct, Polar0fluct[k], Polar1fluct[k], Polar2fluct[k])\n",
    "    \n",
    "    np.savetxt(\"/media/john/My Passport/slabs/GPU_Cr.csv\", Cr, delimiter=\",\")\n",
    "    np.savetxt(\"/media/john/My Passport/slabs/GPU_R.csv\", R, delimiter=\",\")\n",
    "    vectoradd_time = timer() - start\n",
    "    \n",
    "    print(\"R[:5] = \" + str(R[:5]))\n",
    "    print(\"R[:-5] = \" + str(R[:-5]))\n",
    "    \n",
    "    print(\"Cr[:1] = \" + str(Cr[:1]))\n",
    "    print(\"Cr[:2] = \" + str(Cr[:2]))\n",
    "    \n",
    "    print(\"Correlation function took %f seconds\" % vectoradd_time)\n",
    "    \n",
    "if __name__ == '__main__':\n",
    "    main()"
   ]
  },
  {
   "cell_type": "code",
   "execution_count": 107,
   "metadata": {
    "collapsed": false
   },
   "outputs": [
    {
     "data": {
      "text/plain": [
       "array([ 0.,  0.,  0., ...,  0.,  0.,  0.])"
      ]
     },
     "execution_count": 107,
     "metadata": {},
     "output_type": "execute_result"
    }
   ],
   "source": [
    "#something is wrong here... why are we at 0? It isn't saving the result!"
   ]
  },
  {
   "cell_type": "code",
   "execution_count": 100,
   "metadata": {
    "collapsed": false
   },
   "outputs": [
    {
     "data": {
      "text/plain": [
       "[]"
      ]
     },
     "execution_count": 100,
     "metadata": {},
     "output_type": "execute_result"
    }
   ],
   "source": [
    "Cr"
   ]
  },
  {
   "cell_type": "code",
   "execution_count": 130,
   "metadata": {
    "collapsed": false
   },
   "outputs": [
    {
     "ename": "NameError",
     "evalue": "name 'f8' is not defined",
     "output_type": "error",
     "traceback": [
      "\u001b[1;31m---------------------------------------------------------------------------\u001b[0m",
      "\u001b[1;31mNameError\u001b[0m                                 Traceback (most recent call last)",
      "\u001b[1;32m<ipython-input-130-1e75434d8ee1>\u001b[0m in \u001b[0;36m<module>\u001b[1;34m()\u001b[0m\n\u001b[1;32m----> 1\u001b[1;33m \u001b[0mmyAdd_gpu\u001b[0m \u001b[1;33m=\u001b[0m \u001b[0mcuda\u001b[0m\u001b[1;33m.\u001b[0m\u001b[0mjit\u001b[0m\u001b[1;33m(\u001b[0m\u001b[0mrestype\u001b[0m\u001b[1;33m=\u001b[0m\u001b[0mf8\u001b[0m\u001b[1;33m,\u001b[0m \u001b[0margtypes\u001b[0m\u001b[1;33m=\u001b[0m\u001b[1;33m[\u001b[0m\u001b[0mf8\u001b[0m\u001b[1;33m,\u001b[0m \u001b[0mf8\u001b[0m\u001b[1;33m]\u001b[0m\u001b[1;33m,\u001b[0m \u001b[0mdevice\u001b[0m\u001b[1;33m=\u001b[0m\u001b[0mTrue\u001b[0m\u001b[1;33m)\u001b[0m\u001b[1;33m(\u001b[0m\u001b[0mmyAdd\u001b[0m\u001b[1;33m)\u001b[0m\u001b[1;33m\u001b[0m\u001b[0m\n\u001b[0m",
      "\u001b[1;31mNameError\u001b[0m: name 'f8' is not defined"
     ]
    }
   ],
   "source": [
    "myAdd_gpu = cuda.jit(restype=f8, argtypes=[f8, f8], device=True)(myAdd)"
   ]
  },
  {
   "cell_type": "code",
   "execution_count": 134,
   "metadata": {
    "collapsed": true
   },
   "outputs": [],
   "source": [
    "a = range(0,5)"
   ]
  },
  {
   "cell_type": "code",
   "execution_count": 97,
   "metadata": {
    "collapsed": false
   },
   "outputs": [
    {
     "data": {
      "text/plain": [
       "list"
      ]
     },
     "execution_count": 97,
     "metadata": {},
     "output_type": "execute_result"
    }
   ],
   "source": [
    "\n",
    "type(Cr)"
   ]
  },
  {
   "cell_type": "code",
   "execution_count": 144,
   "metadata": {
    "collapsed": false
   },
   "outputs": [
    {
     "ename": "ImportError",
     "evalue": "No module named pycuda",
     "output_type": "error",
     "traceback": [
      "\u001b[1;31m---------------------------------------------------------------------------\u001b[0m",
      "\u001b[1;31mImportError\u001b[0m                               Traceback (most recent call last)",
      "\u001b[1;32m<ipython-input-144-b93ac70a6310>\u001b[0m in \u001b[0;36m<module>\u001b[1;34m()\u001b[0m\n\u001b[1;32m----> 1\u001b[1;33m \u001b[1;32mimport\u001b[0m \u001b[0mpycuda\u001b[0m\u001b[1;33m\u001b[0m\u001b[0m\n\u001b[0m",
      "\u001b[1;31mImportError\u001b[0m: No module named pycuda"
     ]
    }
   ],
   "source": [
    "import pycuda"
   ]
  },
  {
   "cell_type": "code",
   "execution_count": 102,
   "metadata": {
    "collapsed": false
   },
   "outputs": [
    {
     "name": "stdout",
     "output_type": "stream",
     "text": [
      "R[:5] = [ 57.82732918  57.14017851  56.44466317  57.14017851  57.67968805]\n",
      "R[:-5] = [ 57.82732918  57.14017851  56.44466317 ...,  53.22593353  53.85164807\n",
      "  54.4885309 ]\n",
      "Cr[:1] = [-1.65168475]\n",
      "Cr[:2] = [-1.65168475  4.37388181]\n",
      "Correlation function took 0.176346 seconds\n"
     ]
    }
   ],
   "source": [
    "N = 50\n",
    "Polar0fluct = np.asarray([row[0] for row in file1] - np.mean(polar0))\n",
    "Polar1fluct = np.asarray([row[1] for row in file1] - np.mean(polar1))\n",
    "Polar2fluct = np.asarray([row[2] for row in file1] - np.mean(polar2))\n",
    "\n",
    "R0 = np.asarray([row[5] for row in file1])\n",
    "R1 = np.asarray([row[6] for row in file1])\n",
    "R2 = np.asarray([row[7] for row in file1])\n",
    "\n",
    "R = np.zeros(len(polar0), dtype = np.float64);\n",
    "Cr = np.zeros((len(polar0)), dtype = np.float64);\n",
    "\n",
    "    \n",
    "start = timer()\n",
    "R = Rfunct(R0, R1, R2) #this line is different\n",
    "for k in xrange(N):\n",
    "    Cr += Corrfunct(Polar0fluct, Polar1fluct, Polar2fluct, Polar0fluct[k], Polar1fluct[k], Polar2fluct[k])\n",
    "vectoradd_time = timer() - start\n",
    "    \n",
    "print(\"R[:5] = \" + str(R[:5]))\n",
    "print(\"R[:-5] = \" + str(R[:-5]))\n",
    "    \n",
    "print(\"Cr[:1] = \" + str(Cr[:1]))\n",
    "print(\"Cr[:2] = \" + str(Cr[:2]))\n",
    "    \n",
    "print(\"Correlation function took %f seconds\" % vectoradd_time)\n",
    "    \n",
    "np.savetxt(\"/media/john/My Passport/slabs/GPU_Cr.csv\", Cr, delimiter=\",\")\n",
    "np.savetxt(\"/media/john/My Passport/slabs/GPU_R.csv\", R, delimiter=\",\")\n",
    "    "
   ]
  },
  {
   "cell_type": "code",
   "execution_count": 104,
   "metadata": {
    "collapsed": false
   },
   "outputs": [
    {
     "data": {
      "text/plain": [
       "170586"
      ]
     },
     "execution_count": 104,
     "metadata": {},
     "output_type": "execute_result"
    }
   ],
   "source": [
    "len(Cr)"
   ]
  },
  {
   "cell_type": "code",
   "execution_count": null,
   "metadata": {
    "collapsed": true
   },
   "outputs": [],
   "source": []
  }
 ],
 "metadata": {
  "kernelspec": {
   "display_name": "Python 2",
   "language": "python",
   "name": "python2"
  },
  "language_info": {
   "codemirror_mode": {
    "name": "ipython",
    "version": 2
   },
   "file_extension": ".py",
   "mimetype": "text/x-python",
   "name": "python",
   "nbconvert_exporter": "python",
   "pygments_lexer": "ipython2",
   "version": "2.7.11"
  }
 },
 "nbformat": 4,
 "nbformat_minor": 0
}
